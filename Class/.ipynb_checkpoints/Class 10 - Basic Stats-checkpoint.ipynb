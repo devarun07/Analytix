{
 "cells": [
  {
   "cell_type": "code",
   "execution_count": 1,
   "metadata": {},
   "outputs": [],
   "source": [
    "import pandas as pd\n",
    "import numpy as np\n",
    "import seaborn as sns\n",
    "from matplotlib import pyplot as plt"
   ]
  },
  {
   "cell_type": "markdown",
   "metadata": {},
   "source": [
    "Standard normal graph:\n",
    "        1. 95% - mean +/- 1.96*std"
   ]
  },
  {
   "cell_type": "raw",
   "metadata": {},
   "source": [
    "The Central Limit Theorem: \n",
    "    Consider data, following any distribution\n",
    "    \n",
    "    1. All sample means follow normal distribution.\n",
    "    2. The mean of all the sample means is almost equal to population mean.\n",
    "    3. Standard Error(SE) equal to Standard deviation / sqrt(N)"
   ]
  },
  {
   "cell_type": "code",
   "execution_count": 8,
   "metadata": {},
   "outputs": [],
   "source": [
    "data = np.random.randint(0, high=1000, size=100000, dtype='l')"
   ]
  },
  {
   "cell_type": "code",
   "execution_count": 9,
   "metadata": {},
   "outputs": [],
   "source": [
    "data = pd.Series(data)"
   ]
  },
  {
   "cell_type": "code",
   "execution_count": 10,
   "metadata": {},
   "outputs": [
    {
     "data": {
      "text/plain": [
       "501.9"
      ]
     },
     "execution_count": 10,
     "metadata": {},
     "output_type": "execute_result"
    }
   ],
   "source": [
    "s = data.sample(n=30)\n",
    "s.mean()"
   ]
  },
  {
   "cell_type": "code",
   "execution_count": 14,
   "metadata": {},
   "outputs": [],
   "source": [
    "sample_mean = []\n",
    "s = []\n",
    "for i in range(1,10000,1):\n",
    "    s = data.sample(n=30)\n",
    "    sample_mean.append(s.mean())\n",
    "    s = []\n",
    " "
   ]
  },
  {
   "cell_type": "code",
   "execution_count": 18,
   "metadata": {},
   "outputs": [],
   "source": [
    "sample_mean = pd.Series(sample_mean)"
   ]
  },
  {
   "cell_type": "code",
   "execution_count": 19,
   "metadata": {},
   "outputs": [
    {
     "name": "stderr",
     "output_type": "stream",
     "text": [
      "C:\\Users\\arundev.satheesan\\AppData\\Local\\Continuum\\anaconda3\\lib\\site-packages\\matplotlib\\axes\\_axes.py:6462: UserWarning: The 'normed' kwarg is deprecated, and has been replaced by the 'density' kwarg.\n",
      "  warnings.warn(\"The 'normed' kwarg is deprecated, and has been \"\n"
     ]
    },
    {
     "data": {
      "image/png": "[encoded data removed]",
      "text/plain": [
       "<Figure size 432x288 with 1 Axes>"
      ]
     },
     "metadata": {},
     "output_type": "display_data"
    }
   ],
   "source": [
    "sns.distplot(sample_mean)\n",
    "plt.show()"
   ]
  },
  {
   "cell_type": "code",
   "execution_count": 20,
   "metadata": {},
   "outputs": [
    {
     "data": {
      "text/plain": [
       "499.9073740707397"
      ]
     },
     "execution_count": 20,
     "metadata": {},
     "output_type": "execute_result"
    }
   ],
   "source": [
    "sample_mean.mean()"
   ]
  },
  {
   "cell_type": "code",
   "execution_count": 21,
   "metadata": {},
   "outputs": [
    {
     "data": {
      "text/plain": [
       "499.19033"
      ]
     },
     "execution_count": 21,
     "metadata": {},
     "output_type": "execute_result"
    }
   ],
   "source": [
    "data.mean()"
   ]
  },
  {
   "cell_type": "raw",
   "metadata": {},
   "source": [
    "Z-test:\n",
    "    Check whether the sample mean is significantly different from the population mean.\n",
    "    Polpulation follows normal distribution.\n",
    "    Sample size greater tha equal to 30.\n",
    "    Mean and SD is known."
   ]
  },
  {
   "cell_type": "raw",
   "metadata": {},
   "source": [
    "Student's- t Test:\n",
    "    Check whether the sample mean is significantly different from the population mean.\n",
    "    Poluation can be any distribution.\n",
    "    Sample size > 30.\n",
    "    Mean and SD is unknown."
   ]
  },
  {
   "cell_type": "raw",
   "metadata": {},
   "source": [
    "Different forms of t-Test:\n",
    "    1. One sample t-test.\n",
    "        a. One sample and one hypothezised mean \n",
    "    2. Two sample t-test.\n",
    "        a. There are 2 samples.\n",
    "        b. We check for the two sample means.\n",
    "        c. Both the samples must be of the same size.\n",
    "    3. Independent sample t-test.\n",
    "        a. One continous variable and one categorical variable.\n",
    "        b. The categorical variable must be binary."
   ]
  },
  {
   "cell_type": "raw",
   "metadata": {},
   "source": [
    "Hypothesis Testing:\n",
    "    1. if p value < alpha: reject null\n",
    "       if p value >= aplha: we fail to reject null    "
   ]
  },
  {
   "cell_type": "raw",
   "metadata": {},
   "source": [
    "Difference between Standard Deviation and the Standard Error:\n",
    "    1. SD: SD is the dispersion of data in a normal distribution. \n",
    "        In other words, SD indicates how accurately the mean represents sample data. \n",
    "    2. SE: statistical inference based on the sampling distribution.\n",
    "        SEM is the SD of the theoretical distribution of the sample means (the sampling distribution)."
   ]
  },
  {
   "cell_type": "raw",
   "metadata": {},
   "source": [
    "While fixing the alpha:\n",
    "    1. Strict Result-> Least alpha = 0.01, CI = 0.99\n",
    "    2. Best Result-> Medium alpha = 0.05, CI=0.95\n",
    "    3. Liberal Result-> Max alpha = 0.1, CI = 0.90"
   ]
  },
  {
   "cell_type": "markdown",
   "metadata": {},
   "source": [
    "T-Test"
   ]
  },
  {
   "cell_type": "raw",
   "metadata": {},
   "source": [
    "DOF = Sample size - 1\n",
    "Data follows t-distribution.\n",
    "    t_score  = (sample mean - hypothesised value)/(standar_dev_Sample/sqrt(N))"
   ]
  },
  {
   "cell_type": "raw",
   "metadata": {},
   "source": [
    "F-test/ANOVA(Analysis of Varience)\n",
    "    \n",
    "    F_score  = (Varience between groups) / Varience within the group\n",
    "    \n",
    "H0: The mean of all the groups are same.\n",
    "    If F_score is high, all the groups have different means/atleast one is different.\n",
    "    \n",
    "To prove that all groups are behaving differently:\n",
    "    1. Low p value.\n",
    "    2. High F value"
   ]
  },
  {
   "cell_type": "code",
   "execution_count": null,
   "metadata": {},
   "outputs": [],
   "source": [
    "Chi-Square test:\n",
    "    \n",
    "    Try to see if one cat variable is affecting other cat variable or not.\n",
    "    H0: observed = expected (Variable A has no influence on Variable B)\n",
    "    Ha: observed <> expected"
   ]
  }
 ],
 "metadata": {
  "kernelspec": {
   "display_name": "Python 3",
   "language": "python",
   "name": "python3"
  },
  "language_info": {
   "codemirror_mode": {
    "name": "ipython",
    "version": 3
   },
   "file_extension": ".py",
   "mimetype": "text/x-python",
   "name": "python",
   "nbconvert_exporter": "python",
   "pygments_lexer": "ipython3",
   "version": "3.7.0"
  }
 },
 "nbformat": 4,
 "nbformat_minor": 2
}
