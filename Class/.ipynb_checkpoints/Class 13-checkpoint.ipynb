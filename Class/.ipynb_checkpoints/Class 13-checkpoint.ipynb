{
 "cells": [
  {
   "cell_type": "markdown",
   "metadata": {},
   "source": [
    "Modelling-\n",
    "\n",
    "Data Preperation Step 1:"
   ]
  },
  {
   "cell_type": "raw",
   "metadata": {},
   "source": [
    "    \n",
    "1. Special Characters.\n",
    "2. Missing value imputation\n",
    "    a. if > 25% missing values, remove that variable.\n",
    "    b. categorical - impute with mode\n",
    "    c. numerical - impute with mean/median.\n",
    "    d. if y value is missing, remove that observation.\n",
    "3. Outliers\n",
    "    a. Method 1 -  UC= mean + 3*std, LC= mean - 3*std\n",
    "    b. Method 2 - 99% and 1%'\n",
    "    c. Method 3 - Q1-1.5*IQR, Q3+1.5IQR\n",
    "    d. Capping/Flooring\n",
    "        if X>UC, X=UC\n",
    "        if X<LC, X=LC\n",
    "4.Low varience variables:\n",
    "    a.Drop the variables with CV<0.1\n",
    "5. Correlation within variables/Multicollinearity\n",
    "    a. Drop one of the variable of the two highly correlated variables.    "
   ]
  },
  {
   "cell_type": "markdown",
   "metadata": {},
   "source": [
    "Data Preperation Step 2:\n",
    "    Changes for each algorithm"
   ]
  },
  {
   "cell_type": "raw",
   "metadata": {},
   "source": [
    "Linear Regression: \n",
    "    1. Y should follow normal distribution.\n",
    "        if not, apply some kind of transformation like log etc.\n",
    "    2. Y and X should have linear relation.\n",
    "        a. corr(Y,X) > 0.1 or corr(Y,X) < -0.1\n",
    "    3. No outliers\n",
    "    4. No multicollinearity\n",
    "        a. VIF\n",
    "        b. PCA\n",
    "        c. SVD(Singular Value Decomposition)\n",
    "        d. Using COrrelation Metrics\n",
    "    5. Data should follow homoscedasticity\n",
    "        a. Constant varience over time.\n",
    "        b. If not apply log transformation."
   ]
  },
  {
   "cell_type": "markdown",
   "metadata": {},
   "source": [
    "Data Preperation Step 3: "
   ]
  },
  {
   "cell_type": "raw",
   "metadata": {},
   "source": [
    "6. Feature Engineering:\n",
    "        a. Creating new variables.\n",
    "        b. Converting categorical to numerical(encoding)\n",
    "        c. Variable Reduction:\n",
    "            a. CV<0.1\n",
    "            b. Multicollinearity\n",
    "            c. More than 25% missing values.\n",
    "            d. SelectKBest\n",
    "            e. F-regression\n",
    "            f. RFE\n",
    "            g. Univariate Regression\n",
    "            h. Statistical methods."
   ]
  },
  {
   "cell_type": "code",
   "execution_count": null,
   "metadata": {},
   "outputs": [],
   "source": []
  }
 ],
 "metadata": {
  "kernelspec": {
   "display_name": "Python 3",
   "language": "python",
   "name": "python3"
  },
  "language_info": {
   "codemirror_mode": {
    "name": "ipython",
    "version": 3
   },
   "file_extension": ".py",
   "mimetype": "text/x-python",
   "name": "python",
   "nbconvert_exporter": "python",
   "pygments_lexer": "ipython3",
   "version": "3.7.0"
  }
 },
 "nbformat": 4,
 "nbformat_minor": 2
}
