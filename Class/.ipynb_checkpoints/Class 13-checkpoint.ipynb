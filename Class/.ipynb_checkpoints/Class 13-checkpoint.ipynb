{
 "cells": [
  {
   "cell_type": "markdown",
   "metadata": {},
   "source": [
    "Modelling-\n",
    "\n",
    "Data Preperation Step 1:"
   ]
  },
  {
   "cell_type": "raw",
   "metadata": {},
   "source": [
    "    \n",
    "1. Special Characters.\n",
    "2. Missing value imputation\n",
    "    a. if > 25% missing values, remove that variable.\n",
    "    b. categorical - impute with mode\n",
    "    c. numerical - impute with mean/median.\n",
    "    d. if y value is missing, remove that observation.\n",
    "3. Outliers\n",
    "    a. Method 1 -  UC= mean + 3*std, LC= mean - 3*std\n",
    "    b. Method 2 - 99% and 1%'\n",
    "    c. Method 3 - Q1-1.5*IQR, Q3+1.5IQR\n",
    "    d. Capping/Flooring\n",
    "        if X>UC, X=UC\n",
    "        if X<LC, X=LC\n",
    "4.Low varience variables:\n",
    "    a.Drop the variables with CV<0.1\n",
    "5. Correlation within variables/Multicollinearity\n",
    "    a. Drop one of the variable of the two highly correlated variables.    "
   ]
  },
  {
   "cell_type": "markdown",
   "metadata": {},
   "source": [
    "Data Preperation Step 2:\n",
    "    Changes for each algorithm"
   ]
  },
  {
   "cell_type": "raw",
   "metadata": {},
   "source": [
    "Linear Regression: \n",
    "    1. Y should follow normal distribution.\n",
    "        if not, apply some kind of transformation like log etc.\n",
    "    2. Y and X should have linear relation.\n",
    "        a. corr(Y,X) > 0.1 or corr(Y,X) < -0.1\n",
    "    3. No outliers\n",
    "    4. No multicollinearity\n",
    "        a. VIF\n",
    "        b. PCA\n",
    "        c. SVD(Singular Value Decomposition)\n",
    "        d. Using COrrelation Metrics\n",
    "    5. Data should follow homoscedasticity\n",
    "        a. Constant varience over time.\n",
    "        b. If not apply log transformation."
   ]
  },
  {
   "cell_type": "markdown",
   "metadata": {},
   "source": [
    "Data Preperation Step 3: "
   ]
  },
  {
   "cell_type": "raw",
   "metadata": {},
   "source": [
    "6. Feature Engineering:\n",
    "        a. Creating new variables.\n",
    "        b. Converting categorical to numerical(encoding)\n",
    "        c. Variable Reduction:\n",
    "            a. CV<0.1\n",
    "            b. Multicollinearity\n",
    "            c. More than 25% missing values.\n",
    "            d. SelectKBest\n",
    "            e. F-regression\n",
    "            f. RFE\n",
    "            g. Univariate Regression\n",
    "            h. Statistical methods."
   ]
  },
  {
   "cell_type": "markdown",
   "metadata": {},
   "source": [
    "Data Preperation Step 4:"
   ]
  },
  {
   "cell_type": "raw",
   "metadata": {},
   "source": [
    "Split data into train and test :\n",
    "    1. 70: 30 ratio"
   ]
  },
  {
   "cell_type": "raw",
   "metadata": {},
   "source": [
    "Build the model on train data.\n",
    "    1. Finalize the mathematics equation.\n",
    "    2. Calculate the goodness of fit metrics.\n",
    "    \n",
    "Using model equation, predict values for testing data\n",
    "    1. Calculate the goodness of fit metrics\n",
    "\n",
    "Verify whether the metrics match. If not, repeat the process."
   ]
  },
  {
   "cell_type": "markdown",
   "metadata": {},
   "source": [
    "Post Modelling"
   ]
  },
  {
   "cell_type": "markdown",
   "metadata": {},
   "source": [
    "Convert statistical solution to business solution.\n",
    "1. Detailed outputs\n",
    "2. Assumptions of the model.\n",
    "3. Pros and cons\n",
    "4. Model accuracy\n",
    "5. Business deck\n",
    "6. Deivers of the model\n",
    "7. Model Tracking mechanism."
   ]
  },
  {
   "cell_type": "markdown",
   "metadata": {},
   "source": [
    "### Linear Regression Model:"
   ]
  },
  {
   "cell_type": "code",
   "execution_count": 2,
   "metadata": {},
   "outputs": [],
   "source": [
    "import pandas as pd\n",
    "import numpy as np\n",
    "import seaborn as sns\n",
    "from matplotlib import pyplot as plt\n",
    "import os\n",
    "import scipy as sc\n",
    "import pandas_profiling \n",
    "%matplotlib inline"
   ]
  },
  {
   "cell_type": "code",
   "execution_count": 4,
   "metadata": {},
   "outputs": [],
   "source": [
    "from sklearn.model_selection import train_test_split\n",
    "from sklearn.linear_model import LinearRegression\n",
    "import sklearn.metrics as metrics\n",
    "\n",
    "import statsmodels.formula.api as sm"
   ]
  },
  {
   "cell_type": "code",
   "execution_count": null,
   "metadata": {},
   "outputs": [],
   "source": []
  }
 ],
 "metadata": {
  "kernelspec": {
   "display_name": "Python [default]",
   "language": "python",
   "name": "python3"
  },
  "language_info": {
   "codemirror_mode": {
    "name": "ipython",
    "version": 3
   },
   "file_extension": ".py",
   "mimetype": "text/x-python",
   "name": "python",
   "nbconvert_exporter": "python",
   "pygments_lexer": "ipython3",
   "version": "3.6.5"
  }
 },
 "nbformat": 4,
 "nbformat_minor": 2
}
