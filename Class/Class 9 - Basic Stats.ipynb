{
 "cells": [
  {
   "cell_type": "markdown",
   "metadata": {},
   "source": [
    "Descriptive Statistics is on the entire data.\n",
    "Inferential statistics is on samples of data."
   ]
  },
  {
   "cell_type": "markdown",
   "metadata": {},
   "source": [
    "Goal of inferential Statistics:\n",
    "    1. Perform descriptive analysis on sample.\n",
    "    2. Sample represents the true population.\n",
    "        a. Sample mean should not be significantly different from population mean."
   ]
  },
  {
   "cell_type": "markdown",
   "metadata": {},
   "source": [
    "Sampling: \n",
    "    1. Subset of the polulation.\n",
    "    2. Based on some business logic."
   ]
  },
  {
   "cell_type": "raw",
   "metadata": {},
   "source": [
    "Simple Random Sampling:\n",
    "    --> Randomnly extracting rows from a given data.\n",
    "        eg: 2M buyers of book \"ABC\", select 2000 buyers."
   ]
  },
  {
   "cell_type": "raw",
   "metadata": {},
   "source": [
    "Stratified Sample:--> Applied on groups within the data which are mutually exclusive. \n",
    "                        \n",
    "                       3M users, 90% male and 10% female\n",
    "                       s1: 2000: 95% male and 5% female\n",
    "                       s2: 2000: 70% male and 30% female\n",
    "                       So, s2 is the right sample."
   ]
  },
  {
   "cell_type": "raw",
   "metadata": {},
   "source": [
    "Grouped Sample: -->\n",
    "\n",
    "        Applied on groups that are not mutually exclusive."
   ]
  },
  {
   "cell_type": "markdown",
   "metadata": {},
   "source": [
    "Difference between Stratified Sample and group Sample(Cluster Sampling):\n",
    "\n",
    "\n",
    "    https://keydifferences.com/difference-between-stratified-and-cluster-sampling.html\n",
    "    \n",
    "    1. STRATIFIED SAMPLING:\n",
    "            a.Randomly selected individuals are taken from all the strata.\n",
    "            b.Homogeneity --\tWithin group\n",
    "            c.Heterogeneity --\tBetween groups\n",
    "    2.CLUSTER SAMPLING:\n",
    "            a.All the individuals are taken from a randomly selected cluster.\n",
    "            b.Homogeneity --\tBetween group\n",
    "            c.Heterogeneity --\tWithin groups\n",
    "            "
   ]
  },
  {
   "cell_type": "markdown",
   "metadata": {},
   "source": [
    "Estimations:\n",
    "    1. Point: One value from a sample.\n",
    "    2. obtaining one value within a confidence interval from the sample."
   ]
  },
  {
   "cell_type": "markdown",
   "metadata": {},
   "source": [
    "Confidence Interval(CI): The range of data in which true value of the population lies in. "
   ]
  },
  {
   "cell_type": "code",
   "execution_count": 15,
   "metadata": {},
   "outputs": [],
   "source": [
    "import pandas as pd\n",
    "import numpy as np\n",
    "import seaborn as sns\n",
    "from matplotlib import pyplot as plt"
   ]
  },
  {
   "cell_type": "code",
   "execution_count": 4,
   "metadata": {},
   "outputs": [
    {
     "data": {
      "text/plain": [
       "array([79, 54, 87, 87, 60, 25, 49, 75, 80, 46, 62, 25, 35, 32, 66, 24, 22,\n",
       "       72, 27, 76, 60, 42, 16, 37, 32, 58, 66, 27, 81, 16, 75, 65, 20, 26,\n",
       "       87, 95, 90, 46, 97, 97, 59, 81, 58, 28, 42, 54, 30, 97, 41, 84, 17,\n",
       "       55, 96, 72, 85, 95, 27, 47, 13, 88, 65, 18, 72, 54, 52, 63, 92, 50,\n",
       "       26, 79, 38, 12, 58, 64, 77, 15, 40, 41, 78, 16, 32, 34, 94, 87, 61,\n",
       "       88, 85, 48, 73, 56, 47, 70, 22, 24, 43, 76, 56, 82, 16, 77, 53, 91,\n",
       "       66, 17, 33, 39, 49, 14, 81, 55, 29, 26, 85, 96, 95, 38, 68, 79, 94,\n",
       "       50, 50, 65, 17, 60, 38, 97, 83, 57, 82, 59, 84, 52, 95, 24, 80, 19,\n",
       "       25, 69, 22, 31, 79, 63, 37, 82, 60, 48, 36, 40, 87, 50, 49, 69, 31,\n",
       "       71, 18, 25, 44, 14, 83, 91, 77, 21, 24, 82, 60, 63, 16, 25, 72, 51,\n",
       "       35, 91, 33, 63, 76, 35, 31, 77, 55, 18, 24, 94, 58, 14, 37, 77, 88,\n",
       "       83, 86, 21, 46, 97, 27, 47, 67, 31, 58, 19, 92, 60, 38, 95, 42, 62,\n",
       "       49, 68, 36, 91, 45, 54, 51, 25, 19, 55, 85, 83, 46, 33, 42, 48, 87,\n",
       "       71, 43, 53, 52, 13, 15, 68, 30, 46, 70, 97, 89, 51, 23, 48, 90, 78,\n",
       "       45, 84, 12, 41, 12, 56, 96, 85, 97, 56, 71, 36, 55, 79, 28, 58, 58,\n",
       "       62, 18, 42, 62, 46, 78, 94, 20, 90, 64, 14, 51, 39, 68, 56, 17, 81,\n",
       "       60, 95, 46, 21, 39, 42, 71, 83, 18, 78, 44, 73, 42, 47, 23, 33, 76,\n",
       "       52, 55, 89, 51, 75, 64, 68, 90, 21, 41, 93, 28, 91, 84, 83, 30, 32,\n",
       "       69, 70, 18, 31, 71, 45, 29, 17, 49, 35, 58, 77, 67, 79, 82, 58, 92,\n",
       "       77, 40, 17, 93, 64, 61, 84, 78, 54, 24, 64, 88, 79, 27, 75, 90, 89,\n",
       "       51, 62, 14, 43, 68, 47, 24, 73, 68, 56, 65, 68, 23, 70, 13, 49, 86,\n",
       "       22, 53, 27, 89, 81, 70, 69, 25, 44, 93, 39, 44, 88, 12, 84, 45, 90,\n",
       "       25, 95, 46, 59, 20, 17, 24, 78, 83, 55, 50, 44, 42, 26, 55, 42, 73,\n",
       "       74, 60, 18, 96, 15, 22, 22, 62, 45, 35, 13, 25, 40, 52, 26, 28, 17,\n",
       "       59, 80, 31, 39, 59, 40, 89, 43, 83, 73, 14, 22, 74, 65, 46, 31, 50,\n",
       "       77, 13, 60, 65, 91, 45, 62, 77, 58, 81, 47, 49, 59, 74, 76, 88, 82,\n",
       "       51, 43, 62, 90, 25, 14, 18, 93, 65, 51, 72, 86, 95, 79, 73, 71, 85,\n",
       "       81, 41, 17, 70, 76, 68, 94, 40, 44, 85, 18, 22, 95, 42, 34, 84, 35,\n",
       "       45, 81, 21, 67, 77, 15, 39, 72, 69, 91, 81, 17, 16, 51, 65, 42, 53,\n",
       "       49, 75, 63, 34, 59, 72, 65, 20, 39, 33, 29, 42, 77, 72, 57, 64, 92,\n",
       "       17, 51, 57, 48, 91, 30, 94, 37, 86, 27, 97, 80, 14, 94, 53, 51, 63,\n",
       "       77, 64, 53, 91, 71, 68, 50, 33, 69, 55, 52, 61, 30, 30, 16, 71, 63,\n",
       "       67, 14, 41, 55, 72, 24, 34, 74, 40, 34, 63, 91, 77, 45, 42, 73, 12,\n",
       "       17, 61, 97, 66, 78, 47, 20, 52, 35, 17, 31, 91, 88, 32, 77, 68, 64,\n",
       "       86, 42, 92, 75, 44, 39, 85, 49, 31, 20, 80, 66, 86, 30, 67, 33, 53,\n",
       "       83, 71, 85, 78, 69, 97, 67, 15, 35, 33, 79, 94, 25, 60, 49, 32, 64,\n",
       "       54, 26, 41, 35, 82, 93, 89, 71, 13, 93, 58, 23, 33, 79, 47, 97, 60,\n",
       "       92, 55, 88, 69, 63, 52, 25, 45, 56, 64, 26, 47, 25, 64, 87, 48, 61,\n",
       "       22, 33, 76, 65, 76, 79, 67, 24, 31, 15, 68, 42, 95, 59, 22, 40, 19,\n",
       "       66, 85, 72, 69, 20, 63, 56, 16, 51, 55, 53, 68, 41, 16, 80, 92, 70,\n",
       "       71, 53, 96, 54, 66, 97, 14, 90, 25, 40, 96, 45, 52, 52, 27, 94, 31,\n",
       "       19, 73, 97, 14, 28, 48, 21, 25, 84, 44, 56, 45, 94, 20, 75, 40, 92,\n",
       "       63, 42, 80, 35, 54, 94, 69, 73, 79, 62, 75, 22, 14, 46, 35, 65, 97,\n",
       "       77, 86, 95, 80, 21, 71, 24, 17, 14, 43, 88, 95, 62, 16, 33, 87, 21,\n",
       "       96, 76, 27, 62, 66, 24, 27, 89, 75, 70, 59, 60, 47, 30, 89, 66, 19,\n",
       "       21, 13, 96, 50, 82, 84, 81, 49, 31, 30, 22, 68, 92, 73, 56, 81, 12,\n",
       "       71, 46, 33, 92, 47, 63, 83, 37, 74, 71, 57, 97, 14, 49, 27, 36, 71,\n",
       "       72, 18, 46, 65, 56, 40, 77, 81, 45, 37, 80, 91, 47, 76, 59, 43, 21,\n",
       "       55, 26, 57, 39, 39, 58, 81, 30, 90, 70, 22, 23, 52, 75, 85, 17, 19,\n",
       "       60, 36, 54, 45, 55, 38, 59, 86, 24, 88, 89, 50, 85, 15, 14, 54, 33,\n",
       "       75, 92, 43, 27, 32, 77, 85, 46, 50, 40, 91, 63, 78, 65, 18, 56, 92,\n",
       "       59, 49, 50, 28, 51, 25, 83, 63, 61, 52, 85, 26, 51, 31, 44, 57, 58,\n",
       "       22, 69, 36, 14, 44, 88, 89, 14, 88, 20, 40, 53, 54, 82, 96, 66, 36,\n",
       "       63, 17, 74, 82, 55, 64, 34, 72, 52, 29, 47, 52, 55, 12, 47, 50, 28,\n",
       "       49, 22, 24, 23, 93, 47, 69, 64, 74, 60, 82, 73, 32, 61, 80, 60, 27,\n",
       "       61, 79, 43, 17, 73, 45, 61, 95, 46, 68, 44, 64, 57, 58, 62, 21, 96,\n",
       "       94, 87, 70, 57, 32, 81, 55, 49, 81, 69, 39, 37, 21, 89, 74, 60, 46,\n",
       "       34, 64, 18, 79, 78, 64, 93, 68, 93, 65, 46, 78, 84, 67, 57, 53, 25,\n",
       "       53, 46, 79, 62, 27, 13, 83, 56, 96, 58, 97, 75, 28, 86])"
      ]
     },
     "execution_count": 4,
     "metadata": {},
     "output_type": "execute_result"
    }
   ],
   "source": [
    "Age = np.random.randint(12,98,1000,dtype='l')\n",
    "Age"
   ]
  },
  {
   "cell_type": "code",
   "execution_count": 5,
   "metadata": {},
   "outputs": [
    {
     "data": {
      "text/plain": [
       "0    79\n",
       "1    54\n",
       "2    87\n",
       "3    87\n",
       "4    60\n",
       "dtype: int32"
      ]
     },
     "execution_count": 5,
     "metadata": {},
     "output_type": "execute_result"
    }
   ],
   "source": [
    "Age = pd.Series(Age)\n",
    "Age.head()"
   ]
  },
  {
   "cell_type": "code",
   "execution_count": 6,
   "metadata": {},
   "outputs": [
    {
     "data": {
      "text/plain": [
       "0.00    12.0\n",
       "0.10    21.0\n",
       "0.20    30.0\n",
       "0.25    35.0\n",
       "0.50    56.0\n",
       "0.75    77.0\n",
       "0.90    89.0\n",
       "0.95    94.0\n",
       "0.99    97.0\n",
       "1.00    97.0\n",
       "dtype: float64"
      ]
     },
     "execution_count": 6,
     "metadata": {},
     "output_type": "execute_result"
    }
   ],
   "source": [
    "Age.quantile([0,0.1,0.2,0.25,0.5,0.75,0.9,0.95,0.99,1])"
   ]
  },
  {
   "cell_type": "markdown",
   "metadata": {},
   "source": [
    "95% of data falls under any one of the most commonly occuring probability distributions."
   ]
  },
  {
   "cell_type": "markdown",
   "metadata": {},
   "source": [
    "So, every curve can be convereted to its standard form."
   ]
  },
  {
   "cell_type": "markdown",
   "metadata": {},
   "source": [
    "Normal Distribution: \n",
    "    1. Symmetric distribution\n",
    "        a. Mean = Median\n",
    "        b. skewness ~ 0 (Skewness is a measure of the symmetry in a distribution)\n",
    "    2. Majority of the points lie close to the Central Tendency.\n",
    "    3. Close to 68% of the data points lie between mean +- std.\n",
    "    4. The curve follows typical bell shaped pattern.\n",
    "        a. kurtosis lies between -2 to +2 \n",
    "    \n",
    "    mean +/- std ~ 68%\n",
    "    mean +/- 2*std ~ 95%\n",
    "    mean +/- 3*std ~ 99.7%\n",
    "    \n",
    "    \n",
    "Kurtosis is a measure of the combined sizes of the two tails.  It measures the amount of probability in the tails.  The value is often compared to the kurtosis of the normal distribution, which is equal to 3.  If the kurtosis is greater than 3, then the dataset has heavier tails than a normal distribution (more in the tails)."
   ]
  },
  {
   "cell_type": "markdown",
   "metadata": {},
   "source": [
    "Stats test to prove normality of curve:\n",
    "    1. Shapiro Wilk's Test(smaller data)\n",
    "    2. Anderson - Darling Test (big data)"
   ]
  },
  {
   "cell_type": "code",
   "execution_count": 13,
   "metadata": {},
   "outputs": [],
   "source": [
    "data = pd.Series(np.random.normal(loc=110, scale=20, size=100000))"
   ]
  },
  {
   "cell_type": "markdown",
   "metadata": {},
   "source": [
    "loc=mean, scale=std"
   ]
  },
  {
   "cell_type": "code",
   "execution_count": 17,
   "metadata": {},
   "outputs": [
    {
     "name": "stderr",
     "output_type": "stream",
     "text": [
      "C:\\Users\\arundev.satheesan\\AppData\\Local\\Continuum\\anaconda3\\lib\\site-packages\\matplotlib\\axes\\_axes.py:6462: UserWarning: The 'normed' kwarg is deprecated, and has been replaced by the 'density' kwarg.\n",
      "  warnings.warn(\"The 'normed' kwarg is deprecated, and has been \"\n"
     ]
    },
    {
     "data": {
      "image/png": "[encoded data removed]",
      "text/plain": [
       "<Figure size 432x288 with 1 Axes>"
      ]
     },
     "metadata": {},
     "output_type": "display_data"
    }
   ],
   "source": [
    "sns.distplot(data)\n",
    "plt.show()"
   ]
  },
  {
   "cell_type": "code",
   "execution_count": 18,
   "metadata": {},
   "outputs": [
    {
     "data": {
      "text/plain": [
       "110.04600064733094"
      ]
     },
     "execution_count": 18,
     "metadata": {},
     "output_type": "execute_result"
    }
   ],
   "source": [
    "data.mean()"
   ]
  },
  {
   "cell_type": "code",
   "execution_count": 19,
   "metadata": {},
   "outputs": [
    {
     "data": {
      "text/plain": [
       "110.069370124322"
      ]
     },
     "execution_count": 19,
     "metadata": {},
     "output_type": "execute_result"
    }
   ],
   "source": [
    "data.median()"
   ]
  },
  {
   "cell_type": "code",
   "execution_count": 20,
   "metadata": {},
   "outputs": [
    {
     "data": {
      "text/plain": [
       "0.006055844612857005"
      ]
     },
     "execution_count": 20,
     "metadata": {},
     "output_type": "execute_result"
    }
   ],
   "source": [
    "data.skew()"
   ]
  },
  {
   "cell_type": "markdown",
   "metadata": {},
   "source": [
    "Little skewed towards right but negligible."
   ]
  },
  {
   "cell_type": "code",
   "execution_count": 23,
   "metadata": {},
   "outputs": [
    {
     "data": {
      "text/plain": [
       "0.012560545891852737"
      ]
     },
     "execution_count": 23,
     "metadata": {},
     "output_type": "execute_result"
    }
   ],
   "source": [
    "data.kurtosis()"
   ]
  },
  {
   "cell_type": "code",
   "execution_count": 24,
   "metadata": {},
   "outputs": [],
   "source": [
    "avg = data.mean()\n",
    "std = data.std()"
   ]
  },
  {
   "cell_type": "code",
   "execution_count": 28,
   "metadata": {},
   "outputs": [
    {
     "data": {
      "text/plain": [
       "68.496"
      ]
     },
     "execution_count": 28,
     "metadata": {},
     "output_type": "execute_result"
    }
   ],
   "source": [
    "LC = avg - std\n",
    "UC = avg + std\n",
    "\n",
    "len(data.loc[(data > LC) & (data < UC)])/len(data) * 100"
   ]
  },
  {
   "cell_type": "code",
   "execution_count": 29,
   "metadata": {},
   "outputs": [
    {
     "data": {
      "text/plain": [
       "95.417"
      ]
     },
     "execution_count": 29,
     "metadata": {},
     "output_type": "execute_result"
    }
   ],
   "source": [
    "LC = avg - 2*std\n",
    "UC = avg + 2*std\n",
    "\n",
    "len(data.loc[(data > LC) & (data < UC)])/len(data) * 100"
   ]
  },
  {
   "cell_type": "code",
   "execution_count": 30,
   "metadata": {},
   "outputs": [
    {
     "data": {
      "text/plain": [
       "99.739"
      ]
     },
     "execution_count": 30,
     "metadata": {},
     "output_type": "execute_result"
    }
   ],
   "source": [
    "LC = avg - 3*std\n",
    "UC = avg + 3*std\n",
    "\n",
    "len(data.loc[(data > LC) & (data < UC)])/len(data) * 100"
   ]
  },
  {
   "cell_type": "markdown",
   "metadata": {},
   "source": [
    "Standard Normal Curve:\n",
    "    1. Same curve as that of the data but the points are transformed.\n",
    "    2. Mean =0, std =1\n",
    "    \n",
    "Use Z-Transform can be used to transform any normal curve to standard normal curve.\n",
    "       1. Z_score = (X-mean)/std"
   ]
  },
  {
   "cell_type": "code",
   "execution_count": 31,
   "metadata": {},
   "outputs": [],
   "source": [
    "Z_data = (data-data.mean())/data.std()"
   ]
  },
  {
   "cell_type": "code",
   "execution_count": 32,
   "metadata": {},
   "outputs": [
    {
     "name": "stderr",
     "output_type": "stream",
     "text": [
      "C:\\Users\\arundev.satheesan\\AppData\\Local\\Continuum\\anaconda3\\lib\\site-packages\\matplotlib\\axes\\_axes.py:6462: UserWarning: The 'normed' kwarg is deprecated, and has been replaced by the 'density' kwarg.\n",
      "  warnings.warn(\"The 'normed' kwarg is deprecated, and has been \"\n"
     ]
    },
    {
     "data": {
      "text/plain": [
       "<matplotlib.axes._subplots.AxesSubplot at 0x1e8847a2048>"
      ]
     },
     "execution_count": 32,
     "metadata": {},
     "output_type": "execute_result"
    },
    {
     "data": {
      "image/png": "[encoded data removed]",
      "text/plain": [
       "<Figure size 432x288 with 1 Axes>"
      ]
     },
     "metadata": {},
     "output_type": "display_data"
    }
   ],
   "source": [
    "sns.distplot(Z_data)"
   ]
  },
  {
   "cell_type": "code",
   "execution_count": 36,
   "metadata": {},
   "outputs": [
    {
     "data": {
      "text/plain": [
       "-0.0"
      ]
     },
     "execution_count": 36,
     "metadata": {},
     "output_type": "execute_result"
    }
   ],
   "source": [
    "round(Z_data.mean(),2)"
   ]
  },
  {
   "cell_type": "code",
   "execution_count": 37,
   "metadata": {},
   "outputs": [
    {
     "data": {
      "text/plain": [
       "1.0"
      ]
     },
     "execution_count": 37,
     "metadata": {},
     "output_type": "execute_result"
    }
   ],
   "source": [
    "round(Z_data.std(),2)"
   ]
  },
  {
   "cell_type": "code",
   "execution_count": 38,
   "metadata": {},
   "outputs": [
    {
     "data": {
      "text/plain": [
       "0.01"
      ]
     },
     "execution_count": 38,
     "metadata": {},
     "output_type": "execute_result"
    }
   ],
   "source": [
    "round(Z_data.skew(),2)"
   ]
  },
  {
   "cell_type": "code",
   "execution_count": 39,
   "metadata": {},
   "outputs": [
    {
     "data": {
      "text/plain": [
       "0.01"
      ]
     },
     "execution_count": 39,
     "metadata": {},
     "output_type": "execute_result"
    }
   ],
   "source": [
    "round(Z_data.kurtosis(),2)"
   ]
  },
  {
   "cell_type": "markdown",
   "metadata": {},
   "source": [
    "Now using Z-tables we can directly find the probabilities."
   ]
  },
  {
   "cell_type": "markdown",
   "metadata": {},
   "source": [
    "Distributions:\n",
    "    1. Bernoulli - Only two outcomes,same probability.eg: coin toss\n",
    "    2. Uniform - n outomes, same probability. eg: rolling a die\n",
    "    3. Binomial - Unequal probailities,fixed no. of trials.eg: deliquent or not deliquent.\n",
    "    4. Poisson - Unequal probailities,no. of trials is infinite..eg: A call center getting a call."
   ]
  },
  {
   "cell_type": "code",
   "execution_count": null,
   "metadata": {},
   "outputs": [],
   "source": [
    "mean = sum/n : \n",
    "    1. A good explaination to major points\n",
    "    2. Effected by the outliers.\n",
    "    \n",
    "meadian = 50th percentile:\n",
    "    1. True central point\n",
    "    2. Not effected by the outliers\n",
    "    3. Not easy to explain.\n",
    "    \n",
    "mode:\n",
    "    1. Most commonly occuring data in categorical variable.\n",
    "    \n"
   ]
  }
 ],
 "metadata": {
  "kernelspec": {
   "display_name": "Python [default]",
   "language": "python",
   "name": "python3"
  },
  "language_info": {
   "codemirror_mode": {
    "name": "ipython",
    "version": 3
   },
   "file_extension": ".py",
   "mimetype": "text/x-python",
   "name": "python",
   "nbconvert_exporter": "python",
   "pygments_lexer": "ipython3",
   "version": "3.6.5"
  }
 },
 "nbformat": 4,
 "nbformat_minor": 2
}
