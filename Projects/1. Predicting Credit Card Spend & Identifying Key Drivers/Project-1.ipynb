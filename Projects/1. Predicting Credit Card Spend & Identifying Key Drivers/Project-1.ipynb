{
 "cells": [
  {
   "cell_type": "code",
   "execution_count": 21,
   "metadata": {},
   "outputs": [],
   "source": [
    "import os\n",
    "import pandas as pd\n",
    "import numpy as np\n",
    "import seaborn as sns\n",
    "from matplotlib import pyplot as plt\n",
    "import pandas_profiling\n",
    "import scipy.stats as stats\n",
    "%matplotlib inline"
   ]
  },
  {
   "cell_type": "code",
   "execution_count": 22,
   "metadata": {},
   "outputs": [],
   "source": [
    "from sklearn.model_selection import train_test_split\n",
    "from sklearn.linear_model import LinearRegression\n",
    "import sklearn.metrics as metrics\n",
    "import statsmodels.formula.api as sm"
   ]
  },
  {
   "cell_type": "code",
   "execution_count": 33,
   "metadata": {},
   "outputs": [
    {
     "data": {
      "text/html": [
       "<div>\n",
       "<style scoped>\n",
       "    .dataframe tbody tr th:only-of-type {\n",
       "        vertical-align: middle;\n",
       "    }\n",
       "\n",
       "    .dataframe tbody tr th {\n",
       "        vertical-align: top;\n",
       "    }\n",
       "\n",
       "    .dataframe thead th {\n",
       "        text-align: right;\n",
       "    }\n",
       "</style>\n",
       "<table border=\"1\" class=\"dataframe\">\n",
       "  <thead>\n",
       "    <tr style=\"text-align: right;\">\n",
       "      <th></th>\n",
       "      <th>custid</th>\n",
       "      <th>region</th>\n",
       "      <th>townsize</th>\n",
       "      <th>gender</th>\n",
       "      <th>age</th>\n",
       "      <th>agecat</th>\n",
       "      <th>birthmonth</th>\n",
       "      <th>ed</th>\n",
       "      <th>edcat</th>\n",
       "      <th>jobcat</th>\n",
       "      <th>...</th>\n",
       "      <th>owncd</th>\n",
       "      <th>ownpda</th>\n",
       "      <th>ownpc</th>\n",
       "      <th>ownipod</th>\n",
       "      <th>owngame</th>\n",
       "      <th>ownfax</th>\n",
       "      <th>news</th>\n",
       "      <th>response_01</th>\n",
       "      <th>response_02</th>\n",
       "      <th>response_03</th>\n",
       "    </tr>\n",
       "  </thead>\n",
       "  <tbody>\n",
       "    <tr>\n",
       "      <th>0</th>\n",
       "      <td>3964-QJWTRG-NPN</td>\n",
       "      <td>1</td>\n",
       "      <td>2.0</td>\n",
       "      <td>1</td>\n",
       "      <td>20</td>\n",
       "      <td>2</td>\n",
       "      <td>September</td>\n",
       "      <td>15</td>\n",
       "      <td>3</td>\n",
       "      <td>1</td>\n",
       "      <td>...</td>\n",
       "      <td>0</td>\n",
       "      <td>0</td>\n",
       "      <td>0</td>\n",
       "      <td>1</td>\n",
       "      <td>1</td>\n",
       "      <td>0</td>\n",
       "      <td>0</td>\n",
       "      <td>0</td>\n",
       "      <td>1</td>\n",
       "      <td>0</td>\n",
       "    </tr>\n",
       "    <tr>\n",
       "      <th>1</th>\n",
       "      <td>0648-AIPJSP-UVM</td>\n",
       "      <td>5</td>\n",
       "      <td>5.0</td>\n",
       "      <td>0</td>\n",
       "      <td>22</td>\n",
       "      <td>2</td>\n",
       "      <td>May</td>\n",
       "      <td>17</td>\n",
       "      <td>4</td>\n",
       "      <td>2</td>\n",
       "      <td>...</td>\n",
       "      <td>1</td>\n",
       "      <td>1</td>\n",
       "      <td>1</td>\n",
       "      <td>1</td>\n",
       "      <td>1</td>\n",
       "      <td>1</td>\n",
       "      <td>1</td>\n",
       "      <td>0</td>\n",
       "      <td>0</td>\n",
       "      <td>0</td>\n",
       "    </tr>\n",
       "    <tr>\n",
       "      <th>2</th>\n",
       "      <td>5195-TLUDJE-HVO</td>\n",
       "      <td>3</td>\n",
       "      <td>4.0</td>\n",
       "      <td>1</td>\n",
       "      <td>67</td>\n",
       "      <td>6</td>\n",
       "      <td>June</td>\n",
       "      <td>14</td>\n",
       "      <td>2</td>\n",
       "      <td>2</td>\n",
       "      <td>...</td>\n",
       "      <td>1</td>\n",
       "      <td>0</td>\n",
       "      <td>0</td>\n",
       "      <td>0</td>\n",
       "      <td>0</td>\n",
       "      <td>0</td>\n",
       "      <td>1</td>\n",
       "      <td>0</td>\n",
       "      <td>0</td>\n",
       "      <td>0</td>\n",
       "    </tr>\n",
       "    <tr>\n",
       "      <th>3</th>\n",
       "      <td>4459-VLPQUH-3OL</td>\n",
       "      <td>4</td>\n",
       "      <td>3.0</td>\n",
       "      <td>0</td>\n",
       "      <td>23</td>\n",
       "      <td>2</td>\n",
       "      <td>May</td>\n",
       "      <td>16</td>\n",
       "      <td>3</td>\n",
       "      <td>2</td>\n",
       "      <td>...</td>\n",
       "      <td>1</td>\n",
       "      <td>0</td>\n",
       "      <td>1</td>\n",
       "      <td>1</td>\n",
       "      <td>1</td>\n",
       "      <td>0</td>\n",
       "      <td>1</td>\n",
       "      <td>1</td>\n",
       "      <td>0</td>\n",
       "      <td>0</td>\n",
       "    </tr>\n",
       "    <tr>\n",
       "      <th>4</th>\n",
       "      <td>8158-SMTQFB-CNO</td>\n",
       "      <td>2</td>\n",
       "      <td>2.0</td>\n",
       "      <td>0</td>\n",
       "      <td>26</td>\n",
       "      <td>3</td>\n",
       "      <td>July</td>\n",
       "      <td>16</td>\n",
       "      <td>3</td>\n",
       "      <td>2</td>\n",
       "      <td>...</td>\n",
       "      <td>1</td>\n",
       "      <td>0</td>\n",
       "      <td>1</td>\n",
       "      <td>0</td>\n",
       "      <td>1</td>\n",
       "      <td>0</td>\n",
       "      <td>0</td>\n",
       "      <td>0</td>\n",
       "      <td>1</td>\n",
       "      <td>0</td>\n",
       "    </tr>\n",
       "  </tbody>\n",
       "</table>\n",
       "<p>5 rows × 130 columns</p>\n",
       "</div>"
      ],
      "text/plain": [
       "            custid  region  townsize  gender  age  agecat birthmonth  ed  \\\n",
       "0  3964-QJWTRG-NPN       1       2.0       1   20       2  September  15   \n",
       "1  0648-AIPJSP-UVM       5       5.0       0   22       2        May  17   \n",
       "2  5195-TLUDJE-HVO       3       4.0       1   67       6       June  14   \n",
       "3  4459-VLPQUH-3OL       4       3.0       0   23       2        May  16   \n",
       "4  8158-SMTQFB-CNO       2       2.0       0   26       3       July  16   \n",
       "\n",
       "   edcat  jobcat     ...       owncd  ownpda  ownpc  ownipod  owngame  ownfax  \\\n",
       "0      3       1     ...           0       0      0        1        1       0   \n",
       "1      4       2     ...           1       1      1        1        1       1   \n",
       "2      2       2     ...           1       0      0        0        0       0   \n",
       "3      3       2     ...           1       0      1        1        1       0   \n",
       "4      3       2     ...           1       0      1        0        1       0   \n",
       "\n",
       "   news  response_01  response_02  response_03  \n",
       "0     0            0            1            0  \n",
       "1     1            0            0            0  \n",
       "2     1            0            0            0  \n",
       "3     1            1            0            0  \n",
       "4     0            0            1            0  \n",
       "\n",
       "[5 rows x 130 columns]"
      ]
     },
     "execution_count": 33,
     "metadata": {},
     "output_type": "execute_result"
    }
   ],
   "source": [
    "data = pd.read_excel('Data Set.xlsx')\n",
    "data.head()"
   ]
  },
  {
   "cell_type": "code",
   "execution_count": 34,
   "metadata": {},
   "outputs": [
    {
     "name": "stdout",
     "output_type": "stream",
     "text": [
      "<class 'pandas.core.frame.DataFrame'>\n",
      "RangeIndex: 5000 entries, 0 to 4999\n",
      "Data columns (total 130 columns):\n",
      "custid               5000 non-null object\n",
      "region               5000 non-null int64\n",
      "townsize             4998 non-null float64\n",
      "gender               5000 non-null int64\n",
      "age                  5000 non-null int64\n",
      "agecat               5000 non-null int64\n",
      "birthmonth           5000 non-null object\n",
      "ed                   5000 non-null int64\n",
      "edcat                5000 non-null int64\n",
      "jobcat               5000 non-null int64\n",
      "union                5000 non-null int64\n",
      "employ               5000 non-null int64\n",
      "empcat               5000 non-null int64\n",
      "retire               5000 non-null int64\n",
      "income               5000 non-null int64\n",
      "lninc                5000 non-null float64\n",
      "inccat               5000 non-null int64\n",
      "debtinc              5000 non-null float64\n",
      "creddebt             5000 non-null float64\n",
      "lncreddebt           4999 non-null float64\n",
      "othdebt              5000 non-null float64\n",
      "lnothdebt            4999 non-null float64\n",
      "default              5000 non-null int64\n",
      "jobsat               5000 non-null int64\n",
      "marital              5000 non-null int64\n",
      "spoused              5000 non-null int64\n",
      "spousedcat           5000 non-null int64\n",
      "reside               5000 non-null int64\n",
      "pets                 5000 non-null int64\n",
      "pets_cats            5000 non-null int64\n",
      "pets_dogs            5000 non-null int64\n",
      "pets_birds           5000 non-null int64\n",
      "pets_reptiles        5000 non-null int64\n",
      "pets_small           5000 non-null int64\n",
      "pets_saltfish        5000 non-null int64\n",
      "pets_freshfish       5000 non-null int64\n",
      "homeown              5000 non-null int64\n",
      "hometype             5000 non-null int64\n",
      "address              5000 non-null int64\n",
      "addresscat           5000 non-null int64\n",
      "cars                 5000 non-null int64\n",
      "carown               5000 non-null int64\n",
      "cartype              5000 non-null int64\n",
      "carvalue             5000 non-null float64\n",
      "carcatvalue          5000 non-null int64\n",
      "carbought            5000 non-null int64\n",
      "carbuy               5000 non-null int64\n",
      "commute              5000 non-null int64\n",
      "commutecat           5000 non-null int64\n",
      "commutetime          4998 non-null float64\n",
      "commutecar           5000 non-null int64\n",
      "commutemotorcycle    5000 non-null int64\n",
      "commutecarpool       5000 non-null int64\n",
      "commutebus           5000 non-null int64\n",
      "commuterail          5000 non-null int64\n",
      "commutepublic        5000 non-null int64\n",
      "commutebike          5000 non-null int64\n",
      "commutewalk          5000 non-null int64\n",
      "commutenonmotor      5000 non-null int64\n",
      "telecommute          5000 non-null int64\n",
      "reason               5000 non-null int64\n",
      "polview              5000 non-null int64\n",
      "polparty             5000 non-null int64\n",
      "polcontrib           5000 non-null int64\n",
      "vote                 5000 non-null int64\n",
      "card                 5000 non-null int64\n",
      "cardtype             5000 non-null int64\n",
      "cardbenefit          5000 non-null int64\n",
      "cardfee              5000 non-null int64\n",
      "cardtenure           5000 non-null int64\n",
      "cardtenurecat        5000 non-null int64\n",
      "card2                5000 non-null int64\n",
      "card2type            5000 non-null int64\n",
      "card2benefit         5000 non-null int64\n",
      "card2fee             5000 non-null int64\n",
      "card2tenure          5000 non-null int64\n",
      "card2tenurecat       5000 non-null int64\n",
      "cardspent            5000 non-null float64\n",
      "card2spent           5000 non-null float64\n",
      "active               5000 non-null int64\n",
      "bfast                5000 non-null int64\n",
      "tenure               5000 non-null int64\n",
      "churn                5000 non-null int64\n",
      "longmon              5000 non-null float64\n",
      "lnlongmon            5000 non-null float64\n",
      "longten              4997 non-null float64\n",
      "lnlongten            4997 non-null float64\n",
      "tollfree             5000 non-null int64\n",
      "tollmon              5000 non-null float64\n",
      "lntollmon            2378 non-null float64\n",
      "tollten              5000 non-null float64\n",
      "lntollten            2378 non-null float64\n",
      "equip                5000 non-null int64\n",
      "equipmon             5000 non-null float64\n",
      "lnequipmon           1704 non-null float64\n",
      "equipten             5000 non-null float64\n",
      "lnequipten           1704 non-null float64\n",
      "callcard             5000 non-null int64\n",
      "cardmon              5000 non-null float64\n",
      "lncardmon            3581 non-null float64\n",
      "cardten              4998 non-null float64\n",
      "lncardten            3578 non-null float64\n",
      "wireless             5000 non-null int64\n",
      "wiremon              5000 non-null float64\n",
      "lnwiremon            1344 non-null float64\n",
      "wireten              5000 non-null float64\n",
      "lnwireten            1344 non-null float64\n",
      "multline             5000 non-null int64\n",
      "voice                5000 non-null int64\n",
      "pager                5000 non-null int64\n",
      "internet             5000 non-null int64\n",
      "callid               5000 non-null int64\n",
      "callwait             5000 non-null int64\n",
      "forward              5000 non-null int64\n",
      "confer               5000 non-null int64\n",
      "ebill                5000 non-null int64\n",
      "owntv                5000 non-null int64\n",
      "hourstv              5000 non-null int64\n",
      "ownvcr               5000 non-null int64\n",
      "owndvd               5000 non-null int64\n",
      "owncd                5000 non-null int64\n",
      "ownpda               5000 non-null int64\n",
      "ownpc                5000 non-null int64\n",
      "ownipod              5000 non-null int64\n",
      "owngame              5000 non-null int64\n",
      "ownfax               5000 non-null int64\n",
      "news                 5000 non-null int64\n",
      "response_01          5000 non-null int64\n",
      "response_02          5000 non-null int64\n",
      "response_03          5000 non-null int64\n",
      "dtypes: float64(31), int64(97), object(2)\n",
      "memory usage: 5.0+ MB\n"
     ]
    }
   ],
   "source": [
    "data.info(verbose=True,null_counts=True)"
   ]
  },
  {
   "cell_type": "markdown",
   "metadata": {},
   "source": [
    "This variable Total Spend can be used as the target variable."
   ]
  },
  {
   "cell_type": "code",
   "execution_count": 35,
   "metadata": {},
   "outputs": [],
   "source": [
    "data['totalspend'] = data['cardspent'] + data['card2spent']"
   ]
  },
  {
   "cell_type": "code",
   "execution_count": 36,
   "metadata": {},
   "outputs": [],
   "source": [
    "feature = data.drop(columns=['totalspend'])\n",
    "target = data['totalspend']"
   ]
  },
  {
   "cell_type": "markdown",
   "metadata": {},
   "source": [
    "These two variables are used to derive the totalspend variable."
   ]
  },
  {
   "cell_type": "code",
   "execution_count": 37,
   "metadata": {},
   "outputs": [
    {
     "name": "stdout",
     "output_type": "stream",
     "text": [
      "<class 'pandas.core.frame.DataFrame'>\n",
      "RangeIndex: 5000 entries, 0 to 4999\n",
      "Columns: 128 entries, custid to response_03\n",
      "dtypes: float64(29), int64(97), object(2)\n",
      "memory usage: 4.9+ MB\n"
     ]
    }
   ],
   "source": [
    "feature = feature.drop(columns = ['cardspent','card2spent'])\n",
    "feature.info()"
   ]
  },
  {
   "cell_type": "markdown",
   "metadata": {},
   "source": [
    "The target variable is not following normal distribution."
   ]
  },
  {
   "cell_type": "code",
   "execution_count": 38,
   "metadata": {},
   "outputs": [
    {
     "name": "stderr",
     "output_type": "stream",
     "text": [
      "C:\\Users\\User\\Anaconda3\\lib\\site-packages\\scipy\\stats\\stats.py:1713: FutureWarning: Using a non-tuple sequence for multidimensional indexing is deprecated; use `arr[tuple(seq)]` instead of `arr[seq]`. In the future this will be interpreted as an array index, `arr[np.array(seq)]`, which will result either in an error or a different result.\n",
      "  return np.add.reduce(sorted[indexer] * weights, axis=axis) / sumval\n"
     ]
    },
    {
     "data": {
      "image/png": "[encoded data removed]",
      "text/plain": [
       "<Figure size 432x288 with 1 Axes>"
      ]
     },
     "metadata": {
      "needs_background": "light"
     },
     "output_type": "display_data"
    }
   ],
   "source": [
    "sns.distplot(target)\n",
    "plt.show()"
   ]
  },
  {
   "cell_type": "markdown",
   "metadata": {},
   "source": [
    "The log transformation is applied to make it normal distribution."
   ]
  },
  {
   "cell_type": "code",
   "execution_count": 39,
   "metadata": {},
   "outputs": [
    {
     "name": "stderr",
     "output_type": "stream",
     "text": [
      "C:\\Users\\User\\Anaconda3\\lib\\site-packages\\scipy\\stats\\stats.py:1713: FutureWarning: Using a non-tuple sequence for multidimensional indexing is deprecated; use `arr[tuple(seq)]` instead of `arr[seq]`. In the future this will be interpreted as an array index, `arr[np.array(seq)]`, which will result either in an error or a different result.\n",
      "  return np.add.reduce(sorted[indexer] * weights, axis=axis) / sumval\n"
     ]
    },
    {
     "data": {
      "image/png": "[encoded data removed]",
      "text/plain": [
       "<Figure size 432x288 with 1 Axes>"
      ]
     },
     "metadata": {
      "needs_background": "light"
     },
     "output_type": "display_data"
    }
   ],
   "source": [
    "target = np.log(target)\n",
    "sns.distplot(target)\n",
    "plt.show()"
   ]
  },
  {
   "cell_type": "markdown",
   "metadata": {},
   "source": [
    "Remove duplicate features which are log of other features."
   ]
  },
  {
   "cell_type": "code",
   "execution_count": 40,
   "metadata": {},
   "outputs": [],
   "source": [
    "feature = feature.drop(columns=['lninc','lncreddebt','lnothdebt','lnlongmon','lnlongten','lntollmon','lntollten','lnequipmon',\n",
    "                     'lnequipten','lncardmon','lncardten','lnwiremon','lnwireten'])"
   ]
  },
  {
   "cell_type": "markdown",
   "metadata": {},
   "source": [
    "Remove the categorical features which are continous variables."
   ]
  },
  {
   "cell_type": "code",
   "execution_count": 41,
   "metadata": {},
   "outputs": [],
   "source": [
    "feature = feature.drop(columns=['agecat','edcat','employ','address','cardtenure','card2tenure'])"
   ]
  },
  {
   "cell_type": "code",
   "execution_count": 42,
   "metadata": {},
   "outputs": [],
   "source": [
    "def Missing_values(x):\n",
    "    x = x.fillna(x.median())\n",
    "    return x"
   ]
  },
  {
   "cell_type": "code",
   "execution_count": null,
   "metadata": {},
   "outputs": [],
   "source": [
    "num = []"
   ]
  }
 ],
 "metadata": {
  "kernelspec": {
   "display_name": "Python 3",
   "language": "python",
   "name": "python3"
  },
  "language_info": {
   "codemirror_mode": {
    "name": "ipython",
    "version": 3
   },
   "file_extension": ".py",
   "mimetype": "text/x-python",
   "name": "python",
   "nbconvert_exporter": "python",
   "pygments_lexer": "ipython3",
   "version": "3.7.0"
  }
 },
 "nbformat": 4,
 "nbformat_minor": 2
}
