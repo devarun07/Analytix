{
 "cells": [
  {
   "cell_type": "markdown",
   "metadata": {},
   "source": [
    "# Text Mining using Natural Language Processing (NLP)"
   ]
  },
  {
   "cell_type": "markdown",
   "metadata": {},
   "source": [
    "## Introduction"
   ]
  },
  {
   "cell_type": "markdown",
   "metadata": {},
   "source": [
    "### What is NLP?\n",
    "\n",
    "- Using computers to process (analyze, understand, generate) natural human languages\n",
    "- Most knowledge created by humans is unstructured text, and we need a way to make sense of it\n",
    "- Build probabilistic model using data about a language"
   ]
  },
  {
   "cell_type": "markdown",
   "metadata": {},
   "source": [
    "### Important Packages Related to Textmining\n",
    "- **textmining1.0:** contains a variety of useful functions for text mining in Python.\n",
    "- **NLTK:** This package can be extremely useful because you have easy access to over 50 corpora and lexical resources\n",
    "- **Tweepy:** to mine Twitter data\n",
    "- **scrappy:**  extract the data you need from websites\n",
    "- **urllib2:** a package for opening URLs\n",
    "- **requests:** library for grabbing data from the internet\n",
    "- **Beautifulsoup:** library for parsing HTML data\n",
    "- **re:**  grep(), grepl(), regexpr(), gregexpr(), sub(), gsub(), and strsplit() are helpful functions\n",
    "- **wordcloud:** to visualize the wordcloud\n",
    "- **Textblob:** to used for text processing (nlp- lowel events)\n",
    "- **sklearn:** to used for preprocessing, modeling"
   ]
  },
  {
   "cell_type": "markdown",
   "metadata": {},
   "source": [
    "### What are some of the higher level task areas?\n",
    "\n",
    "- **Information retrieval**: Find relevant results and similar results\n",
    "    - [Google](https://www.google.com/)\n",
    "- **Information extraction**: Structured information from unstructured documents\n",
    "    - [Events from Gmail](https://support.google.com/calendar/answer/6084018?hl=en)\n",
    "- **Machine translation**: One language to another\n",
    "    - [Google Translate](https://translate.google.com/)\n",
    "- **Text simplification**: Preserve the meaning of text, but simplify the grammar and vocabulary\n",
    "    - [Rewordify](https://rewordify.com/)\n",
    "    - [Simple English Wikipedia](https://simple.wikipedia.org/wiki/Main_Page)\n",
    "- **Predictive text input**: Faster or easier typing\n",
    "    - [My application](https://justmarkham.shinyapps.io/textprediction/)\n",
    "    - [A much better application](https://farsite.shinyapps.io/swiftkey-cap/)\n",
    "- **Sentiment analysis**: Attitude of speaker\n",
    "    - [Hater News](http://haternews.herokuapp.com/)\n",
    "- **Automatic summarization**: Extractive or abstractive summarization\n",
    "    - [autotldr](https://www.reddit.com/r/technology/comments/35brc8/21_million_people_still_use_aol_dialup/cr2zzj0)\n",
    "- **Natural Language Generation**: Generate text from data\n",
    "    - [How a computer describes a sports match](http://www.bbc.com/news/technology-34204052)\n",
    "    - [Publishers withdraw more than 120 gibberish papers](http://www.nature.com/news/publishers-withdraw-more-than-120-gibberish-papers-1.14763)\n",
    "- **Speech recognition and generation**: Speech-to-text, text-to-speech\n",
    "    - [Google's Web Speech API demo](https://www.google.com/intl/en/chrome/demos/speech.html)\n",
    "    - [Vocalware Text-to-Speech demo](https://www.vocalware.com/index/demo)\n",
    "- **Question answering**: Determine the intent of the question, match query with knowledge base, evaluate hypotheses\n",
    "    - [How did supercomputer Watson beat Jeopardy champion Ken Jennings?](http://blog.ted.com/how-did-supercomputer-watson-beat-jeopardy-champion-ken-jennings-experts-discuss/)\n",
    "    - [IBM's Watson Trivia Challenge](http://www.nytimes.com/interactive/2010/06/16/magazine/watson-trivia-game.html)\n",
    "    - [The AI Behind Watson](http://www.aaai.org/Magazine/Watson/watson.php)"
   ]
  },
  {
   "cell_type": "markdown",
   "metadata": {},
   "source": [
    "### Data Processing - What are some of the lower level components?\n",
    "\n",
    "- **Tokenization**: breaking text into tokens (words, sentences, n-grams)\n",
    "- **Stopword removal**: a/an/the\n",
    "- **Stemming and lemmatization**: root word\n",
    "- **TF-IDF**: word importance\n",
    "- **Part-of-speech tagging**: noun/verb/adjective\n",
    "- **Named entity recognition**: person/organization/location\n",
    "- **Spelling correction**: \"New Yrok City\"\n",
    "- **Word sense disambiguation**: \"buy a mouse\"\n",
    "- **Segmentation**: \"New York City subway\"\n",
    "- **Language detection**: \"translate this page\"\n",
    "- **Machine learning**"
   ]
  },
  {
   "cell_type": "markdown",
   "metadata": {},
   "source": [
    "### Why is NLP hard?\n",
    "\n",
    "- **Ambiguity**:\n",
    "    - Hospitals are Sued by 7 Foot Doctors\n",
    "    - Juvenile Court to Try Shooting Defendant\n",
    "    - Local High School Dropouts Cut in Half\n",
    "- **Non-standard English**: text messages\n",
    "- **Idioms**: \"throw in the towel\"\n",
    "- **Newly coined words**: \"retweet\"\n",
    "- **Tricky entity names**: \"Where is A Bug's Life playing?\"\n",
    "- **World knowledge**: \"Mary and Sue are sisters\", \"Mary and Sue are mothers\"\n",
    "\n",
    "NLP requires an understanding of the **language** and the **world**."
   ]
  },
  {
   "cell_type": "markdown",
   "metadata": {},
   "source": [
    "## Text Classification"
   ]
  },
  {
   "cell_type": "markdown",
   "metadata": {},
   "source": [
    "#### Feature Engineering\n",
    "##### TF-IDF Vectors as features\n",
    "- TF(t) = (Number of times term t appears in a document) / (Total number of terms in the document)\n",
    "- IDF(t) = log_e(Total number of documents / Number of documents with term t in it)\n",
    "\n",
    "- TF-IDF Vectors can be generated at different levels of input tokens (words, characters, n-grams)\n",
    "    - a. Word Level TF-IDF : Matrix representing tf-idf scores of every term in different documents\n",
    "    - b. N-gram Level TF-IDF : N-grams are the combination of N terms together. This Matrix representing tf-idf scores of N-grams\n",
    "    - c. Character Level TF-IDF : Matrix representing tf-idf scores of character level n-grams in the corpus\n",
    "\n",
    "##### Text / NLP based features\n",
    "- Word Count of the documents – total number of words in the documents\n",
    "- Character Count of the documents – total number of characters in the documents\n",
    "- Average Word Density of the documents – average length of the words used in the documents\n",
    "- Puncutation Count in the Complete Essay – total number of punctuation marks in the documents\n",
    "- Upper Case Count in the Complete Essay – total number of upper count words in the documents\n",
    "- Title Word Count in the Complete Essay – total number of proper case (title) words in the documents\n",
    "- Frequency distribution of Part of Speech Tags:\n",
    "    - Noun Count\n",
    "    - Verb Count\n",
    "    - Adjective Count\n",
    "    - Adverb Count\n",
    "    - ronoun Count\n",
    "    "
   ]
  },
  {
   "cell_type": "markdown",
   "metadata": {},
   "source": [
    "### Model Building\n",
    "- Naive Bayes Classifier\n",
    "- Linear Classifier\n",
    "- Support Vector Machine\n",
    "- KNN\n",
    "- Bagging Models\n",
    "- Boosting Models\n",
    "- Shallow Neural Networks\n",
    "- Deep Neural Networks\n",
    "    - Convolutional Neural Network (CNN)\n",
    "    - Long Short Term Modelr (LSTM)\n",
    "    - Gated Recurrent Unit (GRU)\n",
    "    - Bidirectional RNN\n",
    "    - Recurrent Convolutional Neural Network (RCNN)\n",
    "    - Other Variants of Deep Neural Networks"
   ]
  },
  {
   "cell_type": "markdown",
   "metadata": {},
   "source": [
    "## Part 1: Reading in the Yelp Reviews"
   ]
  },
  {
   "cell_type": "markdown",
   "metadata": {},
   "source": [
    "- \"corpus\" = collection of documents\n",
    "- \"corpora\" = plural form of corpus"
   ]
  },
  {
   "cell_type": "code",
   "execution_count": 1,
   "metadata": {},
   "outputs": [],
   "source": [
    "#import required packages\n",
    "#basics\n",
    "import pandas as pd \n",
    "import numpy as np\n",
    "\n",
    "#misc\n",
    "import gc\n",
    "import time\n",
    "import warnings\n",
    "\n",
    "#stats\n",
    "#from scipy.misc import imread\n",
    "from scipy import sparse\n",
    "import scipy.stats as ss\n",
    "\n",
    "#viz\n",
    "import matplotlib.pyplot as plt\n",
    "import matplotlib.gridspec as gridspec \n",
    "import seaborn as sns\n",
    "from wordcloud import WordCloud ,STOPWORDS\n",
    "from PIL import Image\n",
    "#import matplotlib_venn as venn\n",
    "\n",
    "#nlp\n",
    "import string\n",
    "import re    #for regex\n",
    "import nltk\n",
    "from nltk.corpus import stopwords\n",
    "\n",
    "#import spacy\n",
    "from nltk import pos_tag\n",
    "from nltk.stem.wordnet import WordNetLemmatizer \n",
    "from nltk.tokenize import word_tokenize\n",
    "\n",
    "# Tweet tokenizer does not split at apostophes which is what we want\n",
    "from nltk.tokenize import TweetTokenizer   \n",
    "\n",
    "\n",
    "#FeatureEngineering\n",
    "from sklearn.feature_extraction.text import TfidfVectorizer, CountVectorizer, HashingVectorizer, TfidfTransformer\n",
    "from sklearn.decomposition import TruncatedSVD\n",
    "from sklearn.base import BaseEstimator, ClassifierMixin\n",
    "from sklearn.utils.validation import check_X_y, check_is_fitted\n",
    "from sklearn import model_selection, preprocessing, linear_model, naive_bayes, metrics, svm, decomposition, ensemble\n",
    "from sklearn.linear_model import LogisticRegression\n",
    "from sklearn.metrics import log_loss\n",
    "from sklearn.model_selection import StratifiedKFold\n",
    "from sklearn.model_selection import train_test_split\n",
    "\n",
    "import  textblob\n",
    "#import xgboost\n",
    "#from keras.preprocessing import text, sequence\n",
    "#from keras import layers, models, optimizers\n",
    "\n",
    "from textblob import TextBlob\n",
    "from nltk.stem import PorterStemmer\n",
    "import nltk\n",
    "#nltk.download('wordnet')\n",
    "from textblob import Word\n",
    "\n",
    "#settings\n",
    "start_time=time.time()\n",
    "color = sns.color_palette()\n",
    "sns.set_style(\"dark\")\n",
    "eng_stopwords = set(stopwords.words(\"english\"))\n",
    "warnings.filterwarnings(\"ignore\")\n",
    "\n",
    "lem = WordNetLemmatizer()\n",
    "tokenizer=TweetTokenizer()\n",
    "\n",
    "%matplotlib inline"
   ]
  },
  {
   "cell_type": "code",
   "execution_count": 2,
   "metadata": {},
   "outputs": [
    {
     "name": "stdout",
     "output_type": "stream",
     "text": [
      "[nltk_data] Downloading package stopwords to\n",
      "[nltk_data]     C:\\Users\\sunitprasad\\AppData\\Roaming\\nltk_data...\n",
      "[nltk_data]   Package stopwords is already up-to-date!\n"
     ]
    },
    {
     "data": {
      "text/plain": [
       "True"
      ]
     },
     "execution_count": 2,
     "metadata": {},
     "output_type": "execute_result"
    }
   ],
   "source": [
    "nltk.download('stopwords')"
   ]
  },
  {
   "cell_type": "code",
   "execution_count": 3,
   "metadata": {},
   "outputs": [],
   "source": [
    "# read yelp.csv into a DataFrame\n",
    "yelp = pd.read_csv('yelp.csv')"
   ]
  },
  {
   "cell_type": "code",
   "execution_count": 4,
   "metadata": {},
   "outputs": [
    {
     "data": {
      "text/html": [
       "<div>\n",
       "<style scoped>\n",
       "    .dataframe tbody tr th:only-of-type {\n",
       "        vertical-align: middle;\n",
       "    }\n",
       "\n",
       "    .dataframe tbody tr th {\n",
       "        vertical-align: top;\n",
       "    }\n",
       "\n",
       "    .dataframe thead th {\n",
       "        text-align: right;\n",
       "    }\n",
       "</style>\n",
       "<table border=\"1\" class=\"dataframe\">\n",
       "  <thead>\n",
       "    <tr style=\"text-align: right;\">\n",
       "      <th></th>\n",
       "      <th>business_id</th>\n",
       "      <th>date</th>\n",
       "      <th>review_id</th>\n",
       "      <th>stars</th>\n",
       "      <th>text</th>\n",
       "      <th>type</th>\n",
       "      <th>user_id</th>\n",
       "      <th>cool</th>\n",
       "      <th>useful</th>\n",
       "      <th>funny</th>\n",
       "    </tr>\n",
       "  </thead>\n",
       "  <tbody>\n",
       "    <tr>\n",
       "      <th>0</th>\n",
       "      <td>9yKzy9PApeiPPOUJEtnvkg</td>\n",
       "      <td>2011-01-26</td>\n",
       "      <td>fWKvX83p0-ka4JS3dc6E5A</td>\n",
       "      <td>5</td>\n",
       "      <td>My wife took me here on my birthday for breakf...</td>\n",
       "      <td>review</td>\n",
       "      <td>rLtl8ZkDX5vH5nAx9C3q5Q</td>\n",
       "      <td>2</td>\n",
       "      <td>5</td>\n",
       "      <td>0</td>\n",
       "    </tr>\n",
       "    <tr>\n",
       "      <th>1</th>\n",
       "      <td>ZRJwVLyzEJq1VAihDhYiow</td>\n",
       "      <td>2011-07-27</td>\n",
       "      <td>IjZ33sJrzXqU-0X6U8NwyA</td>\n",
       "      <td>5</td>\n",
       "      <td>I have no idea why some people give bad review...</td>\n",
       "      <td>review</td>\n",
       "      <td>0a2KyEL0d3Yb1V6aivbIuQ</td>\n",
       "      <td>0</td>\n",
       "      <td>0</td>\n",
       "      <td>0</td>\n",
       "    </tr>\n",
       "    <tr>\n",
       "      <th>2</th>\n",
       "      <td>6oRAC4uyJCsJl1X0WZpVSA</td>\n",
       "      <td>2012-06-14</td>\n",
       "      <td>IESLBzqUCLdSzSqm0eCSxQ</td>\n",
       "      <td>4</td>\n",
       "      <td>love the gyro plate. Rice is so good and I als...</td>\n",
       "      <td>review</td>\n",
       "      <td>0hT2KtfLiobPvh6cDC8JQg</td>\n",
       "      <td>0</td>\n",
       "      <td>1</td>\n",
       "      <td>0</td>\n",
       "    </tr>\n",
       "    <tr>\n",
       "      <th>3</th>\n",
       "      <td>_1QQZuf4zZOyFCvXc0o6Vg</td>\n",
       "      <td>2010-05-27</td>\n",
       "      <td>G-WvGaISbqqaMHlNnByodA</td>\n",
       "      <td>5</td>\n",
       "      <td>Rosie, Dakota, and I LOVE Chaparral Dog Park!!...</td>\n",
       "      <td>review</td>\n",
       "      <td>uZetl9T0NcROGOyFfughhg</td>\n",
       "      <td>1</td>\n",
       "      <td>2</td>\n",
       "      <td>0</td>\n",
       "    </tr>\n",
       "    <tr>\n",
       "      <th>4</th>\n",
       "      <td>6ozycU1RpktNG2-1BroVtw</td>\n",
       "      <td>2012-01-05</td>\n",
       "      <td>1uJFq2r5QfJG_6ExMRCaGw</td>\n",
       "      <td>5</td>\n",
       "      <td>General Manager Scott Petello is a good egg!!!...</td>\n",
       "      <td>review</td>\n",
       "      <td>vYmM4KTsC8ZfQBg-j5MWkw</td>\n",
       "      <td>0</td>\n",
       "      <td>0</td>\n",
       "      <td>0</td>\n",
       "    </tr>\n",
       "  </tbody>\n",
       "</table>\n",
       "</div>"
      ],
      "text/plain": [
       "              business_id        date               review_id  stars  \\\n",
       "0  9yKzy9PApeiPPOUJEtnvkg  2011-01-26  fWKvX83p0-ka4JS3dc6E5A      5   \n",
       "1  ZRJwVLyzEJq1VAihDhYiow  2011-07-27  IjZ33sJrzXqU-0X6U8NwyA      5   \n",
       "2  6oRAC4uyJCsJl1X0WZpVSA  2012-06-14  IESLBzqUCLdSzSqm0eCSxQ      4   \n",
       "3  _1QQZuf4zZOyFCvXc0o6Vg  2010-05-27  G-WvGaISbqqaMHlNnByodA      5   \n",
       "4  6ozycU1RpktNG2-1BroVtw  2012-01-05  1uJFq2r5QfJG_6ExMRCaGw      5   \n",
       "\n",
       "                                                text    type  \\\n",
       "0  My wife took me here on my birthday for breakf...  review   \n",
       "1  I have no idea why some people give bad review...  review   \n",
       "2  love the gyro plate. Rice is so good and I als...  review   \n",
       "3  Rosie, Dakota, and I LOVE Chaparral Dog Park!!...  review   \n",
       "4  General Manager Scott Petello is a good egg!!!...  review   \n",
       "\n",
       "                  user_id  cool  useful  funny  \n",
       "0  rLtl8ZkDX5vH5nAx9C3q5Q     2       5      0  \n",
       "1  0a2KyEL0d3Yb1V6aivbIuQ     0       0      0  \n",
       "2  0hT2KtfLiobPvh6cDC8JQg     0       1      0  \n",
       "3  uZetl9T0NcROGOyFfughhg     1       2      0  \n",
       "4  vYmM4KTsC8ZfQBg-j5MWkw     0       0      0  "
      ]
     },
     "execution_count": 4,
     "metadata": {},
     "output_type": "execute_result"
    }
   ],
   "source": [
    "yelp.head(5)"
   ]
  },
  {
   "cell_type": "code",
   "execution_count": 5,
   "metadata": {},
   "outputs": [],
   "source": [
    "yelp=yelp[['review_id', 'stars', 'text', 'cool', 'useful', 'funny']]"
   ]
  },
  {
   "cell_type": "code",
   "execution_count": 6,
   "metadata": {},
   "outputs": [
    {
     "data": {
      "text/html": [
       "<div>\n",
       "<style scoped>\n",
       "    .dataframe tbody tr th:only-of-type {\n",
       "        vertical-align: middle;\n",
       "    }\n",
       "\n",
       "    .dataframe tbody tr th {\n",
       "        vertical-align: top;\n",
       "    }\n",
       "\n",
       "    .dataframe thead th {\n",
       "        text-align: right;\n",
       "    }\n",
       "</style>\n",
       "<table border=\"1\" class=\"dataframe\">\n",
       "  <thead>\n",
       "    <tr style=\"text-align: right;\">\n",
       "      <th></th>\n",
       "      <th>review_id</th>\n",
       "      <th>stars</th>\n",
       "      <th>text</th>\n",
       "      <th>cool</th>\n",
       "      <th>useful</th>\n",
       "      <th>funny</th>\n",
       "    </tr>\n",
       "  </thead>\n",
       "  <tbody>\n",
       "    <tr>\n",
       "      <th>0</th>\n",
       "      <td>fWKvX83p0-ka4JS3dc6E5A</td>\n",
       "      <td>5</td>\n",
       "      <td>My wife took me here on my birthday for breakf...</td>\n",
       "      <td>2</td>\n",
       "      <td>5</td>\n",
       "      <td>0</td>\n",
       "    </tr>\n",
       "    <tr>\n",
       "      <th>1</th>\n",
       "      <td>IjZ33sJrzXqU-0X6U8NwyA</td>\n",
       "      <td>5</td>\n",
       "      <td>I have no idea why some people give bad review...</td>\n",
       "      <td>0</td>\n",
       "      <td>0</td>\n",
       "      <td>0</td>\n",
       "    </tr>\n",
       "    <tr>\n",
       "      <th>2</th>\n",
       "      <td>IESLBzqUCLdSzSqm0eCSxQ</td>\n",
       "      <td>4</td>\n",
       "      <td>love the gyro plate. Rice is so good and I als...</td>\n",
       "      <td>0</td>\n",
       "      <td>1</td>\n",
       "      <td>0</td>\n",
       "    </tr>\n",
       "    <tr>\n",
       "      <th>3</th>\n",
       "      <td>G-WvGaISbqqaMHlNnByodA</td>\n",
       "      <td>5</td>\n",
       "      <td>Rosie, Dakota, and I LOVE Chaparral Dog Park!!...</td>\n",
       "      <td>1</td>\n",
       "      <td>2</td>\n",
       "      <td>0</td>\n",
       "    </tr>\n",
       "    <tr>\n",
       "      <th>4</th>\n",
       "      <td>1uJFq2r5QfJG_6ExMRCaGw</td>\n",
       "      <td>5</td>\n",
       "      <td>General Manager Scott Petello is a good egg!!!...</td>\n",
       "      <td>0</td>\n",
       "      <td>0</td>\n",
       "      <td>0</td>\n",
       "    </tr>\n",
       "  </tbody>\n",
       "</table>\n",
       "</div>"
      ],
      "text/plain": [
       "                review_id  stars  \\\n",
       "0  fWKvX83p0-ka4JS3dc6E5A      5   \n",
       "1  IjZ33sJrzXqU-0X6U8NwyA      5   \n",
       "2  IESLBzqUCLdSzSqm0eCSxQ      4   \n",
       "3  G-WvGaISbqqaMHlNnByodA      5   \n",
       "4  1uJFq2r5QfJG_6ExMRCaGw      5   \n",
       "\n",
       "                                                text  cool  useful  funny  \n",
       "0  My wife took me here on my birthday for breakf...     2       5      0  \n",
       "1  I have no idea why some people give bad review...     0       0      0  \n",
       "2  love the gyro plate. Rice is so good and I als...     0       1      0  \n",
       "3  Rosie, Dakota, and I LOVE Chaparral Dog Park!!...     1       2      0  \n",
       "4  General Manager Scott Petello is a good egg!!!...     0       0      0  "
      ]
     },
     "execution_count": 6,
     "metadata": {},
     "output_type": "execute_result"
    }
   ],
   "source": [
    "yelp.head()"
   ]
  },
  {
   "cell_type": "code",
   "execution_count": 7,
   "metadata": {},
   "outputs": [],
   "source": [
    "df = yelp"
   ]
  },
  {
   "cell_type": "markdown",
   "metadata": {},
   "source": [
    "### Basic Exploratory Analysis"
   ]
  },
  {
   "cell_type": "markdown",
   "metadata": {},
   "source": [
    "#### Note: It may take some time to process the function if the data is huge"
   ]
  },
  {
   "cell_type": "code",
   "execution_count": 8,
   "metadata": {},
   "outputs": [],
   "source": [
    "import re"
   ]
  },
  {
   "cell_type": "code",
   "execution_count": 9,
   "metadata": {},
   "outputs": [],
   "source": [
    "df['text'] = df['text'].astype(str)\n",
    "df['count_sent']=df[\"text\"].apply(lambda x: len(re.findall(\"\\n\",str(x)))+1)\n",
    "\n",
    "#Word count in each comment:\n",
    "df['count_word']=df[\"text\"].apply(lambda x: len(str(x).split()))\n",
    "\n",
    "#Unique word count\n",
    "df['count_unique_word']=df[\"text\"].apply(lambda x: len(set(str(x).split())))\n",
    "\n",
    "#Letter count\n",
    "df['count_letters']=df[\"text\"].apply(lambda x: len(str(x)))\n",
    "\n",
    "#Word density\n",
    "\n",
    "df['word_density'] = df['count_letters'] / (df['count_word']+1)\n",
    "\n",
    "#punctuation count\n",
    "df[\"count_punctuations\"] =df[\"text\"].apply(lambda x: len([c for c in str(x) if c in string.punctuation]))\n",
    "\n",
    "#upper case words count\n",
    "df[\"count_words_upper\"] = df[\"text\"].apply(lambda x: len([w for w in str(x).split() if w.isupper()]))\n",
    "\n",
    "#upper case words count\n",
    "df[\"count_words_lower\"] = df[\"text\"].apply(lambda x: len([w for w in str(x).split() if w.islower()]))\n",
    "\n",
    "#title case words count\n",
    "df[\"count_words_title\"] = df[\"text\"].apply(lambda x: len([w for w in str(x).split() if w.istitle()]))\n",
    "\n",
    "#Number of stopwords\n",
    "df[\"count_stopwords\"] = df[\"text\"].apply(lambda x: len([w for w in str(x).lower().split() if w in eng_stopwords]))\n",
    "\n",
    "#Average length of the words\n",
    "df[\"mean_word_len\"] = df[\"text\"].apply(lambda x: np.mean([len(w) for w in str(x).split()]))\n",
    "\n",
    "#Number of numeric\n",
    "df['numeric'] = df['text'].apply(lambda x :len([x for x in x.split() if x.isdigit()]))\n",
    "\n",
    "#Number of alphanumeric\n",
    "df['alphanumeric'] = df['text'].apply(lambda x :len([x for x in x.split() if x.isalnum()]))\n",
    "\n",
    "#Number of alphabetics\n",
    "df['alphabetetics'] = df['text'].apply(lambda x :len([x for x in x.split() if x.isalpha()]))\n",
    "\n",
    "#Number of alphabetics\n",
    "df['Spaces'] = df['text'].apply(lambda x :len([x for x in x.split() if x.isspace()]))\n",
    "\n",
    "#Number of Words ends with\n",
    "df['words_ends_with_et'] = df['text'].apply(lambda x :len([x for x in x.lower().split() if x.endswith('et')]))\n",
    "\n",
    "#Number of Words ends with\n",
    "df['words_start_with_no'] = df['text'].apply(lambda x :len([x for x in x.lower().split() if x.startswith('no')]))\n",
    "\n",
    "# Count the occurences of all words\n",
    "df['wordcounts'] = df['text'].apply(lambda x :dict([ [t, x.split().count(t)] for t in set(x.split()) ]))\n",
    "\n",
    "pos_family = {\n",
    "    'noun' : ['NN','NNS','NNP','NNPS'],\n",
    "    'pron' : ['PRP','PRP$','WP','WP$'],\n",
    "    'verb' : ['VB','VBD','VBG','VBN','VBP','VBZ'],\n",
    "    'adj' :  ['JJ','JJR','JJS'],\n",
    "    'adv' : ['RB','RBR','RBS','WRB']\n",
    "}\n",
    "\n",
    "# function to check and get the part of speech tag count of a words in a given sentence\n",
    "def check_pos_tag(x, flag):\n",
    "    cnt = 0\n",
    "    try:\n",
    "        wiki = textblob.TextBlob(x)\n",
    "        for tup in wiki.tags:\n",
    "            ppo = list(tup)[1]\n",
    "            if ppo in pos_family[flag]:\n",
    "                cnt += 1\n",
    "    except:\n",
    "        pass\n",
    "    return cnt\n",
    "\n",
    "df['noun_count'] = df['text'].apply(lambda x: check_pos_tag(x, 'noun'))\n",
    "df['verb_count'] = df['text'].apply(lambda x: check_pos_tag(x, 'verb'))\n",
    "df['adj_count']  = df['text'].apply(lambda x: check_pos_tag(x, 'adj'))\n",
    "df['adv_count']  = df['text'].apply(lambda x: check_pos_tag(x, 'adv'))\n",
    "df['pron_count'] = df['text'].apply(lambda x: check_pos_tag(x, 'pron')) "
   ]
  },
  {
   "cell_type": "markdown",
   "metadata": {},
   "source": [
    "### Calculating Sentiment analysis using Textblob module"
   ]
  },
  {
   "cell_type": "code",
   "execution_count": 10,
   "metadata": {},
   "outputs": [],
   "source": [
    "df['sentiment'] = df[\"text\"].apply(lambda x: TextBlob(x).sentiment.polarity )"
   ]
  },
  {
   "cell_type": "code",
   "execution_count": 10,
   "metadata": {},
   "outputs": [
    {
     "data": {
      "text/html": [
       "<div>\n",
       "<style scoped>\n",
       "    .dataframe tbody tr th:only-of-type {\n",
       "        vertical-align: middle;\n",
       "    }\n",
       "\n",
       "    .dataframe tbody tr th {\n",
       "        vertical-align: top;\n",
       "    }\n",
       "\n",
       "    .dataframe thead th {\n",
       "        text-align: right;\n",
       "    }\n",
       "</style>\n",
       "<table border=\"1\" class=\"dataframe\">\n",
       "  <thead>\n",
       "    <tr style=\"text-align: right;\">\n",
       "      <th></th>\n",
       "      <th>review_id</th>\n",
       "      <th>stars</th>\n",
       "      <th>text</th>\n",
       "      <th>cool</th>\n",
       "      <th>useful</th>\n",
       "      <th>funny</th>\n",
       "      <th>count_sent</th>\n",
       "      <th>count_word</th>\n",
       "      <th>count_unique_word</th>\n",
       "      <th>count_letters</th>\n",
       "      <th>...</th>\n",
       "      <th>Spaces</th>\n",
       "      <th>words_ends_with_et</th>\n",
       "      <th>words_start_with_no</th>\n",
       "      <th>wordcounts</th>\n",
       "      <th>noun_count</th>\n",
       "      <th>verb_count</th>\n",
       "      <th>adj_count</th>\n",
       "      <th>adv_count</th>\n",
       "      <th>pron_count</th>\n",
       "      <th>sentiment</th>\n",
       "    </tr>\n",
       "  </thead>\n",
       "  <tbody>\n",
       "    <tr>\n",
       "      <th>0</th>\n",
       "      <td>fWKvX83p0-ka4JS3dc6E5A</td>\n",
       "      <td>5</td>\n",
       "      <td>My wife took me here on my birthday for breakf...</td>\n",
       "      <td>2</td>\n",
       "      <td>5</td>\n",
       "      <td>0</td>\n",
       "      <td>7</td>\n",
       "      <td>155</td>\n",
       "      <td>110</td>\n",
       "      <td>889</td>\n",
       "      <td>...</td>\n",
       "      <td>0</td>\n",
       "      <td>3</td>\n",
       "      <td>0</td>\n",
       "      <td>{'my': 1, 'only': 1, 'EVERYTHING': 1, 'absolut...</td>\n",
       "      <td>26</td>\n",
       "      <td>35</td>\n",
       "      <td>19</td>\n",
       "      <td>14</td>\n",
       "      <td>28</td>\n",
       "      <td>0.402469</td>\n",
       "    </tr>\n",
       "    <tr>\n",
       "      <th>1</th>\n",
       "      <td>IjZ33sJrzXqU-0X6U8NwyA</td>\n",
       "      <td>5</td>\n",
       "      <td>I have no idea why some people give bad review...</td>\n",
       "      <td>0</td>\n",
       "      <td>0</td>\n",
       "      <td>0</td>\n",
       "      <td>5</td>\n",
       "      <td>257</td>\n",
       "      <td>159</td>\n",
       "      <td>1345</td>\n",
       "      <td>...</td>\n",
       "      <td>0</td>\n",
       "      <td>1</td>\n",
       "      <td>2</td>\n",
       "      <td>{'my': 2, 'would': 1, 'very': 2, 'came': 1, 'w...</td>\n",
       "      <td>48</td>\n",
       "      <td>53</td>\n",
       "      <td>19</td>\n",
       "      <td>18</td>\n",
       "      <td>35</td>\n",
       "      <td>0.229773</td>\n",
       "    </tr>\n",
       "    <tr>\n",
       "      <th>2</th>\n",
       "      <td>IESLBzqUCLdSzSqm0eCSxQ</td>\n",
       "      <td>4</td>\n",
       "      <td>love the gyro plate. Rice is so good and I als...</td>\n",
       "      <td>0</td>\n",
       "      <td>1</td>\n",
       "      <td>0</td>\n",
       "      <td>1</td>\n",
       "      <td>16</td>\n",
       "      <td>16</td>\n",
       "      <td>76</td>\n",
       "      <td>...</td>\n",
       "      <td>0</td>\n",
       "      <td>0</td>\n",
       "      <td>0</td>\n",
       "      <td>{'so': 1, 'and': 1, 'selection': 1, 'gyro': 1,...</td>\n",
       "      <td>5</td>\n",
       "      <td>3</td>\n",
       "      <td>1</td>\n",
       "      <td>2</td>\n",
       "      <td>2</td>\n",
       "      <td>0.566667</td>\n",
       "    </tr>\n",
       "    <tr>\n",
       "      <th>3</th>\n",
       "      <td>G-WvGaISbqqaMHlNnByodA</td>\n",
       "      <td>5</td>\n",
       "      <td>Rosie, Dakota, and I LOVE Chaparral Dog Park!!...</td>\n",
       "      <td>1</td>\n",
       "      <td>2</td>\n",
       "      <td>0</td>\n",
       "      <td>5</td>\n",
       "      <td>76</td>\n",
       "      <td>61</td>\n",
       "      <td>419</td>\n",
       "      <td>...</td>\n",
       "      <td>0</td>\n",
       "      <td>1</td>\n",
       "      <td>0</td>\n",
       "      <td>{'sniff!': 1, 'and': 8, 'ducks.': 1, 'fields,'...</td>\n",
       "      <td>28</td>\n",
       "      <td>12</td>\n",
       "      <td>6</td>\n",
       "      <td>1</td>\n",
       "      <td>3</td>\n",
       "      <td>0.608646</td>\n",
       "    </tr>\n",
       "    <tr>\n",
       "      <th>4</th>\n",
       "      <td>1uJFq2r5QfJG_6ExMRCaGw</td>\n",
       "      <td>5</td>\n",
       "      <td>General Manager Scott Petello is a good egg!!!...</td>\n",
       "      <td>0</td>\n",
       "      <td>0</td>\n",
       "      <td>0</td>\n",
       "      <td>3</td>\n",
       "      <td>86</td>\n",
       "      <td>72</td>\n",
       "      <td>469</td>\n",
       "      <td>...</td>\n",
       "      <td>0</td>\n",
       "      <td>1</td>\n",
       "      <td>1</td>\n",
       "      <td>{'rare)': 1, 'and': 3, 'for': 1, 'Manager': 1,...</td>\n",
       "      <td>21</td>\n",
       "      <td>19</td>\n",
       "      <td>5</td>\n",
       "      <td>6</td>\n",
       "      <td>14</td>\n",
       "      <td>0.468125</td>\n",
       "    </tr>\n",
       "  </tbody>\n",
       "</table>\n",
       "<p>5 rows × 30 columns</p>\n",
       "</div>"
      ],
      "text/plain": [
       "                review_id  stars  \\\n",
       "0  fWKvX83p0-ka4JS3dc6E5A      5   \n",
       "1  IjZ33sJrzXqU-0X6U8NwyA      5   \n",
       "2  IESLBzqUCLdSzSqm0eCSxQ      4   \n",
       "3  G-WvGaISbqqaMHlNnByodA      5   \n",
       "4  1uJFq2r5QfJG_6ExMRCaGw      5   \n",
       "\n",
       "                                                text  cool  useful  funny  \\\n",
       "0  My wife took me here on my birthday for breakf...     2       5      0   \n",
       "1  I have no idea why some people give bad review...     0       0      0   \n",
       "2  love the gyro plate. Rice is so good and I als...     0       1      0   \n",
       "3  Rosie, Dakota, and I LOVE Chaparral Dog Park!!...     1       2      0   \n",
       "4  General Manager Scott Petello is a good egg!!!...     0       0      0   \n",
       "\n",
       "   count_sent  count_word  count_unique_word  count_letters    ...      \\\n",
       "0           7         155                110            889    ...       \n",
       "1           5         257                159           1345    ...       \n",
       "2           1          16                 16             76    ...       \n",
       "3           5          76                 61            419    ...       \n",
       "4           3          86                 72            469    ...       \n",
       "\n",
       "   Spaces  words_ends_with_et  words_start_with_no  \\\n",
       "0       0                   3                    0   \n",
       "1       0                   1                    2   \n",
       "2       0                   0                    0   \n",
       "3       0                   1                    0   \n",
       "4       0                   1                    1   \n",
       "\n",
       "                                          wordcounts  noun_count  verb_count  \\\n",
       "0  {'my': 1, 'only': 1, 'EVERYTHING': 1, 'absolut...          26          35   \n",
       "1  {'my': 2, 'would': 1, 'very': 2, 'came': 1, 'w...          48          53   \n",
       "2  {'so': 1, 'and': 1, 'selection': 1, 'gyro': 1,...           5           3   \n",
       "3  {'sniff!': 1, 'and': 8, 'ducks.': 1, 'fields,'...          28          12   \n",
       "4  {'rare)': 1, 'and': 3, 'for': 1, 'Manager': 1,...          21          19   \n",
       "\n",
       "   adj_count  adv_count  pron_count  sentiment  \n",
       "0         19         14          28   0.402469  \n",
       "1         19         18          35   0.229773  \n",
       "2          1          2           2   0.566667  \n",
       "3          6          1           3   0.608646  \n",
       "4          5          6          14   0.468125  \n",
       "\n",
       "[5 rows x 30 columns]"
      ]
     },
     "execution_count": 10,
     "metadata": {},
     "output_type": "execute_result"
    }
   ],
   "source": [
    "df.head()"
   ]
  },
  {
   "cell_type": "code",
   "execution_count": 15,
   "metadata": {},
   "outputs": [
    {
     "data": {
      "text/plain": [
       "4    3526\n",
       "5    3337\n",
       "3    1461\n",
       "2     927\n",
       "1     749\n",
       "Name: stars, dtype: int64"
      ]
     },
     "execution_count": 15,
     "metadata": {},
     "output_type": "execute_result"
    }
   ],
   "source": [
    "yelp.stars.value_counts()"
   ]
  },
  {
   "cell_type": "markdown",
   "metadata": {},
   "source": [
    "### Split the data into train & Test"
   ]
  },
  {
   "cell_type": "code",
   "execution_count": 16,
   "metadata": {},
   "outputs": [
    {
     "name": "stdout",
     "output_type": "stream",
     "text": [
      "(7500,)\n",
      "(2500,)\n",
      "(7500,)\n",
      "(2500,)\n"
     ]
    }
   ],
   "source": [
    "# create a new DataFrame that only contains the 5-star and 1-star reviews\n",
    "#yelp_best_worst = yelp[(yelp.stars==5) | (yelp.stars==1)]\n",
    "\n",
    "# define X and y\n",
    "X = yelp.text\n",
    "y = yelp.stars\n",
    "\n",
    "# split the new DataFrame into training and testing sets\n",
    "X_train, X_test, y_train, y_test = train_test_split(X, y, random_state=1)\n",
    "print(X_train.shape)\n",
    "print(X_test.shape)\n",
    "print(y_train.shape)\n",
    "print(y_test.shape)"
   ]
  },
  {
   "cell_type": "code",
   "execution_count": 17,
   "metadata": {},
   "outputs": [
    {
     "data": {
      "text/plain": [
       "(10000, 30)"
      ]
     },
     "execution_count": 17,
     "metadata": {},
     "output_type": "execute_result"
    }
   ],
   "source": [
    "yelp.shape"
   ]
  },
  {
   "cell_type": "code",
   "execution_count": 18,
   "metadata": {},
   "outputs": [
    {
     "data": {
      "text/html": [
       "<div>\n",
       "<style scoped>\n",
       "    .dataframe tbody tr th:only-of-type {\n",
       "        vertical-align: middle;\n",
       "    }\n",
       "\n",
       "    .dataframe tbody tr th {\n",
       "        vertical-align: top;\n",
       "    }\n",
       "\n",
       "    .dataframe thead th {\n",
       "        text-align: right;\n",
       "    }\n",
       "</style>\n",
       "<table border=\"1\" class=\"dataframe\">\n",
       "  <thead>\n",
       "    <tr style=\"text-align: right;\">\n",
       "      <th></th>\n",
       "      <th>review_id</th>\n",
       "      <th>stars</th>\n",
       "      <th>text</th>\n",
       "      <th>cool</th>\n",
       "      <th>useful</th>\n",
       "      <th>funny</th>\n",
       "      <th>count_sent</th>\n",
       "      <th>count_word</th>\n",
       "      <th>count_unique_word</th>\n",
       "      <th>count_letters</th>\n",
       "      <th>...</th>\n",
       "      <th>Spaces</th>\n",
       "      <th>words_ends_with_et</th>\n",
       "      <th>words_start_with_no</th>\n",
       "      <th>wordcounts</th>\n",
       "      <th>noun_count</th>\n",
       "      <th>verb_count</th>\n",
       "      <th>adj_count</th>\n",
       "      <th>adv_count</th>\n",
       "      <th>pron_count</th>\n",
       "      <th>sentiment</th>\n",
       "    </tr>\n",
       "  </thead>\n",
       "  <tbody>\n",
       "    <tr>\n",
       "      <th>0</th>\n",
       "      <td>fWKvX83p0-ka4JS3dc6E5A</td>\n",
       "      <td>5</td>\n",
       "      <td>My wife took me here on my birthday for breakf...</td>\n",
       "      <td>2</td>\n",
       "      <td>5</td>\n",
       "      <td>0</td>\n",
       "      <td>7</td>\n",
       "      <td>155</td>\n",
       "      <td>110</td>\n",
       "      <td>889</td>\n",
       "      <td>...</td>\n",
       "      <td>0</td>\n",
       "      <td>3</td>\n",
       "      <td>0</td>\n",
       "      <td>{'my': 1, 'only': 1, 'EVERYTHING': 1, 'absolut...</td>\n",
       "      <td>26</td>\n",
       "      <td>35</td>\n",
       "      <td>19</td>\n",
       "      <td>14</td>\n",
       "      <td>28</td>\n",
       "      <td>0.402469</td>\n",
       "    </tr>\n",
       "    <tr>\n",
       "      <th>1</th>\n",
       "      <td>IjZ33sJrzXqU-0X6U8NwyA</td>\n",
       "      <td>5</td>\n",
       "      <td>I have no idea why some people give bad review...</td>\n",
       "      <td>0</td>\n",
       "      <td>0</td>\n",
       "      <td>0</td>\n",
       "      <td>5</td>\n",
       "      <td>257</td>\n",
       "      <td>159</td>\n",
       "      <td>1345</td>\n",
       "      <td>...</td>\n",
       "      <td>0</td>\n",
       "      <td>1</td>\n",
       "      <td>2</td>\n",
       "      <td>{'my': 2, 'would': 1, 'very': 2, 'came': 1, 'w...</td>\n",
       "      <td>48</td>\n",
       "      <td>53</td>\n",
       "      <td>19</td>\n",
       "      <td>18</td>\n",
       "      <td>35</td>\n",
       "      <td>0.229773</td>\n",
       "    </tr>\n",
       "    <tr>\n",
       "      <th>2</th>\n",
       "      <td>IESLBzqUCLdSzSqm0eCSxQ</td>\n",
       "      <td>4</td>\n",
       "      <td>love the gyro plate. Rice is so good and I als...</td>\n",
       "      <td>0</td>\n",
       "      <td>1</td>\n",
       "      <td>0</td>\n",
       "      <td>1</td>\n",
       "      <td>16</td>\n",
       "      <td>16</td>\n",
       "      <td>76</td>\n",
       "      <td>...</td>\n",
       "      <td>0</td>\n",
       "      <td>0</td>\n",
       "      <td>0</td>\n",
       "      <td>{'so': 1, 'and': 1, 'selection': 1, 'gyro': 1,...</td>\n",
       "      <td>5</td>\n",
       "      <td>3</td>\n",
       "      <td>1</td>\n",
       "      <td>2</td>\n",
       "      <td>2</td>\n",
       "      <td>0.566667</td>\n",
       "    </tr>\n",
       "    <tr>\n",
       "      <th>3</th>\n",
       "      <td>G-WvGaISbqqaMHlNnByodA</td>\n",
       "      <td>5</td>\n",
       "      <td>Rosie, Dakota, and I LOVE Chaparral Dog Park!!...</td>\n",
       "      <td>1</td>\n",
       "      <td>2</td>\n",
       "      <td>0</td>\n",
       "      <td>5</td>\n",
       "      <td>76</td>\n",
       "      <td>61</td>\n",
       "      <td>419</td>\n",
       "      <td>...</td>\n",
       "      <td>0</td>\n",
       "      <td>1</td>\n",
       "      <td>0</td>\n",
       "      <td>{'sniff!': 1, 'and': 8, 'ducks.': 1, 'fields,'...</td>\n",
       "      <td>28</td>\n",
       "      <td>12</td>\n",
       "      <td>6</td>\n",
       "      <td>1</td>\n",
       "      <td>3</td>\n",
       "      <td>0.608646</td>\n",
       "    </tr>\n",
       "    <tr>\n",
       "      <th>4</th>\n",
       "      <td>1uJFq2r5QfJG_6ExMRCaGw</td>\n",
       "      <td>5</td>\n",
       "      <td>General Manager Scott Petello is a good egg!!!...</td>\n",
       "      <td>0</td>\n",
       "      <td>0</td>\n",
       "      <td>0</td>\n",
       "      <td>3</td>\n",
       "      <td>86</td>\n",
       "      <td>72</td>\n",
       "      <td>469</td>\n",
       "      <td>...</td>\n",
       "      <td>0</td>\n",
       "      <td>1</td>\n",
       "      <td>1</td>\n",
       "      <td>{'rare)': 1, 'and': 3, 'for': 1, 'Manager': 1,...</td>\n",
       "      <td>21</td>\n",
       "      <td>19</td>\n",
       "      <td>5</td>\n",
       "      <td>6</td>\n",
       "      <td>14</td>\n",
       "      <td>0.468125</td>\n",
       "    </tr>\n",
       "  </tbody>\n",
       "</table>\n",
       "<p>5 rows × 30 columns</p>\n",
       "</div>"
      ],
      "text/plain": [
       "                review_id  stars  \\\n",
       "0  fWKvX83p0-ka4JS3dc6E5A      5   \n",
       "1  IjZ33sJrzXqU-0X6U8NwyA      5   \n",
       "2  IESLBzqUCLdSzSqm0eCSxQ      4   \n",
       "3  G-WvGaISbqqaMHlNnByodA      5   \n",
       "4  1uJFq2r5QfJG_6ExMRCaGw      5   \n",
       "\n",
       "                                                text  cool  useful  funny  \\\n",
       "0  My wife took me here on my birthday for breakf...     2       5      0   \n",
       "1  I have no idea why some people give bad review...     0       0      0   \n",
       "2  love the gyro plate. Rice is so good and I als...     0       1      0   \n",
       "3  Rosie, Dakota, and I LOVE Chaparral Dog Park!!...     1       2      0   \n",
       "4  General Manager Scott Petello is a good egg!!!...     0       0      0   \n",
       "\n",
       "   count_sent  count_word  count_unique_word  count_letters    ...      \\\n",
       "0           7         155                110            889    ...       \n",
       "1           5         257                159           1345    ...       \n",
       "2           1          16                 16             76    ...       \n",
       "3           5          76                 61            419    ...       \n",
       "4           3          86                 72            469    ...       \n",
       "\n",
       "   Spaces  words_ends_with_et  words_start_with_no  \\\n",
       "0       0                   3                    0   \n",
       "1       0                   1                    2   \n",
       "2       0                   0                    0   \n",
       "3       0                   1                    0   \n",
       "4       0                   1                    1   \n",
       "\n",
       "                                          wordcounts  noun_count  verb_count  \\\n",
       "0  {'my': 1, 'only': 1, 'EVERYTHING': 1, 'absolut...          26          35   \n",
       "1  {'my': 2, 'would': 1, 'very': 2, 'came': 1, 'w...          48          53   \n",
       "2  {'so': 1, 'and': 1, 'selection': 1, 'gyro': 1,...           5           3   \n",
       "3  {'sniff!': 1, 'and': 8, 'ducks.': 1, 'fields,'...          28          12   \n",
       "4  {'rare)': 1, 'and': 3, 'for': 1, 'Manager': 1,...          21          19   \n",
       "\n",
       "   adj_count  adv_count  pron_count  sentiment  \n",
       "0         19         14          28   0.402469  \n",
       "1         19         18          35   0.229773  \n",
       "2          1          2           2   0.566667  \n",
       "3          6          1           3   0.608646  \n",
       "4          5          6          14   0.468125  \n",
       "\n",
       "[5 rows x 30 columns]"
      ]
     },
     "execution_count": 18,
     "metadata": {},
     "output_type": "execute_result"
    }
   ],
   "source": [
    "yelp.head()"
   ]
  },
  {
   "cell_type": "markdown",
   "metadata": {},
   "source": [
    "### Creating user defined functions for clean the text and pre-process the data"
   ]
  },
  {
   "cell_type": "code",
   "execution_count": 20,
   "metadata": {},
   "outputs": [],
   "source": [
    "#Abbrevations and Words correction\n",
    "def clean_text(text):\n",
    "    text = text.lower()\n",
    "    text = text.strip()\n",
    "    text = re.sub(r' +', ' ', text)\n",
    "    text = re.sub(r\"[-()\\\"#/@;:{}`+=~|.!?,'0-9]\", \"\", text)\n",
    "    return(text)"
   ]
  },
  {
   "cell_type": "code",
   "execution_count": 21,
   "metadata": {},
   "outputs": [],
   "source": [
    "stop = set(nltk.corpus.stopwords.words('english'))"
   ]
  },
  {
   "cell_type": "code",
   "execution_count": null,
   "metadata": {},
   "outputs": [],
   "source": [
    "import string\n",
    "def pre_process(text):\n",
    "    #text = text.str.replace('/','')                           #Replacing the / with none\n",
    "    #text = text.apply(lambda x: re.sub(\"  \",\" \", x))          #Replacing double space with single space\n",
    "    #text = re.sub(r\"[-()\\\"#/@;:{}`+=~|.!?,']\", \"\", text)      #Replacing special character with none\n",
    "    #text = re.sub(r'[0-9]+', '', text)                        #Replacing numbers with none\n",
    "    #text = text.apply(lambda x: \" \".join(x.translate(str.maketrans('', '', string.punctuation)) for x in x.split() if x.isalpha()))\n",
    "    text = text.apply(lambda x: \" \".join(x for x in x.split() if x not in stop)) #Removing stop words\n",
    "    #text = text.apply(lambda x: str(TextBlob(x).correct()))                      #Correct spelling corrections\n",
    "    #text = text.apply(lambda x: \" \".join(PorterStemmer().stem(word) for word in x.split())) #Stemming using porter stemmer\n",
    "    #text = text.apply(lambda x: \" \".join(stemmer_func(word) for word in x.split()))        #Stemming\n",
    "    #text = text.apply(lambda x: \" \".join([Word(word).lemmatize() for word in x.split()]))   #lemmatization\n",
    "    #text = text.apply(lambda x: \" \".join(word for word, pos in pos_tag(x.split()) if pos not in ['NN','NNS','NNP','NNPS'])) #Removing nouns etc\n",
    "    return(text)"
   ]
  },
  {
   "cell_type": "markdown",
   "metadata": {},
   "source": [
    "### Test the functions on the sample data"
   ]
  },
  {
   "cell_type": "code",
   "execution_count": 23,
   "metadata": {},
   "outputs": [],
   "source": [
    "s = 'Analytixlabs is from bagnalore, it has offices in Gurgoan, KL. It is staarted in 4Years back'"
   ]
  },
  {
   "cell_type": "code",
   "execution_count": 24,
   "metadata": {},
   "outputs": [
    {
     "data": {
      "text/plain": [
       "'analytixlabs is from bagnalore it has offices in gurgoan kl it is staarted in years back'"
      ]
     },
     "execution_count": 24,
     "metadata": {},
     "output_type": "execute_result"
    }
   ],
   "source": [
    "clean_text(s)"
   ]
  },
  {
   "cell_type": "code",
   "execution_count": 25,
   "metadata": {},
   "outputs": [
    {
     "name": "stdout",
     "output_type": "stream",
     "text": [
      "{'my', 'only', 'each', 'very', \"couldn't\", \"aren't\", 'ain', \"it's\", \"doesn't\", 'myself', 'on', \"haven't\", 'because', 'again', 'were', 'some', 'nor', 'has', \"should've\", 'we', 'she', 'by', 'mightn', 'they', 'as', 'them', 'with', 'where', 'both', 'such', 'own', \"weren't\", 'that', 'won', 'of', 'isn', \"isn't\", 'off', 'between', 'their', \"wasn't\", 'the', 'having', 'above', 'wasn', 'wouldn', 'other', \"mustn't\", 'about', 'shouldn', 'needn', 'if', \"needn't\", 'into', 'couldn', 's', 'did', 'theirs', 'any', 'are', 'being', 'against', \"shan't\", 'not', 've', 'through', 'itself', 'an', 'below', 'when', 'whom', 'there', 'in', 'i', 'up', 'it', 'those', 'll', 't', 'didn', 'mustn', 'its', 'why', 'me', 'aren', 'ma', 'hers', 'will', 'or', 'yours', 'at', \"you're\", 'how', 'and', 'for', 'than', 'under', 'her', \"you'd\", 'yourselves', 'been', 'shan', 'can', 'o', 'his', 'm', 'most', 'him', 'just', 'be', 'to', 'during', 'few', 'have', \"won't\", 'further', 'you', 'don', 'too', 'same', 'out', 'yourself', 'here', 'then', 'from', 'before', 'himself', 'doesn', 'ours', 'a', 'herself', 'what', 'd', 'after', 'ourselves', 'so', \"that'll\", 'weren', 'which', 'does', 'themselves', \"shouldn't\", 're', 'no', 'down', 'once', \"you'll\", 'was', 'doing', 'more', 'haven', 'who', \"don't\", 'do', \"hadn't\", 'until', 'is', 'had', 'now', 'should', \"she's\", 'hadn', \"mightn't\", \"wouldn't\", 'your', 'but', 'he', 'while', 'these', 'all', 'our', 'am', 'over', 'this', \"didn't\", 'y', \"you've\", \"hasn't\", 'hasn'}\n"
     ]
    }
   ],
   "source": [
    "print(stop)"
   ]
  },
  {
   "cell_type": "code",
   "execution_count": 26,
   "metadata": {},
   "outputs": [],
   "source": [
    "stemmer_func = nltk.stem.snowball.SnowballStemmer(\"english\").stem"
   ]
  },
  {
   "cell_type": "code",
   "execution_count": 27,
   "metadata": {},
   "outputs": [],
   "source": [
    "s= 'Analytics is really doing good'"
   ]
  },
  {
   "cell_type": "code",
   "execution_count": 28,
   "metadata": {},
   "outputs": [
    {
     "data": {
      "text/plain": [
       "'realli'"
      ]
     },
     "execution_count": 28,
     "metadata": {},
     "output_type": "execute_result"
    }
   ],
   "source": [
    "stemmer_func('really')"
   ]
  },
  {
   "cell_type": "code",
   "execution_count": 29,
   "metadata": {},
   "outputs": [
    {
     "data": {
      "text/plain": [
       "['Analytics', 'is', 'really', 'doing', 'good']"
      ]
     },
     "execution_count": 29,
     "metadata": {},
     "output_type": "execute_result"
    }
   ],
   "source": [
    "s.split()"
   ]
  },
  {
   "cell_type": "markdown",
   "metadata": {
    "collapsed": true
   },
   "source": [
    "### Applying these functions on the yelp data (both training & Testing)"
   ]
  },
  {
   "cell_type": "code",
   "execution_count": 30,
   "metadata": {},
   "outputs": [],
   "source": [
    "X_train = X_train.apply(lambda x: clean_text(x))\n",
    "X_test = X_test.apply(lambda x: clean_text(x))"
   ]
  },
  {
   "cell_type": "code",
   "execution_count": 31,
   "metadata": {},
   "outputs": [],
   "source": [
    "X_train=pre_process(X_train)\n",
    "X_test=pre_process(X_test)"
   ]
  },
  {
   "cell_type": "markdown",
   "metadata": {
    "collapsed": true
   },
   "source": [
    "### Vectorization (Count, Tfidf, Hashing)\n",
    "        - Charter level\n",
    "        - Word level\n",
    "        - n-grams"
   ]
  },
  {
   "cell_type": "code",
   "execution_count": 32,
   "metadata": {},
   "outputs": [],
   "source": [
    "CountVectorizer?"
   ]
  },
  {
   "cell_type": "code",
   "execution_count": 33,
   "metadata": {},
   "outputs": [],
   "source": [
    "TfidfVectorizer?"
   ]
  },
  {
   "cell_type": "code",
   "execution_count": 34,
   "metadata": {},
   "outputs": [],
   "source": [
    "HashingVectorizer?"
   ]
  },
  {
   "cell_type": "code",
   "execution_count": 35,
   "metadata": {},
   "outputs": [],
   "source": [
    "#Train\n",
    "count_vect = CountVectorizer(analyzer='word', token_pattern=r'\\w{1,}', \n",
    "                             ngram_range=(1, 1 ), \n",
    "                             min_df=5, \n",
    "                             encoding='latin-1' ,\n",
    "                             max_features=800)\n",
    "xtrain_count = count_vect.fit_transform(X_train)\n"
   ]
  },
  {
   "cell_type": "markdown",
   "metadata": {},
   "source": [
    "### View the document term metrics"
   ]
  },
  {
   "cell_type": "code",
   "execution_count": 43,
   "metadata": {},
   "outputs": [],
   "source": [
    "dtm=xtrain_count.toarray()"
   ]
  },
  {
   "cell_type": "code",
   "execution_count": 44,
   "metadata": {},
   "outputs": [
    {
     "data": {
      "text/plain": [
       "array([[0, 0, 0, ..., 0, 0, 0],\n",
       "       [0, 0, 0, ..., 0, 0, 0],\n",
       "       [0, 2, 0, ..., 0, 0, 0],\n",
       "       ...,\n",
       "       [0, 0, 0, ..., 0, 0, 0],\n",
       "       [0, 0, 0, ..., 0, 0, 0],\n",
       "       [0, 0, 0, ..., 0, 0, 0]], dtype=int64)"
      ]
     },
     "execution_count": 44,
     "metadata": {},
     "output_type": "execute_result"
    }
   ],
   "source": [
    "dtm"
   ]
  },
  {
   "cell_type": "code",
   "execution_count": 45,
   "metadata": {},
   "outputs": [
    {
     "data": {
      "text/plain": [
       "['able',\n",
       " 'absolutely',\n",
       " 'across',\n",
       " 'actually',\n",
       " 'add',\n",
       " 'added',\n",
       " 'afternoon',\n",
       " 'ago',\n",
       " 'almost',\n",
       " 'along',\n",
       " 'already',\n",
       " 'also',\n",
       " 'although',\n",
       " 'always',\n",
       " 'amazing',\n",
       " 'ambiance',\n",
       " 'amount',\n",
       " 'another',\n",
       " 'anyone',\n",
       " 'anything',\n",
       " 'anyway',\n",
       " 'anywhere',\n",
       " 'appetizer',\n",
       " 'appetizers',\n",
       " 'area',\n",
       " 'arent',\n",
       " 'arizona',\n",
       " 'around',\n",
       " 'arrived',\n",
       " 'art',\n",
       " 'asian',\n",
       " 'ask',\n",
       " 'asked',\n",
       " 'ate',\n",
       " 'atmosphere',\n",
       " 'attention',\n",
       " 'attentive',\n",
       " 'authentic',\n",
       " 'available',\n",
       " 'average',\n",
       " 'away',\n",
       " 'awesome',\n",
       " 'az',\n",
       " 'back',\n",
       " 'bacon',\n",
       " 'bad',\n",
       " 'bag',\n",
       " 'bar',\n",
       " 'bartender',\n",
       " 'based',\n",
       " 'bbq',\n",
       " 'beans',\n",
       " 'beat',\n",
       " 'beautiful',\n",
       " 'beef',\n",
       " 'beer',\n",
       " 'beers',\n",
       " 'behind',\n",
       " 'believe',\n",
       " 'best',\n",
       " 'better',\n",
       " 'big',\n",
       " 'bill',\n",
       " 'birthday',\n",
       " 'bit',\n",
       " 'bite',\n",
       " 'black',\n",
       " 'bland',\n",
       " 'blue',\n",
       " 'bottle',\n",
       " 'bought',\n",
       " 'bowl',\n",
       " 'box',\n",
       " 'bread',\n",
       " 'breakfast',\n",
       " 'bring',\n",
       " 'brought',\n",
       " 'bucks',\n",
       " 'buffet',\n",
       " 'burger',\n",
       " 'burgers',\n",
       " 'burrito',\n",
       " 'business',\n",
       " 'busy',\n",
       " 'butter',\n",
       " 'buy',\n",
       " 'cafe',\n",
       " 'cake',\n",
       " 'call',\n",
       " 'called',\n",
       " 'came',\n",
       " 'cannot',\n",
       " 'cant',\n",
       " 'car',\n",
       " 'card',\n",
       " 'care',\n",
       " 'case',\n",
       " 'casual',\n",
       " 'center',\n",
       " 'chain',\n",
       " 'chance',\n",
       " 'change',\n",
       " 'charge',\n",
       " 'cheap',\n",
       " 'check',\n",
       " 'cheese',\n",
       " 'chef',\n",
       " 'chicken',\n",
       " 'chili',\n",
       " 'chinese',\n",
       " 'chips',\n",
       " 'chocolate',\n",
       " 'choice',\n",
       " 'choices',\n",
       " 'choose',\n",
       " 'city',\n",
       " 'clean',\n",
       " 'close',\n",
       " 'closed',\n",
       " 'club',\n",
       " 'coffee',\n",
       " 'cold',\n",
       " 'come',\n",
       " 'comes',\n",
       " 'comfortable',\n",
       " 'coming',\n",
       " 'company',\n",
       " 'completely',\n",
       " 'cook',\n",
       " 'cooked',\n",
       " 'cool',\n",
       " 'corn',\n",
       " 'cost',\n",
       " 'could',\n",
       " 'couldnt',\n",
       " 'counter',\n",
       " 'couple',\n",
       " 'course',\n",
       " 'crab',\n",
       " 'craving',\n",
       " 'crazy',\n",
       " 'cream',\n",
       " 'crispy',\n",
       " 'crowd',\n",
       " 'crowded',\n",
       " 'crust',\n",
       " 'cup',\n",
       " 'curry',\n",
       " 'customer',\n",
       " 'customers',\n",
       " 'cut',\n",
       " 'cute',\n",
       " 'dark',\n",
       " 'date',\n",
       " 'day',\n",
       " 'days',\n",
       " 'deal',\n",
       " 'decent',\n",
       " 'decided',\n",
       " 'decor',\n",
       " 'definitely',\n",
       " 'delicious',\n",
       " 'desert',\n",
       " 'dessert',\n",
       " 'didnt',\n",
       " 'different',\n",
       " 'dining',\n",
       " 'dinner',\n",
       " 'dip',\n",
       " 'dirty',\n",
       " 'disappointed',\n",
       " 'dish',\n",
       " 'dishes',\n",
       " 'doesnt',\n",
       " 'dog',\n",
       " 'dogs',\n",
       " 'done',\n",
       " 'dont',\n",
       " 'door',\n",
       " 'downtown',\n",
       " 'dr',\n",
       " 'dressing',\n",
       " 'drink',\n",
       " 'drinks',\n",
       " 'drive',\n",
       " 'dry',\n",
       " 'early',\n",
       " 'easily',\n",
       " 'easy',\n",
       " 'eat',\n",
       " 'eaten',\n",
       " 'eating',\n",
       " 'egg',\n",
       " 'eggs',\n",
       " 'either',\n",
       " 'else',\n",
       " 'employees',\n",
       " 'empty',\n",
       " 'end',\n",
       " 'ended',\n",
       " 'enjoy',\n",
       " 'enjoyed',\n",
       " 'enough',\n",
       " 'entire',\n",
       " 'entree',\n",
       " 'entrees',\n",
       " 'especially',\n",
       " 'etc',\n",
       " 'even',\n",
       " 'evening',\n",
       " 'event',\n",
       " 'ever',\n",
       " 'every',\n",
       " 'everyone',\n",
       " 'everything',\n",
       " 'exactly',\n",
       " 'excellent',\n",
       " 'except',\n",
       " 'excited',\n",
       " 'expect',\n",
       " 'expected',\n",
       " 'expensive',\n",
       " 'experience',\n",
       " 'extra',\n",
       " 'extremely',\n",
       " 'fabulous',\n",
       " 'face',\n",
       " 'fact',\n",
       " 'fair',\n",
       " 'fairly',\n",
       " 'family',\n",
       " 'fan',\n",
       " 'fantastic',\n",
       " 'far',\n",
       " 'fast',\n",
       " 'favorite',\n",
       " 'feel',\n",
       " 'feeling',\n",
       " 'felt',\n",
       " 'filled',\n",
       " 'filling',\n",
       " 'finally',\n",
       " 'find',\n",
       " 'fine',\n",
       " 'finish',\n",
       " 'first',\n",
       " 'fish',\n",
       " 'five',\n",
       " 'flavor',\n",
       " 'flavorful',\n",
       " 'flavors',\n",
       " 'food',\n",
       " 'foods',\n",
       " 'forward',\n",
       " 'found',\n",
       " 'four',\n",
       " 'free',\n",
       " 'french',\n",
       " 'fresh',\n",
       " 'friday',\n",
       " 'fried',\n",
       " 'friend',\n",
       " 'friendly',\n",
       " 'friends',\n",
       " 'fries',\n",
       " 'front',\n",
       " 'frozen',\n",
       " 'fruit',\n",
       " 'full',\n",
       " 'fun',\n",
       " 'game',\n",
       " 'garlic',\n",
       " 'gave',\n",
       " 'get',\n",
       " 'gets',\n",
       " 'getting',\n",
       " 'girl',\n",
       " 'girls',\n",
       " 'give',\n",
       " 'given',\n",
       " 'giving',\n",
       " 'glad',\n",
       " 'glass',\n",
       " 'go',\n",
       " 'goes',\n",
       " 'going',\n",
       " 'gone',\n",
       " 'good',\n",
       " 'got',\n",
       " 'grab',\n",
       " 'greasy',\n",
       " 'great',\n",
       " 'green',\n",
       " 'grill',\n",
       " 'grilled',\n",
       " 'group',\n",
       " 'guess',\n",
       " 'guy',\n",
       " 'guys',\n",
       " 'hair',\n",
       " 'half',\n",
       " 'hand',\n",
       " 'hands',\n",
       " 'hang',\n",
       " 'happy',\n",
       " 'hard',\n",
       " 'hate',\n",
       " 'havent',\n",
       " 'head',\n",
       " 'healthy',\n",
       " 'heard',\n",
       " 'help',\n",
       " 'helpful',\n",
       " 'high',\n",
       " 'highly',\n",
       " 'hit',\n",
       " 'home',\n",
       " 'homemade',\n",
       " 'hope',\n",
       " 'horrible',\n",
       " 'hot',\n",
       " 'hotel',\n",
       " 'hour',\n",
       " 'hours',\n",
       " 'house',\n",
       " 'however',\n",
       " 'huge',\n",
       " 'hungry',\n",
       " 'husband',\n",
       " 'ice',\n",
       " 'iced',\n",
       " 'id',\n",
       " 'idea',\n",
       " 'ill',\n",
       " 'im',\n",
       " 'immediately',\n",
       " 'impressed',\n",
       " 'including',\n",
       " 'ingredients',\n",
       " 'inside',\n",
       " 'instead',\n",
       " 'interesting',\n",
       " 'isnt',\n",
       " 'italian',\n",
       " 'item',\n",
       " 'items',\n",
       " 'ive',\n",
       " 'job',\n",
       " 'joint',\n",
       " 'keep',\n",
       " 'kept',\n",
       " 'kids',\n",
       " 'kind',\n",
       " 'kinda',\n",
       " 'kitchen',\n",
       " 'knew',\n",
       " 'know',\n",
       " 'la',\n",
       " 'lady',\n",
       " 'large',\n",
       " 'last',\n",
       " 'late',\n",
       " 'later',\n",
       " 'least',\n",
       " 'leave',\n",
       " 'left',\n",
       " 'less',\n",
       " 'let',\n",
       " 'lets',\n",
       " 'lettuce',\n",
       " 'life',\n",
       " 'light',\n",
       " 'like',\n",
       " 'liked',\n",
       " 'line',\n",
       " 'list',\n",
       " 'literally',\n",
       " 'little',\n",
       " 'live',\n",
       " 'local',\n",
       " 'located',\n",
       " 'location',\n",
       " 'long',\n",
       " 'longer',\n",
       " 'look',\n",
       " 'looked',\n",
       " 'looking',\n",
       " 'looks',\n",
       " 'lot',\n",
       " 'lots',\n",
       " 'loud',\n",
       " 'love',\n",
       " 'loved',\n",
       " 'low',\n",
       " 'lunch',\n",
       " 'mac',\n",
       " 'made',\n",
       " 'main',\n",
       " 'make',\n",
       " 'makes',\n",
       " 'making',\n",
       " 'mall',\n",
       " 'man',\n",
       " 'manager',\n",
       " 'many',\n",
       " 'market',\n",
       " 'may',\n",
       " 'maybe',\n",
       " 'meal',\n",
       " 'meals',\n",
       " 'mean',\n",
       " 'meat',\n",
       " 'menu',\n",
       " 'mexican',\n",
       " 'might',\n",
       " 'mind',\n",
       " 'mine',\n",
       " 'minutes',\n",
       " 'miss',\n",
       " 'mix',\n",
       " 'mixed',\n",
       " 'mom',\n",
       " 'money',\n",
       " 'months',\n",
       " 'morning',\n",
       " 'mouth',\n",
       " 'moved',\n",
       " 'movie',\n",
       " 'much',\n",
       " 'music',\n",
       " 'must',\n",
       " 'name',\n",
       " 'near',\n",
       " 'need',\n",
       " 'needed',\n",
       " 'needs',\n",
       " 'neighborhood',\n",
       " 'never',\n",
       " 'new',\n",
       " 'next',\n",
       " 'nice',\n",
       " 'night',\n",
       " 'noodles',\n",
       " 'note',\n",
       " 'nothing',\n",
       " 'noticed',\n",
       " 'number',\n",
       " 'offer',\n",
       " 'offered',\n",
       " 'office',\n",
       " 'often',\n",
       " 'oh',\n",
       " 'oil',\n",
       " 'ok',\n",
       " 'okay',\n",
       " 'old',\n",
       " 'one',\n",
       " 'ones',\n",
       " 'onion',\n",
       " 'onions',\n",
       " 'open',\n",
       " 'opened',\n",
       " 'options',\n",
       " 'orange',\n",
       " 'order',\n",
       " 'ordered',\n",
       " 'ordering',\n",
       " 'orders',\n",
       " 'others',\n",
       " 'outdoor',\n",
       " 'outside',\n",
       " 'overall',\n",
       " 'overpriced',\n",
       " 'owner',\n",
       " 'owners',\n",
       " 'packed',\n",
       " 'park',\n",
       " 'parking',\n",
       " 'part',\n",
       " 'party',\n",
       " 'past',\n",
       " 'pasta',\n",
       " 'patio',\n",
       " 'pay',\n",
       " 'paying',\n",
       " 'people',\n",
       " 'perfect',\n",
       " 'perfectly',\n",
       " 'perhaps',\n",
       " 'person',\n",
       " 'pho',\n",
       " 'phoenix',\n",
       " 'phone',\n",
       " 'pick',\n",
       " 'pie',\n",
       " 'piece',\n",
       " 'pieces',\n",
       " 'pita',\n",
       " 'pizza',\n",
       " 'place',\n",
       " 'places',\n",
       " 'plate',\n",
       " 'plates',\n",
       " 'play',\n",
       " 'playing',\n",
       " 'pleasant',\n",
       " 'please',\n",
       " 'plenty',\n",
       " 'plus',\n",
       " 'pm',\n",
       " 'point',\n",
       " 'pool',\n",
       " 'pork',\n",
       " 'portion',\n",
       " 'portions',\n",
       " 'potato',\n",
       " 'potatoes',\n",
       " 'prefer',\n",
       " 'prepared',\n",
       " 'pretty',\n",
       " 'price',\n",
       " 'priced',\n",
       " 'prices',\n",
       " 'pricey',\n",
       " 'probably',\n",
       " 'problem',\n",
       " 'put',\n",
       " 'quality',\n",
       " 'quick',\n",
       " 'quickly',\n",
       " 'quite',\n",
       " 'rather',\n",
       " 'read',\n",
       " 'ready',\n",
       " 'real',\n",
       " 'really',\n",
       " 'reason',\n",
       " 'reasonable',\n",
       " 'received',\n",
       " 'recently',\n",
       " 'recommend',\n",
       " 'recommended',\n",
       " 'red',\n",
       " 'regular',\n",
       " 'remember',\n",
       " 'rest',\n",
       " 'restaurant',\n",
       " 'restaurants',\n",
       " 'return',\n",
       " 'review',\n",
       " 'reviews',\n",
       " 'ribs',\n",
       " 'rice',\n",
       " 'right',\n",
       " 'roasted',\n",
       " 'roll',\n",
       " 'rolls',\n",
       " 'room',\n",
       " 'run',\n",
       " 'said',\n",
       " 'salad',\n",
       " 'salads',\n",
       " 'salmon',\n",
       " 'salsa',\n",
       " 'salt',\n",
       " 'sandwich',\n",
       " 'sandwiches',\n",
       " 'sat',\n",
       " 'saturday',\n",
       " 'sauce',\n",
       " 'sauces',\n",
       " 'sausage',\n",
       " 'saw',\n",
       " 'say',\n",
       " 'saying',\n",
       " 'says',\n",
       " 'school',\n",
       " 'scottsdale',\n",
       " 'seafood',\n",
       " 'seat',\n",
       " 'seated',\n",
       " 'seating',\n",
       " 'seats',\n",
       " 'second',\n",
       " 'see',\n",
       " 'seem',\n",
       " 'seemed',\n",
       " 'seems',\n",
       " 'seen',\n",
       " 'selection',\n",
       " 'seriously',\n",
       " 'serve',\n",
       " 'served',\n",
       " 'server',\n",
       " 'servers',\n",
       " 'service',\n",
       " 'serving',\n",
       " 'set',\n",
       " 'several',\n",
       " 'share',\n",
       " 'shared',\n",
       " 'shop',\n",
       " 'shopping',\n",
       " 'short',\n",
       " 'shot',\n",
       " 'show',\n",
       " 'shrimp',\n",
       " 'side',\n",
       " 'sides',\n",
       " 'sign',\n",
       " 'simple',\n",
       " 'simply',\n",
       " 'since',\n",
       " 'single',\n",
       " 'sit',\n",
       " 'sitting',\n",
       " 'size',\n",
       " 'slices',\n",
       " 'slightly',\n",
       " 'slow',\n",
       " 'small',\n",
       " 'soft',\n",
       " 'someone',\n",
       " 'something',\n",
       " 'sometimes',\n",
       " 'soon',\n",
       " 'sorry',\n",
       " 'sort',\n",
       " 'soup',\n",
       " 'space',\n",
       " 'special',\n",
       " 'specials',\n",
       " 'spend',\n",
       " 'spent',\n",
       " 'spicy',\n",
       " 'spinach',\n",
       " 'split',\n",
       " 'sports',\n",
       " 'spot',\n",
       " 'spring',\n",
       " 'staff',\n",
       " 'stand',\n",
       " 'star',\n",
       " 'stars',\n",
       " 'start',\n",
       " 'started',\n",
       " 'stay',\n",
       " 'stayed',\n",
       " 'steak',\n",
       " 'still',\n",
       " 'stop',\n",
       " 'stopped',\n",
       " 'store',\n",
       " 'stores',\n",
       " 'street',\n",
       " 'strip',\n",
       " 'stuff',\n",
       " 'stuffed',\n",
       " 'style',\n",
       " 'summer',\n",
       " 'sunday',\n",
       " 'super',\n",
       " 'sure',\n",
       " 'surprised',\n",
       " 'sushi',\n",
       " 'sweet',\n",
       " 'table',\n",
       " 'tables',\n",
       " 'taco',\n",
       " 'tacos',\n",
       " 'take',\n",
       " 'takes',\n",
       " 'taking',\n",
       " 'talk',\n",
       " 'taste',\n",
       " 'tasted',\n",
       " 'tastes',\n",
       " 'tasting',\n",
       " 'tasty',\n",
       " 'tea',\n",
       " 'tell',\n",
       " 'tempe',\n",
       " 'tender',\n",
       " 'th',\n",
       " 'thai',\n",
       " 'thank',\n",
       " 'thanks',\n",
       " 'thats',\n",
       " 'theres',\n",
       " 'theyre',\n",
       " 'thin',\n",
       " 'thing',\n",
       " 'things',\n",
       " 'think',\n",
       " 'thinking',\n",
       " 'though',\n",
       " 'thought',\n",
       " 'three',\n",
       " 'time',\n",
       " 'times',\n",
       " 'tiny',\n",
       " 'tip',\n",
       " 'toast',\n",
       " 'today',\n",
       " 'together',\n",
       " 'told',\n",
       " 'tomato',\n",
       " 'tomatoes',\n",
       " 'tons',\n",
       " 'took',\n",
       " 'top',\n",
       " 'toppings',\n",
       " 'total',\n",
       " 'totally',\n",
       " 'town',\n",
       " 'tried',\n",
       " 'trip',\n",
       " 'true',\n",
       " 'truly',\n",
       " 'try',\n",
       " 'trying',\n",
       " 'tuna',\n",
       " 'twice',\n",
       " 'two',\n",
       " 'type',\n",
       " 'typical',\n",
       " 'understand',\n",
       " 'unfortunately',\n",
       " 'unique',\n",
       " 'unless',\n",
       " 'upon',\n",
       " 'us',\n",
       " 'use',\n",
       " 'used',\n",
       " 'usually',\n",
       " 'valley',\n",
       " 'value',\n",
       " 'variety',\n",
       " 'vegetarian',\n",
       " 'veggie',\n",
       " 'veggies',\n",
       " 'vibe',\n",
       " 'view',\n",
       " 'visit',\n",
       " 'w',\n",
       " 'wait',\n",
       " 'waited',\n",
       " 'waiter',\n",
       " 'waiting',\n",
       " 'waitress',\n",
       " 'walk',\n",
       " 'walked',\n",
       " 'walking',\n",
       " 'wall',\n",
       " 'want',\n",
       " 'wanted',\n",
       " 'warm',\n",
       " 'wasnt',\n",
       " 'watch',\n",
       " 'watching',\n",
       " 'water',\n",
       " 'way',\n",
       " 'week',\n",
       " 'weekend',\n",
       " 'weeks',\n",
       " 'well',\n",
       " 'went',\n",
       " 'werent',\n",
       " 'weve',\n",
       " 'whatever',\n",
       " 'white',\n",
       " 'whole',\n",
       " 'wife',\n",
       " 'wine',\n",
       " 'wings',\n",
       " 'wish',\n",
       " 'within',\n",
       " 'without',\n",
       " 'wonderful',\n",
       " 'wont',\n",
       " 'word',\n",
       " 'work',\n",
       " 'working',\n",
       " 'world',\n",
       " 'worth',\n",
       " 'would',\n",
       " 'wouldnt',\n",
       " 'wow',\n",
       " 'wrong',\n",
       " 'yeah',\n",
       " 'year',\n",
       " 'years',\n",
       " 'yelp',\n",
       " 'yes',\n",
       " 'yet',\n",
       " 'youll',\n",
       " 'youre',\n",
       " 'youve',\n",
       " 'yum',\n",
       " 'yummy']"
      ]
     },
     "execution_count": 45,
     "metadata": {},
     "output_type": "execute_result"
    }
   ],
   "source": [
    "count_vect.get_feature_names()"
   ]
  },
  {
   "cell_type": "code",
   "execution_count": 46,
   "metadata": {},
   "outputs": [],
   "source": [
    "dtm1=pd.DataFrame(dtm)"
   ]
  },
  {
   "cell_type": "code",
   "execution_count": 47,
   "metadata": {},
   "outputs": [],
   "source": [
    "dtm1.columns=count_vect.get_feature_names()"
   ]
  },
  {
   "cell_type": "code",
   "execution_count": 48,
   "metadata": {},
   "outputs": [
    {
     "data": {
      "text/html": [
       "<div>\n",
       "<style scoped>\n",
       "    .dataframe tbody tr th:only-of-type {\n",
       "        vertical-align: middle;\n",
       "    }\n",
       "\n",
       "    .dataframe tbody tr th {\n",
       "        vertical-align: top;\n",
       "    }\n",
       "\n",
       "    .dataframe thead th {\n",
       "        text-align: right;\n",
       "    }\n",
       "</style>\n",
       "<table border=\"1\" class=\"dataframe\">\n",
       "  <thead>\n",
       "    <tr style=\"text-align: right;\">\n",
       "      <th></th>\n",
       "      <th>able</th>\n",
       "      <th>absolutely</th>\n",
       "      <th>across</th>\n",
       "      <th>actually</th>\n",
       "      <th>add</th>\n",
       "      <th>added</th>\n",
       "      <th>afternoon</th>\n",
       "      <th>ago</th>\n",
       "      <th>almost</th>\n",
       "      <th>along</th>\n",
       "      <th>...</th>\n",
       "      <th>year</th>\n",
       "      <th>years</th>\n",
       "      <th>yelp</th>\n",
       "      <th>yes</th>\n",
       "      <th>yet</th>\n",
       "      <th>youll</th>\n",
       "      <th>youre</th>\n",
       "      <th>youve</th>\n",
       "      <th>yum</th>\n",
       "      <th>yummy</th>\n",
       "    </tr>\n",
       "  </thead>\n",
       "  <tbody>\n",
       "    <tr>\n",
       "      <th>0</th>\n",
       "      <td>0</td>\n",
       "      <td>0</td>\n",
       "      <td>0</td>\n",
       "      <td>0</td>\n",
       "      <td>0</td>\n",
       "      <td>0</td>\n",
       "      <td>0</td>\n",
       "      <td>0</td>\n",
       "      <td>0</td>\n",
       "      <td>0</td>\n",
       "      <td>...</td>\n",
       "      <td>0</td>\n",
       "      <td>0</td>\n",
       "      <td>0</td>\n",
       "      <td>0</td>\n",
       "      <td>0</td>\n",
       "      <td>0</td>\n",
       "      <td>0</td>\n",
       "      <td>0</td>\n",
       "      <td>0</td>\n",
       "      <td>0</td>\n",
       "    </tr>\n",
       "    <tr>\n",
       "      <th>1</th>\n",
       "      <td>0</td>\n",
       "      <td>0</td>\n",
       "      <td>0</td>\n",
       "      <td>0</td>\n",
       "      <td>0</td>\n",
       "      <td>0</td>\n",
       "      <td>0</td>\n",
       "      <td>0</td>\n",
       "      <td>0</td>\n",
       "      <td>0</td>\n",
       "      <td>...</td>\n",
       "      <td>0</td>\n",
       "      <td>0</td>\n",
       "      <td>0</td>\n",
       "      <td>0</td>\n",
       "      <td>0</td>\n",
       "      <td>0</td>\n",
       "      <td>0</td>\n",
       "      <td>0</td>\n",
       "      <td>0</td>\n",
       "      <td>0</td>\n",
       "    </tr>\n",
       "    <tr>\n",
       "      <th>2</th>\n",
       "      <td>0</td>\n",
       "      <td>2</td>\n",
       "      <td>0</td>\n",
       "      <td>1</td>\n",
       "      <td>0</td>\n",
       "      <td>0</td>\n",
       "      <td>0</td>\n",
       "      <td>0</td>\n",
       "      <td>0</td>\n",
       "      <td>0</td>\n",
       "      <td>...</td>\n",
       "      <td>0</td>\n",
       "      <td>0</td>\n",
       "      <td>0</td>\n",
       "      <td>0</td>\n",
       "      <td>0</td>\n",
       "      <td>0</td>\n",
       "      <td>0</td>\n",
       "      <td>0</td>\n",
       "      <td>0</td>\n",
       "      <td>0</td>\n",
       "    </tr>\n",
       "    <tr>\n",
       "      <th>3</th>\n",
       "      <td>0</td>\n",
       "      <td>1</td>\n",
       "      <td>0</td>\n",
       "      <td>0</td>\n",
       "      <td>0</td>\n",
       "      <td>0</td>\n",
       "      <td>0</td>\n",
       "      <td>0</td>\n",
       "      <td>0</td>\n",
       "      <td>0</td>\n",
       "      <td>...</td>\n",
       "      <td>0</td>\n",
       "      <td>0</td>\n",
       "      <td>0</td>\n",
       "      <td>1</td>\n",
       "      <td>0</td>\n",
       "      <td>0</td>\n",
       "      <td>0</td>\n",
       "      <td>0</td>\n",
       "      <td>0</td>\n",
       "      <td>0</td>\n",
       "    </tr>\n",
       "    <tr>\n",
       "      <th>4</th>\n",
       "      <td>0</td>\n",
       "      <td>0</td>\n",
       "      <td>0</td>\n",
       "      <td>0</td>\n",
       "      <td>1</td>\n",
       "      <td>0</td>\n",
       "      <td>0</td>\n",
       "      <td>0</td>\n",
       "      <td>0</td>\n",
       "      <td>1</td>\n",
       "      <td>...</td>\n",
       "      <td>0</td>\n",
       "      <td>0</td>\n",
       "      <td>0</td>\n",
       "      <td>0</td>\n",
       "      <td>1</td>\n",
       "      <td>0</td>\n",
       "      <td>0</td>\n",
       "      <td>0</td>\n",
       "      <td>0</td>\n",
       "      <td>0</td>\n",
       "    </tr>\n",
       "  </tbody>\n",
       "</table>\n",
       "<p>5 rows × 800 columns</p>\n",
       "</div>"
      ],
      "text/plain": [
       "   able  absolutely  across  actually  add  added  afternoon  ago  almost  \\\n",
       "0     0           0       0         0    0      0          0    0       0   \n",
       "1     0           0       0         0    0      0          0    0       0   \n",
       "2     0           2       0         1    0      0          0    0       0   \n",
       "3     0           1       0         0    0      0          0    0       0   \n",
       "4     0           0       0         0    1      0          0    0       0   \n",
       "\n",
       "   along  ...    year  years  yelp  yes  yet  youll  youre  youve  yum  yummy  \n",
       "0      0  ...       0      0     0    0    0      0      0      0    0      0  \n",
       "1      0  ...       0      0     0    0    0      0      0      0    0      0  \n",
       "2      0  ...       0      0     0    0    0      0      0      0    0      0  \n",
       "3      0  ...       0      0     0    1    0      0      0      0    0      0  \n",
       "4      1  ...       0      0     0    0    1      0      0      0    0      0  \n",
       "\n",
       "[5 rows x 800 columns]"
      ]
     },
     "execution_count": 48,
     "metadata": {},
     "output_type": "execute_result"
    }
   ],
   "source": [
    "dtm1.head()"
   ]
  },
  {
   "cell_type": "markdown",
   "metadata": {},
   "source": [
    "### Vectorization (count, tfidf) for both train & test"
   ]
  },
  {
   "cell_type": "code",
   "execution_count": 49,
   "metadata": {},
   "outputs": [],
   "source": [
    "#Train\n",
    "count_vect = CountVectorizer(analyzer='word', \n",
    "                             token_pattern=r'\\w{1,}', \n",
    "                             ngram_range=(1, 1 ), \n",
    "                             min_df=5, \n",
    "                             encoding='latin-1' , \n",
    "                             max_features=800)\n",
    "xtrain_count = count_vect.fit_transform(X_train)\n",
    "\n",
    "tfidf_transformer = TfidfTransformer()\n",
    "X_train_tfidf = tfidf_transformer.fit_transform(xtrain_count)\n",
    "\n",
    "#Test\n",
    "#count_vect = CountVectorizer()\n",
    "xtest_count = count_vect.transform(X_test)\n",
    "\n",
    "#tfidf_transformer = TfidfTransformer()\n",
    "X_test_tfidf = tfidf_transformer.transform(xtest_count)\n"
   ]
  },
  {
   "cell_type": "code",
   "execution_count": 50,
   "metadata": {},
   "outputs": [],
   "source": [
    "dtm2=pd.DataFrame(X_train_tfidf.toarray(), columns=count_vect.get_feature_names())"
   ]
  },
  {
   "cell_type": "code",
   "execution_count": 52,
   "metadata": {},
   "outputs": [
    {
     "data": {
      "text/html": [
       "<div>\n",
       "<style scoped>\n",
       "    .dataframe tbody tr th:only-of-type {\n",
       "        vertical-align: middle;\n",
       "    }\n",
       "\n",
       "    .dataframe tbody tr th {\n",
       "        vertical-align: top;\n",
       "    }\n",
       "\n",
       "    .dataframe thead th {\n",
       "        text-align: right;\n",
       "    }\n",
       "</style>\n",
       "<table border=\"1\" class=\"dataframe\">\n",
       "  <thead>\n",
       "    <tr style=\"text-align: right;\">\n",
       "      <th></th>\n",
       "      <th>able</th>\n",
       "      <th>absolutely</th>\n",
       "      <th>across</th>\n",
       "      <th>actually</th>\n",
       "      <th>add</th>\n",
       "      <th>added</th>\n",
       "      <th>afternoon</th>\n",
       "      <th>ago</th>\n",
       "      <th>almost</th>\n",
       "      <th>along</th>\n",
       "      <th>...</th>\n",
       "      <th>year</th>\n",
       "      <th>years</th>\n",
       "      <th>yelp</th>\n",
       "      <th>yes</th>\n",
       "      <th>yet</th>\n",
       "      <th>youll</th>\n",
       "      <th>youre</th>\n",
       "      <th>youve</th>\n",
       "      <th>yum</th>\n",
       "      <th>yummy</th>\n",
       "    </tr>\n",
       "  </thead>\n",
       "  <tbody>\n",
       "    <tr>\n",
       "      <th>0</th>\n",
       "      <td>0.0</td>\n",
       "      <td>0.000000</td>\n",
       "      <td>0.0</td>\n",
       "      <td>0.000000</td>\n",
       "      <td>0.000000</td>\n",
       "      <td>0.0</td>\n",
       "      <td>0.000000</td>\n",
       "      <td>0.0</td>\n",
       "      <td>0.0</td>\n",
       "      <td>0.000000</td>\n",
       "      <td>...</td>\n",
       "      <td>0.0</td>\n",
       "      <td>0.0</td>\n",
       "      <td>0.0</td>\n",
       "      <td>0.000000</td>\n",
       "      <td>0.000000</td>\n",
       "      <td>0.0</td>\n",
       "      <td>0.0</td>\n",
       "      <td>0.0</td>\n",
       "      <td>0.000000</td>\n",
       "      <td>0.0</td>\n",
       "    </tr>\n",
       "    <tr>\n",
       "      <th>1</th>\n",
       "      <td>0.0</td>\n",
       "      <td>0.000000</td>\n",
       "      <td>0.0</td>\n",
       "      <td>0.000000</td>\n",
       "      <td>0.000000</td>\n",
       "      <td>0.0</td>\n",
       "      <td>0.000000</td>\n",
       "      <td>0.0</td>\n",
       "      <td>0.0</td>\n",
       "      <td>0.000000</td>\n",
       "      <td>...</td>\n",
       "      <td>0.0</td>\n",
       "      <td>0.0</td>\n",
       "      <td>0.0</td>\n",
       "      <td>0.000000</td>\n",
       "      <td>0.000000</td>\n",
       "      <td>0.0</td>\n",
       "      <td>0.0</td>\n",
       "      <td>0.0</td>\n",
       "      <td>0.000000</td>\n",
       "      <td>0.0</td>\n",
       "    </tr>\n",
       "    <tr>\n",
       "      <th>2</th>\n",
       "      <td>0.0</td>\n",
       "      <td>0.243022</td>\n",
       "      <td>0.0</td>\n",
       "      <td>0.100958</td>\n",
       "      <td>0.000000</td>\n",
       "      <td>0.0</td>\n",
       "      <td>0.000000</td>\n",
       "      <td>0.0</td>\n",
       "      <td>0.0</td>\n",
       "      <td>0.000000</td>\n",
       "      <td>...</td>\n",
       "      <td>0.0</td>\n",
       "      <td>0.0</td>\n",
       "      <td>0.0</td>\n",
       "      <td>0.000000</td>\n",
       "      <td>0.000000</td>\n",
       "      <td>0.0</td>\n",
       "      <td>0.0</td>\n",
       "      <td>0.0</td>\n",
       "      <td>0.000000</td>\n",
       "      <td>0.0</td>\n",
       "    </tr>\n",
       "    <tr>\n",
       "      <th>3</th>\n",
       "      <td>0.0</td>\n",
       "      <td>0.279355</td>\n",
       "      <td>0.0</td>\n",
       "      <td>0.000000</td>\n",
       "      <td>0.000000</td>\n",
       "      <td>0.0</td>\n",
       "      <td>0.000000</td>\n",
       "      <td>0.0</td>\n",
       "      <td>0.0</td>\n",
       "      <td>0.000000</td>\n",
       "      <td>...</td>\n",
       "      <td>0.0</td>\n",
       "      <td>0.0</td>\n",
       "      <td>0.0</td>\n",
       "      <td>0.254748</td>\n",
       "      <td>0.000000</td>\n",
       "      <td>0.0</td>\n",
       "      <td>0.0</td>\n",
       "      <td>0.0</td>\n",
       "      <td>0.000000</td>\n",
       "      <td>0.0</td>\n",
       "    </tr>\n",
       "    <tr>\n",
       "      <th>4</th>\n",
       "      <td>0.0</td>\n",
       "      <td>0.000000</td>\n",
       "      <td>0.0</td>\n",
       "      <td>0.000000</td>\n",
       "      <td>0.126434</td>\n",
       "      <td>0.0</td>\n",
       "      <td>0.000000</td>\n",
       "      <td>0.0</td>\n",
       "      <td>0.0</td>\n",
       "      <td>0.126715</td>\n",
       "      <td>...</td>\n",
       "      <td>0.0</td>\n",
       "      <td>0.0</td>\n",
       "      <td>0.0</td>\n",
       "      <td>0.000000</td>\n",
       "      <td>0.114775</td>\n",
       "      <td>0.0</td>\n",
       "      <td>0.0</td>\n",
       "      <td>0.0</td>\n",
       "      <td>0.000000</td>\n",
       "      <td>0.0</td>\n",
       "    </tr>\n",
       "    <tr>\n",
       "      <th>5</th>\n",
       "      <td>0.0</td>\n",
       "      <td>0.000000</td>\n",
       "      <td>0.0</td>\n",
       "      <td>0.068286</td>\n",
       "      <td>0.000000</td>\n",
       "      <td>0.0</td>\n",
       "      <td>0.092854</td>\n",
       "      <td>0.0</td>\n",
       "      <td>0.0</td>\n",
       "      <td>0.000000</td>\n",
       "      <td>...</td>\n",
       "      <td>0.0</td>\n",
       "      <td>0.0</td>\n",
       "      <td>0.0</td>\n",
       "      <td>0.000000</td>\n",
       "      <td>0.000000</td>\n",
       "      <td>0.0</td>\n",
       "      <td>0.0</td>\n",
       "      <td>0.0</td>\n",
       "      <td>0.000000</td>\n",
       "      <td>0.0</td>\n",
       "    </tr>\n",
       "    <tr>\n",
       "      <th>6</th>\n",
       "      <td>0.0</td>\n",
       "      <td>0.000000</td>\n",
       "      <td>0.0</td>\n",
       "      <td>0.000000</td>\n",
       "      <td>0.000000</td>\n",
       "      <td>0.0</td>\n",
       "      <td>0.000000</td>\n",
       "      <td>0.0</td>\n",
       "      <td>0.0</td>\n",
       "      <td>0.000000</td>\n",
       "      <td>...</td>\n",
       "      <td>0.0</td>\n",
       "      <td>0.0</td>\n",
       "      <td>0.0</td>\n",
       "      <td>0.000000</td>\n",
       "      <td>0.000000</td>\n",
       "      <td>0.0</td>\n",
       "      <td>0.0</td>\n",
       "      <td>0.0</td>\n",
       "      <td>0.000000</td>\n",
       "      <td>0.0</td>\n",
       "    </tr>\n",
       "    <tr>\n",
       "      <th>7</th>\n",
       "      <td>0.0</td>\n",
       "      <td>0.000000</td>\n",
       "      <td>0.0</td>\n",
       "      <td>0.000000</td>\n",
       "      <td>0.000000</td>\n",
       "      <td>0.0</td>\n",
       "      <td>0.000000</td>\n",
       "      <td>0.0</td>\n",
       "      <td>0.0</td>\n",
       "      <td>0.000000</td>\n",
       "      <td>...</td>\n",
       "      <td>0.0</td>\n",
       "      <td>0.0</td>\n",
       "      <td>0.0</td>\n",
       "      <td>0.000000</td>\n",
       "      <td>0.000000</td>\n",
       "      <td>0.0</td>\n",
       "      <td>0.0</td>\n",
       "      <td>0.0</td>\n",
       "      <td>0.424834</td>\n",
       "      <td>0.0</td>\n",
       "    </tr>\n",
       "    <tr>\n",
       "      <th>8</th>\n",
       "      <td>0.0</td>\n",
       "      <td>0.000000</td>\n",
       "      <td>0.0</td>\n",
       "      <td>0.000000</td>\n",
       "      <td>0.000000</td>\n",
       "      <td>0.0</td>\n",
       "      <td>0.000000</td>\n",
       "      <td>0.0</td>\n",
       "      <td>0.0</td>\n",
       "      <td>0.000000</td>\n",
       "      <td>...</td>\n",
       "      <td>0.0</td>\n",
       "      <td>0.0</td>\n",
       "      <td>0.0</td>\n",
       "      <td>0.000000</td>\n",
       "      <td>0.000000</td>\n",
       "      <td>0.0</td>\n",
       "      <td>0.0</td>\n",
       "      <td>0.0</td>\n",
       "      <td>0.000000</td>\n",
       "      <td>0.0</td>\n",
       "    </tr>\n",
       "    <tr>\n",
       "      <th>9</th>\n",
       "      <td>0.0</td>\n",
       "      <td>0.000000</td>\n",
       "      <td>0.0</td>\n",
       "      <td>0.227758</td>\n",
       "      <td>0.000000</td>\n",
       "      <td>0.0</td>\n",
       "      <td>0.000000</td>\n",
       "      <td>0.0</td>\n",
       "      <td>0.0</td>\n",
       "      <td>0.000000</td>\n",
       "      <td>...</td>\n",
       "      <td>0.0</td>\n",
       "      <td>0.0</td>\n",
       "      <td>0.0</td>\n",
       "      <td>0.000000</td>\n",
       "      <td>0.000000</td>\n",
       "      <td>0.0</td>\n",
       "      <td>0.0</td>\n",
       "      <td>0.0</td>\n",
       "      <td>0.000000</td>\n",
       "      <td>0.0</td>\n",
       "    </tr>\n",
       "  </tbody>\n",
       "</table>\n",
       "<p>10 rows × 800 columns</p>\n",
       "</div>"
      ],
      "text/plain": [
       "   able  absolutely  across  actually       add  added  afternoon  ago  \\\n",
       "0   0.0    0.000000     0.0  0.000000  0.000000    0.0   0.000000  0.0   \n",
       "1   0.0    0.000000     0.0  0.000000  0.000000    0.0   0.000000  0.0   \n",
       "2   0.0    0.243022     0.0  0.100958  0.000000    0.0   0.000000  0.0   \n",
       "3   0.0    0.279355     0.0  0.000000  0.000000    0.0   0.000000  0.0   \n",
       "4   0.0    0.000000     0.0  0.000000  0.126434    0.0   0.000000  0.0   \n",
       "5   0.0    0.000000     0.0  0.068286  0.000000    0.0   0.092854  0.0   \n",
       "6   0.0    0.000000     0.0  0.000000  0.000000    0.0   0.000000  0.0   \n",
       "7   0.0    0.000000     0.0  0.000000  0.000000    0.0   0.000000  0.0   \n",
       "8   0.0    0.000000     0.0  0.000000  0.000000    0.0   0.000000  0.0   \n",
       "9   0.0    0.000000     0.0  0.227758  0.000000    0.0   0.000000  0.0   \n",
       "\n",
       "   almost     along  ...    year  years  yelp       yes       yet  youll  \\\n",
       "0     0.0  0.000000  ...     0.0    0.0   0.0  0.000000  0.000000    0.0   \n",
       "1     0.0  0.000000  ...     0.0    0.0   0.0  0.000000  0.000000    0.0   \n",
       "2     0.0  0.000000  ...     0.0    0.0   0.0  0.000000  0.000000    0.0   \n",
       "3     0.0  0.000000  ...     0.0    0.0   0.0  0.254748  0.000000    0.0   \n",
       "4     0.0  0.126715  ...     0.0    0.0   0.0  0.000000  0.114775    0.0   \n",
       "5     0.0  0.000000  ...     0.0    0.0   0.0  0.000000  0.000000    0.0   \n",
       "6     0.0  0.000000  ...     0.0    0.0   0.0  0.000000  0.000000    0.0   \n",
       "7     0.0  0.000000  ...     0.0    0.0   0.0  0.000000  0.000000    0.0   \n",
       "8     0.0  0.000000  ...     0.0    0.0   0.0  0.000000  0.000000    0.0   \n",
       "9     0.0  0.000000  ...     0.0    0.0   0.0  0.000000  0.000000    0.0   \n",
       "\n",
       "   youre  youve       yum  yummy  \n",
       "0    0.0    0.0  0.000000    0.0  \n",
       "1    0.0    0.0  0.000000    0.0  \n",
       "2    0.0    0.0  0.000000    0.0  \n",
       "3    0.0    0.0  0.000000    0.0  \n",
       "4    0.0    0.0  0.000000    0.0  \n",
       "5    0.0    0.0  0.000000    0.0  \n",
       "6    0.0    0.0  0.000000    0.0  \n",
       "7    0.0    0.0  0.424834    0.0  \n",
       "8    0.0    0.0  0.000000    0.0  \n",
       "9    0.0    0.0  0.000000    0.0  \n",
       "\n",
       "[10 rows x 800 columns]"
      ]
     },
     "execution_count": 52,
     "metadata": {},
     "output_type": "execute_result"
    }
   ],
   "source": [
    "dtm2.head(10)"
   ]
  },
  {
   "cell_type": "code",
   "execution_count": 53,
   "metadata": {},
   "outputs": [],
   "source": [
    "# ngram level tf-idf \n",
    "tfidf_vect_ngram = TfidfVectorizer(analyzer='word', token_pattern=r'\\w{1,}', ngram_range=(1, 2), max_features=800)\n",
    "tfidf_vect_ngram.fit(df['text'])\n",
    "xtrain_tfidf_ngram =  tfidf_vect_ngram.transform(X_train)\n",
    "xtest_tfidf_ngram =  tfidf_vect_ngram.transform(X_test)"
   ]
  },
  {
   "cell_type": "code",
   "execution_count": 54,
   "metadata": {},
   "outputs": [],
   "source": [
    "# characters level tf-idf\n",
    "tfidf_vect_ngram_chars = TfidfVectorizer(analyzer='char', token_pattern=r'\\w{1,}', ngram_range=(1,2), max_features=800)\n",
    "tfidf_vect_ngram_chars.fit(df['text'])\n",
    "xtrain_tfidf_ngram_chars =  tfidf_vect_ngram_chars.transform(X_train) \n",
    "xtest_tfidf_ngram_chars =  tfidf_vect_ngram_chars.transform(X_test)"
   ]
  },
  {
   "cell_type": "markdown",
   "metadata": {},
   "source": [
    "### Topic Models as features"
   ]
  },
  {
   "cell_type": "code",
   "execution_count": 55,
   "metadata": {},
   "outputs": [],
   "source": [
    "# train a LDA Model\n",
    "lda_model = decomposition.LatentDirichletAllocation(n_components=20, learning_method='online', max_iter=20)\n",
    "X_topics = lda_model.fit_transform(X_train_tfidf)\n",
    "topic_word = lda_model.components_ \n",
    "vocab = count_vect.get_feature_names()"
   ]
  },
  {
   "cell_type": "code",
   "execution_count": 56,
   "metadata": {},
   "outputs": [
    {
     "data": {
      "text/plain": [
       "['meat open dry bread hours high coffee food isnt great joint beef taco spot cream selection large car free location tempe unless youre bad much want pretty ambiance parking overall seating tasting sure theyre nice counter everything give make end like drinks reason homemade chicken really one lunch menu specials',\n",
       " 'white cream overpriced chips girl least like go unfortunately eggs always sauce loud everything guess place actually two tiny ice friend money highly tried wonderful grab see easily recommend ask pho years ordered people pm mexican start dirty style oil order going red worth made walked try full cooked awesome',\n",
       " 'great food service good love staff awesome friendly place prices clean amazing always delicious selection best beer decent valley happy specials pricey price nice hour restaurant super favorite pho fun bit eat well customer recommend little worth drink world experience chicken back go definitely like helpful often try expensive money',\n",
       " 'local check sausage outdoor interesting market miss beers soon immediately sandwiches dining burger buy good need drinks location nice ingredients rice pork dont okay perfect feel yet burgers cheese pick specials salt recently pm thin lots items perhaps star except salads amount yeah better spring family know offered sandwich large',\n",
       " 'hotel breakfast toast stay stayed eggs french town room best chain weekend one group free clean friendly morning ive better good great think service meal enough place isnt whole tell youre bring far away given valley pizza like bacon phoenix water care food pretty time months plus maybe overall server',\n",
       " 'event wonderful beautiful tea family overall stars kids ordered area well play pizza theyre staff us loved ive chicken wife probably chocolate giving food people tomato servers way different dogs much seating fan variety selection best place tasty great stuff visit helpful truly type appetizers salad outdoor said salmon completely',\n",
       " 'parking call phoenix bowl chicken fish easy toppings frozen within interesting much someone want location make usually business crispy red new name across light really street dont little choose would always never pretty also options line since az however walk eat grill ask bad fun love patio salmon worth seating',\n",
       " 'excellent loved priced place food good return nice recommend highly thought owner definitely service friendly staff dinner anyone trip would fan overall awesome pizza amazing restaurant wont healthy mexican everyone really way ambiance chef great go im far especially perfectly cooked done owners super burger chicken feel city bring located',\n",
       " 'bad name asian much impressed everything soon first remember wait visit good arent love service highly food fun well dont shop place priced neighborhood great nice recommend work new friendly always flavors time give havent trying everyone know found light still really extremely la tasty attentive friends guy scottsdale im',\n",
       " 'good food place great chicken like salad really one service love best get fresh go also delicious ordered lunch menu cheese sauce time try would back restaurant ive burger little sandwich dont im always well fries eat meal pretty order tasty nice got sweet bread better much rice beef sushi',\n",
       " 'pizza crust best ever hands fresh excellent place great owners care always counter az behind ingredients lunch takes recommend new taking cheese us thin husband asked eating ordering year comes th must far though slices go specials doesnt get garlic trip pool would said even fair made back still try',\n",
       " 'store great always place get go friendly staff like service love good time one location customer ive shop never dont nice need new helpful really well would better selection prices work want going know even find clean years recommend home buy much back car experience ever help also job got',\n",
       " 'hand filling put employees hands desert review someone see art clean close split found rest total makes soft stars one couple havent salsa asked wanted maybe regular really said store different still house helpful sweet place take wine made price big although prices time city didnt spent leave werent food',\n",
       " 'average awesome fantastic delicious great keep service cheese place excellent side good mac sandwiches food taste burgers meal bill nice usually back ask deal stand happy places vegetarian spot downtown thanks fast stuff went could breakfast fresh attentive like also list love stop coming huge ever say oh give pita',\n",
       " 'atmosphere bar ambiance great beautiful patio spot salad date sandwiches bread nice wine food service italian typical friends recommended love amazing night definitely inside good wow authentic bottle go fairly pizza sunday quickly staff afternoon best fabulous friendly husband ordered burger bit wait mouth awesome enjoyed yum bacon split dining',\n",
       " 'club drive cheap hair scottsdale ever slices pizza sports always hands place best live go worth time style really served ordered like good leave drinks perfectly love see huge bar yeah quickly dont area know attention fast fan say downtown beef side ask getting one watch charge found right first',\n",
       " 'wonderful job like decor nice tea good pretty iced cool phone comfortable company store mom new music experience think coffee friendly feel located great dinner quick love helpful clean really hang made service shop staff find card gave big place fan got lunch expect still yes would go youll number',\n",
       " 'place good great food like one get go time bar really service back would us night dont nice people im love coffee even drinks little ive didnt pretty always well also hour going see area beer staff got never think went know happy room wine way could make day around',\n",
       " 'dog dogs park mall hot choose stores options cost area steak rest pretty run clean find glad side best probably get wonderful pizza must cooked try customer nice friend big long kept want foods food little dr simple wait portion sides many cold go helpful well one job several fruit',\n",
       " 'burrito dirty get employees salsa within front think buy cut called blue bite went place light sign chips line last stop shot quick based doesnt late tasty bad lots stars cheese take dont come gets says counter plenty tip morning way door ill didnt including super bit craving chicken town']"
      ]
     },
     "execution_count": 56,
     "metadata": {},
     "output_type": "execute_result"
    }
   ],
   "source": [
    "# view the topic models\n",
    "n_top_words = 50\n",
    "topic_summaries = []\n",
    "for i, topic_dist in enumerate(topic_word):\n",
    "    topic_words = np.array(vocab)[np.argsort(topic_dist)][:-(n_top_words+1):-1]\n",
    "    topic_summaries.append(' '.join(topic_words))\n",
    "\n",
    "topic_summaries"
   ]
  },
  {
   "cell_type": "code",
   "execution_count": 57,
   "metadata": {},
   "outputs": [],
   "source": [
    "frequency_words_wo_stop= {}\n",
    "for data in yelp['text']:\n",
    "    tokens = nltk.wordpunct_tokenize(data.lower())\n",
    "    for token in tokens:\n",
    "        if token.lower() not in stop:\n",
    "            if token in frequency_words_wo_stop:\n",
    "                count = frequency_words_wo_stop[token]\n",
    "                count = count + 1\n",
    "                frequency_words_wo_stop[token] = count\n",
    "            else:\n",
    "                frequency_words_wo_stop[token] = 1\n",
    "                \n",
    "\n"
   ]
  },
  {
   "cell_type": "code",
   "execution_count": 58,
   "metadata": {},
   "outputs": [
    {
     "data": {
      "text/plain": [
       "{'wife': 365,\n",
       " 'took': 759,\n",
       " 'birthday': 202,\n",
       " 'breakfast': 737,\n",
       " 'excellent': 724,\n",
       " '.': 75581,\n",
       " 'weather': 92,\n",
       " 'perfect': 649,\n",
       " 'made': 1334,\n",
       " 'sitting': 276,\n",
       " 'outside': 594,\n",
       " 'overlooking': 12,\n",
       " 'grounds': 38,\n",
       " 'absolute': 57,\n",
       " 'pleasure': 55,\n",
       " 'waitress': 426,\n",
       " 'food': 6184,\n",
       " 'arrived': 287,\n",
       " 'quickly': 266,\n",
       " 'semi': 37,\n",
       " '-': 9550,\n",
       " 'busy': 498,\n",
       " 'saturday': 301,\n",
       " 'morning': 323,\n",
       " 'looked': 464,\n",
       " 'like': 5041,\n",
       " 'place': 6662,\n",
       " 'fills': 16,\n",
       " 'pretty': 1812,\n",
       " 'earlier': 73,\n",
       " 'get': 3819,\n",
       " 'better': 1541,\n",
       " 'favor': 41,\n",
       " 'bloody': 54,\n",
       " 'mary': 46,\n",
       " 'phenomenal': 59,\n",
       " 'simply': 177,\n",
       " 'best': 1952,\n",
       " \"'\": 27668,\n",
       " 'ever': 1081,\n",
       " 'sure': 1149,\n",
       " 'use': 485,\n",
       " 'ingredients': 276,\n",
       " 'garden': 89,\n",
       " 'blend': 39,\n",
       " 'fresh': 1222,\n",
       " 'order': 1589,\n",
       " 'amazing': 1060,\n",
       " 'everything': 1066,\n",
       " 'menu': 1678,\n",
       " 'looks': 293,\n",
       " ',': 53283,\n",
       " 'white': 382,\n",
       " 'truffle': 42,\n",
       " 'scrambled': 21,\n",
       " 'eggs': 239,\n",
       " 'vegetable': 71,\n",
       " 'skillet': 28,\n",
       " 'tasty': 863,\n",
       " 'delicious': 1339,\n",
       " 'came': 1309,\n",
       " '2': 1431,\n",
       " 'pieces': 200,\n",
       " 'griddled': 3,\n",
       " 'bread': 788,\n",
       " 'absolutely': 318,\n",
       " 'meal': 1050,\n",
       " 'complete': 104,\n",
       " '\"': 4517,\n",
       " 'toast': 183,\n",
       " 'anyway': 256,\n",
       " 'wait': 1128,\n",
       " 'go': 3571,\n",
       " 'back': 2889,\n",
       " '!': 8729,\n",
       " 'idea': 210,\n",
       " 'people': 1675,\n",
       " 'give': 1053,\n",
       " 'bad': 1031,\n",
       " 'reviews': 468,\n",
       " 'goes': 176,\n",
       " 'show': 269,\n",
       " 'please': 244,\n",
       " 'everyone': 563,\n",
       " 'probably': 686,\n",
       " 'griping': 2,\n",
       " 'something': 1104,\n",
       " 'fault': 59,\n",
       " '...': 4224,\n",
       " 'many': 1024,\n",
       " 'case': 181,\n",
       " 'friend': 713,\n",
       " '5': 1257,\n",
       " ':': 2034,\n",
       " '50': 301,\n",
       " 'pm': 98,\n",
       " 'past': 295,\n",
       " 'sunday': 269,\n",
       " 'crowded': 199,\n",
       " 'thought': 673,\n",
       " 'evening': 246,\n",
       " 'would': 3105,\n",
       " 'forever': 104,\n",
       " 'seat': 154,\n",
       " 'said': 1038,\n",
       " 'seated': 272,\n",
       " 'girl': 234,\n",
       " 'comes': 413,\n",
       " 'seating': 326,\n",
       " 'someone': 437,\n",
       " 'else': 577,\n",
       " '52': 6,\n",
       " 'waiter': 345,\n",
       " 'got': 1831,\n",
       " 'drink': 842,\n",
       " 'orders': 155,\n",
       " 'pleasant': 183,\n",
       " 'host': 64,\n",
       " 'us': 1907,\n",
       " 'server': 664,\n",
       " 'prices': 905,\n",
       " 'good': 6801,\n",
       " 'well': 2210,\n",
       " 'placed': 76,\n",
       " 'decided': 559,\n",
       " 'wanted': 676,\n",
       " '6': 451,\n",
       " '02': 4,\n",
       " 'shared': 159,\n",
       " 'baked': 148,\n",
       " 'spaghetti': 47,\n",
       " 'calzone': 32,\n",
       " 'small': 942,\n",
       " 'beef': 624,\n",
       " 'pizza': 1372,\n",
       " 'try': 1721,\n",
       " 'huge': 715,\n",
       " 'smallest': 10,\n",
       " 'one': 4106,\n",
       " '(': 5652,\n",
       " 'personal': 141,\n",
       " ')': 2645,\n",
       " '11': 159,\n",
       " 'awesome': 827,\n",
       " 'liked': 437,\n",
       " 'sweetish': 2,\n",
       " 'sauce': 1222,\n",
       " 'box': 165,\n",
       " 'part': 475,\n",
       " 'take': 1211,\n",
       " 'home': 902,\n",
       " 'door': 430,\n",
       " '42': 8,\n",
       " 'great': 5127,\n",
       " 'reviewers': 50,\n",
       " 'things': 833,\n",
       " 'serious': 80,\n",
       " 'issues': 87,\n",
       " 'love': 2250,\n",
       " 'gyro': 94,\n",
       " 'plate': 502,\n",
       " 'rice': 646,\n",
       " 'also': 2516,\n",
       " 'dig': 52,\n",
       " 'candy': 82,\n",
       " 'selection': 726,\n",
       " ':)': 337,\n",
       " 'rosie': 6,\n",
       " 'dakota': 2,\n",
       " 'chaparral': 8,\n",
       " 'dog': 335,\n",
       " 'park': 279,\n",
       " '!!!': 438,\n",
       " 'convenient': 96,\n",
       " 'surrounded': 20,\n",
       " 'lot': 985,\n",
       " 'paths': 10,\n",
       " 'desert': 204,\n",
       " 'xeriscape': 1,\n",
       " 'baseball': 50,\n",
       " 'fields': 22,\n",
       " 'ballparks': 1,\n",
       " 'lake': 34,\n",
       " 'ducks': 11,\n",
       " 'scottsdale': 673,\n",
       " 'rec': 5,\n",
       " 'dept': 13,\n",
       " 'wonderful': 473,\n",
       " 'job': 344,\n",
       " 'keeping': 53,\n",
       " 'clean': 746,\n",
       " 'shaded': 11,\n",
       " 'find': 1068,\n",
       " 'trash': 38,\n",
       " 'cans': 22,\n",
       " 'poopy': 1,\n",
       " 'pick': 317,\n",
       " 'mitts': 2,\n",
       " 'located': 209,\n",
       " 'fenced': 6,\n",
       " 'area': 1044,\n",
       " 'let': 596,\n",
       " 'dogs': 157,\n",
       " 'run': 305,\n",
       " 'play': 186,\n",
       " 'sniff': 2,\n",
       " 'general': 95,\n",
       " 'manager': 288,\n",
       " 'scott': 26,\n",
       " 'petello': 1,\n",
       " 'egg': 275,\n",
       " 'detail': 48,\n",
       " 'assure': 11,\n",
       " 'albeit': 32,\n",
       " 'rare': 115,\n",
       " 'speak': 105,\n",
       " 'treat': 145,\n",
       " 'guy': 428,\n",
       " 'respect': 27,\n",
       " 'state': 82,\n",
       " 'surprised': 249,\n",
       " 'walk': 407,\n",
       " 'totally': 241,\n",
       " 'satisfied': 90,\n",
       " 'always': 2020,\n",
       " 'say': 1302,\n",
       " '.....': 191,\n",
       " 'mistakes': 10,\n",
       " 'inevitable': 3,\n",
       " 'recover': 7,\n",
       " 'important': 98,\n",
       " '\"!!!': 1,\n",
       " 'thanks': 219,\n",
       " 'staff': 1496,\n",
       " 'customer': 450,\n",
       " 'life': 246,\n",
       " '!!': 706,\n",
       " '..........': 4,\n",
       " ':^)': 1,\n",
       " 'quiessence': 6,\n",
       " 'put': 517,\n",
       " 'beautiful': 293,\n",
       " 'full': 646,\n",
       " 'windows': 61,\n",
       " 'earthy': 11,\n",
       " 'wooden': 25,\n",
       " 'walls': 116,\n",
       " 'feeling': 217,\n",
       " 'warmth': 7,\n",
       " 'inside': 592,\n",
       " 'restaurant': 1750,\n",
       " 'perched': 4,\n",
       " 'middle': 169,\n",
       " 'farm': 70,\n",
       " 'seemed': 370,\n",
       " 'fairly': 164,\n",
       " 'even': 2014,\n",
       " 'tuesday': 89,\n",
       " ';': 652,\n",
       " 'secured': 4,\n",
       " 'reservations': 73,\n",
       " 'couple': 517,\n",
       " 'days': 299,\n",
       " 'sampled': 40,\n",
       " 'sandwiches': 326,\n",
       " 'kitchen': 341,\n",
       " 'week': 476,\n",
       " 'impressed': 333,\n",
       " 'enough': 833,\n",
       " 'want': 1294,\n",
       " 'eat': 1175,\n",
       " 'crisp': 126,\n",
       " 'veggies': 197,\n",
       " 'disappoint': 58,\n",
       " 'ordered': 1705,\n",
       " 'salad': 1273,\n",
       " 'orange': 169,\n",
       " 'grapefruit': 15,\n",
       " 'slices': 152,\n",
       " 'crudites': 1,\n",
       " 'start': 322,\n",
       " 'know': 1613,\n",
       " 'much': 1754,\n",
       " 'raw': 81,\n",
       " 'radishes': 4,\n",
       " 'turnips': 1,\n",
       " 'tried': 762,\n",
       " 'pesto': 83,\n",
       " 'aioli': 21,\n",
       " 'sauces': 158,\n",
       " 'entrees': 209,\n",
       " 'lamb': 125,\n",
       " 'pork': 550,\n",
       " 'shoulder': 24,\n",
       " 'service': 3169,\n",
       " 'started': 386,\n",
       " 'trailed': 1,\n",
       " 'waiting': 379,\n",
       " 'long': 815,\n",
       " 'time': 3504,\n",
       " 'received': 169,\n",
       " 'finished': 152,\n",
       " '),': 816,\n",
       " 'bothered': 30,\n",
       " 'explain': 77,\n",
       " 'situation': 69,\n",
       " 'maitre': 4,\n",
       " 'apologized': 52,\n",
       " 'almost': 514,\n",
       " '45': 105,\n",
       " 'minutes': 797,\n",
       " 'later': 312,\n",
       " 'apparently': 132,\n",
       " 'chef': 258,\n",
       " 'unhappy': 18,\n",
       " 'entree': 186,\n",
       " 'anew': 2,\n",
       " 'really': 3366,\n",
       " 'problem': 291,\n",
       " 'communicated': 3,\n",
       " 'troubles': 2,\n",
       " 'comped': 19,\n",
       " 'glass': 358,\n",
       " 'wine': 808,\n",
       " 'forgot': 108,\n",
       " 'bring': 411,\n",
       " 'requested': 40,\n",
       " 'offer': 350,\n",
       " 'echo': 21,\n",
       " 'lady': 171,\n",
       " 'whispered': 2,\n",
       " 'way': 1470,\n",
       " 'ask': 559,\n",
       " 'warm': 319,\n",
       " 'foccacia': 7,\n",
       " 'apple': 103,\n",
       " 'walnut': 29,\n",
       " 'pomegranate': 20,\n",
       " 'wonder': 86,\n",
       " 'honey': 133,\n",
       " 'butter': 267,\n",
       " 'yum': 216,\n",
       " 'solid': 143,\n",
       " 'quite': 653,\n",
       " 'live': 453,\n",
       " 'innovation': 2,\n",
       " 'freshness': 23,\n",
       " 'vegetables': 121,\n",
       " 'meat': 730,\n",
       " 'tough': 86,\n",
       " 'maybe': 657,\n",
       " 'vegetarian': 175,\n",
       " '?': 2172,\n",
       " 'dessert': 428,\n",
       " 'gingerbread': 4,\n",
       " 'pear': 31,\n",
       " 'cake': 279,\n",
       " 'yet': 440,\n",
       " 'another': 967,\n",
       " 'winner': 41,\n",
       " 'tad': 59,\n",
       " 'inspired': 33,\n",
       " 'spotty': 11,\n",
       " 'definitely': 1146,\n",
       " 'warranted': 3,\n",
       " 'five': 265,\n",
       " 'stars': 862,\n",
       " 'return': 356,\n",
       " '75': 65,\n",
       " '$': 2113,\n",
       " 'tasting': 174,\n",
       " 'bill': 261,\n",
       " '100': 159,\n",
       " 'two': 1355,\n",
       " 'including': 211,\n",
       " 'tip': 245,\n",
       " 'drinks': 858,\n",
       " 'drop': 100,\n",
       " 'drive': 411,\n",
       " 'ate': 333,\n",
       " 'next': 1069,\n",
       " 'day': 1223,\n",
       " 'cute': 275,\n",
       " 'little': 2221,\n",
       " 'green': 480,\n",
       " 'building': 151,\n",
       " 'may': 514,\n",
       " 'gone': 228,\n",
       " 'competely': 1,\n",
       " 'unoticed': 1,\n",
       " 'driving': 105,\n",
       " 'palm': 8,\n",
       " 'rd': 37,\n",
       " 'avoid': 112,\n",
       " 'construction': 21,\n",
       " 'turn': 114,\n",
       " 'onto': 67,\n",
       " '16th': 12,\n",
       " 'street': 368,\n",
       " 'grand': 57,\n",
       " 'opening': 115,\n",
       " 'sign': 179,\n",
       " 'caught': 58,\n",
       " 'eye': 143,\n",
       " 'yelping': 9,\n",
       " 'soul': 32,\n",
       " 'leaped': 1,\n",
       " 'joy': 30,\n",
       " 'new': 1230,\n",
       " 'desolate': 3,\n",
       " 'opened': 198,\n",
       " 'easy': 322,\n",
       " 'decor': 412,\n",
       " 'smell': 128,\n",
       " 'cleanliness': 34,\n",
       " 'dinner': 990,\n",
       " 'loved': 520,\n",
       " 'seeing': 136,\n",
       " 'variety': 289,\n",
       " 'poblano': 13,\n",
       " 'peppers': 140,\n",
       " 'mole': 31,\n",
       " 'mahi': 40,\n",
       " 'mushrooms': 143,\n",
       " 'wrapped': 75,\n",
       " 'banana': 104,\n",
       " 'leaves': 69,\n",
       " 'difficult': 103,\n",
       " 'choose': 267,\n",
       " 'far': 585,\n",
       " 'la': 164,\n",
       " 'condesa': 10,\n",
       " 'shrimp': 455,\n",
       " 'burro': 27,\n",
       " 'baja': 26,\n",
       " 'sur': 7,\n",
       " 'dogfish': 4,\n",
       " 'shark': 1,\n",
       " 'taco': 249,\n",
       " 'meals': 194,\n",
       " 'stole': 11,\n",
       " 'flavor': 679,\n",
       " 'snagged': 8,\n",
       " 'bites': 65,\n",
       " 'hubbys': 2,\n",
       " 'burros': 7,\n",
       " 'mmmm': 33,\n",
       " 'delight': 51,\n",
       " 'salsa': 398,\n",
       " 'bar': 1602,\n",
       " 'endless': 23,\n",
       " 'stocked': 55,\n",
       " 'excited': 189,\n",
       " 'strawberry': 90,\n",
       " 'hot': 865,\n",
       " 'fact': 396,\n",
       " 'big': 931,\n",
       " 'wimp': 5,\n",
       " 'horchata': 34,\n",
       " 'handmade': 19,\n",
       " 'throw': 82,\n",
       " 'pecans': 18,\n",
       " 'fruit': 162,\n",
       " 'yummy': 401,\n",
       " 'bonus': 96,\n",
       " 'win': 50,\n",
       " 'art': 155,\n",
       " 'sho': 3,\n",
       " 'sucker': 35,\n",
       " 'mexican': 528,\n",
       " 'folk': 13,\n",
       " 'frida': 3,\n",
       " 'kahlo': 3,\n",
       " 'oprah': 4,\n",
       " 'painting': 18,\n",
       " 'diego': 30,\n",
       " 'hanging': 84,\n",
       " 'paintings': 17,\n",
       " 'artist': 25,\n",
       " 'luckily': 79,\n",
       " 'travel': 69,\n",
       " 'make': 1520,\n",
       " 'connecting': 10,\n",
       " 'flight': 94,\n",
       " 'thank': 199,\n",
       " 'phoenix': 961,\n",
       " 'brief': 13,\n",
       " 'layover': 7,\n",
       " 'employees': 222,\n",
       " 'kind': 691,\n",
       " 'hopefully': 67,\n",
       " 'grace': 29,\n",
       " 'presence': 17,\n",
       " 'longer': 175,\n",
       " 'come': 1244,\n",
       " 'happy': 1141,\n",
       " 'hour': 974,\n",
       " 'sake': 76,\n",
       " 'bombers': 9,\n",
       " '3': 1187,\n",
       " 'atmosphere': 799,\n",
       " 'incredibly': 107,\n",
       " 'nice': 2217,\n",
       " 'right': 1371,\n",
       " 'needs': 207,\n",
       " 'thing': 987,\n",
       " 'spot': 574,\n",
       " 'gets': 311,\n",
       " 'especially': 449,\n",
       " 'plan': 140,\n",
       " 'wish': 337,\n",
       " 'apollo': 3,\n",
       " 'beach': 37,\n",
       " 'brandon': 2,\n",
       " 'nobuo': 10,\n",
       " 'shows': 78,\n",
       " 'unique': 255,\n",
       " 'talents': 3,\n",
       " 'carefully': 12,\n",
       " 'crafted': 12,\n",
       " 'features': 32,\n",
       " 'belly': 58,\n",
       " 'buns': 33,\n",
       " 'stout': 23,\n",
       " 'oldish': 1,\n",
       " 'man': 263,\n",
       " 'owns': 15,\n",
       " 'store': 822,\n",
       " 'sweet': 840,\n",
       " 'perhaps': 165,\n",
       " 'sweeter': 12,\n",
       " 'cookies': 126,\n",
       " 'ice': 503,\n",
       " 'cream': 614,\n",
       " 'lowdown': 3,\n",
       " 'giant': 76,\n",
       " 'cookie': 124,\n",
       " 'super': 653,\n",
       " 'cheap': 417,\n",
       " 'permutations': 1,\n",
       " 'basically': 131,\n",
       " 'snickerdoodle': 9,\n",
       " 'marvelous': 9,\n",
       " 'vietnamese': 115,\n",
       " 'sandwich': 882,\n",
       " 'shoppe': 4,\n",
       " 'baguettes': 3,\n",
       " 'oven': 85,\n",
       " 'choices': 213,\n",
       " 'modest': 20,\n",
       " 'goods': 56,\n",
       " 'along': 264,\n",
       " 'rolls': 319,\n",
       " 'around': 1132,\n",
       " 'cash': 141,\n",
       " 'atm': 24,\n",
       " 'card': 214,\n",
       " 'credit': 103,\n",
       " 'cards': 63,\n",
       " 'accepted': 17,\n",
       " 'premises': 12,\n",
       " 'limited': 122,\n",
       " 'going': 1423,\n",
       " 'bbq': 372,\n",
       " 'chicken': 1746,\n",
       " 'last': 969,\n",
       " 'tomato': 252,\n",
       " 'basil': 132,\n",
       " 'soup': 545,\n",
       " 'every': 1065,\n",
       " 'rate': 91,\n",
       " 'jason': 23,\n",
       " 'deli': 107,\n",
       " '4': 942,\n",
       " 'tattoo': 10,\n",
       " 'shop': 467,\n",
       " 'space': 233,\n",
       " 'multiple': 76,\n",
       " 'artists': 23,\n",
       " 'books': 90,\n",
       " 'work': 763,\n",
       " 'available': 229,\n",
       " 'look': 631,\n",
       " 'though': 1055,\n",
       " 'decide': 82,\n",
       " 'style': 446,\n",
       " 'mirrors': 14,\n",
       " 'looking': 801,\n",
       " 'chose': 121,\n",
       " 'jet': 6,\n",
       " 'cover': 90,\n",
       " 'worked': 145,\n",
       " 'design': 67,\n",
       " 'ideas': 19,\n",
       " 'communication': 9,\n",
       " 'flowed': 3,\n",
       " 'personable': 39,\n",
       " 'friendly': 1527,\n",
       " 'keeps': 61,\n",
       " 'conversation': 113,\n",
       " 'working': 274,\n",
       " 'dick': 18,\n",
       " 'read': 249,\n",
       " 'starts': 42,\n",
       " 'continues': 23,\n",
       " 'done': 436,\n",
       " ').': 1498,\n",
       " 'professional': 133,\n",
       " 'informative': 28,\n",
       " 'combines': 5,\n",
       " 'talent': 15,\n",
       " 'craft': 47,\n",
       " 'weeks': 171,\n",
       " 'irish': 56,\n",
       " 'bars': 136,\n",
       " 'town': 635,\n",
       " 'found': 703,\n",
       " 'ambience': 68,\n",
       " 'outstanding': 135,\n",
       " 'went': 1516,\n",
       " 'wednesday': 61,\n",
       " 'night': 1485,\n",
       " 'hopes': 35,\n",
       " 'finding': 90,\n",
       " 'folks': 142,\n",
       " 'exactly': 188,\n",
       " 'happened': 131,\n",
       " 'marcy': 1,\n",
       " 'bartender': 205,\n",
       " 'helpful': 377,\n",
       " 'introduced': 41,\n",
       " 'whole': 490,\n",
       " 'bunch': 128,\n",
       " 'rueben': 3,\n",
       " 'large': 645,\n",
       " 'side': 960,\n",
       " 'lettuce': 195,\n",
       " 'iceburg': 6,\n",
       " 'bacon': 378,\n",
       " '&': 1126,\n",
       " 'toppings': 211,\n",
       " 'helped': 119,\n",
       " 'drank': 31,\n",
       " 'cold': 287,\n",
       " 'smithwick': 3,\n",
       " 'tap': 125,\n",
       " 'followed': 49,\n",
       " 'vodka': 64,\n",
       " 'tonics': 1,\n",
       " 'tab': 33,\n",
       " '25': 169,\n",
       " 'basketball': 21,\n",
       " 'game': 287,\n",
       " 'first': 1636,\n",
       " 'jukebox': 21,\n",
       " 'playing': 165,\n",
       " 'fabulous': 171,\n",
       " 'mix': 170,\n",
       " 'oldies': 5,\n",
       " '10pm': 21,\n",
       " 'band': 95,\n",
       " 'played': 67,\n",
       " 'catch': 75,\n",
       " 'performance': 22,\n",
       " 'notice': 95,\n",
       " 'singer': 8,\n",
       " 'voice': 33,\n",
       " 'since': 1150,\n",
       " 'typically': 86,\n",
       " 'care': 450,\n",
       " 'female': 23,\n",
       " 'vocalists': 1,\n",
       " 'spoke': 40,\n",
       " 'welcoming': 80,\n",
       " 'see': 1175,\n",
       " 'forward': 175,\n",
       " 'worth': 790,\n",
       " '21': 41,\n",
       " 'guys': 278,\n",
       " 'grandma': 32,\n",
       " 'died': 15,\n",
       " 'tell': 417,\n",
       " 'mad': 29,\n",
       " 'experience': 1157,\n",
       " 'could': 1564,\n",
       " 'cared': 17,\n",
       " 'less': 462,\n",
       " 'sat': 375,\n",
       " 'hmm': 26,\n",
       " 'saying': 194,\n",
       " 'x': 25,\n",
       " '23': 14,\n",
       " '$\".': 1,\n",
       " 'wow': 233,\n",
       " 'told': 615,\n",
       " 'left': 553,\n",
       " 'hungry': 199,\n",
       " 'unsatisfied': 7,\n",
       " 'owner': 367,\n",
       " 'teach': 17,\n",
       " 'value': 180,\n",
       " 'upselling': 3,\n",
       " 'telling': 49,\n",
       " 'specials': 242,\n",
       " 'affect': 7,\n",
       " 'customers': 251,\n",
       " 'negatively': 2,\n",
       " 'salads': 230,\n",
       " 'severely': 13,\n",
       " 'overpriced': 128,\n",
       " 'unless': 189,\n",
       " 'desperate': 10,\n",
       " 'afternoon': 194,\n",
       " 'empty': 193,\n",
       " 'brunch': 158,\n",
       " 'mimosas': 21,\n",
       " 'mood': 144,\n",
       " 'lunch': 1272,\n",
       " 'except': 163,\n",
       " 'high': 556,\n",
       " 'ball': 74,\n",
       " 'sized': 133,\n",
       " 'boo': 20,\n",
       " 'yay': 56,\n",
       " 'hubby': 116,\n",
       " 'remembered': 63,\n",
       " 'arrogant': 13,\n",
       " 'bastard': 6,\n",
       " '22': 29,\n",
       " 'oz': 72,\n",
       " 'bottle': 203,\n",
       " 'hey': 111,\n",
       " 'fair': 170,\n",
       " 'wings': 273,\n",
       " 'bit': 1059,\n",
       " 'hesitant': 23,\n",
       " 'informed': 60,\n",
       " 'seasoned': 132,\n",
       " 'sauced': 12,\n",
       " 'crispy': 239,\n",
       " 'asked': 700,\n",
       " 'cooks': 35,\n",
       " 'visibly': 5,\n",
       " 'non': 198,\n",
       " 'traditional': 144,\n",
       " 'actually': 720,\n",
       " 'damn': 146,\n",
       " 'seasoning': 50,\n",
       " 'spicy': 547,\n",
       " 'salty': 143,\n",
       " 'hint': 56,\n",
       " 'tang': 9,\n",
       " 'kick': 122,\n",
       " 'frank': 39,\n",
       " 'cut': 254,\n",
       " 'otherwise': 115,\n",
       " 'tilapia': 16,\n",
       " 'disappointed': 421,\n",
       " 'fish': 474,\n",
       " 'dry': 284,\n",
       " 'uninspired': 11,\n",
       " 'greens': 86,\n",
       " 'underneath': 15,\n",
       " 'overdressed': 2,\n",
       " 'wilted': 12,\n",
       " 'picked': 138,\n",
       " 'almonds': 14,\n",
       " 'mandarin': 13,\n",
       " 'oranges': 11,\n",
       " 'leave': 274,\n",
       " 'mush': 10,\n",
       " 'hiding': 14,\n",
       " 'anxiously': 4,\n",
       " 'awaiting': 6,\n",
       " 'trip': 293,\n",
       " 'okay': 370,\n",
       " 'grew': 45,\n",
       " 'shopping': 252,\n",
       " 'los': 68,\n",
       " 'gatos': 1,\n",
       " 'oakville': 3,\n",
       " 'shock': 13,\n",
       " 'saw': 336,\n",
       " 'world': 209,\n",
       " 'stuff': 449,\n",
       " 'cheese': 1378,\n",
       " 'arizona': 313,\n",
       " 'dean': 5,\n",
       " 'deluca': 1,\n",
       " 'met': 134,\n",
       " 'yesterday': 88,\n",
       " 'water': 523,\n",
       " 'feature': 38,\n",
       " 'patio': 528,\n",
       " 'walking': 229,\n",
       " 'warmer': 17,\n",
       " 'dark': 198,\n",
       " 'guess': 354,\n",
       " 'bats': 6,\n",
       " 'reminded': 71,\n",
       " 'dusk': 4,\n",
       " 'till': 48,\n",
       " 'dawn': 4,\n",
       " '\".': 282,\n",
       " 'hope': 220,\n",
       " 'hoping': 85,\n",
       " 'chips': 478,\n",
       " 'serve': 328,\n",
       " 'offered': 223,\n",
       " 'ones': 232,\n",
       " 'declined': 18,\n",
       " 'complimentary': 75,\n",
       " 'anyhow': 24,\n",
       " 'snapper': 6,\n",
       " 'tacos': 463,\n",
       " 'pics': 26,\n",
       " 'smothered': 27,\n",
       " '15': 326,\n",
       " 'tbsp': 1,\n",
       " 'beans': 344,\n",
       " 'teaspoon': 2,\n",
       " 'sour': 143,\n",
       " 'lime': 68,\n",
       " 'lemon': 137,\n",
       " 'garnish': 16,\n",
       " 'anything': 661,\n",
       " 'chile': 107,\n",
       " 'stew': 47,\n",
       " 'mac': 192,\n",
       " 'knew': 226,\n",
       " 'tasted': 459,\n",
       " 'macaroni': 36,\n",
       " 'gotten': 113,\n",
       " 'review': 610,\n",
       " 'written': 42,\n",
       " 'contact': 52,\n",
       " 'ago': 334,\n",
       " 'trouble': 49,\n",
       " 'redeeming': 13,\n",
       " 'groupons': 4,\n",
       " 'website': 110,\n",
       " 'called': 390,\n",
       " 'rep': 7,\n",
       " 'cheerfully': 7,\n",
       " 'booked': 36,\n",
       " 'four': 329,\n",
       " 'separate': 67,\n",
       " 'flights': 22,\n",
       " 'patiently': 13,\n",
       " 'manually': 3,\n",
       " 'entering': 41,\n",
       " 'groupon': 91,\n",
       " 'info': 17,\n",
       " 'think': 1552,\n",
       " 'acquisition': 1,\n",
       " 'republic': 22,\n",
       " 'overall': 549,\n",
       " 'still': 1212,\n",
       " 'tends': 20,\n",
       " 'suck': 37,\n",
       " 'ascent': 2,\n",
       " 'club': 208,\n",
       " 'budget': 53,\n",
       " 'centric': 4,\n",
       " 'airline': 12,\n",
       " 'fly': 51,\n",
       " 'southwest': 45,\n",
       " 'usair': 1,\n",
       " 'comparison': 35,\n",
       " 'dvap': 1,\n",
       " '....': 842,\n",
       " 'least': 536,\n",
       " 'neat': 65,\n",
       " 'alot': 53,\n",
       " 'history': 42,\n",
       " 'appears': 43,\n",
       " 'family': 535,\n",
       " 'dennys': 6,\n",
       " 'mimi': 16,\n",
       " 'u': 56,\n",
       " 'ribs': 176,\n",
       " 'lasagna': 24,\n",
       " 'loaf': 17,\n",
       " 'cat': 34,\n",
       " 'mashed': 100,\n",
       " 'diced': 13,\n",
       " 'potatoes': 282,\n",
       " 'stuffing': 27,\n",
       " 'homemade': 170,\n",
       " 'pie': 172,\n",
       " 'etc': 357,\n",
       " 'missing': 107,\n",
       " 'drift': 10,\n",
       " 'prime': 66,\n",
       " 'rib': 84,\n",
       " 'might': 406,\n",
       " 'call': 386,\n",
       " 'serving': 163,\n",
       " 'reviewed': 32,\n",
       " 'keep': 387,\n",
       " '=)': 26,\n",
       " 'garlic': 243,\n",
       " 'knots': 9,\n",
       " 'favorite': 887,\n",
       " 'course': 509,\n",
       " 'n': 174,\n",
       " 'check': 708,\n",
       " 'car': 359,\n",
       " 'wanna': 34,\n",
       " 'buy': 314,\n",
       " '1': 831,\n",
       " 'wrong': 370,\n",
       " 'move': 115,\n",
       " 'biggest': 83,\n",
       " 'mistake': 80,\n",
       " 'ur': 3,\n",
       " 'girlfriend': 105,\n",
       " 'oil': 197,\n",
       " 'ripped': 21,\n",
       " 'lying': 9,\n",
       " 'without': 550,\n",
       " 'fixing': 15,\n",
       " 'accident': 18,\n",
       " 'brand': 86,\n",
       " 'tires': 38,\n",
       " 'timing': 16,\n",
       " 'belt': 24,\n",
       " 'brake': 4,\n",
       " 'pads': 5,\n",
       " 'worst': 158,\n",
       " 'changed': 119,\n",
       " 'months': 214,\n",
       " 'trashy': 5,\n",
       " 'dealer': 6,\n",
       " 'somewhere': 147,\n",
       " 'coming': 419,\n",
       " 'ages': 26,\n",
       " 'favorites': 125,\n",
       " 'elsa': 2,\n",
       " 'burgers': 288,\n",
       " 'dragon': 19,\n",
       " 'china': 64,\n",
       " 'pepper': 126,\n",
       " 'fun': 625,\n",
       " 'display': 37,\n",
       " 'abstract': 2,\n",
       " 'cool': 639,\n",
       " 'ole': 9,\n",
       " 'fashion': 78,\n",
       " 'real': 419,\n",
       " 'vibe': 156,\n",
       " 'sorta': 18,\n",
       " 'reminds': 74,\n",
       " 'sugar': 129,\n",
       " 'bowl': 309,\n",
       " 'smaller': 109,\n",
       " 'easier': 44,\n",
       " 'parking': 564,\n",
       " 'ginormous': 11,\n",
       " 'matter': 142,\n",
       " 'basic': 88,\n",
       " 'insisted': 29,\n",
       " 'sharing': 52,\n",
       " 'patte': 1,\n",
       " 'scoops': 18,\n",
       " 'brownie': 55,\n",
       " 'topped': 110,\n",
       " 'whip': 13,\n",
       " 'caramel': 65,\n",
       " 'scoop': 39,\n",
       " 'taste': 734,\n",
       " 'brittle': 11,\n",
       " 'tons': 149,\n",
       " 'different': 770,\n",
       " 'flavors': 322,\n",
       " 'sound': 125,\n",
       " 'delish': 108,\n",
       " 'need': 786,\n",
       " 'rush': 81,\n",
       " 'boss': 21,\n",
       " 'healthy': 179,\n",
       " 'eating': 507,\n",
       " 'recommended': 170,\n",
       " 'highly': 340,\n",
       " 'skeptical': 21,\n",
       " 'friends': 707,\n",
       " 'convert': 8,\n",
       " 'believers': 2,\n",
       " 'dumplings': 37,\n",
       " 'onion': 241,\n",
       " 'tart': 59,\n",
       " 'starters': 27,\n",
       " 'shirataki': 1,\n",
       " 'noodles': 202,\n",
       " 'kale': 25,\n",
       " 'aid': 33,\n",
       " 'dishes': 521,\n",
       " 'times': 1088,\n",
       " 'never': 1541,\n",
       " 'yoga': 48,\n",
       " ...}"
      ]
     },
     "execution_count": 58,
     "metadata": {},
     "output_type": "execute_result"
    }
   ],
   "source": [
    "frequency_words_wo_stop"
   ]
  },
  {
   "cell_type": "markdown",
   "metadata": {},
   "source": [
    "### Yelp data - Word clouds"
   ]
  },
  {
   "cell_type": "code",
   "execution_count": 60,
   "metadata": {},
   "outputs": [],
   "source": [
    "from wordcloud import WordCloud ,STOPWORDS"
   ]
  },
  {
   "cell_type": "code",
   "execution_count": 66,
   "metadata": {},
   "outputs": [
    {
     "data": {
      "text/plain": [
       "<matplotlib.image.AxesImage at 0x1b80c0b8>"
      ]
     },
     "execution_count": 66,
     "metadata": {},
     "output_type": "execute_result"
    },
    {
     "data": {
      "image/png": "[encoded data removed]",
      "text/plain": [
       "<Figure size 14400x7200 with 1 Axes>"
      ]
     },
     "metadata": {},
     "output_type": "display_data"
    }
   ],
   "source": [
    "wordcloud = WordCloud(stopwords=[]).generate(' '.join(X_train.tolist()))\n",
    "\n",
    "%matplotlib inline\n",
    "fig = plt.figure(figsize=(200,100))\n",
    "plt.imshow(wordcloud)"
   ]
  },
  {
   "cell_type": "markdown",
   "metadata": {},
   "source": [
    "### Create user defined function for train the models"
   ]
  },
  {
   "cell_type": "code",
   "execution_count": 67,
   "metadata": {},
   "outputs": [],
   "source": [
    "def train_model(classifier, feature_vector_train, label, feature_vector_valid,  valid_y, is_neural_net=False):\n",
    "    # fit the training dataset on the classifier\n",
    "    classifier.fit(feature_vector_train, label)\n",
    "    \n",
    "    # predict the labels on validation dataset\n",
    "    predictions = classifier.predict(feature_vector_valid)\n",
    "    \n",
    "    if is_neural_net:\n",
    "        predictions = predictions.argmax(axis=-1)\n",
    "    \n",
    "    return metrics.accuracy_score(predictions, valid_y)"
   ]
  },
  {
   "cell_type": "markdown",
   "metadata": {},
   "source": [
    "### Building different models with different vectors"
   ]
  },
  {
   "cell_type": "code",
   "execution_count": 68,
   "metadata": {},
   "outputs": [
    {
     "name": "stdout",
     "output_type": "stream",
     "text": [
      "NB  for L1, Count Vectors:  0.4736\n",
      "NB  for L1, WordLevel TF-IDF:  0.508\n",
      "NB  for L1, N-Gram Vectors:  0.4512\n",
      "NB for L1, CharLevel Vectors:  0.4028\n"
     ]
    }
   ],
   "source": [
    "#Naive Bayes\n",
    "# Naive Bayes on Count Vectors and TF-IDF\n",
    "accuracy_L1 = train_model(naive_bayes.MultinomialNB(), X_train_tfidf, y_train, X_test_tfidf, y_test)\n",
    "print(\"NB  for L1, Count Vectors: \", accuracy_L1)\n",
    "\n",
    "\n",
    "\n",
    "# Naive Bayes on Word Level TF IDF Vectors\n",
    "accuracy_L1 = train_model(naive_bayes.MultinomialNB(), xtrain_count, y_train, xtest_count, y_test)\n",
    "print(\"NB  for L1, WordLevel TF-IDF: \", accuracy_L1)\n",
    "\n",
    "\n",
    "\n",
    "# Naive Bayes on Ngram Level TF IDF Vectors\n",
    "accuracy_L1 = train_model(naive_bayes.MultinomialNB(), xtrain_tfidf_ngram, y_train, xtest_tfidf_ngram, y_test)\n",
    "print(\"NB  for L1, N-Gram Vectors: \", accuracy_L1)\n",
    "\n",
    "\n",
    "\n",
    "# Naive Bayes on Character Level TF IDF Vectors\n",
    "accuracy_L1 = train_model(naive_bayes.MultinomialNB(), xtrain_tfidf_ngram_chars, y_train, xtest_tfidf_ngram_chars, y_test)\n",
    "print(\"NB for L1, CharLevel Vectors: \", accuracy_L1)\n",
    "\n"
   ]
  },
  {
   "cell_type": "code",
   "execution_count": 69,
   "metadata": {},
   "outputs": [
    {
     "name": "stdout",
     "output_type": "stream",
     "text": [
      "LR  for L1, Count Vectors:  0.5164\n",
      "LR  for L1, WordLevel TF-IDF:  0.4824\n",
      "LR  for L1, N-Gram Vectors:  0.4988\n",
      "LR for L1, CharLevel Vectors:  0.4324\n"
     ]
    }
   ],
   "source": [
    "#Logistic Regression\n",
    "# Logistic Regression on Count Vectors and TF-IDF\n",
    "accuracy_L1 = train_model(LogisticRegression(), X_train_tfidf, y_train, X_test_tfidf, y_test)\n",
    "print(\"LR  for L1, Count Vectors: \", accuracy_L1)\n",
    "\n",
    "\n",
    "\n",
    "# Logistic Regression on Word Level TF IDF Vectors\n",
    "accuracy_L1 = train_model(LogisticRegression(), xtrain_count, y_train, xtest_count, y_test)\n",
    "print(\"LR  for L1, WordLevel TF-IDF: \", accuracy_L1)\n",
    "\n",
    "\n",
    "\n",
    "# Logistic Regression on Ngram Level TF IDF Vectors\n",
    "accuracy_L1 = train_model(LogisticRegression(), xtrain_tfidf_ngram, y_train, xtest_tfidf_ngram, y_test)\n",
    "print(\"LR  for L1, N-Gram Vectors: \", accuracy_L1)\n",
    "\n",
    "\n",
    "\n",
    "# Logistic Regression on Character Level TF IDF Vectors\n",
    "accuracy_L1 = train_model(LogisticRegression(), xtrain_tfidf_ngram_chars, y_train, xtest_tfidf_ngram_chars, y_test)\n",
    "print(\"LR for L1, CharLevel Vectors: \", accuracy_L1)"
   ]
  },
  {
   "cell_type": "code",
   "execution_count": 71,
   "metadata": {},
   "outputs": [
    {
     "name": "stdout",
     "output_type": "stream",
     "text": [
      "SVC  for L1, Count Vectors:  0.4976\n",
      "SVC  for L1, WordLevel TF-IDF:  0.4848\n",
      "SVC  for L1, N-Gram Vectors:  0.4976\n",
      "SVC for L1, CharLevel Vectors:  0.4608\n"
     ]
    }
   ],
   "source": [
    "#Linear SVC\n",
    "# Linear SVC on Count Vectors and TF-IDF\n",
    "accuracy_L1 = train_model(svm.LinearSVC(), X_train_tfidf, y_train, X_test_tfidf, y_test)\n",
    "print(\"SVC  for L1, Count Vectors: \", accuracy_L1)\n",
    "\n",
    "\n",
    "\n",
    "# Linear SVC on Word Level TF IDF Vectors\n",
    "accuracy_L1 = train_model(svm.LinearSVC(), xtrain_count, y_train, xtest_count, y_test)\n",
    "print(\"SVC  for L1, WordLevel TF-IDF: \", accuracy_L1)\n",
    "\n",
    "\n",
    "\n",
    "# Linear SVC on Ngram Level TF IDF Vectors\n",
    "accuracy_L1 = train_model(svm.LinearSVC(), xtrain_tfidf_ngram, y_train, xtest_tfidf_ngram, y_test)\n",
    "print(\"SVC  for L1, N-Gram Vectors: \", accuracy_L1)\n",
    "\n",
    "\n",
    "\n",
    "# Linear SVC on Character Level TF IDF Vectors\n",
    "accuracy_L1 = train_model(svm.LinearSVC(), xtrain_tfidf_ngram_chars, y_train, xtest_tfidf_ngram_chars, y_test)\n",
    "print(\"SVC for L1, CharLevel Vectors: \", accuracy_L1)"
   ]
  },
  {
   "cell_type": "markdown",
   "metadata": {},
   "source": [
    "### Adding Features to a Document-Term Matrix"
   ]
  },
  {
   "cell_type": "code",
   "execution_count": 214,
   "metadata": {},
   "outputs": [],
   "source": [
    "# create a DataFrame that only contains the 5-star and 1-star reviews\n",
    "#yelp_best_worst = yelp[(yelp.stars==5) | (yelp.stars==1)]\n",
    "\n",
    "# define X and y\n",
    "feature_cols = ['text', 'sentiment', 'cool', 'useful', 'funny']\n",
    "X = yelp[feature_cols]\n",
    "y = yelp.stars\n",
    "\n",
    "# split into training and testing sets\n",
    "X_train, X_test, y_train, y_test = train_test_split(X, y, random_state=1)"
   ]
  },
  {
   "cell_type": "code",
   "execution_count": 215,
   "metadata": {},
   "outputs": [
    {
     "name": "stdout",
     "output_type": "stream",
     "text": [
      "(7500, 25797)\n",
      "(2500, 25797)\n"
     ]
    },
    {
     "data": {
      "text/plain": [
       "(7500, 4)"
      ]
     },
     "execution_count": 215,
     "metadata": {},
     "output_type": "execute_result"
    }
   ],
   "source": [
    "# use CountVectorizer with text column only\n",
    "vect = CountVectorizer()\n",
    "X_train_dtm = vect.fit_transform(X_train.text)\n",
    "X_test_dtm = vect.transform(X_test.text)\n",
    "print(X_train_dtm.shape)\n",
    "print(X_test_dtm.shape)\n",
    "\n",
    "# shape of other four feature columns\n",
    "X_train.drop('text', axis=1).shape"
   ]
  },
  {
   "cell_type": "code",
   "execution_count": 216,
   "metadata": {},
   "outputs": [
    {
     "data": {
      "text/plain": [
       "(2500, 25801)"
      ]
     },
     "execution_count": 216,
     "metadata": {},
     "output_type": "execute_result"
    }
   ],
   "source": [
    "# cast other feature columns to float and convert to a sparse matrix\n",
    "extra = sparse.csr_matrix(X_train.drop('text', axis=1).astype(float))\n",
    "extra.shape\n",
    "\n",
    "# combine sparse matrices\n",
    "X_train_dtm_extra = sparse.hstack((X_train_dtm, extra))\n",
    "X_train_dtm_extra.shape\n",
    "\n",
    "# repeat for testing set\n",
    "extra = sparse.csr_matrix(X_test.drop('text', axis=1).astype(float))\n",
    "X_test_dtm_extra = sparse.hstack((X_test_dtm, extra))\n",
    "X_test_dtm_extra.shape"
   ]
  },
  {
   "cell_type": "code",
   "execution_count": 217,
   "metadata": {},
   "outputs": [
    {
     "name": "stdout",
     "output_type": "stream",
     "text": [
      "0.4592\n",
      "0.4672\n"
     ]
    }
   ],
   "source": [
    "# use logistic regression with text column only\n",
    "logreg = LogisticRegression(C=1e9)\n",
    "logreg.fit(X_train_dtm, y_train)\n",
    "y_pred_class = logreg.predict(X_test_dtm)\n",
    "print(metrics.accuracy_score(y_test, y_pred_class))"
   ]
  },
  {
   "cell_type": "code",
   "execution_count": null,
   "metadata": {},
   "outputs": [],
   "source": [
    "# use logistic regression with all features\n",
    "logreg = LogisticRegression(C=1e9)\n",
    "logreg.fit(X_train_dtm_extra, y_train)\n",
    "y_pred_class = logreg.predict(X_test_dtm_extra)\n",
    "print(metrics.accuracy_score(y_test, y_pred_class))"
   ]
  },
  {
   "cell_type": "code",
   "execution_count": null,
   "metadata": {},
   "outputs": [],
   "source": []
  },
  {
   "cell_type": "markdown",
   "metadata": {},
   "source": [
    "# Additional Notes (for more details of NLP process)"
   ]
  },
  {
   "cell_type": "markdown",
   "metadata": {},
   "source": [
    "## Part 2: Tokenization"
   ]
  },
  {
   "cell_type": "markdown",
   "metadata": {},
   "source": [
    "- **What:** Separate text into units such as sentences or words\n",
    "- **Why:** Gives structure to previously unstructured text\n",
    "- **Notes:** Relatively easy with English language text, not easy with some languages"
   ]
  },
  {
   "cell_type": "markdown",
   "metadata": {},
   "source": [
    "From the [scikit-learn documentation](http://scikit-learn.org/stable/modules/feature_extraction.html#text-feature-extraction):\n",
    "\n",
    "> In this scheme, features and samples are defined as follows:\n",
    "\n",
    "> - Each individual token occurrence frequency (normalized or not) is treated as a **feature**.\n",
    "> - The vector of all the token frequencies for a given document is considered a multivariate **sample**.\n",
    "\n",
    "> A **corpus of documents** can thus be represented by a matrix with **one row per document** and **one column per token** (e.g. word) occurring in the corpus.\n",
    "\n",
    "> We call **vectorization** the general process of turning a collection of text documents into numerical feature vectors. This specific strategy (tokenization, counting and normalization) is called the **Bag of Words** or \"Bag of n-grams\" representation. Documents are described by word occurrences while completely ignoring the relative position information of the words in the document."
   ]
  },
  {
   "cell_type": "code",
   "execution_count": 93,
   "metadata": {},
   "outputs": [],
   "source": [
    "# use CountVectorizer to create document-term matrices from X_train and X_test\n",
    "vect = CountVectorizer()"
   ]
  },
  {
   "cell_type": "code",
   "execution_count": 94,
   "metadata": {},
   "outputs": [],
   "source": [
    "X_train_dtm = vect.fit_transform(X_train)\n",
    "X_test_dtm = vect.transform(X_test)"
   ]
  },
  {
   "cell_type": "code",
   "execution_count": 95,
   "metadata": {},
   "outputs": [
    {
     "data": {
      "text/plain": [
       "(2500, 30201)"
      ]
     },
     "execution_count": 95,
     "metadata": {},
     "output_type": "execute_result"
    }
   ],
   "source": [
    "X_test_dtm.shape"
   ]
  },
  {
   "cell_type": "code",
   "execution_count": 96,
   "metadata": {},
   "outputs": [
    {
     "data": {
      "text/plain": [
       "(7500, 30201)"
      ]
     },
     "execution_count": 96,
     "metadata": {},
     "output_type": "execute_result"
    }
   ],
   "source": [
    "# rows are documents, columns are terms (aka \"tokens\" or \"features\")\n",
    "X_train_dtm.shape"
   ]
  },
  {
   "cell_type": "code",
   "execution_count": 97,
   "metadata": {},
   "outputs": [
    {
     "name": "stdout",
     "output_type": "stream",
     "text": [
      "['zinburger', 'zinburgergeist', 'zinc', 'zinfandel', 'zing', 'zip', 'zipcar', 'ziploc', 'zipper', 'zippers', 'zipps', 'zippy', 'ziti', 'zoes', 'zoey', 'zoeys', 'zoftik', 'zola', 'zombielike', 'zombies', 'zone', 'zoned', 'zoners', 'zones', 'zoning', 'zoo', 'zoom', 'zoomed', 'zoos', 'zoyo', 'zpizza', 'ztejas', 'ztrip', 'zucca', 'zucchini', 'zucchinimushroom', 'zuccini', 'zuch', 'zuchinni', 'zuma', 'zumaroka', 'zumba', 'zupa', 'zur', 'zuzu', 'zuzus', 'zweigel', 'zwiebelkräuter', 'zzzzzzzzzzzzzzzzz', 'école']\n"
     ]
    }
   ],
   "source": [
    "# last 50 features\n",
    "print(vect.get_feature_names()[-50:])"
   ]
  },
  {
   "cell_type": "code",
   "execution_count": 98,
   "metadata": {},
   "outputs": [
    {
     "data": {
      "text/plain": [
       "CountVectorizer(analyzer='word', binary=False, decode_error='strict',\n",
       "        dtype=<class 'numpy.int64'>, encoding='utf-8', input='content',\n",
       "        lowercase=True, max_df=1.0, max_features=None, min_df=1,\n",
       "        ngram_range=(1, 1), preprocessor=None, stop_words=None,\n",
       "        strip_accents=None, token_pattern='(?u)\\\\b\\\\w\\\\w+\\\\b',\n",
       "        tokenizer=None, vocabulary=None)"
      ]
     },
     "execution_count": 98,
     "metadata": {},
     "output_type": "execute_result"
    }
   ],
   "source": [
    "# show vectorizer options\n",
    "vect"
   ]
  },
  {
   "cell_type": "markdown",
   "metadata": {},
   "source": [
    "[CountVectorizer documentation](http://scikit-learn.org/stable/modules/generated/sklearn.feature_extraction.text.CountVectorizer.html)"
   ]
  },
  {
   "cell_type": "markdown",
   "metadata": {},
   "source": [
    "- **lowercase:** boolean, True by default\n",
    "- Convert all characters to lowercase before tokenizing."
   ]
  },
  {
   "cell_type": "code",
   "execution_count": 99,
   "metadata": {},
   "outputs": [
    {
     "data": {
      "text/plain": [
       "(7500, 30201)"
      ]
     },
     "execution_count": 99,
     "metadata": {},
     "output_type": "execute_result"
    }
   ],
   "source": [
    "# don't convert to lowercase\n",
    "vect = CountVectorizer(lowercase=False)\n",
    "X_train_dtm = vect.fit_transform(X_train)\n",
    "X_train_dtm.shape"
   ]
  },
  {
   "cell_type": "markdown",
   "metadata": {},
   "source": [
    "- **ngram_range:** tuple (min_n, max_n)\n",
    "- The lower and upper boundary of the range of n-values for different n-grams to be extracted. All values of n such that min_n <= n <= max_n will be used."
   ]
  },
  {
   "cell_type": "code",
   "execution_count": 100,
   "metadata": {},
   "outputs": [],
   "source": [
    "CountVectorizer?"
   ]
  },
  {
   "cell_type": "code",
   "execution_count": 117,
   "metadata": {},
   "outputs": [],
   "source": [
    "# include 1-grams and 2-grams\n",
    "vect = CountVectorizer(ngram_range=(1, 2))\n",
    "X_train_dtm = vect.fit_transform(X_train)\n",
    "X_test_dtm = vect.transform(X_test)"
   ]
  },
  {
   "cell_type": "code",
   "execution_count": 118,
   "metadata": {},
   "outputs": [
    {
     "name": "stdout",
     "output_type": "stream",
     "text": [
      "['zucchini shisito', 'zucchini squash', 'zucchini steady', 'zucchini steak', 'zucchini strips', 'zucchini thin', 'zucchini tried', 'zucchini veal', 'zucchini whipped', 'zucchinimushroom', 'zucchinimushroom combo', 'zuccini', 'zuccini italian', 'zuccini warned', 'zuch', 'zuch asparagus', 'zuchinni', 'zuchinni peppers', 'zuchinni sampler', 'zuchinni wtf', 'zuma', 'zuma bartenders', 'zuma dont', 'zuma since', 'zumaroka', 'zumaroka group', 'zumba', 'zumba class', 'zumba cyclingetc', 'zumba instructor', 'zumba yoga', 'zupa', 'zupa flavors', 'zur', 'zur kate', 'zuzu', 'zuzu assorted', 'zuzu downtown', 'zuzu far', 'zuzu good', 'zuzu ultimate', 'zuzus', 'zuzus room', 'zweigel', 'zweigel wine', 'zwiebelkräuter', 'zwiebelkräuter salat', 'zzzzzzzzzzzzzzzzz', 'école', 'école lenôtre']\n"
     ]
    }
   ],
   "source": [
    "# last 50 features\n",
    "print(vect.get_feature_names()[-50:])"
   ]
  },
  {
   "cell_type": "code",
   "execution_count": 119,
   "metadata": {},
   "outputs": [
    {
     "name": "stdout",
     "output_type": "stream",
     "text": [
      "[[1.         0.82384531 0.28730789 0.20464882]\n",
      " [0.82384531 1.         0.16511247 0.1679379 ]\n",
      " [0.28730789 0.16511247 1.         0.89268279]\n",
      " [0.20464882 0.1679379  0.89268279 1.        ]]\n"
     ]
    }
   ],
   "source": [
    "#Calculate tf-idf:\n",
    "from sklearn.feature_extraction.text import TfidfVectorizer\n",
    "vect = TfidfVectorizer(min_df=1)\n",
    "tfidf = vect.fit_transform([\"New Year's Eve in New York\",\n",
    "                            \"New Year's Eve in London\",\n",
    "                            \"York is closer to London than to New York\",\n",
    "                            \"London is closer to Bucharest than to New York\"])\n",
    "\n",
    "#Calculate cosine similarity:\n",
    "cosine=(tfidf * tfidf.T).A\n",
    "print(cosine)"
   ]
  },
  {
   "cell_type": "markdown",
   "metadata": {},
   "source": [
    "**Predicting the star rating:**"
   ]
  },
  {
   "cell_type": "code",
   "execution_count": 120,
   "metadata": {},
   "outputs": [
    {
     "data": {
      "text/plain": [
       "(7500, 367933)"
      ]
     },
     "execution_count": 120,
     "metadata": {},
     "output_type": "execute_result"
    }
   ],
   "source": [
    "X_train_dtm.shape"
   ]
  },
  {
   "cell_type": "code",
   "execution_count": 121,
   "metadata": {},
   "outputs": [
    {
     "data": {
      "text/plain": [
       "<2500x367933 sparse matrix of type '<class 'numpy.int64'>'\n",
       "\twith 198879 stored elements in Compressed Sparse Row format>"
      ]
     },
     "execution_count": 121,
     "metadata": {},
     "output_type": "execute_result"
    }
   ],
   "source": [
    "X_test_dtm"
   ]
  },
  {
   "cell_type": "code",
   "execution_count": 122,
   "metadata": {},
   "outputs": [
    {
     "name": "stdout",
     "output_type": "stream",
     "text": [
      "0.4452\n"
     ]
    }
   ],
   "source": [
    "# use Naive Bayes to predict the star rating\n",
    "nb = naive_bayes.MultinomialNB()\n",
    "nb.fit(X_train_dtm, y_train)\n",
    "y_pred_class = nb.predict(X_test_dtm)\n",
    "\n",
    "# calculate accuracy\n",
    "print(metrics.accuracy_score(y_test, y_pred_class))"
   ]
  },
  {
   "cell_type": "code",
   "execution_count": 123,
   "metadata": {},
   "outputs": [
    {
     "data": {
      "text/plain": [
       "0.6672"
      ]
     },
     "execution_count": 123,
     "metadata": {},
     "output_type": "execute_result"
    }
   ],
   "source": [
    "# calculate null accuracy\n",
    "y_test_binary = np.where(y_test==5, 1, 0)\n",
    "max(y_test_binary.mean(), 1 - y_test_binary.mean())"
   ]
  },
  {
   "cell_type": "code",
   "execution_count": 129,
   "metadata": {},
   "outputs": [],
   "source": [
    "# define a function that accepts a vectorizer and calculates the accuracy\n",
    "def tokenize_test(vect):\n",
    "    X_train_dtm = vect.fit_transform(X_train)\n",
    "    print('Features: ', X_train_dtm.shape[1])\n",
    "    X_test_dtm = vect.transform(X_test)\n",
    "    nb = naive_bayes.MultinomialNB()\n",
    "    nb.fit(X_train_dtm, y_train)\n",
    "    y_pred_class = nb.predict(X_test_dtm)\n",
    "    print('Accuracy: ', metrics.accuracy_score(y_test, y_pred_class))"
   ]
  },
  {
   "cell_type": "code",
   "execution_count": 130,
   "metadata": {},
   "outputs": [
    {
     "name": "stdout",
     "output_type": "stream",
     "text": [
      "Features:  367933\n",
      "Accuracy:  0.4452\n"
     ]
    }
   ],
   "source": [
    "# include 1-grams and 2-grams\n",
    "vect = CountVectorizer(ngram_range=(1, 2))\n",
    "tokenize_test(vect)"
   ]
  },
  {
   "cell_type": "markdown",
   "metadata": {},
   "source": [
    "## Part 3: Stopword Removal"
   ]
  },
  {
   "cell_type": "markdown",
   "metadata": {},
   "source": [
    "- **What:** Remove common words that will likely appear in any text\n",
    "- **Why:** They don't tell you much about your text"
   ]
  },
  {
   "cell_type": "code",
   "execution_count": 131,
   "metadata": {},
   "outputs": [
    {
     "data": {
      "text/plain": [
       "CountVectorizer(analyzer='word', binary=False, decode_error='strict',\n",
       "        dtype=<class 'numpy.int64'>, encoding='utf-8', input='content',\n",
       "        lowercase=True, max_df=1.0, max_features=None, min_df=1,\n",
       "        ngram_range=(1, 2), preprocessor=None, stop_words=None,\n",
       "        strip_accents=None, token_pattern='(?u)\\\\b\\\\w\\\\w+\\\\b',\n",
       "        tokenizer=None, vocabulary=None)"
      ]
     },
     "execution_count": 131,
     "metadata": {},
     "output_type": "execute_result"
    }
   ],
   "source": [
    "# show vectorizer options\n",
    "vect"
   ]
  },
  {
   "cell_type": "markdown",
   "metadata": {},
   "source": [
    "- **stop_words:** string {'english'}, list, or None (default)\n",
    "- If 'english', a built-in stop word list for English is used.\n",
    "- If a list, that list is assumed to contain stop words, all of which will be removed from the resulting tokens.\n",
    "- If None, no stop words will be used. max_df can be set to a value in the range [0.7, 1.0) to automatically detect and filter stop words based on intra corpus document frequency of terms."
   ]
  },
  {
   "cell_type": "code",
   "execution_count": 132,
   "metadata": {},
   "outputs": [
    {
     "name": "stdout",
     "output_type": "stream",
     "text": [
      "Features:  29981\n",
      "Accuracy:  0.456\n"
     ]
    }
   ],
   "source": [
    "# remove English stop words\n",
    "vect = CountVectorizer(stop_words='english')\n",
    "tokenize_test(vect)"
   ]
  },
  {
   "cell_type": "code",
   "execution_count": 134,
   "metadata": {},
   "outputs": [
    {
     "name": "stdout",
     "output_type": "stream",
     "text": [
      "frozenset({'otherwise', 'became', 'my', 'besides', 'only', 'would', 'sincere', 'towards', 'each', 'last', 'amount', 'made', 'nowhere', 'sometime', 'rather', 'very', 'hundred', 'beyond', 'throughout', 'cannot', 'eight', 'whereby', 'myself', 'formerly', 'on', 'ie', 'wherever', 'because', 'alone', 'again', 'name', 'onto', 'were', 'some', 'latterly', 'whence', 'etc', 'nor', 'has', 'she', 'we', 'whole', 'by', 'eleven', 'whose', 'fifteen', 'wherein', 'they', 'whither', 'as', 'both', 'put', 'own', 'such', 'them', 'per', 'sixty', 'where', 'with', 'enough', 'sometimes', 'neither', 'con', 'may', 'somehow', 'that', 'see', 'latter', 'front', 'of', 'off', 'between', 'their', 'noone', 'thru', 'well', 'the', 'above', 'other', 'another', 'next', 'about', 'fifty', 'meanwhile', 'inc', 'eg', 'moreover', 'de', 'nevertheless', 'perhaps', 'if', 'almost', 'whether', 'un', 'behind', 'bill', 'into', 'us', 'whereupon', 'found', 'however', 'although', 'any', 'call', 'are', 'against', 'being', 'not', 'hereafter', 'six', 'either', 'through', 'elsewhere', 'itself', 'an', 'below', 'hence', 'system', 'move', 'when', 'whom', 'together', 'there', 'in', 'herein', 'i', 'up', 'it', 'those', 'top', 'always', 'beforehand', 'though', 'ltd', 'nine', 'also', 'its', 'never', 'first', 'nothing', 'ten', 'me', 'why', 'cant', 'back', 'anything', 'hers', 'seem', 'afterwards', 'or', 'will', 'done', 'at', 'hereby', 'how', 'yours', 'and', 'for', 'than', 'under', 'her', 'been', 'often', 'beside', 'show', 'yourselves', 'whoever', 'anyhow', 'whereas', 'can', 'namely', 'his', 'along', 'could', 'mostly', 'thence', 'please', 'serious', 'most', 'toward', 'him', 'around', 'be', 'keep', 'to', 'detail', 'during', 'few', 'give', 'have', 'become', 'full', 'anyone', 'one', 'part', 'further', 'three', 'thin', 'you', 'too', 'same', 'out', 'less', 'must', 'twelve', 'already', 'take', 'third', 'interest', 'much', 'anywhere', 'co', 'yourself', 'twenty', 'everyone', 'else', 'describe', 'here', 'forty', 'mine', 'then', 'four', 'from', 'thus', 'before', 'bottom', 'himself', 'whatever', 'several', 'seemed', 'indeed', 'ours', 'due', 'even', 'everything', 'a', 'since', 'herself', 'hereupon', 'what', 'after', 'ourselves', 'so', 'therein', 'still', 'side', 'thereafter', 'within', 'thereupon', 'which', 'others', 'seeming', 'among', 'themselves', 're', 'two', 'no', 'thereby', 'go', 'down', 'once', 'amoungst', 'seems', 'nobody', 'was', 'fire', 'everywhere', 'more', 'who', 'do', 'yet', 'least', 'until', 'amongst', 'across', 'cry', 'former', 'had', 'is', 'none', 'now', 'should', 'empty', 'someone', 'somewhere', 'via', 'upon', 'without', 'becoming', 'fill', 'therefore', 'whenever', 'but', 'your', 'he', 'while', 'ever', 'these', 'thick', 'find', 'all', 'our', 'every', 'mill', 'am', 'hasnt', 'over', 'this', 'couldnt', 'whereafter', 'becomes', 'except', 'get', 'five', 'anyway', 'might', 'many', 'something'})\n"
     ]
    }
   ],
   "source": [
    "# set of stop words\n",
    "print(vect.get_stop_words())"
   ]
  },
  {
   "cell_type": "markdown",
   "metadata": {},
   "source": [
    "## Part 4: Other CountVectorizer Options"
   ]
  },
  {
   "cell_type": "markdown",
   "metadata": {},
   "source": [
    "- **max_features:** int or None, default=None\n",
    "- If not None, build a vocabulary that only consider the top max_features ordered by term frequency across the corpus."
   ]
  },
  {
   "cell_type": "code",
   "execution_count": 135,
   "metadata": {},
   "outputs": [
    {
     "name": "stdout",
     "output_type": "stream",
     "text": [
      "Features:  100\n",
      "Accuracy:  0.4484\n"
     ]
    }
   ],
   "source": [
    "# remove English stop words and only keep 100 features\n",
    "vect = CountVectorizer(stop_words='english', max_features=100)\n",
    "tokenize_test(vect)"
   ]
  },
  {
   "cell_type": "code",
   "execution_count": 137,
   "metadata": {},
   "outputs": [
    {
     "name": "stdout",
     "output_type": "stream",
     "text": [
      "['amazing', 'area', 'atmosphere', 'awesome', 'bad', 'bar', 'beer', 'best', 'better', 'big', 'bit', 'bread', 'burger', 'came', 'cheese', 'chicken', 'coffee', 'come', 'day', 'definitely', 'delicious', 'didnt', 'dinner', 'dont', 'drink', 'drinks', 'eat', 'experience', 'favorite', 'feel', 'food', 'fresh', 'friendly', 'fries', 'going', 'good', 'got', 'great', 'happy', 'home', 'hot', 'hour', 'im', 'ive', 'know', 'like', 'little', 'location', 'long', 'looking', 'lot', 'love', 'lunch', 'make', 'meal', 'menu', 'minutes', 'new', 'nice', 'night', 'order', 'ordered', 'people', 'phoenix', 'pizza', 'place', 'pretty', 'price', 'prices', 'really', 'restaurant', 'right', 'said', 'salad', 'sandwich', 'sauce', 'say', 'service', 'small', 'staff', 'stars', 'sure', 'sweet', 'table', 'tasty', 'thing', 'things', 'think', 'time', 'times', 'tried', 'try', 'wait', 'want', 'wasnt', 'way', 'went', 'wine', 'worth', 'youre']\n"
     ]
    }
   ],
   "source": [
    "# all 100 features\n",
    "print(vect.get_feature_names())"
   ]
  },
  {
   "cell_type": "code",
   "execution_count": 138,
   "metadata": {},
   "outputs": [
    {
     "name": "stdout",
     "output_type": "stream",
     "text": [
      "Features:  100000\n",
      "Accuracy:  0.4736\n"
     ]
    }
   ],
   "source": [
    "# include 1-grams and 2-grams, and limit the number of features\n",
    "vect = CountVectorizer(ngram_range=(1, 2), max_features=100000)\n",
    "tokenize_test(vect)"
   ]
  },
  {
   "cell_type": "markdown",
   "metadata": {},
   "source": [
    "- **min_df:** float in range [0.0, 1.0] or int, default=1\n",
    "- When building the vocabulary ignore terms that have a document frequency strictly lower than the given threshold. This value is also called cut-off in the literature. If float, the parameter represents a proportion of documents, integer absolute counts."
   ]
  },
  {
   "cell_type": "code",
   "execution_count": 139,
   "metadata": {},
   "outputs": [
    {
     "name": "stdout",
     "output_type": "stream",
     "text": [
      "Features:  63613\n",
      "Accuracy:  0.484\n"
     ]
    }
   ],
   "source": [
    "# include 1-grams and 2-grams, and only include terms that appear at least 2 times\n",
    "vect = CountVectorizer(ngram_range=(1, 2), min_df=2)\n",
    "tokenize_test(vect)"
   ]
  },
  {
   "cell_type": "markdown",
   "metadata": {},
   "source": [
    "## Part 5: Introduction to TextBlob"
   ]
  },
  {
   "cell_type": "markdown",
   "metadata": {},
   "source": [
    "TextBlob: \"Simplified Text Processing\""
   ]
  },
  {
   "cell_type": "code",
   "execution_count": 140,
   "metadata": {},
   "outputs": [
    {
     "name": "stdout",
     "output_type": "stream",
     "text": [
      "My wife took me here on my birthday for breakfast and it was excellent.  The weather was perfect which made sitting outside overlooking their grounds an absolute pleasure.  Our waitress was excellent and our food arrived quickly on the semi-busy Saturday morning.  It looked like the place fills up pretty quickly so the earlier you get here the better.\n",
      "\n",
      "Do yourself a favor and get their Bloody Mary.  It was phenomenal and simply the best I've ever had.  I'm pretty sure they only use ingredients from their garden and blend them fresh when you order it.  It was amazing.\n",
      "\n",
      "While EVERYTHING on the menu looks excellent, I had the white truffle scrambled eggs vegetable skillet and it was tasty and delicious.  It came with 2 pieces of their griddled bread with was amazing and it absolutely made the meal complete.  It was the best \"toast\" I've ever had.\n",
      "\n",
      "Anyway, I can't wait to go back!\n"
     ]
    }
   ],
   "source": [
    "print(yelp.text[0])"
   ]
  },
  {
   "cell_type": "code",
   "execution_count": 141,
   "metadata": {},
   "outputs": [
    {
     "name": "stdout",
     "output_type": "stream",
     "text": [
      "My wife took me here on my birthday for breakfast and it was excellent.  The weather was perfect which made sitting outside overlooking their grounds an absolute pleasure.  Our waitress was excellent and our food arrived quickly on the semi-busy Saturday morning.  It looked like the place fills up pretty quickly so the earlier you get here the better.\n",
      "\n",
      "Do yourself a favor and get their Bloody Mary.  It was phenomenal and simply the best I've ever had.  I'm pretty sure they only use ingredients from their garden and blend them fresh when you order it.  It was amazing.\n",
      "\n",
      "While EVERYTHING on the menu looks excellent, I had the white truffle scrambled eggs vegetable skillet and it was tasty and delicious.  It came with 2 pieces of their griddled bread with was amazing and it absolutely made the meal complete.  It was the best \"toast\" I've ever had.\n",
      "\n",
      "Anyway, I can't wait to go back!\n"
     ]
    }
   ],
   "source": [
    "# print the first review\n",
    "print(yelp.text[0])"
   ]
  },
  {
   "cell_type": "code",
   "execution_count": 142,
   "metadata": {},
   "outputs": [],
   "source": [
    "# save it as a TextBlob object\n",
    "review = TextBlob(yelp.text[0])"
   ]
  },
  {
   "cell_type": "code",
   "execution_count": 143,
   "metadata": {},
   "outputs": [
    {
     "name": "stdout",
     "output_type": "stream",
     "text": [
      "['__add__', '__class__', '__contains__', '__delattr__', '__dict__', '__dir__', '__doc__', '__eq__', '__format__', '__ge__', '__getattribute__', '__getitem__', '__gt__', '__hash__', '__init__', '__init_subclass__', '__iter__', '__le__', '__len__', '__lt__', '__module__', '__ne__', '__new__', '__reduce__', '__reduce_ex__', '__repr__', '__setattr__', '__sizeof__', '__str__', '__subclasshook__', '__weakref__', '_cmpkey', '_compare', '_create_sentence_objects', '_strkey', 'analyzer', 'classifier', 'classify', 'correct', 'detect_language', 'ends_with', 'endswith', 'find', 'format', 'index', 'join', 'json', 'lower', 'ngrams', 'noun_phrases', 'np_counts', 'np_extractor', 'parse', 'parser', 'polarity', 'pos_tagger', 'pos_tags', 'raw', 'raw_sentences', 'replace', 'rfind', 'rindex', 'sentences', 'sentiment', 'sentiment_assessments', 'serialized', 'split', 'starts_with', 'startswith', 'string', 'strip', 'stripped', 'subjectivity', 'tags', 'title', 'to_json', 'tokenize', 'tokenizer', 'tokens', 'translate', 'translator', 'upper', 'word_counts', 'words']\n"
     ]
    }
   ],
   "source": [
    "print(dir(review))"
   ]
  },
  {
   "cell_type": "code",
   "execution_count": 144,
   "metadata": {},
   "outputs": [
    {
     "name": "stdout",
     "output_type": "stream",
     "text": [
      "[WordList(['My', 'wife']), WordList(['wife', 'took']), WordList(['took', 'me']), WordList(['me', 'here']), WordList(['here', 'on']), WordList(['on', 'my']), WordList(['my', 'birthday']), WordList(['birthday', 'for']), WordList(['for', 'breakfast']), WordList(['breakfast', 'and']), WordList(['and', 'it']), WordList(['it', 'was']), WordList(['was', 'excellent']), WordList(['excellent', 'The']), WordList(['The', 'weather']), WordList(['weather', 'was']), WordList(['was', 'perfect']), WordList(['perfect', 'which']), WordList(['which', 'made']), WordList(['made', 'sitting']), WordList(['sitting', 'outside']), WordList(['outside', 'overlooking']), WordList(['overlooking', 'their']), WordList(['their', 'grounds']), WordList(['grounds', 'an']), WordList(['an', 'absolute']), WordList(['absolute', 'pleasure']), WordList(['pleasure', 'Our']), WordList(['Our', 'waitress']), WordList(['waitress', 'was']), WordList(['was', 'excellent']), WordList(['excellent', 'and']), WordList(['and', 'our']), WordList(['our', 'food']), WordList(['food', 'arrived']), WordList(['arrived', 'quickly']), WordList(['quickly', 'on']), WordList(['on', 'the']), WordList(['the', 'semi-busy']), WordList(['semi-busy', 'Saturday']), WordList(['Saturday', 'morning']), WordList(['morning', 'It']), WordList(['It', 'looked']), WordList(['looked', 'like']), WordList(['like', 'the']), WordList(['the', 'place']), WordList(['place', 'fills']), WordList(['fills', 'up']), WordList(['up', 'pretty']), WordList(['pretty', 'quickly']), WordList(['quickly', 'so']), WordList(['so', 'the']), WordList(['the', 'earlier']), WordList(['earlier', 'you']), WordList(['you', 'get']), WordList(['get', 'here']), WordList(['here', 'the']), WordList(['the', 'better']), WordList(['better', 'Do']), WordList(['Do', 'yourself']), WordList(['yourself', 'a']), WordList(['a', 'favor']), WordList(['favor', 'and']), WordList(['and', 'get']), WordList(['get', 'their']), WordList(['their', 'Bloody']), WordList(['Bloody', 'Mary']), WordList(['Mary', 'It']), WordList(['It', 'was']), WordList(['was', 'phenomenal']), WordList(['phenomenal', 'and']), WordList(['and', 'simply']), WordList(['simply', 'the']), WordList(['the', 'best']), WordList(['best', 'I']), WordList(['I', \"'ve\"]), WordList([\"'ve\", 'ever']), WordList(['ever', 'had']), WordList(['had', 'I']), WordList(['I', \"'m\"]), WordList([\"'m\", 'pretty']), WordList(['pretty', 'sure']), WordList(['sure', 'they']), WordList(['they', 'only']), WordList(['only', 'use']), WordList(['use', 'ingredients']), WordList(['ingredients', 'from']), WordList(['from', 'their']), WordList(['their', 'garden']), WordList(['garden', 'and']), WordList(['and', 'blend']), WordList(['blend', 'them']), WordList(['them', 'fresh']), WordList(['fresh', 'when']), WordList(['when', 'you']), WordList(['you', 'order']), WordList(['order', 'it']), WordList(['it', 'It']), WordList(['It', 'was']), WordList(['was', 'amazing']), WordList(['amazing', 'While']), WordList(['While', 'EVERYTHING']), WordList(['EVERYTHING', 'on']), WordList(['on', 'the']), WordList(['the', 'menu']), WordList(['menu', 'looks']), WordList(['looks', 'excellent']), WordList(['excellent', 'I']), WordList(['I', 'had']), WordList(['had', 'the']), WordList(['the', 'white']), WordList(['white', 'truffle']), WordList(['truffle', 'scrambled']), WordList(['scrambled', 'eggs']), WordList(['eggs', 'vegetable']), WordList(['vegetable', 'skillet']), WordList(['skillet', 'and']), WordList(['and', 'it']), WordList(['it', 'was']), WordList(['was', 'tasty']), WordList(['tasty', 'and']), WordList(['and', 'delicious']), WordList(['delicious', 'It']), WordList(['It', 'came']), WordList(['came', 'with']), WordList(['with', '2']), WordList(['2', 'pieces']), WordList(['pieces', 'of']), WordList(['of', 'their']), WordList(['their', 'griddled']), WordList(['griddled', 'bread']), WordList(['bread', 'with']), WordList(['with', 'was']), WordList(['was', 'amazing']), WordList(['amazing', 'and']), WordList(['and', 'it']), WordList(['it', 'absolutely']), WordList(['absolutely', 'made']), WordList(['made', 'the']), WordList(['the', 'meal']), WordList(['meal', 'complete']), WordList(['complete', 'It']), WordList(['It', 'was']), WordList(['was', 'the']), WordList(['the', 'best']), WordList(['best', 'toast']), WordList(['toast', 'I']), WordList(['I', \"'ve\"]), WordList([\"'ve\", 'ever']), WordList(['ever', 'had']), WordList(['had', 'Anyway']), WordList(['Anyway', 'I']), WordList(['I', 'ca']), WordList(['ca', \"n't\"]), WordList([\"n't\", 'wait']), WordList(['wait', 'to']), WordList(['to', 'go']), WordList(['go', 'back'])]\n"
     ]
    }
   ],
   "source": [
    "print(review.ngrams(2))"
   ]
  },
  {
   "cell_type": "code",
   "execution_count": 145,
   "metadata": {},
   "outputs": [
    {
     "data": {
      "text/plain": [
       "Sentiment(polarity=0.40246913580246907, subjectivity=0.6591122868900646)"
      ]
     },
     "execution_count": 145,
     "metadata": {},
     "output_type": "execute_result"
    }
   ],
   "source": [
    "review.sentiment"
   ]
  },
  {
   "cell_type": "code",
   "execution_count": 146,
   "metadata": {},
   "outputs": [
    {
     "data": {
      "text/plain": [
       "WordList(['My', 'wife', 'took', 'me', 'here', 'on', 'my', 'birthday', 'for', 'breakfast', 'and', 'it', 'was', 'excellent', 'The', 'weather', 'was', 'perfect', 'which', 'made', 'sitting', 'outside', 'overlooking', 'their', 'grounds', 'an', 'absolute', 'pleasure', 'Our', 'waitress', 'was', 'excellent', 'and', 'our', 'food', 'arrived', 'quickly', 'on', 'the', 'semi-busy', 'Saturday', 'morning', 'It', 'looked', 'like', 'the', 'place', 'fills', 'up', 'pretty', 'quickly', 'so', 'the', 'earlier', 'you', 'get', 'here', 'the', 'better', 'Do', 'yourself', 'a', 'favor', 'and', 'get', 'their', 'Bloody', 'Mary', 'It', 'was', 'phenomenal', 'and', 'simply', 'the', 'best', 'I', \"'ve\", 'ever', 'had', 'I', \"'m\", 'pretty', 'sure', 'they', 'only', 'use', 'ingredients', 'from', 'their', 'garden', 'and', 'blend', 'them', 'fresh', 'when', 'you', 'order', 'it', 'It', 'was', 'amazing', 'While', 'EVERYTHING', 'on', 'the', 'menu', 'looks', 'excellent', 'I', 'had', 'the', 'white', 'truffle', 'scrambled', 'eggs', 'vegetable', 'skillet', 'and', 'it', 'was', 'tasty', 'and', 'delicious', 'It', 'came', 'with', '2', 'pieces', 'of', 'their', 'griddled', 'bread', 'with', 'was', 'amazing', 'and', 'it', 'absolutely', 'made', 'the', 'meal', 'complete', 'It', 'was', 'the', 'best', 'toast', 'I', \"'ve\", 'ever', 'had', 'Anyway', 'I', 'ca', \"n't\", 'wait', 'to', 'go', 'back'])"
      ]
     },
     "execution_count": 146,
     "metadata": {},
     "output_type": "execute_result"
    }
   ],
   "source": [
    "# list the words\n",
    "review.words"
   ]
  },
  {
   "cell_type": "code",
   "execution_count": 147,
   "metadata": {},
   "outputs": [
    {
     "data": {
      "text/plain": [
       "[Sentence(\"My wife took me here on my birthday for breakfast and it was excellent.\"),\n",
       " Sentence(\"The weather was perfect which made sitting outside overlooking their grounds an absolute pleasure.\"),\n",
       " Sentence(\"Our waitress was excellent and our food arrived quickly on the semi-busy Saturday morning.\"),\n",
       " Sentence(\"It looked like the place fills up pretty quickly so the earlier you get here the better.\"),\n",
       " Sentence(\"Do yourself a favor and get their Bloody Mary.\"),\n",
       " Sentence(\"It was phenomenal and simply the best I've ever had.\"),\n",
       " Sentence(\"I'm pretty sure they only use ingredients from their garden and blend them fresh when you order it.\"),\n",
       " Sentence(\"It was amazing.\"),\n",
       " Sentence(\"While EVERYTHING on the menu looks excellent, I had the white truffle scrambled eggs vegetable skillet and it was tasty and delicious.\"),\n",
       " Sentence(\"It came with 2 pieces of their griddled bread with was amazing and it absolutely made the meal complete.\"),\n",
       " Sentence(\"It was the best \"toast\" I've ever had.\"),\n",
       " Sentence(\"Anyway, I can't wait to go back!\")]"
      ]
     },
     "execution_count": 147,
     "metadata": {},
     "output_type": "execute_result"
    }
   ],
   "source": [
    "# list the sentences\n",
    "review.sentences"
   ]
  },
  {
   "cell_type": "code",
   "execution_count": 148,
   "metadata": {},
   "outputs": [
    {
     "data": {
      "text/plain": [
       "TextBlob(\"my wife took me here on my birthday for breakfast and it was excellent.  the weather was perfect which made sitting outside overlooking their grounds an absolute pleasure.  our waitress was excellent and our food arrived quickly on the semi-busy saturday morning.  it looked like the place fills up pretty quickly so the earlier you get here the better.\n",
       "\n",
       "do yourself a favor and get their bloody mary.  it was phenomenal and simply the best i've ever had.  i'm pretty sure they only use ingredients from their garden and blend them fresh when you order it.  it was amazing.\n",
       "\n",
       "while everything on the menu looks excellent, i had the white truffle scrambled eggs vegetable skillet and it was tasty and delicious.  it came with 2 pieces of their griddled bread with was amazing and it absolutely made the meal complete.  it was the best \"toast\" i've ever had.\n",
       "\n",
       "anyway, i can't wait to go back!\")"
      ]
     },
     "execution_count": 148,
     "metadata": {},
     "output_type": "execute_result"
    }
   ],
   "source": [
    "# some string methods are available\n",
    "review.lower()"
   ]
  },
  {
   "cell_type": "code",
   "execution_count": 149,
   "metadata": {},
   "outputs": [
    {
     "data": {
      "text/plain": [
       "[WordList(['My', 'wife']),\n",
       " WordList(['wife', 'took']),\n",
       " WordList(['took', 'me']),\n",
       " WordList(['me', 'here']),\n",
       " WordList(['here', 'on']),\n",
       " WordList(['on', 'my']),\n",
       " WordList(['my', 'birthday']),\n",
       " WordList(['birthday', 'for']),\n",
       " WordList(['for', 'breakfast']),\n",
       " WordList(['breakfast', 'and']),\n",
       " WordList(['and', 'it']),\n",
       " WordList(['it', 'was']),\n",
       " WordList(['was', 'excellent']),\n",
       " WordList(['excellent', 'The']),\n",
       " WordList(['The', 'weather']),\n",
       " WordList(['weather', 'was']),\n",
       " WordList(['was', 'perfect']),\n",
       " WordList(['perfect', 'which']),\n",
       " WordList(['which', 'made']),\n",
       " WordList(['made', 'sitting']),\n",
       " WordList(['sitting', 'outside']),\n",
       " WordList(['outside', 'overlooking']),\n",
       " WordList(['overlooking', 'their']),\n",
       " WordList(['their', 'grounds']),\n",
       " WordList(['grounds', 'an']),\n",
       " WordList(['an', 'absolute']),\n",
       " WordList(['absolute', 'pleasure']),\n",
       " WordList(['pleasure', 'Our']),\n",
       " WordList(['Our', 'waitress']),\n",
       " WordList(['waitress', 'was']),\n",
       " WordList(['was', 'excellent']),\n",
       " WordList(['excellent', 'and']),\n",
       " WordList(['and', 'our']),\n",
       " WordList(['our', 'food']),\n",
       " WordList(['food', 'arrived']),\n",
       " WordList(['arrived', 'quickly']),\n",
       " WordList(['quickly', 'on']),\n",
       " WordList(['on', 'the']),\n",
       " WordList(['the', 'semi-busy']),\n",
       " WordList(['semi-busy', 'Saturday']),\n",
       " WordList(['Saturday', 'morning']),\n",
       " WordList(['morning', 'It']),\n",
       " WordList(['It', 'looked']),\n",
       " WordList(['looked', 'like']),\n",
       " WordList(['like', 'the']),\n",
       " WordList(['the', 'place']),\n",
       " WordList(['place', 'fills']),\n",
       " WordList(['fills', 'up']),\n",
       " WordList(['up', 'pretty']),\n",
       " WordList(['pretty', 'quickly']),\n",
       " WordList(['quickly', 'so']),\n",
       " WordList(['so', 'the']),\n",
       " WordList(['the', 'earlier']),\n",
       " WordList(['earlier', 'you']),\n",
       " WordList(['you', 'get']),\n",
       " WordList(['get', 'here']),\n",
       " WordList(['here', 'the']),\n",
       " WordList(['the', 'better']),\n",
       " WordList(['better', 'Do']),\n",
       " WordList(['Do', 'yourself']),\n",
       " WordList(['yourself', 'a']),\n",
       " WordList(['a', 'favor']),\n",
       " WordList(['favor', 'and']),\n",
       " WordList(['and', 'get']),\n",
       " WordList(['get', 'their']),\n",
       " WordList(['their', 'Bloody']),\n",
       " WordList(['Bloody', 'Mary']),\n",
       " WordList(['Mary', 'It']),\n",
       " WordList(['It', 'was']),\n",
       " WordList(['was', 'phenomenal']),\n",
       " WordList(['phenomenal', 'and']),\n",
       " WordList(['and', 'simply']),\n",
       " WordList(['simply', 'the']),\n",
       " WordList(['the', 'best']),\n",
       " WordList(['best', 'I']),\n",
       " WordList(['I', \"'ve\"]),\n",
       " WordList([\"'ve\", 'ever']),\n",
       " WordList(['ever', 'had']),\n",
       " WordList(['had', 'I']),\n",
       " WordList(['I', \"'m\"]),\n",
       " WordList([\"'m\", 'pretty']),\n",
       " WordList(['pretty', 'sure']),\n",
       " WordList(['sure', 'they']),\n",
       " WordList(['they', 'only']),\n",
       " WordList(['only', 'use']),\n",
       " WordList(['use', 'ingredients']),\n",
       " WordList(['ingredients', 'from']),\n",
       " WordList(['from', 'their']),\n",
       " WordList(['their', 'garden']),\n",
       " WordList(['garden', 'and']),\n",
       " WordList(['and', 'blend']),\n",
       " WordList(['blend', 'them']),\n",
       " WordList(['them', 'fresh']),\n",
       " WordList(['fresh', 'when']),\n",
       " WordList(['when', 'you']),\n",
       " WordList(['you', 'order']),\n",
       " WordList(['order', 'it']),\n",
       " WordList(['it', 'It']),\n",
       " WordList(['It', 'was']),\n",
       " WordList(['was', 'amazing']),\n",
       " WordList(['amazing', 'While']),\n",
       " WordList(['While', 'EVERYTHING']),\n",
       " WordList(['EVERYTHING', 'on']),\n",
       " WordList(['on', 'the']),\n",
       " WordList(['the', 'menu']),\n",
       " WordList(['menu', 'looks']),\n",
       " WordList(['looks', 'excellent']),\n",
       " WordList(['excellent', 'I']),\n",
       " WordList(['I', 'had']),\n",
       " WordList(['had', 'the']),\n",
       " WordList(['the', 'white']),\n",
       " WordList(['white', 'truffle']),\n",
       " WordList(['truffle', 'scrambled']),\n",
       " WordList(['scrambled', 'eggs']),\n",
       " WordList(['eggs', 'vegetable']),\n",
       " WordList(['vegetable', 'skillet']),\n",
       " WordList(['skillet', 'and']),\n",
       " WordList(['and', 'it']),\n",
       " WordList(['it', 'was']),\n",
       " WordList(['was', 'tasty']),\n",
       " WordList(['tasty', 'and']),\n",
       " WordList(['and', 'delicious']),\n",
       " WordList(['delicious', 'It']),\n",
       " WordList(['It', 'came']),\n",
       " WordList(['came', 'with']),\n",
       " WordList(['with', '2']),\n",
       " WordList(['2', 'pieces']),\n",
       " WordList(['pieces', 'of']),\n",
       " WordList(['of', 'their']),\n",
       " WordList(['their', 'griddled']),\n",
       " WordList(['griddled', 'bread']),\n",
       " WordList(['bread', 'with']),\n",
       " WordList(['with', 'was']),\n",
       " WordList(['was', 'amazing']),\n",
       " WordList(['amazing', 'and']),\n",
       " WordList(['and', 'it']),\n",
       " WordList(['it', 'absolutely']),\n",
       " WordList(['absolutely', 'made']),\n",
       " WordList(['made', 'the']),\n",
       " WordList(['the', 'meal']),\n",
       " WordList(['meal', 'complete']),\n",
       " WordList(['complete', 'It']),\n",
       " WordList(['It', 'was']),\n",
       " WordList(['was', 'the']),\n",
       " WordList(['the', 'best']),\n",
       " WordList(['best', 'toast']),\n",
       " WordList(['toast', 'I']),\n",
       " WordList(['I', \"'ve\"]),\n",
       " WordList([\"'ve\", 'ever']),\n",
       " WordList(['ever', 'had']),\n",
       " WordList(['had', 'Anyway']),\n",
       " WordList(['Anyway', 'I']),\n",
       " WordList(['I', 'ca']),\n",
       " WordList(['ca', \"n't\"]),\n",
       " WordList([\"n't\", 'wait']),\n",
       " WordList(['wait', 'to']),\n",
       " WordList(['to', 'go']),\n",
       " WordList(['go', 'back'])]"
      ]
     },
     "execution_count": 149,
     "metadata": {},
     "output_type": "execute_result"
    }
   ],
   "source": [
    "review.ngrams(n=2)"
   ]
  },
  {
   "cell_type": "markdown",
   "metadata": {},
   "source": [
    "## Part 6: Stemming and Lemmatization"
   ]
  },
  {
   "cell_type": "markdown",
   "metadata": {},
   "source": [
    "**Stemming:**\n",
    "\n",
    "- **What:** Reduce a word to its base/stem/root form\n",
    "- **Why:** Often makes sense to treat related words the same way\n",
    "- **Notes:**\n",
    "    - Uses a \"simple\" and fast rule-based approach\n",
    "    - Stemmed words are usually not shown to users (used for analysis/indexing)\n",
    "    - Some search engines treat words with the same stem as synonyms"
   ]
  },
  {
   "cell_type": "code",
   "execution_count": 152,
   "metadata": {},
   "outputs": [
    {
     "data": {
      "text/plain": [
       "<nltk.stem.snowball.SnowballStemmer at 0x29e199b0>"
      ]
     },
     "execution_count": 152,
     "metadata": {},
     "output_type": "execute_result"
    }
   ],
   "source": [
    "# initialize stemmer\n",
    "stemmer = nltk.stem.snowball.SnowballStemmer('english')\n",
    "stemmer"
   ]
  },
  {
   "cell_type": "code",
   "execution_count": 153,
   "metadata": {},
   "outputs": [
    {
     "data": {
      "text/plain": [
       "WordList(['My', 'wife', 'took', 'me', 'here', 'on', 'my', 'birthday', 'for', 'breakfast', 'and', 'it', 'was', 'excellent', 'The', 'weather', 'was', 'perfect', 'which', 'made', 'sitting', 'outside', 'overlooking', 'their', 'grounds', 'an', 'absolute', 'pleasure', 'Our', 'waitress', 'was', 'excellent', 'and', 'our', 'food', 'arrived', 'quickly', 'on', 'the', 'semi-busy', 'Saturday', 'morning', 'It', 'looked', 'like', 'the', 'place', 'fills', 'up', 'pretty', 'quickly', 'so', 'the', 'earlier', 'you', 'get', 'here', 'the', 'better', 'Do', 'yourself', 'a', 'favor', 'and', 'get', 'their', 'Bloody', 'Mary', 'It', 'was', 'phenomenal', 'and', 'simply', 'the', 'best', 'I', \"'ve\", 'ever', 'had', 'I', \"'m\", 'pretty', 'sure', 'they', 'only', 'use', 'ingredients', 'from', 'their', 'garden', 'and', 'blend', 'them', 'fresh', 'when', 'you', 'order', 'it', 'It', 'was', 'amazing', 'While', 'EVERYTHING', 'on', 'the', 'menu', 'looks', 'excellent', 'I', 'had', 'the', 'white', 'truffle', 'scrambled', 'eggs', 'vegetable', 'skillet', 'and', 'it', 'was', 'tasty', 'and', 'delicious', 'It', 'came', 'with', '2', 'pieces', 'of', 'their', 'griddled', 'bread', 'with', 'was', 'amazing', 'and', 'it', 'absolutely', 'made', 'the', 'meal', 'complete', 'It', 'was', 'the', 'best', 'toast', 'I', \"'ve\", 'ever', 'had', 'Anyway', 'I', 'ca', \"n't\", 'wait', 'to', 'go', 'back'])"
      ]
     },
     "execution_count": 153,
     "metadata": {},
     "output_type": "execute_result"
    }
   ],
   "source": [
    "review.words"
   ]
  },
  {
   "cell_type": "code",
   "execution_count": 155,
   "metadata": {},
   "outputs": [
    {
     "name": "stdout",
     "output_type": "stream",
     "text": [
      "['my', 'wife', 'took', 'me', 'here', 'on', 'my', 'birthday', 'for', 'breakfast', 'and', 'it', 'was', 'excel', 'the', 'weather', 'was', 'perfect', 'which', 'made', 'sit', 'outsid', 'overlook', 'their', 'ground', 'an', 'absolut', 'pleasur', 'our', 'waitress', 'was', 'excel', 'and', 'our', 'food', 'arriv', 'quick', 'on', 'the', 'semi-busi', 'saturday', 'morn', 'it', 'look', 'like', 'the', 'place', 'fill', 'up', 'pretti', 'quick', 'so', 'the', 'earlier', 'you', 'get', 'here', 'the', 'better', 'do', 'yourself', 'a', 'favor', 'and', 'get', 'their', 'bloodi', 'mari', 'it', 'was', 'phenomen', 'and', 'simpli', 'the', 'best', 'i', 've', 'ever', 'had', 'i', \"'m\", 'pretti', 'sure', 'they', 'onli', 'use', 'ingredi', 'from', 'their', 'garden', 'and', 'blend', 'them', 'fresh', 'when', 'you', 'order', 'it', 'it', 'was', 'amaz', 'while', 'everyth', 'on', 'the', 'menu', 'look', 'excel', 'i', 'had', 'the', 'white', 'truffl', 'scrambl', 'egg', 'veget', 'skillet', 'and', 'it', 'was', 'tasti', 'and', 'delici', 'it', 'came', 'with', '2', 'piec', 'of', 'their', 'griddl', 'bread', 'with', 'was', 'amaz', 'and', 'it', 'absolut', 'made', 'the', 'meal', 'complet', 'it', 'was', 'the', 'best', 'toast', 'i', 've', 'ever', 'had', 'anyway', 'i', 'ca', \"n't\", 'wait', 'to', 'go', 'back']\n"
     ]
    }
   ],
   "source": [
    "# stem each word\n",
    "print([stemmer.stem(word) for word in review.words])"
   ]
  },
  {
   "cell_type": "markdown",
   "metadata": {},
   "source": [
    "**Lemmatization**\n",
    "\n",
    "- **What:** Derive the canonical form ('lemma') of a word\n",
    "- **Why:** Can be better than stemming\n",
    "- **Notes:** Uses a dictionary-based approach (slower than stemming)"
   ]
  },
  {
   "cell_type": "code",
   "execution_count": 156,
   "metadata": {},
   "outputs": [
    {
     "data": {
      "text/plain": [
       "WordList(['My', 'wife', 'took', 'me', 'here', 'on', 'my', 'birthday', 'for', 'breakfast', 'and', 'it', 'was', 'excellent', 'The', 'weather', 'was', 'perfect', 'which', 'made', 'sitting', 'outside', 'overlooking', 'their', 'grounds', 'an', 'absolute', 'pleasure', 'Our', 'waitress', 'was', 'excellent', 'and', 'our', 'food', 'arrived', 'quickly', 'on', 'the', 'semi-busy', 'Saturday', 'morning', 'It', 'looked', 'like', 'the', 'place', 'fills', 'up', 'pretty', 'quickly', 'so', 'the', 'earlier', 'you', 'get', 'here', 'the', 'better', 'Do', 'yourself', 'a', 'favor', 'and', 'get', 'their', 'Bloody', 'Mary', 'It', 'was', 'phenomenal', 'and', 'simply', 'the', 'best', 'I', \"'ve\", 'ever', 'had', 'I', \"'m\", 'pretty', 'sure', 'they', 'only', 'use', 'ingredients', 'from', 'their', 'garden', 'and', 'blend', 'them', 'fresh', 'when', 'you', 'order', 'it', 'It', 'was', 'amazing', 'While', 'EVERYTHING', 'on', 'the', 'menu', 'looks', 'excellent', 'I', 'had', 'the', 'white', 'truffle', 'scrambled', 'eggs', 'vegetable', 'skillet', 'and', 'it', 'was', 'tasty', 'and', 'delicious', 'It', 'came', 'with', '2', 'pieces', 'of', 'their', 'griddled', 'bread', 'with', 'was', 'amazing', 'and', 'it', 'absolutely', 'made', 'the', 'meal', 'complete', 'It', 'was', 'the', 'best', 'toast', 'I', \"'ve\", 'ever', 'had', 'Anyway', 'I', 'ca', \"n't\", 'wait', 'to', 'go', 'back'])"
      ]
     },
     "execution_count": 156,
     "metadata": {},
     "output_type": "execute_result"
    }
   ],
   "source": [
    "review.words"
   ]
  },
  {
   "cell_type": "code",
   "execution_count": 157,
   "metadata": {},
   "outputs": [
    {
     "name": "stdout",
     "output_type": "stream",
     "text": [
      "['My', 'wife', 'took', 'me', 'here', 'on', 'my', 'birthday', 'for', 'breakfast', 'and', 'it', 'wa', 'excellent', 'The', 'weather', 'wa', 'perfect', 'which', 'made', 'sitting', 'outside', 'overlooking', 'their', 'ground', 'an', 'absolute', 'pleasure', 'Our', 'waitress', 'wa', 'excellent', 'and', 'our', 'food', 'arrived', 'quickly', 'on', 'the', 'semi-busy', 'Saturday', 'morning', 'It', 'looked', 'like', 'the', 'place', 'fill', 'up', 'pretty', 'quickly', 'so', 'the', 'earlier', 'you', 'get', 'here', 'the', 'better', 'Do', 'yourself', 'a', 'favor', 'and', 'get', 'their', 'Bloody', 'Mary', 'It', 'wa', 'phenomenal', 'and', 'simply', 'the', 'best', 'I', \"'ve\", 'ever', 'had', 'I', \"'m\", 'pretty', 'sure', 'they', 'only', 'use', 'ingredient', 'from', 'their', 'garden', 'and', 'blend', 'them', 'fresh', 'when', 'you', 'order', 'it', 'It', 'wa', 'amazing', 'While', 'EVERYTHING', 'on', 'the', 'menu', 'look', 'excellent', 'I', 'had', 'the', 'white', 'truffle', 'scrambled', 'egg', 'vegetable', 'skillet', 'and', 'it', 'wa', 'tasty', 'and', 'delicious', 'It', 'came', 'with', '2', 'piece', 'of', 'their', 'griddled', 'bread', 'with', 'wa', 'amazing', 'and', 'it', 'absolutely', 'made', 'the', 'meal', 'complete', 'It', 'wa', 'the', 'best', 'toast', 'I', \"'ve\", 'ever', 'had', 'Anyway', 'I', 'ca', \"n't\", 'wait', 'to', 'go', 'back']\n"
     ]
    }
   ],
   "source": [
    "# assume every word is a noun\n",
    "print([word.lemmatize() for word in review.words])"
   ]
  },
  {
   "cell_type": "code",
   "execution_count": 158,
   "metadata": {},
   "outputs": [
    {
     "name": "stdout",
     "output_type": "stream",
     "text": [
      "['My', 'wife', 'take', 'me', 'here', 'on', 'my', 'birthday', 'for', 'breakfast', 'and', 'it', 'be', 'excellent', 'The', 'weather', 'be', 'perfect', 'which', 'make', 'sit', 'outside', 'overlook', 'their', 'ground', 'an', 'absolute', 'pleasure', 'Our', 'waitress', 'be', 'excellent', 'and', 'our', 'food', 'arrive', 'quickly', 'on', 'the', 'semi-busy', 'Saturday', 'morning', 'It', 'look', 'like', 'the', 'place', 'fill', 'up', 'pretty', 'quickly', 'so', 'the', 'earlier', 'you', 'get', 'here', 'the', 'better', 'Do', 'yourself', 'a', 'favor', 'and', 'get', 'their', 'Bloody', 'Mary', 'It', 'be', 'phenomenal', 'and', 'simply', 'the', 'best', 'I', \"'ve\", 'ever', 'have', 'I', \"'m\", 'pretty', 'sure', 'they', 'only', 'use', 'ingredients', 'from', 'their', 'garden', 'and', 'blend', 'them', 'fresh', 'when', 'you', 'order', 'it', 'It', 'be', 'amaze', 'While', 'EVERYTHING', 'on', 'the', 'menu', 'look', 'excellent', 'I', 'have', 'the', 'white', 'truffle', 'scramble', 'egg', 'vegetable', 'skillet', 'and', 'it', 'be', 'tasty', 'and', 'delicious', 'It', 'come', 'with', '2', 'piece', 'of', 'their', 'griddle', 'bread', 'with', 'be', 'amaze', 'and', 'it', 'absolutely', 'make', 'the', 'meal', 'complete', 'It', 'be', 'the', 'best', 'toast', 'I', \"'ve\", 'ever', 'have', 'Anyway', 'I', 'ca', \"n't\", 'wait', 'to', 'go', 'back']\n"
     ]
    }
   ],
   "source": [
    "# assume every word is a verb\n",
    "print([word.lemmatize(pos='v') for word in review.words])"
   ]
  },
  {
   "cell_type": "code",
   "execution_count": 161,
   "metadata": {},
   "outputs": [],
   "source": [
    "# define a function that accepts text and returns a list of lemmas\n",
    "def split_into_lemmas(text):\n",
    "    #text = unicode(text, 'utf-8').lower()\n",
    "    text = text.lower()\n",
    "    words = TextBlob(text).words\n",
    "    return [word.lemmatize() for word in words]"
   ]
  },
  {
   "cell_type": "code",
   "execution_count": 162,
   "metadata": {},
   "outputs": [
    {
     "name": "stdout",
     "output_type": "stream",
     "text": [
      "Features:  27212\n",
      "Accuracy:  0.4624\n"
     ]
    }
   ],
   "source": [
    "# use split_into_lemmas as the feature extraction function (WARNING: SLOW!)\n",
    "vect = CountVectorizer(analyzer=split_into_lemmas)\n",
    "tokenize_test(vect)"
   ]
  },
  {
   "cell_type": "code",
   "execution_count": 164,
   "metadata": {},
   "outputs": [
    {
     "name": "stdout",
     "output_type": "stream",
     "text": [
      "['zinc', 'zinfandel', 'zing', 'zip', 'zipcar', 'ziploc', 'zipper', 'zipps', 'zippy', 'ziti', 'zoes', 'zoey', 'zoeys', 'zoftik', 'zola', 'zombie', 'zombielike', 'zone', 'zoned', 'zoners', 'zoning', 'zoo', 'zoom', 'zoomed', 'zoyo', 'zpizza', 'ztejas', 'ztrip', 'zucca', 'zucchini', 'zucchinimushroom', 'zuccini', 'zuch', 'zuchinni', 'zuma', 'zumaroka', 'zumba', 'zupa', 'zur', 'zuzu', 'zuzus', 'zweigel', 'zwiebelkräuter', 'zzzzzzzzzzzzzzzzz', '¡cash', '¡excellent', '¡muy', '¢', '°', 'école']\n"
     ]
    }
   ],
   "source": [
    "# last 50 features\n",
    "print(vect.get_feature_names()[-50:])"
   ]
  },
  {
   "cell_type": "markdown",
   "metadata": {},
   "source": [
    "## Part 7: Term Frequency-Inverse Document Frequency (TF-IDF)"
   ]
  },
  {
   "cell_type": "markdown",
   "metadata": {},
   "source": [
    "- **What:** Computes \"relative frequency\" that a word appears in a document compared to its frequency across all documents\n",
    "- **Why:** More useful than \"term frequency\" for identifying \"important\" words in each document (high frequency in that document, low frequency in other documents)\n",
    "- **Notes:** Used for search engine scoring, text summarization, document clustering"
   ]
  },
  {
   "cell_type": "code",
   "execution_count": 165,
   "metadata": {},
   "outputs": [],
   "source": [
    "# example documents\n",
    "simple_train = ['call you tonight', 'Call me a cab', 'please call me... PLEASE!']"
   ]
  },
  {
   "cell_type": "code",
   "execution_count": 166,
   "metadata": {},
   "outputs": [
    {
     "data": {
      "text/html": [
       "<div>\n",
       "<style scoped>\n",
       "    .dataframe tbody tr th:only-of-type {\n",
       "        vertical-align: middle;\n",
       "    }\n",
       "\n",
       "    .dataframe tbody tr th {\n",
       "        vertical-align: top;\n",
       "    }\n",
       "\n",
       "    .dataframe thead th {\n",
       "        text-align: right;\n",
       "    }\n",
       "</style>\n",
       "<table border=\"1\" class=\"dataframe\">\n",
       "  <thead>\n",
       "    <tr style=\"text-align: right;\">\n",
       "      <th></th>\n",
       "      <th>cab</th>\n",
       "      <th>call</th>\n",
       "      <th>me</th>\n",
       "      <th>please</th>\n",
       "      <th>tonight</th>\n",
       "      <th>you</th>\n",
       "    </tr>\n",
       "  </thead>\n",
       "  <tbody>\n",
       "    <tr>\n",
       "      <th>0</th>\n",
       "      <td>0</td>\n",
       "      <td>1</td>\n",
       "      <td>0</td>\n",
       "      <td>0</td>\n",
       "      <td>1</td>\n",
       "      <td>1</td>\n",
       "    </tr>\n",
       "    <tr>\n",
       "      <th>1</th>\n",
       "      <td>1</td>\n",
       "      <td>1</td>\n",
       "      <td>1</td>\n",
       "      <td>0</td>\n",
       "      <td>0</td>\n",
       "      <td>0</td>\n",
       "    </tr>\n",
       "    <tr>\n",
       "      <th>2</th>\n",
       "      <td>0</td>\n",
       "      <td>1</td>\n",
       "      <td>1</td>\n",
       "      <td>2</td>\n",
       "      <td>0</td>\n",
       "      <td>0</td>\n",
       "    </tr>\n",
       "  </tbody>\n",
       "</table>\n",
       "</div>"
      ],
      "text/plain": [
       "   cab  call  me  please  tonight  you\n",
       "0    0     1   0       0        1    1\n",
       "1    1     1   1       0        0    0\n",
       "2    0     1   1       2        0    0"
      ]
     },
     "execution_count": 166,
     "metadata": {},
     "output_type": "execute_result"
    }
   ],
   "source": [
    "# Term Frequency\n",
    "vect = CountVectorizer()\n",
    "tf = pd.DataFrame(vect.fit_transform(simple_train).toarray(), columns=vect.get_feature_names())\n",
    "tf"
   ]
  },
  {
   "cell_type": "code",
   "execution_count": 167,
   "metadata": {},
   "outputs": [
    {
     "data": {
      "text/html": [
       "<div>\n",
       "<style scoped>\n",
       "    .dataframe tbody tr th:only-of-type {\n",
       "        vertical-align: middle;\n",
       "    }\n",
       "\n",
       "    .dataframe tbody tr th {\n",
       "        vertical-align: top;\n",
       "    }\n",
       "\n",
       "    .dataframe thead th {\n",
       "        text-align: right;\n",
       "    }\n",
       "</style>\n",
       "<table border=\"1\" class=\"dataframe\">\n",
       "  <thead>\n",
       "    <tr style=\"text-align: right;\">\n",
       "      <th></th>\n",
       "      <th>cab</th>\n",
       "      <th>call</th>\n",
       "      <th>me</th>\n",
       "      <th>please</th>\n",
       "      <th>tonight</th>\n",
       "      <th>you</th>\n",
       "    </tr>\n",
       "  </thead>\n",
       "  <tbody>\n",
       "    <tr>\n",
       "      <th>0</th>\n",
       "      <td>1</td>\n",
       "      <td>3</td>\n",
       "      <td>2</td>\n",
       "      <td>1</td>\n",
       "      <td>1</td>\n",
       "      <td>1</td>\n",
       "    </tr>\n",
       "  </tbody>\n",
       "</table>\n",
       "</div>"
      ],
      "text/plain": [
       "   cab  call  me  please  tonight  you\n",
       "0    1     3   2       1        1    1"
      ]
     },
     "execution_count": 167,
     "metadata": {},
     "output_type": "execute_result"
    }
   ],
   "source": [
    "# Document Frequency\n",
    "vect = CountVectorizer(binary=True)\n",
    "df = vect.fit_transform(simple_train).toarray().sum(axis=0)\n",
    "pd.DataFrame(df.reshape(1, 6), columns=vect.get_feature_names())"
   ]
  },
  {
   "cell_type": "code",
   "execution_count": 168,
   "metadata": {},
   "outputs": [
    {
     "data": {
      "text/html": [
       "<div>\n",
       "<style scoped>\n",
       "    .dataframe tbody tr th:only-of-type {\n",
       "        vertical-align: middle;\n",
       "    }\n",
       "\n",
       "    .dataframe tbody tr th {\n",
       "        vertical-align: top;\n",
       "    }\n",
       "\n",
       "    .dataframe thead th {\n",
       "        text-align: right;\n",
       "    }\n",
       "</style>\n",
       "<table border=\"1\" class=\"dataframe\">\n",
       "  <thead>\n",
       "    <tr style=\"text-align: right;\">\n",
       "      <th></th>\n",
       "      <th>cab</th>\n",
       "      <th>call</th>\n",
       "      <th>me</th>\n",
       "      <th>please</th>\n",
       "      <th>tonight</th>\n",
       "      <th>you</th>\n",
       "    </tr>\n",
       "  </thead>\n",
       "  <tbody>\n",
       "    <tr>\n",
       "      <th>0</th>\n",
       "      <td>0.0</td>\n",
       "      <td>0.333333</td>\n",
       "      <td>0.0</td>\n",
       "      <td>0.0</td>\n",
       "      <td>1.0</td>\n",
       "      <td>1.0</td>\n",
       "    </tr>\n",
       "    <tr>\n",
       "      <th>1</th>\n",
       "      <td>1.0</td>\n",
       "      <td>0.333333</td>\n",
       "      <td>0.5</td>\n",
       "      <td>0.0</td>\n",
       "      <td>0.0</td>\n",
       "      <td>0.0</td>\n",
       "    </tr>\n",
       "    <tr>\n",
       "      <th>2</th>\n",
       "      <td>0.0</td>\n",
       "      <td>0.333333</td>\n",
       "      <td>0.5</td>\n",
       "      <td>2.0</td>\n",
       "      <td>0.0</td>\n",
       "      <td>0.0</td>\n",
       "    </tr>\n",
       "  </tbody>\n",
       "</table>\n",
       "</div>"
      ],
      "text/plain": [
       "   cab      call   me  please  tonight  you\n",
       "0  0.0  0.333333  0.0     0.0      1.0  1.0\n",
       "1  1.0  0.333333  0.5     0.0      0.0  0.0\n",
       "2  0.0  0.333333  0.5     2.0      0.0  0.0"
      ]
     },
     "execution_count": 168,
     "metadata": {},
     "output_type": "execute_result"
    }
   ],
   "source": [
    "# Term Frequency-Inverse Document Frequency (simple version)\n",
    "tf/df"
   ]
  },
  {
   "cell_type": "code",
   "execution_count": 169,
   "metadata": {},
   "outputs": [
    {
     "data": {
      "text/html": [
       "<div>\n",
       "<style scoped>\n",
       "    .dataframe tbody tr th:only-of-type {\n",
       "        vertical-align: middle;\n",
       "    }\n",
       "\n",
       "    .dataframe tbody tr th {\n",
       "        vertical-align: top;\n",
       "    }\n",
       "\n",
       "    .dataframe thead th {\n",
       "        text-align: right;\n",
       "    }\n",
       "</style>\n",
       "<table border=\"1\" class=\"dataframe\">\n",
       "  <thead>\n",
       "    <tr style=\"text-align: right;\">\n",
       "      <th></th>\n",
       "      <th>cab</th>\n",
       "      <th>call</th>\n",
       "      <th>me</th>\n",
       "      <th>please</th>\n",
       "      <th>tonight</th>\n",
       "      <th>you</th>\n",
       "    </tr>\n",
       "  </thead>\n",
       "  <tbody>\n",
       "    <tr>\n",
       "      <th>0</th>\n",
       "      <td>0.000000</td>\n",
       "      <td>0.385372</td>\n",
       "      <td>0.000000</td>\n",
       "      <td>0.000000</td>\n",
       "      <td>0.652491</td>\n",
       "      <td>0.652491</td>\n",
       "    </tr>\n",
       "    <tr>\n",
       "      <th>1</th>\n",
       "      <td>0.720333</td>\n",
       "      <td>0.425441</td>\n",
       "      <td>0.547832</td>\n",
       "      <td>0.000000</td>\n",
       "      <td>0.000000</td>\n",
       "      <td>0.000000</td>\n",
       "    </tr>\n",
       "    <tr>\n",
       "      <th>2</th>\n",
       "      <td>0.000000</td>\n",
       "      <td>0.266075</td>\n",
       "      <td>0.342620</td>\n",
       "      <td>0.901008</td>\n",
       "      <td>0.000000</td>\n",
       "      <td>0.000000</td>\n",
       "    </tr>\n",
       "  </tbody>\n",
       "</table>\n",
       "</div>"
      ],
      "text/plain": [
       "        cab      call        me    please   tonight       you\n",
       "0  0.000000  0.385372  0.000000  0.000000  0.652491  0.652491\n",
       "1  0.720333  0.425441  0.547832  0.000000  0.000000  0.000000\n",
       "2  0.000000  0.266075  0.342620  0.901008  0.000000  0.000000"
      ]
     },
     "execution_count": 169,
     "metadata": {},
     "output_type": "execute_result"
    }
   ],
   "source": [
    "# TfidfVectorizer\n",
    "vect = TfidfVectorizer()\n",
    "pd.DataFrame(vect.fit_transform(simple_train).toarray(), columns=vect.get_feature_names())"
   ]
  },
  {
   "cell_type": "markdown",
   "metadata": {},
   "source": [
    "## Part 8: Using TF-IDF to Summarize a Yelp Review"
   ]
  },
  {
   "cell_type": "code",
   "execution_count": 170,
   "metadata": {},
   "outputs": [],
   "source": [
    "TfidfVectorizer?"
   ]
  },
  {
   "cell_type": "code",
   "execution_count": 171,
   "metadata": {},
   "outputs": [
    {
     "data": {
      "text/plain": [
       "(10000, 28880)"
      ]
     },
     "execution_count": 171,
     "metadata": {},
     "output_type": "execute_result"
    }
   ],
   "source": [
    "# create a document-term matrix using TF-IDF\n",
    "vect = TfidfVectorizer(stop_words='english')\n",
    "dtm = vect.fit_transform(yelp.text)\n",
    "features = vect.get_feature_names()\n",
    "dtm.shape"
   ]
  },
  {
   "cell_type": "code",
   "execution_count": 179,
   "metadata": {},
   "outputs": [],
   "source": [
    "def summarize():\n",
    "    \n",
    "    # choose a random review that is at least 300 characters\n",
    "    review_length = 0\n",
    "    while review_length < 300:\n",
    "        review_id = np.random.randint(0, len(yelp))\n",
    "        review_text = yelp.text[review_id]\n",
    "        review_length = len(review_text)\n",
    "    \n",
    "    # create a dictionary of words and their TF-IDF scores\n",
    "    word_scores = {}\n",
    "    for word in TextBlob(review_text).words:\n",
    "        word = word.lower()\n",
    "        if word in features:\n",
    "            word_scores[word] = dtm[review_id, features.index(word)]\n",
    "    \n",
    "    # print words with the top 5 TF-IDF scores\n",
    "    print('TOP SCORING WORDS:')\n",
    "    top_scores = sorted(word_scores.items(), key=lambda x: x[1], reverse=True)[:5]\n",
    "    for word, score in top_scores:\n",
    "        print(word)\n",
    "    \n",
    "  \n",
    "    # print the review\n",
    "    print('\\n' + review_text)"
   ]
  },
  {
   "cell_type": "code",
   "execution_count": 180,
   "metadata": {},
   "outputs": [
    {
     "name": "stdout",
     "output_type": "stream",
     "text": [
      "TOP SCORING WORDS:\n",
      "tamarind\n",
      "soup\n",
      "vegetarian\n",
      "based\n",
      "willfully\n",
      "\n",
      "As a sissy vegetarian, I feel compelled to mention the soup that no one has yet mentioned at Da Vang - THE TAMARIND BASED SOUP HOT POT IS AMAZING!\n",
      "\n",
      "I don't know if they use any other animal broth in it, because I am willfully ignorant of such matters.  Regardless, if you are a meat eater or a vegetarian, try the tamarind soup, and bring friends.  It is super yummy.\n",
      "\n",
      "They also have a rice-based soup.  And, if you talk to your server, they can likely recommend some vegetarian/tofu based dishes that will be wonderful.\n",
      "\n",
      "Everything else is as good as everyone says it is.  Wouldn't be surprised if people got an occasional bowl of sub-par pho; every family restaurant makes mistakes.  I'd recommend everyone try it again.\n"
     ]
    }
   ],
   "source": [
    "summarize()"
   ]
  },
  {
   "cell_type": "markdown",
   "metadata": {},
   "source": [
    "## Part 9: Sentiment Analysis"
   ]
  },
  {
   "cell_type": "code",
   "execution_count": 182,
   "metadata": {},
   "outputs": [
    {
     "name": "stdout",
     "output_type": "stream",
     "text": [
      "My wife took me here on my birthday for breakfast and it was excellent.  The weather was perfect which made sitting outside overlooking their grounds an absolute pleasure.  Our waitress was excellent and our food arrived quickly on the semi-busy Saturday morning.  It looked like the place fills up pretty quickly so the earlier you get here the better.\n",
      "\n",
      "Do yourself a favor and get their Bloody Mary.  It was phenomenal and simply the best I've ever had.  I'm pretty sure they only use ingredients from their garden and blend them fresh when you order it.  It was amazing.\n",
      "\n",
      "While EVERYTHING on the menu looks excellent, I had the white truffle scrambled eggs vegetable skillet and it was tasty and delicious.  It came with 2 pieces of their griddled bread with was amazing and it absolutely made the meal complete.  It was the best \"toast\" I've ever had.\n",
      "\n",
      "Anyway, I can't wait to go back!\n"
     ]
    }
   ],
   "source": [
    "print(review)"
   ]
  },
  {
   "cell_type": "code",
   "execution_count": 183,
   "metadata": {},
   "outputs": [
    {
     "data": {
      "text/plain": [
       "0.40246913580246907"
      ]
     },
     "execution_count": 183,
     "metadata": {},
     "output_type": "execute_result"
    }
   ],
   "source": [
    "# polarity ranges from -1 (most negative) to 1 (most positive)\n",
    "review.sentiment.polarity"
   ]
  },
  {
   "cell_type": "code",
   "execution_count": 184,
   "metadata": {},
   "outputs": [
    {
     "data": {
      "text/html": [
       "<div>\n",
       "<style scoped>\n",
       "    .dataframe tbody tr th:only-of-type {\n",
       "        vertical-align: middle;\n",
       "    }\n",
       "\n",
       "    .dataframe tbody tr th {\n",
       "        vertical-align: top;\n",
       "    }\n",
       "\n",
       "    .dataframe thead th {\n",
       "        text-align: right;\n",
       "    }\n",
       "</style>\n",
       "<table border=\"1\" class=\"dataframe\">\n",
       "  <thead>\n",
       "    <tr style=\"text-align: right;\">\n",
       "      <th></th>\n",
       "      <th>review_id</th>\n",
       "      <th>stars</th>\n",
       "      <th>text</th>\n",
       "      <th>cool</th>\n",
       "      <th>useful</th>\n",
       "      <th>funny</th>\n",
       "      <th>count_sent</th>\n",
       "      <th>count_word</th>\n",
       "      <th>count_unique_word</th>\n",
       "      <th>count_letters</th>\n",
       "      <th>...</th>\n",
       "      <th>words_ends_with_et</th>\n",
       "      <th>words_start_with_no</th>\n",
       "      <th>wordcounts</th>\n",
       "      <th>noun_count</th>\n",
       "      <th>verb_count</th>\n",
       "      <th>adj_count</th>\n",
       "      <th>adv_count</th>\n",
       "      <th>pron_count</th>\n",
       "      <th>sentiment</th>\n",
       "      <th>length</th>\n",
       "    </tr>\n",
       "  </thead>\n",
       "  <tbody>\n",
       "    <tr>\n",
       "      <th>0</th>\n",
       "      <td>fWKvX83p0-ka4JS3dc6E5A</td>\n",
       "      <td>5</td>\n",
       "      <td>My wife took me here on my birthday for breakf...</td>\n",
       "      <td>2</td>\n",
       "      <td>5</td>\n",
       "      <td>0</td>\n",
       "      <td>7</td>\n",
       "      <td>155</td>\n",
       "      <td>110</td>\n",
       "      <td>889</td>\n",
       "      <td>...</td>\n",
       "      <td>3</td>\n",
       "      <td>0</td>\n",
       "      <td>{'my': 1, 'only': 1, 'EVERYTHING': 1, 'absolut...</td>\n",
       "      <td>26</td>\n",
       "      <td>35</td>\n",
       "      <td>19</td>\n",
       "      <td>14</td>\n",
       "      <td>28</td>\n",
       "      <td>0.402469</td>\n",
       "      <td>889</td>\n",
       "    </tr>\n",
       "  </tbody>\n",
       "</table>\n",
       "<p>1 rows × 31 columns</p>\n",
       "</div>"
      ],
      "text/plain": [
       "                review_id  stars  \\\n",
       "0  fWKvX83p0-ka4JS3dc6E5A      5   \n",
       "\n",
       "                                                text  cool  useful  funny  \\\n",
       "0  My wife took me here on my birthday for breakf...     2       5      0   \n",
       "\n",
       "   count_sent  count_word  count_unique_word  count_letters   ...    \\\n",
       "0           7         155                110            889   ...     \n",
       "\n",
       "   words_ends_with_et  words_start_with_no  \\\n",
       "0                   3                    0   \n",
       "\n",
       "                                          wordcounts  noun_count  verb_count  \\\n",
       "0  {'my': 1, 'only': 1, 'EVERYTHING': 1, 'absolut...          26          35   \n",
       "\n",
       "   adj_count  adv_count  pron_count  sentiment  length  \n",
       "0         19         14          28   0.402469     889  \n",
       "\n",
       "[1 rows x 31 columns]"
      ]
     },
     "execution_count": 184,
     "metadata": {},
     "output_type": "execute_result"
    }
   ],
   "source": [
    "# understanding the apply method\n",
    "yelp['length'] = yelp.text.apply(len)\n",
    "yelp.head(1)"
   ]
  },
  {
   "cell_type": "code",
   "execution_count": 187,
   "metadata": {},
   "outputs": [],
   "source": [
    "# define a function that accepts text and returns the polarity\n",
    "def detect_sentiment(text):\n",
    "    return TextBlob(text).sentiment.polarity"
   ]
  },
  {
   "cell_type": "code",
   "execution_count": 188,
   "metadata": {},
   "outputs": [],
   "source": [
    "# create a new DataFrame column for sentiment (WARNING: SLOW!)\n",
    "yelp['sentiment'] = yelp.text.apply(detect_sentiment)"
   ]
  },
  {
   "cell_type": "code",
   "execution_count": 189,
   "metadata": {},
   "outputs": [
    {
     "data": {
      "text/html": [
       "<div>\n",
       "<style scoped>\n",
       "    .dataframe tbody tr th:only-of-type {\n",
       "        vertical-align: middle;\n",
       "    }\n",
       "\n",
       "    .dataframe tbody tr th {\n",
       "        vertical-align: top;\n",
       "    }\n",
       "\n",
       "    .dataframe thead th {\n",
       "        text-align: right;\n",
       "    }\n",
       "</style>\n",
       "<table border=\"1\" class=\"dataframe\">\n",
       "  <thead>\n",
       "    <tr style=\"text-align: right;\">\n",
       "      <th></th>\n",
       "      <th>review_id</th>\n",
       "      <th>stars</th>\n",
       "      <th>text</th>\n",
       "      <th>cool</th>\n",
       "      <th>useful</th>\n",
       "      <th>funny</th>\n",
       "      <th>count_sent</th>\n",
       "      <th>count_word</th>\n",
       "      <th>count_unique_word</th>\n",
       "      <th>count_letters</th>\n",
       "      <th>...</th>\n",
       "      <th>words_ends_with_et</th>\n",
       "      <th>words_start_with_no</th>\n",
       "      <th>wordcounts</th>\n",
       "      <th>noun_count</th>\n",
       "      <th>verb_count</th>\n",
       "      <th>adj_count</th>\n",
       "      <th>adv_count</th>\n",
       "      <th>pron_count</th>\n",
       "      <th>sentiment</th>\n",
       "      <th>length</th>\n",
       "    </tr>\n",
       "  </thead>\n",
       "  <tbody>\n",
       "    <tr>\n",
       "      <th>0</th>\n",
       "      <td>fWKvX83p0-ka4JS3dc6E5A</td>\n",
       "      <td>5</td>\n",
       "      <td>My wife took me here on my birthday for breakf...</td>\n",
       "      <td>2</td>\n",
       "      <td>5</td>\n",
       "      <td>0</td>\n",
       "      <td>7</td>\n",
       "      <td>155</td>\n",
       "      <td>110</td>\n",
       "      <td>889</td>\n",
       "      <td>...</td>\n",
       "      <td>3</td>\n",
       "      <td>0</td>\n",
       "      <td>{'my': 1, 'only': 1, 'EVERYTHING': 1, 'absolut...</td>\n",
       "      <td>26</td>\n",
       "      <td>35</td>\n",
       "      <td>19</td>\n",
       "      <td>14</td>\n",
       "      <td>28</td>\n",
       "      <td>0.402469</td>\n",
       "      <td>889</td>\n",
       "    </tr>\n",
       "    <tr>\n",
       "      <th>1</th>\n",
       "      <td>IjZ33sJrzXqU-0X6U8NwyA</td>\n",
       "      <td>5</td>\n",
       "      <td>I have no idea why some people give bad review...</td>\n",
       "      <td>0</td>\n",
       "      <td>0</td>\n",
       "      <td>0</td>\n",
       "      <td>5</td>\n",
       "      <td>257</td>\n",
       "      <td>159</td>\n",
       "      <td>1345</td>\n",
       "      <td>...</td>\n",
       "      <td>1</td>\n",
       "      <td>2</td>\n",
       "      <td>{'my': 2, 'would': 1, 'very': 2, 'came': 1, 'w...</td>\n",
       "      <td>48</td>\n",
       "      <td>53</td>\n",
       "      <td>19</td>\n",
       "      <td>18</td>\n",
       "      <td>35</td>\n",
       "      <td>0.229773</td>\n",
       "      <td>1345</td>\n",
       "    </tr>\n",
       "    <tr>\n",
       "      <th>2</th>\n",
       "      <td>IESLBzqUCLdSzSqm0eCSxQ</td>\n",
       "      <td>4</td>\n",
       "      <td>love the gyro plate. Rice is so good and I als...</td>\n",
       "      <td>0</td>\n",
       "      <td>1</td>\n",
       "      <td>0</td>\n",
       "      <td>1</td>\n",
       "      <td>16</td>\n",
       "      <td>16</td>\n",
       "      <td>76</td>\n",
       "      <td>...</td>\n",
       "      <td>0</td>\n",
       "      <td>0</td>\n",
       "      <td>{'so': 1, 'and': 1, 'selection': 1, 'gyro': 1,...</td>\n",
       "      <td>5</td>\n",
       "      <td>3</td>\n",
       "      <td>1</td>\n",
       "      <td>2</td>\n",
       "      <td>2</td>\n",
       "      <td>0.566667</td>\n",
       "      <td>76</td>\n",
       "    </tr>\n",
       "    <tr>\n",
       "      <th>3</th>\n",
       "      <td>G-WvGaISbqqaMHlNnByodA</td>\n",
       "      <td>5</td>\n",
       "      <td>Rosie, Dakota, and I LOVE Chaparral Dog Park!!...</td>\n",
       "      <td>1</td>\n",
       "      <td>2</td>\n",
       "      <td>0</td>\n",
       "      <td>5</td>\n",
       "      <td>76</td>\n",
       "      <td>61</td>\n",
       "      <td>419</td>\n",
       "      <td>...</td>\n",
       "      <td>1</td>\n",
       "      <td>0</td>\n",
       "      <td>{'sniff!': 1, 'and': 8, 'ducks.': 1, 'fields,'...</td>\n",
       "      <td>28</td>\n",
       "      <td>12</td>\n",
       "      <td>6</td>\n",
       "      <td>1</td>\n",
       "      <td>3</td>\n",
       "      <td>0.608646</td>\n",
       "      <td>419</td>\n",
       "    </tr>\n",
       "    <tr>\n",
       "      <th>4</th>\n",
       "      <td>1uJFq2r5QfJG_6ExMRCaGw</td>\n",
       "      <td>5</td>\n",
       "      <td>General Manager Scott Petello is a good egg!!!...</td>\n",
       "      <td>0</td>\n",
       "      <td>0</td>\n",
       "      <td>0</td>\n",
       "      <td>3</td>\n",
       "      <td>86</td>\n",
       "      <td>72</td>\n",
       "      <td>469</td>\n",
       "      <td>...</td>\n",
       "      <td>1</td>\n",
       "      <td>1</td>\n",
       "      <td>{'rare)': 1, 'and': 3, 'for': 1, 'Manager': 1,...</td>\n",
       "      <td>21</td>\n",
       "      <td>19</td>\n",
       "      <td>5</td>\n",
       "      <td>6</td>\n",
       "      <td>14</td>\n",
       "      <td>0.468125</td>\n",
       "      <td>469</td>\n",
       "    </tr>\n",
       "  </tbody>\n",
       "</table>\n",
       "<p>5 rows × 31 columns</p>\n",
       "</div>"
      ],
      "text/plain": [
       "                review_id  stars  \\\n",
       "0  fWKvX83p0-ka4JS3dc6E5A      5   \n",
       "1  IjZ33sJrzXqU-0X6U8NwyA      5   \n",
       "2  IESLBzqUCLdSzSqm0eCSxQ      4   \n",
       "3  G-WvGaISbqqaMHlNnByodA      5   \n",
       "4  1uJFq2r5QfJG_6ExMRCaGw      5   \n",
       "\n",
       "                                                text  cool  useful  funny  \\\n",
       "0  My wife took me here on my birthday for breakf...     2       5      0   \n",
       "1  I have no idea why some people give bad review...     0       0      0   \n",
       "2  love the gyro plate. Rice is so good and I als...     0       1      0   \n",
       "3  Rosie, Dakota, and I LOVE Chaparral Dog Park!!...     1       2      0   \n",
       "4  General Manager Scott Petello is a good egg!!!...     0       0      0   \n",
       "\n",
       "   count_sent  count_word  count_unique_word  count_letters   ...    \\\n",
       "0           7         155                110            889   ...     \n",
       "1           5         257                159           1345   ...     \n",
       "2           1          16                 16             76   ...     \n",
       "3           5          76                 61            419   ...     \n",
       "4           3          86                 72            469   ...     \n",
       "\n",
       "   words_ends_with_et  words_start_with_no  \\\n",
       "0                   3                    0   \n",
       "1                   1                    2   \n",
       "2                   0                    0   \n",
       "3                   1                    0   \n",
       "4                   1                    1   \n",
       "\n",
       "                                          wordcounts  noun_count  verb_count  \\\n",
       "0  {'my': 1, 'only': 1, 'EVERYTHING': 1, 'absolut...          26          35   \n",
       "1  {'my': 2, 'would': 1, 'very': 2, 'came': 1, 'w...          48          53   \n",
       "2  {'so': 1, 'and': 1, 'selection': 1, 'gyro': 1,...           5           3   \n",
       "3  {'sniff!': 1, 'and': 8, 'ducks.': 1, 'fields,'...          28          12   \n",
       "4  {'rare)': 1, 'and': 3, 'for': 1, 'Manager': 1,...          21          19   \n",
       "\n",
       "   adj_count  adv_count  pron_count  sentiment  length  \n",
       "0         19         14          28   0.402469     889  \n",
       "1         19         18          35   0.229773    1345  \n",
       "2          1          2           2   0.566667      76  \n",
       "3          6          1           3   0.608646     419  \n",
       "4          5          6          14   0.468125     469  \n",
       "\n",
       "[5 rows x 31 columns]"
      ]
     },
     "execution_count": 189,
     "metadata": {},
     "output_type": "execute_result"
    }
   ],
   "source": [
    "yelp.head(5)"
   ]
  },
  {
   "cell_type": "code",
   "execution_count": 190,
   "metadata": {},
   "outputs": [
    {
     "data": {
      "text/plain": [
       "<matplotlib.axes._subplots.AxesSubplot at 0x2592e9b0>"
      ]
     },
     "execution_count": 190,
     "metadata": {},
     "output_type": "execute_result"
    },
    {
     "data": {
      "image/png": "[encoded data removed]",
      "text/plain": [
       "<Figure size 432x288 with 1 Axes>"
      ]
     },
     "metadata": {},
     "output_type": "display_data"
    }
   ],
   "source": [
    "# box plot of sentiment grouped by stars\n",
    "yelp.boxplot(column='sentiment', by='stars')"
   ]
  },
  {
   "cell_type": "code",
   "execution_count": 191,
   "metadata": {},
   "outputs": [
    {
     "data": {
      "text/plain": [
       "254    Our server Gary was awesome. Food was amazing....\n",
       "347    3 syllables for this place. \\nA-MAZ-ING!\\n\\nTh...\n",
       "420                                    LOVE the food!!!!\n",
       "459    Love it!!! Wish we still lived in Arizona as C...\n",
       "679                                     Excellent burger\n",
       "Name: text, dtype: object"
      ]
     },
     "execution_count": 191,
     "metadata": {},
     "output_type": "execute_result"
    }
   ],
   "source": [
    "# reviews with most positive sentiment\n",
    "yelp[yelp.sentiment == 1].text.head()"
   ]
  },
  {
   "cell_type": "code",
   "execution_count": 192,
   "metadata": {},
   "outputs": [
    {
     "data": {
      "text/plain": [
       "773     This was absolutely horrible. I got the suprem...\n",
       "1517                  Nasty workers and over priced trash\n",
       "3266    Absolutely awful... these guys have NO idea wh...\n",
       "4766                                       Very bad food!\n",
       "5812        I wouldn't send my worst enemy to this place.\n",
       "Name: text, dtype: object"
      ]
     },
     "execution_count": 192,
     "metadata": {},
     "output_type": "execute_result"
    }
   ],
   "source": [
    "# reviews with most negative sentiment\n",
    "yelp[yelp.sentiment == -1].text.head()"
   ]
  },
  {
   "cell_type": "code",
   "execution_count": 193,
   "metadata": {},
   "outputs": [],
   "source": [
    "# widen the column display\n",
    "pd.set_option('max_colwidth', 500)"
   ]
  },
  {
   "cell_type": "code",
   "execution_count": 196,
   "metadata": {},
   "outputs": [
    {
     "name": "stdout",
     "output_type": "stream",
     "text": [
      "390     RIP AZ Coffee Connection.  :(  I stopped by two days ago unaware that they had closed.  I am severely bummed.  This place is irreplaceable!  Damn you, Starbucks and McDonalds!\n",
      "1287                                             Obsessed. Like, I've-got-the-Twangy-Tart-withdrawal-shakes level of addiction to this place. Please make one in Arcadia! Pleeeaaassse.\n",
      "3075                                                                                                                                                     Unfortunately Out of Business.\n",
      "3516                                                                                                      Cashew brittle, almond brittle, bacon brittle!  Go now, before it's too late!\n",
      "6726                                                                                            Brown bag chicken sammich, mac n cheese, fried okra, and the bourbon drink.  Nuff said.\n",
      "9809                                                             I have to tell you....\\n\\nI had their Jerk Chicken Plate the other night, and it was yuuuuummmmmyyy! You gotta try it!\n",
      "Name: text, dtype: object\n"
     ]
    }
   ],
   "source": [
    "# negative sentiment in a 5-star review\n",
    "print(yelp[(yelp.stars == 5) & (yelp.sentiment < -0.3)].text)"
   ]
  },
  {
   "cell_type": "code",
   "execution_count": 198,
   "metadata": {},
   "outputs": [
    {
     "name": "stdout",
     "output_type": "stream",
     "text": [
      "1781                                                                                                                                                                                                                                                                 If you like the stuck up Scottsdale vibe this is a good place for you. The food isn't impressive. Nice outdoor seating.\n",
      "2353    My co-workers and I refer to this place as \"Pizza n' Ants\".  The staff will be happy to serve you with bare hands, right after using the till.  Also, as the nickname suggests, there has been a noticable insect problem. \\n\\n\\n\\nAs if that could all be overlooked, the pizza isn't even good.  If you are in this part of town, go to Z Pizza or Slices for great pizza instead!\n",
      "5257                                                                        Remember how I said that the Trivia was the best thing about this place?  Well, they got rid of long time Triva host, Dave (who had been featured in the College Times and was the best thing about the trivia).  Without Dave's personality, this place just doesn't cut it.  Will never go here again. Bummer.\n",
      "6222                                                                                                                                                                                                                                                                                                           My mother always told me, if I didn't have anything nice to say, say nothing!\n",
      "6702                                                                                                                                                                         Most livable city my eye!\\nPlastic yuppies around every corner looking for a reason to belong.  I can't wait for the homosexuals to take control of this dog park and give it some class.\\n\\nAvoid at all cost.\n",
      "8833                                                                                                                                                                                                                                   The owner has changed hands & this place isn't what it used to be.  If you want up to date paper & quality product...go to Scrap Happy OR Crop Girls!\n",
      "Name: text, dtype: object\n"
     ]
    }
   ],
   "source": [
    "# positive sentiment in a 1-star review\n",
    "print(yelp[(yelp.stars == 1) & (yelp.sentiment > 0.5)].text )"
   ]
  },
  {
   "cell_type": "code",
   "execution_count": 199,
   "metadata": {},
   "outputs": [],
   "source": [
    "# reset the column display width\n",
    "pd.reset_option('max_colwidth')"
   ]
  },
  {
   "cell_type": "markdown",
   "metadata": {},
   "source": [
    "### Adding Features to a Document-Term Matrix"
   ]
  },
  {
   "cell_type": "code",
   "execution_count": 200,
   "metadata": {},
   "outputs": [],
   "source": [
    "# create a DataFrame that only contains the 5-star and 1-star reviews\n",
    "#yelp_best_worst = yelp[(yelp.stars==5) | (yelp.stars==1)]\n",
    "\n",
    "# define X and y\n",
    "feature_cols = ['text', 'sentiment', 'cool', 'useful', 'funny']\n",
    "X = yelp[feature_cols]\n",
    "y = yelp.stars\n",
    "\n",
    "# split into training and testing sets\n",
    "X_train, X_test, y_train, y_test = train_test_split(X, y, random_state=1)"
   ]
  },
  {
   "cell_type": "code",
   "execution_count": 201,
   "metadata": {},
   "outputs": [
    {
     "name": "stdout",
     "output_type": "stream",
     "text": [
      "(7500, 25797)\n",
      "(2500, 25797)\n"
     ]
    }
   ],
   "source": [
    "# use CountVectorizer with text column only\n",
    "vect = CountVectorizer()\n",
    "X_train_dtm = vect.fit_transform(X_train.text)\n",
    "X_test_dtm = vect.transform(X_test.text)\n",
    "print(X_train_dtm.shape)\n",
    "print(X_test_dtm.shape)"
   ]
  },
  {
   "cell_type": "code",
   "execution_count": 202,
   "metadata": {},
   "outputs": [
    {
     "data": {
      "text/plain": [
       "(7500, 4)"
      ]
     },
     "execution_count": 202,
     "metadata": {},
     "output_type": "execute_result"
    }
   ],
   "source": [
    "# shape of other four feature columns\n",
    "X_train.drop('text', axis=1).shape"
   ]
  },
  {
   "cell_type": "code",
   "execution_count": 203,
   "metadata": {},
   "outputs": [
    {
     "data": {
      "text/plain": [
       "(7500, 4)"
      ]
     },
     "execution_count": 203,
     "metadata": {},
     "output_type": "execute_result"
    }
   ],
   "source": [
    "# cast other feature columns to float and convert to a sparse matrix\n",
    "extra = sparse.csr_matrix(X_train.drop('text', axis=1).astype(float))\n",
    "extra.shape"
   ]
  },
  {
   "cell_type": "code",
   "execution_count": 204,
   "metadata": {},
   "outputs": [
    {
     "data": {
      "text/plain": [
       "(7500, 25801)"
      ]
     },
     "execution_count": 204,
     "metadata": {},
     "output_type": "execute_result"
    }
   ],
   "source": [
    "# combine sparse matrices\n",
    "X_train_dtm_extra = sparse.hstack((X_train_dtm, extra))\n",
    "X_train_dtm_extra.shape"
   ]
  },
  {
   "cell_type": "code",
   "execution_count": 205,
   "metadata": {},
   "outputs": [
    {
     "data": {
      "text/plain": [
       "(2500, 25801)"
      ]
     },
     "execution_count": 205,
     "metadata": {},
     "output_type": "execute_result"
    }
   ],
   "source": [
    "# repeat for testing set\n",
    "extra = sparse.csr_matrix(X_test.drop('text', axis=1).astype(float))\n",
    "X_test_dtm_extra = sparse.hstack((X_test_dtm, extra))\n",
    "X_test_dtm_extra.shape"
   ]
  },
  {
   "cell_type": "code",
   "execution_count": 206,
   "metadata": {},
   "outputs": [
    {
     "name": "stdout",
     "output_type": "stream",
     "text": [
      "0.4592\n"
     ]
    }
   ],
   "source": [
    "# use logistic regression with text column only\n",
    "logreg = LogisticRegression(C=1e9)\n",
    "logreg.fit(X_train_dtm, y_train)\n",
    "y_pred_class = logreg.predict(X_test_dtm)\n",
    "print(metrics.accuracy_score(y_test, y_pred_class))"
   ]
  },
  {
   "cell_type": "code",
   "execution_count": 207,
   "metadata": {},
   "outputs": [
    {
     "name": "stdout",
     "output_type": "stream",
     "text": [
      "0.4672\n"
     ]
    }
   ],
   "source": [
    "# use logistic regression with all features\n",
    "logreg = LogisticRegression(C=1e9)\n",
    "logreg.fit(X_train_dtm_extra, y_train)\n",
    "y_pred_class = logreg.predict(X_test_dtm_extra)\n",
    "print(metrics.accuracy_score(y_test, y_pred_class))"
   ]
  },
  {
   "cell_type": "markdown",
   "metadata": {},
   "source": [
    "## Bonus: Fun TextBlob Features"
   ]
  },
  {
   "cell_type": "code",
   "execution_count": 208,
   "metadata": {},
   "outputs": [
    {
     "data": {
      "text/plain": [
       "TextBlob(\"15 minutes late\")"
      ]
     },
     "execution_count": 208,
     "metadata": {},
     "output_type": "execute_result"
    }
   ],
   "source": [
    "# spelling correction\n",
    "TextBlob('15 minuets late').correct()"
   ]
  },
  {
   "cell_type": "code",
   "execution_count": 209,
   "metadata": {},
   "outputs": [],
   "source": [
    "s=\"this is bcz\""
   ]
  },
  {
   "cell_type": "code",
   "execution_count": 210,
   "metadata": {},
   "outputs": [
    {
     "data": {
      "text/plain": [
       "TextBlob(\"this is bc\")"
      ]
     },
     "execution_count": 210,
     "metadata": {},
     "output_type": "execute_result"
    }
   ],
   "source": [
    "TextBlob(s).correct()"
   ]
  },
  {
   "cell_type": "code",
   "execution_count": 211,
   "metadata": {},
   "outputs": [
    {
     "data": {
      "text/plain": [
       "[('part', 0.9929478138222849), ('parrot', 0.007052186177715092)]"
      ]
     },
     "execution_count": 211,
     "metadata": {},
     "output_type": "execute_result"
    }
   ],
   "source": [
    "# spellcheck\n",
    "Word('parot').spellcheck()"
   ]
  },
  {
   "cell_type": "code",
   "execution_count": 212,
   "metadata": {},
   "outputs": [
    {
     "data": {
      "text/plain": [
       "['tip laterally',\n",
       " 'enclose with a bank',\n",
       " 'do business with a bank or keep an account at a bank',\n",
       " 'act as the banker in a game or in gambling',\n",
       " 'be in the banking business',\n",
       " 'put into a bank account',\n",
       " 'cover with ashes so to control the rate of burning',\n",
       " 'have confidence or faith in']"
      ]
     },
     "execution_count": 212,
     "metadata": {},
     "output_type": "execute_result"
    }
   ],
   "source": [
    "# definitions\n",
    "Word('bank').define('v')"
   ]
  },
  {
   "cell_type": "code",
   "execution_count": 213,
   "metadata": {},
   "outputs": [
    {
     "data": {
      "text/plain": [
       "'es'"
      ]
     },
     "execution_count": 213,
     "metadata": {},
     "output_type": "execute_result"
    }
   ],
   "source": [
    "# language identification\n",
    "TextBlob('Hola amigos').detect_language()"
   ]
  },
  {
   "cell_type": "markdown",
   "metadata": {},
   "source": [
    "## Conclusion\n",
    "\n",
    "- NLP is a gigantic field\n",
    "- Understanding the basics broadens the types of data you can work with\n",
    "- Simple techniques go a long way\n",
    "- Use scikit-learn for NLP whenever possible"
   ]
  }
 ],
 "metadata": {
  "kernelspec": {
   "display_name": "Python 3",
   "language": "python",
   "name": "python3"
  },
  "language_info": {
   "codemirror_mode": {
    "name": "ipython",
    "version": 3
   },
   "file_extension": ".py",
   "mimetype": "text/x-python",
   "name": "python",
   "nbconvert_exporter": "python",
   "pygments_lexer": "ipython3",
   "version": "3.7.0"
  }
 },
 "nbformat": 4,
 "nbformat_minor": 1
}
