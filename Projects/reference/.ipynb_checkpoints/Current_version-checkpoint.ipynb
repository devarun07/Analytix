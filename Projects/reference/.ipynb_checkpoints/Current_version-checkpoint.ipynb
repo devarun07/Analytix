{
 "cells": [
  {
   "cell_type": "markdown",
   "metadata": {},
   "source": [
    "Name: Shankar AKM <br>\n",
    "Email: akmshankar@gmail.com"
   ]
  },
  {
   "cell_type": "markdown",
   "metadata": {},
   "source": [
    "### Case Study - Text Mining\n",
    "**Bank review / Complaints Analysis**"
   ]
  },
  {
   "cell_type": "code",
   "execution_count": 1,
   "metadata": {},
   "outputs": [],
   "source": [
    "import warnings\n",
    "warnings.filterwarnings(\"ignore\", message=\"numpy.dtype size changed\")\n",
    "warnings.filterwarnings(\"ignore\", message=\"numpy.ufunc size changed\")"
   ]
  },
  {
   "cell_type": "code",
   "execution_count": 14,
   "metadata": {},
   "outputs": [],
   "source": [
    "# Import data analysis and visualization libraries\n",
    "import pandas as pd\n",
    "import numpy as np\n",
    "import seaborn as sns\n",
    "import matplotlib.pyplot as plt\n",
    "%matplotlib inline\n",
    "\n",
    "# Import text mining packages\n",
    "import nltk\n",
    "from nltk.corpus import stopwords\n",
    "from nltk.stem import WordNetLemmatizer\n",
    "import re, string, textblob\n",
    "from textblob import TextBlob\n",
    "\n",
    "# Import feature engineering packages\n",
    "from sklearn.feature_extraction.text import TfidfVectorizer, CountVectorizer\n",
    "from sklearn import linear_model, naive_bayes, metrics, svm, decomposition, ensemble\n",
    "from sklearn.linear_model import LogisticRegression\n",
    "from sklearn.model_selection import train_test_split"
   ]
  },
  {
   "cell_type": "code",
   "execution_count": 5,
   "metadata": {},
   "outputs": [],
   "source": [
    "# settings \n",
    "color = sns.color_palette()\n",
    "sns.set_style('dark')"
   ]
  },
  {
   "cell_type": "code",
   "execution_count": 6,
   "metadata": {},
   "outputs": [],
   "source": [
    "# Load dataset\n",
    "data = pd.read_excel('BankReviews.xlsx')"
   ]
  },
  {
   "cell_type": "markdown",
   "metadata": {},
   "source": [
    "#### Exploratory data analysis"
   ]
  },
  {
   "cell_type": "code",
   "execution_count": 7,
   "metadata": {},
   "outputs": [
    {
     "data": {
      "text/html": [
       "<div>\n",
       "<style scoped>\n",
       "    .dataframe tbody tr th:only-of-type {\n",
       "        vertical-align: middle;\n",
       "    }\n",
       "\n",
       "    .dataframe tbody tr th {\n",
       "        vertical-align: top;\n",
       "    }\n",
       "\n",
       "    .dataframe thead th {\n",
       "        text-align: right;\n",
       "    }\n",
       "</style>\n",
       "<table border=\"1\" class=\"dataframe\">\n",
       "  <thead>\n",
       "    <tr style=\"text-align: right;\">\n",
       "      <th></th>\n",
       "      <th>Date</th>\n",
       "      <th>Stars</th>\n",
       "      <th>Reviews</th>\n",
       "      <th>BankName</th>\n",
       "    </tr>\n",
       "  </thead>\n",
       "  <tbody>\n",
       "    <tr>\n",
       "      <th>0</th>\n",
       "      <td>2017-04-10</td>\n",
       "      <td>5</td>\n",
       "      <td>Great job, Wyndham Capital! Each person was pr...</td>\n",
       "      <td>Wyndham Capital Mortgage</td>\n",
       "    </tr>\n",
       "    <tr>\n",
       "      <th>1</th>\n",
       "      <td>2017-02-10</td>\n",
       "      <td>5</td>\n",
       "      <td>Matthew Richardson is professional and helpful...</td>\n",
       "      <td>Wyndham Capital Mortgage</td>\n",
       "    </tr>\n",
       "    <tr>\n",
       "      <th>2</th>\n",
       "      <td>2017-08-21</td>\n",
       "      <td>5</td>\n",
       "      <td>We had a past experience with Wyndham Mortgage...</td>\n",
       "      <td>Wyndham Capital Mortgage</td>\n",
       "    </tr>\n",
       "    <tr>\n",
       "      <th>3</th>\n",
       "      <td>2017-12-17</td>\n",
       "      <td>5</td>\n",
       "      <td>We have been dealing with Brad Thomka from the...</td>\n",
       "      <td>Wyndham Capital Mortgage</td>\n",
       "    </tr>\n",
       "    <tr>\n",
       "      <th>4</th>\n",
       "      <td>2016-05-27</td>\n",
       "      <td>5</td>\n",
       "      <td>I can't express how grateful I am for the supp...</td>\n",
       "      <td>Wyndham Capital Mortgage</td>\n",
       "    </tr>\n",
       "  </tbody>\n",
       "</table>\n",
       "</div>"
      ],
      "text/plain": [
       "        Date  Stars                                            Reviews  \\\n",
       "0 2017-04-10      5  Great job, Wyndham Capital! Each person was pr...   \n",
       "1 2017-02-10      5  Matthew Richardson is professional and helpful...   \n",
       "2 2017-08-21      5  We had a past experience with Wyndham Mortgage...   \n",
       "3 2017-12-17      5  We have been dealing with Brad Thomka from the...   \n",
       "4 2016-05-27      5  I can't express how grateful I am for the supp...   \n",
       "\n",
       "                   BankName  \n",
       "0  Wyndham Capital Mortgage  \n",
       "1  Wyndham Capital Mortgage  \n",
       "2  Wyndham Capital Mortgage  \n",
       "3  Wyndham Capital Mortgage  \n",
       "4  Wyndham Capital Mortgage  "
      ]
     },
     "execution_count": 7,
     "metadata": {},
     "output_type": "execute_result"
    }
   ],
   "source": [
    "# View top 5 rows\n",
    "data.head()"
   ]
  },
  {
   "cell_type": "code",
   "execution_count": 8,
   "metadata": {},
   "outputs": [
    {
     "name": "stdout",
     "output_type": "stream",
     "text": [
      "No. of rows and columns:  (505, 4)\n"
     ]
    }
   ],
   "source": [
    "print('No. of rows and columns: ', data.shape )"
   ]
  },
  {
   "cell_type": "code",
   "execution_count": 9,
   "metadata": {},
   "outputs": [
    {
     "name": "stdout",
     "output_type": "stream",
     "text": [
      "<class 'pandas.core.frame.DataFrame'>\n",
      "RangeIndex: 505 entries, 0 to 504\n",
      "Data columns (total 4 columns):\n",
      "Date        505 non-null datetime64[ns]\n",
      "Stars       505 non-null int64\n",
      "Reviews     505 non-null object\n",
      "BankName    505 non-null object\n",
      "dtypes: datetime64[ns](1), int64(1), object(2)\n",
      "memory usage: 15.9+ KB\n"
     ]
    }
   ],
   "source": [
    "data.info()"
   ]
  },
  {
   "cell_type": "code",
   "execution_count": 10,
   "metadata": {},
   "outputs": [
    {
     "data": {
      "text/plain": [
       "array([5, 1], dtype=int64)"
      ]
     },
     "execution_count": 10,
     "metadata": {},
     "output_type": "execute_result"
    }
   ],
   "source": [
    "data['Stars'].unique()"
   ]
  },
  {
   "cell_type": "code",
   "execution_count": 11,
   "metadata": {},
   "outputs": [
    {
     "data": {
      "image/png": "[encoded data removed]",
      "text/plain": [
       "<Figure size 576x360 with 1 Axes>"
      ]
     },
     "metadata": {},
     "output_type": "display_data"
    }
   ],
   "source": [
    "stars_count = data.groupby('Stars').count()\n",
    "plt.figure(figsize = (8,5))\n",
    "sns.barplot(stars_count.index.values, stars_count['Reviews'])\n",
    "plt.xlabel('Star rating', fontsize = 13)\n",
    "plt.ylabel('No. of reviews', fontsize = 13)\n",
    "plt.title('No. of reviews for each star rating', fontsize = 14)\n",
    "plt.show()"
   ]
  },
  {
   "cell_type": "markdown",
   "metadata": {},
   "source": [
    "- Observations from exploratory analysis:\n",
    "    - There are no missing/null values in the dataset\n",
    "    - All variables are in appropropriate data types for the analysis"
   ]
  },
  {
   "cell_type": "markdown",
   "metadata": {},
   "source": [
    "#### Data Processing"
   ]
  },
  {
   "cell_type": "code",
   "execution_count": 13,
   "metadata": {},
   "outputs": [
    {
     "data": {
      "text/html": [
       "<div>\n",
       "<style scoped>\n",
       "    .dataframe tbody tr th:only-of-type {\n",
       "        vertical-align: middle;\n",
       "    }\n",
       "\n",
       "    .dataframe tbody tr th {\n",
       "        vertical-align: top;\n",
       "    }\n",
       "\n",
       "    .dataframe thead th {\n",
       "        text-align: right;\n",
       "    }\n",
       "</style>\n",
       "<table border=\"1\" class=\"dataframe\">\n",
       "  <thead>\n",
       "    <tr style=\"text-align: right;\">\n",
       "      <th></th>\n",
       "      <th>Date</th>\n",
       "      <th>Stars</th>\n",
       "      <th>Reviews</th>\n",
       "      <th>BankName</th>\n",
       "    </tr>\n",
       "  </thead>\n",
       "  <tbody>\n",
       "    <tr>\n",
       "      <th>0</th>\n",
       "      <td>2017-04-10</td>\n",
       "      <td>5</td>\n",
       "      <td>Great job, Wyndham Capital! Each person was pr...</td>\n",
       "      <td>Wyndham Capital Mortgage</td>\n",
       "    </tr>\n",
       "    <tr>\n",
       "      <th>1</th>\n",
       "      <td>2017-02-10</td>\n",
       "      <td>5</td>\n",
       "      <td>Matthew Richardson is professional and helpful...</td>\n",
       "      <td>Wyndham Capital Mortgage</td>\n",
       "    </tr>\n",
       "  </tbody>\n",
       "</table>\n",
       "</div>"
      ],
      "text/plain": [
       "        Date  Stars                                            Reviews  \\\n",
       "0 2017-04-10      5  Great job, Wyndham Capital! Each person was pr...   \n",
       "1 2017-02-10      5  Matthew Richardson is professional and helpful...   \n",
       "\n",
       "                   BankName  \n",
       "0  Wyndham Capital Mortgage  \n",
       "1  Wyndham Capital Mortgage  "
      ]
     },
     "execution_count": 13,
     "metadata": {},
     "output_type": "execute_result"
    }
   ],
   "source": [
    "data.head(2)"
   ]
  },
  {
   "cell_type": "code",
   "execution_count": 15,
   "metadata": {},
   "outputs": [],
   "source": [
    "# Pre-process the text columns 'Reviews' and 'BankName'\n",
    "# Preprocessing steps :  Conversion to lower case, removal of punctuations, removal of stopwords, lemmatization\n",
    "stop_words = set(stopwords.words('english'))\n",
    "punctuations = set(string.punctuation)\n",
    "lemma = WordNetLemmatizer()\n",
    "\n",
    "def clean(text):\n",
    "    stop_free = ' '.join([word for word in str(text).lower().split() if word not in stop_words])\n",
    "    punc_free = ''.join([char for char in stop_free if char not in punctuations])\n",
    "    normalized = ' '.join([lemma.lemmatize(word) for word in punc_free.split()])\n",
    "    return normalized"
   ]
  },
  {
   "cell_type": "code",
   "execution_count": 16,
   "metadata": {},
   "outputs": [],
   "source": [
    "data['Reviews'] = data['Reviews'].apply(lambda x: clean(x))\n",
    "data['BankName'] = data['BankName'].apply(lambda x: clean(x))"
   ]
  },
  {
   "cell_type": "code",
   "execution_count": 17,
   "metadata": {},
   "outputs": [
    {
     "data": {
      "text/html": [
       "<div>\n",
       "<style scoped>\n",
       "    .dataframe tbody tr th:only-of-type {\n",
       "        vertical-align: middle;\n",
       "    }\n",
       "\n",
       "    .dataframe tbody tr th {\n",
       "        vertical-align: top;\n",
       "    }\n",
       "\n",
       "    .dataframe thead th {\n",
       "        text-align: right;\n",
       "    }\n",
       "</style>\n",
       "<table border=\"1\" class=\"dataframe\">\n",
       "  <thead>\n",
       "    <tr style=\"text-align: right;\">\n",
       "      <th></th>\n",
       "      <th>Date</th>\n",
       "      <th>Stars</th>\n",
       "      <th>Reviews</th>\n",
       "      <th>BankName</th>\n",
       "    </tr>\n",
       "  </thead>\n",
       "  <tbody>\n",
       "    <tr>\n",
       "      <th>0</th>\n",
       "      <td>2017-04-10</td>\n",
       "      <td>5</td>\n",
       "      <td>great job wyndham capital person professional ...</td>\n",
       "      <td>wyndham capital mortgage</td>\n",
       "    </tr>\n",
       "    <tr>\n",
       "      <th>1</th>\n",
       "      <td>2017-02-10</td>\n",
       "      <td>5</td>\n",
       "      <td>matthew richardson professional helpful helped...</td>\n",
       "      <td>wyndham capital mortgage</td>\n",
       "    </tr>\n",
       "    <tr>\n",
       "      <th>2</th>\n",
       "      <td>2017-08-21</td>\n",
       "      <td>5</td>\n",
       "      <td>past experience wyndham mortgage would without...</td>\n",
       "      <td>wyndham capital mortgage</td>\n",
       "    </tr>\n",
       "    <tr>\n",
       "      <th>3</th>\n",
       "      <td>2017-12-17</td>\n",
       "      <td>5</td>\n",
       "      <td>dealing brad thomka beginning started stressfu...</td>\n",
       "      <td>wyndham capital mortgage</td>\n",
       "    </tr>\n",
       "    <tr>\n",
       "      <th>4</th>\n",
       "      <td>2016-05-27</td>\n",
       "      <td>5</td>\n",
       "      <td>cant express grateful support zach provided fa...</td>\n",
       "      <td>wyndham capital mortgage</td>\n",
       "    </tr>\n",
       "  </tbody>\n",
       "</table>\n",
       "</div>"
      ],
      "text/plain": [
       "        Date  Stars                                            Reviews  \\\n",
       "0 2017-04-10      5  great job wyndham capital person professional ...   \n",
       "1 2017-02-10      5  matthew richardson professional helpful helped...   \n",
       "2 2017-08-21      5  past experience wyndham mortgage would without...   \n",
       "3 2017-12-17      5  dealing brad thomka beginning started stressfu...   \n",
       "4 2016-05-27      5  cant express grateful support zach provided fa...   \n",
       "\n",
       "                   BankName  \n",
       "0  wyndham capital mortgage  \n",
       "1  wyndham capital mortgage  \n",
       "2  wyndham capital mortgage  \n",
       "3  wyndham capital mortgage  \n",
       "4  wyndham capital mortgage  "
      ]
     },
     "execution_count": 17,
     "metadata": {},
     "output_type": "execute_result"
    }
   ],
   "source": [
    "data.head()"
   ]
  },
  {
   "cell_type": "markdown",
   "metadata": {},
   "source": [
    "#### Identify key positive and negative words"
   ]
  },
  {
   "cell_type": "markdown",
   "metadata": {},
   "source": [
    "- Approach:\n",
    "    - Identify 20 most frequent words in Reviews\n",
    "    - Categorise the words as positive or negative using vadersentiment"
   ]
  },
  {
   "cell_type": "code",
   "execution_count": 16,
   "metadata": {},
   "outputs": [],
   "source": [
    "# Combine all reviews into a single object\n",
    "all_review = []\n",
    "for rev in range(data.shape[0]):\n",
    "    all_review.append(data['Reviews'][rev])"
   ]
  },
  {
   "cell_type": "code",
   "execution_count": 18,
   "metadata": {},
   "outputs": [
    {
     "data": {
      "text/plain": [
       "'great job wyndham capital person professional helped u move refinance process smoothly thank you'"
      ]
     },
     "execution_count": 18,
     "metadata": {},
     "output_type": "execute_result"
    }
   ],
   "source": [
    "all_review[0]"
   ]
  },
  {
   "cell_type": "code",
   "execution_count": 19,
   "metadata": {},
   "outputs": [],
   "source": [
    "# Split the reviews into individual words\n",
    "all_words = str(all_review).split()"
   ]
  },
  {
   "cell_type": "code",
   "execution_count": 21,
   "metadata": {},
   "outputs": [],
   "source": [
    "# Identify most frequent words\n",
    "from collections import Counter\n",
    "count = Counter(all_words)"
   ]
  },
  {
   "cell_type": "code",
   "execution_count": 26,
   "metadata": {},
   "outputs": [
    {
     "name": "stdout",
     "output_type": "stream",
     "text": [
      "[('loan', 306), ('process', 245), ('would', 243), ('time', 216), ('u', 206), ('home', 190), (\"read',\", 185), ('mortgage', 150), ('recommend', 147), ('rate', 139), ('work', 136), ('closing', 132), ('great', 118), ('made', 117), ('team', 109), ('question', 108), ('service', 106), ('experience', 106), ('get', 98), ('nasb', 97), ('company', 95), ('best', 95), ('call', 92), ('week', 87), ('always', 86), ('email', 84), ('lender', 84), ('bank', 83), ('day', 79), ('customer', 78)]\n"
     ]
    }
   ],
   "source": [
    "print(count.most_common(30))"
   ]
  },
  {
   "cell_type": "code",
   "execution_count": 28,
   "metadata": {},
   "outputs": [],
   "source": [
    "# Find the sentiment of word using vaderSentiment\n",
    "from vaderSentiment.vaderSentiment import SentimentIntensityAnalyzer\n",
    "analyser = SentimentIntensityAnalyzer()"
   ]
  },
  {
   "cell_type": "code",
   "execution_count": 48,
   "metadata": {},
   "outputs": [
    {
     "ename": "AttributeError",
     "evalue": "'tuple' object has no attribute 'split'",
     "output_type": "error",
     "traceback": [
      "\u001b[1;31m---------------------------------------------------------------------------\u001b[0m",
      "\u001b[1;31mAttributeError\u001b[0m                            Traceback (most recent call last)",
      "\u001b[1;32m<ipython-input-48-3d0d61da40a3>\u001b[0m in \u001b[0;36m<module>\u001b[1;34m\u001b[0m\n\u001b[0;32m      1\u001b[0m \u001b[0mpos_score\u001b[0m \u001b[1;33m=\u001b[0m \u001b[1;33m[\u001b[0m\u001b[1;33m]\u001b[0m\u001b[1;33m\u001b[0m\u001b[1;33m\u001b[0m\u001b[0m\n\u001b[0;32m      2\u001b[0m \u001b[1;32mfor\u001b[0m \u001b[0mword\u001b[0m \u001b[1;32min\u001b[0m \u001b[0mcount\u001b[0m\u001b[1;33m.\u001b[0m\u001b[0mmost_common\u001b[0m\u001b[1;33m(\u001b[0m\u001b[1;36m5\u001b[0m\u001b[1;33m)\u001b[0m\u001b[1;33m:\u001b[0m\u001b[1;33m\u001b[0m\u001b[1;33m\u001b[0m\u001b[0m\n\u001b[1;32m----> 3\u001b[1;33m     \u001b[0mpos_score\u001b[0m\u001b[1;33m.\u001b[0m\u001b[0mappend\u001b[0m\u001b[1;33m(\u001b[0m\u001b[0manalyser\u001b[0m\u001b[1;33m.\u001b[0m\u001b[0mpolarity_scores\u001b[0m\u001b[1;33m(\u001b[0m\u001b[0mword\u001b[0m\u001b[1;33m)\u001b[0m\u001b[1;33m.\u001b[0m\u001b[0mget\u001b[0m\u001b[1;33m(\u001b[0m\u001b[1;34m'neg'\u001b[0m\u001b[1;33m)\u001b[0m\u001b[1;33m)\u001b[0m\u001b[1;33m\u001b[0m\u001b[1;33m\u001b[0m\u001b[0m\n\u001b[0m",
      "\u001b[1;32m~\\AppData\\Local\\Continuum\\anaconda3\\lib\\site-packages\\vaderSentiment\\vaderSentiment.py\u001b[0m in \u001b[0;36mpolarity_scores\u001b[1;34m(self, text)\u001b[0m\n\u001b[0;32m    246\u001b[0m         \"\"\"\n\u001b[0;32m    247\u001b[0m         \u001b[1;31m# convert emojis to their textual descriptions\u001b[0m\u001b[1;33m\u001b[0m\u001b[1;33m\u001b[0m\u001b[1;33m\u001b[0m\u001b[0m\n\u001b[1;32m--> 248\u001b[1;33m         \u001b[0mtext_token_list\u001b[0m \u001b[1;33m=\u001b[0m \u001b[0mtext\u001b[0m\u001b[1;33m.\u001b[0m\u001b[0msplit\u001b[0m\u001b[1;33m(\u001b[0m\u001b[1;33m)\u001b[0m\u001b[1;33m\u001b[0m\u001b[1;33m\u001b[0m\u001b[0m\n\u001b[0m\u001b[0;32m    249\u001b[0m         \u001b[0mtext_no_emoji_lst\u001b[0m \u001b[1;33m=\u001b[0m \u001b[1;33m[\u001b[0m\u001b[1;33m]\u001b[0m\u001b[1;33m\u001b[0m\u001b[1;33m\u001b[0m\u001b[0m\n\u001b[0;32m    250\u001b[0m         \u001b[1;32mfor\u001b[0m \u001b[0mtoken\u001b[0m \u001b[1;32min\u001b[0m \u001b[0mtext_token_list\u001b[0m\u001b[1;33m:\u001b[0m\u001b[1;33m\u001b[0m\u001b[1;33m\u001b[0m\u001b[0m\n",
      "\u001b[1;31mAttributeError\u001b[0m: 'tuple' object has no attribute 'split'"
     ]
    }
   ],
   "source": [
    "pos_score = []\n",
    "for word in count.most_common(5):\n",
    "    pos_score.append(analyser.polarity_scores(word).get('neg'))"
   ]
  },
  {
   "cell_type": "code",
   "execution_count": null,
   "metadata": {},
   "outputs": [],
   "source": []
  },
  {
   "cell_type": "code",
   "execution_count": 12,
   "metadata": {},
   "outputs": [
    {
     "data": {
      "text/plain": [
       "list"
      ]
     },
     "execution_count": 12,
     "metadata": {},
     "output_type": "execute_result"
    }
   ],
   "source": [
    "type(all_reviews)"
   ]
  },
  {
   "cell_type": "markdown",
   "metadata": {},
   "source": [
    "- Preprocessing includes\n",
    "     - Conversion to lower characters\n",
    "     - Removal of punctuations\n",
    "     - Removal of stopwords\n",
    "     - Lemmatization"
   ]
  },
  {
   "cell_type": "code",
   "execution_count": 13,
   "metadata": {},
   "outputs": [],
   "source": [
    "from nltk.corpus import stopwords\n",
    "from nltk.stem.wordnet import WordNetLemmatizer\n",
    "import string\n",
    "stop_words = set(stopwords.words('english'))\n",
    "punctuations = set(string.punctuation)\n",
    "lemma = WordNetLemmatizer()"
   ]
  },
  {
   "cell_type": "code",
   "execution_count": 14,
   "metadata": {},
   "outputs": [],
   "source": [
    "def clean(text):\n",
    "    stop_free = ' '.join([word for word in text.lower().split() if word not in stop_words])\n",
    "    punc_free = ''.join([char for char in stop_free if char not in punctuations])\n",
    "    normalized = ' '.join(lemma.lemmatize(word) for word in punc_free.split())\n",
    "    return normalized"
   ]
  },
  {
   "cell_type": "code",
   "execution_count": 15,
   "metadata": {},
   "outputs": [],
   "source": [
    "doc_clean = [clean(doc).split() for doc in all_reviews]"
   ]
  },
  {
   "cell_type": "code",
   "execution_count": 16,
   "metadata": {},
   "outputs": [
    {
     "name": "stdout",
     "output_type": "stream",
     "text": [
      "['great', 'job', 'wyndham', 'capital', 'person', 'professional', 'helped', 'u', 'move', 'refinance', 'process', 'smoothly', 'thank', 'you']\n"
     ]
    }
   ],
   "source": [
    "print(doc_clean[0])"
   ]
  },
  {
   "cell_type": "markdown",
   "metadata": {},
   "source": [
    "#### Key Positive and Negative words"
   ]
  },
  {
   "cell_type": "code",
   "execution_count": 68,
   "metadata": {},
   "outputs": [],
   "source": [
    "# Positive words will be associated with reviews having star rating of 5 while Negative words will be associated with 1 Star.\n",
    "# Take subset of data with star rating of 1 and 5"
   ]
  },
  {
   "cell_type": "code",
   "execution_count": 98,
   "metadata": {},
   "outputs": [],
   "source": [
    "pos_review = []\n",
    "neg_review = []\n",
    "\n",
    "for i in range(data.shape[0]):\n",
    "    if (data['Stars'][i]==5):\n",
    "        pos_review.append(data['Reviews'][i])\n",
    "for i in range(data.shape[0]):\n",
    "    if (data['Stars'][i]==1):\n",
    "        neg_review.append(data['Reviews'][i])\n",
    "    "
   ]
  },
  {
   "cell_type": "code",
   "execution_count": 99,
   "metadata": {},
   "outputs": [
    {
     "name": "stdout",
     "output_type": "stream",
     "text": [
      "410\n",
      "95\n"
     ]
    }
   ],
   "source": [
    "print(len(pos_review))\n",
    "print(len(neg_review))\n",
    "\n",
    "# Preprocess the text for analysis\n",
    "pos_review = clean(str(pos_review))\n",
    "neg_review = clean(str(neg_review))"
   ]
  },
  {
   "cell_type": "code",
   "execution_count": 100,
   "metadata": {},
   "outputs": [
    {
     "name": "stdout",
     "output_type": "stream",
     "text": [
      "[('would', 123), ('loan', 115), ('bank', 67), ('closing', 66), ('rate', 60), ('week', 60), ('time', 59), ('read', 55), ('morern', 52), ('process', 49)]\n"
     ]
    }
   ],
   "source": [
    "# Frequent Negative words\n",
    "from collections import Counter\n",
    "counter_neg = Counter(str(neg_review).split())\n",
    "print(counter_neg.most_common(10))"
   ]
  },
  {
   "cell_type": "code",
   "execution_count": 101,
   "metadata": {},
   "outputs": [
    {
     "name": "stdout",
     "output_type": "stream",
     "text": [
      "[('loan', 211), ('process', 199), ('home', 172), ('u', 161), ('time', 158), ('read', 134), ('morern', 134), ('recommend', 127), ('work', 124), ('would', 123)]\n"
     ]
    }
   ],
   "source": [
    "# Frequent Positive words\n",
    "counter_pos = Counter(str(pos_review).split())\n",
    "print(counter_pos.most_common(10))"
   ]
  },
  {
   "cell_type": "markdown",
   "metadata": {},
   "source": [
    "#### Key Positive and Negative words using Vadersentiment"
   ]
  },
  {
   "cell_type": "code",
   "execution_count": 102,
   "metadata": {},
   "outputs": [],
   "source": [
    "from vaderSentiment.vaderSentiment import SentimentIntensityAnalyzer\n",
    "analyser = SentimentIntensityAnalyzer()"
   ]
  },
  {
   "cell_type": "code",
   "execution_count": 106,
   "metadata": {},
   "outputs": [
    {
     "data": {
      "text/plain": [
       "0.0"
      ]
     },
     "execution_count": 106,
     "metadata": {},
     "output_type": "execute_result"
    }
   ],
   "source": [
    "analyser.polarity_scores('home').get('neg')"
   ]
  },
  {
   "cell_type": "code",
   "execution_count": 107,
   "metadata": {},
   "outputs": [
    {
     "data": {
      "text/plain": [
       "6783"
      ]
     },
     "execution_count": 107,
     "metadata": {},
     "output_type": "execute_result"
    }
   ],
   "source": [
    "len(neg_review.split())"
   ]
  },
  {
   "cell_type": "markdown",
   "metadata": {},
   "source": [
    "#### Classification of reviews into positive, negative and neutral"
   ]
  },
  {
   "cell_type": "code",
   "execution_count": 108,
   "metadata": {},
   "outputs": [],
   "source": [
    "# Classify review as per below crietria\n",
    "#   Negative : sentiment_score < -0.05\n",
    "#   Neutral  : sentiment_score <-0.05 and > 0.05\n",
    "#   Positive : sentiment_score > 0.05"
   ]
  },
  {
   "cell_type": "code",
   "execution_count": 114,
   "metadata": {},
   "outputs": [],
   "source": [
    "data['Processed_reviews'] = data['Reviews'].apply(lambda x: clean(x))"
   ]
  },
  {
   "cell_type": "code",
   "execution_count": 115,
   "metadata": {},
   "outputs": [],
   "source": [
    "data['sentiment_score'] = data['Processed_reviews'].apply(lambda x: TextBlob(x).sentiment.polarity)"
   ]
  },
  {
   "cell_type": "code",
   "execution_count": 116,
   "metadata": {},
   "outputs": [],
   "source": [
    "data['sentiment'] = np.where(data['sentiment_score'] < -0.05, 'Negative', \n",
    "                             np.where(data['sentiment_score'] < 0.05, 'Neutral', 'Positive'))"
   ]
  },
  {
   "cell_type": "code",
   "execution_count": 119,
   "metadata": {},
   "outputs": [
    {
     "data": {
      "text/html": [
       "<div>\n",
       "<style scoped>\n",
       "    .dataframe tbody tr th:only-of-type {\n",
       "        vertical-align: middle;\n",
       "    }\n",
       "\n",
       "    .dataframe tbody tr th {\n",
       "        vertical-align: top;\n",
       "    }\n",
       "\n",
       "    .dataframe thead th {\n",
       "        text-align: right;\n",
       "    }\n",
       "</style>\n",
       "<table border=\"1\" class=\"dataframe\">\n",
       "  <thead>\n",
       "    <tr style=\"text-align: right;\">\n",
       "      <th></th>\n",
       "      <th>Date</th>\n",
       "      <th>Stars</th>\n",
       "      <th>Reviews</th>\n",
       "      <th>BankName</th>\n",
       "      <th>sentiment_score</th>\n",
       "      <th>sentiment</th>\n",
       "      <th>Processed_reviews</th>\n",
       "    </tr>\n",
       "  </thead>\n",
       "  <tbody>\n",
       "    <tr>\n",
       "      <th>0</th>\n",
       "      <td>2017-04-10</td>\n",
       "      <td>5</td>\n",
       "      <td>Great job, Wyndham Capital! Each person was pr...</td>\n",
       "      <td>Wyndham Capital Mortgage</td>\n",
       "      <td>0.433333</td>\n",
       "      <td>Positive</td>\n",
       "      <td>great job wyndham capital person professional ...</td>\n",
       "    </tr>\n",
       "    <tr>\n",
       "      <th>1</th>\n",
       "      <td>2017-02-10</td>\n",
       "      <td>5</td>\n",
       "      <td>Matthew Richardson is professional and helpful...</td>\n",
       "      <td>Wyndham Capital Mortgage</td>\n",
       "      <td>0.550000</td>\n",
       "      <td>Positive</td>\n",
       "      <td>matthew richardson professional helpful helped...</td>\n",
       "    </tr>\n",
       "    <tr>\n",
       "      <th>2</th>\n",
       "      <td>2017-08-21</td>\n",
       "      <td>5</td>\n",
       "      <td>We had a past experience with Wyndham Mortgage...</td>\n",
       "      <td>Wyndham Capital Mortgage</td>\n",
       "      <td>-0.033869</td>\n",
       "      <td>Neutral</td>\n",
       "      <td>past experience wyndham mortgage would without...</td>\n",
       "    </tr>\n",
       "    <tr>\n",
       "      <th>3</th>\n",
       "      <td>2017-12-17</td>\n",
       "      <td>5</td>\n",
       "      <td>We have been dealing with Brad Thomka from the...</td>\n",
       "      <td>Wyndham Capital Mortgage</td>\n",
       "      <td>0.086561</td>\n",
       "      <td>Positive</td>\n",
       "      <td>dealing brad thomka beginning started stressfu...</td>\n",
       "    </tr>\n",
       "    <tr>\n",
       "      <th>4</th>\n",
       "      <td>2016-05-27</td>\n",
       "      <td>5</td>\n",
       "      <td>I can't express how grateful I am for the supp...</td>\n",
       "      <td>Wyndham Capital Mortgage</td>\n",
       "      <td>0.086667</td>\n",
       "      <td>Positive</td>\n",
       "      <td>cant express grateful support zach provided fa...</td>\n",
       "    </tr>\n",
       "  </tbody>\n",
       "</table>\n",
       "</div>"
      ],
      "text/plain": [
       "        Date  Stars                                            Reviews  \\\n",
       "0 2017-04-10      5  Great job, Wyndham Capital! Each person was pr...   \n",
       "1 2017-02-10      5  Matthew Richardson is professional and helpful...   \n",
       "2 2017-08-21      5  We had a past experience with Wyndham Mortgage...   \n",
       "3 2017-12-17      5  We have been dealing with Brad Thomka from the...   \n",
       "4 2016-05-27      5  I can't express how grateful I am for the supp...   \n",
       "\n",
       "                   BankName  sentiment_score sentiment  \\\n",
       "0  Wyndham Capital Mortgage         0.433333  Positive   \n",
       "1  Wyndham Capital Mortgage         0.550000  Positive   \n",
       "2  Wyndham Capital Mortgage        -0.033869   Neutral   \n",
       "3  Wyndham Capital Mortgage         0.086561  Positive   \n",
       "4  Wyndham Capital Mortgage         0.086667  Positive   \n",
       "\n",
       "                                   Processed_reviews  \n",
       "0  great job wyndham capital person professional ...  \n",
       "1  matthew richardson professional helpful helped...  \n",
       "2  past experience wyndham mortgage would without...  \n",
       "3  dealing brad thomka beginning started stressfu...  \n",
       "4  cant express grateful support zach provided fa...  "
      ]
     },
     "execution_count": 119,
     "metadata": {},
     "output_type": "execute_result"
    }
   ],
   "source": [
    "data.head()"
   ]
  },
  {
   "cell_type": "markdown",
   "metadata": {},
   "source": [
    "#### Identify key themes of problems (using clustering, topic modeling)\n",
    "- We can identify the problems in the reviews with rating '1'."
   ]
  },
  {
   "cell_type": "code",
   "execution_count": 163,
   "metadata": {},
   "outputs": [],
   "source": [
    "# Take a subset of dataframe with star rating as 1\n",
    "data_1 = data[data['Stars']==1]"
   ]
  },
  {
   "cell_type": "code",
   "execution_count": 168,
   "metadata": {},
   "outputs": [
    {
     "data": {
      "text/html": [
       "<div>\n",
       "<style scoped>\n",
       "    .dataframe tbody tr th:only-of-type {\n",
       "        vertical-align: middle;\n",
       "    }\n",
       "\n",
       "    .dataframe tbody tr th {\n",
       "        vertical-align: top;\n",
       "    }\n",
       "\n",
       "    .dataframe thead th {\n",
       "        text-align: right;\n",
       "    }\n",
       "</style>\n",
       "<table border=\"1\" class=\"dataframe\">\n",
       "  <thead>\n",
       "    <tr style=\"text-align: right;\">\n",
       "      <th></th>\n",
       "      <th>Date</th>\n",
       "      <th>Stars</th>\n",
       "      <th>Reviews</th>\n",
       "      <th>BankName</th>\n",
       "      <th>sentiment_score</th>\n",
       "      <th>sentiment</th>\n",
       "      <th>processes_review</th>\n",
       "    </tr>\n",
       "  </thead>\n",
       "  <tbody>\n",
       "    <tr>\n",
       "      <th>17</th>\n",
       "      <td>2017-02-24</td>\n",
       "      <td>1</td>\n",
       "      <td>This was the worst experience ever. It was lik...</td>\n",
       "      <td>Wyndham Capital Mortgage</td>\n",
       "      <td>-0.095455</td>\n",
       "      <td>Negative</td>\n",
       "      <td>worst experience ever like never gone process ...</td>\n",
       "    </tr>\n",
       "    <tr>\n",
       "      <th>18</th>\n",
       "      <td>2016-03-14</td>\n",
       "      <td>1</td>\n",
       "      <td>A good rate but a very frustrating process, co...</td>\n",
       "      <td>Wyndham Capital Mortgage</td>\n",
       "      <td>0.142857</td>\n",
       "      <td>Positive</td>\n",
       "      <td>good rate frustrating process constant delays ...</td>\n",
       "    </tr>\n",
       "  </tbody>\n",
       "</table>\n",
       "</div>"
      ],
      "text/plain": [
       "         Date  Stars                                            Reviews  \\\n",
       "17 2017-02-24      1  This was the worst experience ever. It was lik...   \n",
       "18 2016-03-14      1  A good rate but a very frustrating process, co...   \n",
       "\n",
       "                    BankName  sentiment_score sentiment  \\\n",
       "17  Wyndham Capital Mortgage        -0.095455  Negative   \n",
       "18  Wyndham Capital Mortgage         0.142857  Positive   \n",
       "\n",
       "                                     processes_review  \n",
       "17  worst experience ever like never gone process ...  \n",
       "18  good rate frustrating process constant delays ...  "
      ]
     },
     "execution_count": 168,
     "metadata": {},
     "output_type": "execute_result"
    }
   ],
   "source": [
    "data_1.head(2)"
   ]
  },
  {
   "cell_type": "code",
   "execution_count": 169,
   "metadata": {},
   "outputs": [
    {
     "name": "stderr",
     "output_type": "stream",
     "text": [
      "C:\\Users\\1023457\\AppData\\Local\\Continuum\\anaconda3\\lib\\site-packages\\pandas\\core\\frame.py:3940: SettingWithCopyWarning: \n",
      "A value is trying to be set on a copy of a slice from a DataFrame\n",
      "\n",
      "See the caveats in the documentation: http://pandas.pydata.org/pandas-docs/stable/indexing.html#indexing-view-versus-copy\n",
      "  errors=errors)\n"
     ]
    }
   ],
   "source": [
    "# Drop columns which are not needed for analysis\n",
    "data_1.drop(columns= ['Date', 'Reviews', 'BankName', 'sentiment_score', 'sentiment'], inplace=True)"
   ]
  },
  {
   "cell_type": "code",
   "execution_count": 170,
   "metadata": {},
   "outputs": [
    {
     "data": {
      "text/html": [
       "<div>\n",
       "<style scoped>\n",
       "    .dataframe tbody tr th:only-of-type {\n",
       "        vertical-align: middle;\n",
       "    }\n",
       "\n",
       "    .dataframe tbody tr th {\n",
       "        vertical-align: top;\n",
       "    }\n",
       "\n",
       "    .dataframe thead th {\n",
       "        text-align: right;\n",
       "    }\n",
       "</style>\n",
       "<table border=\"1\" class=\"dataframe\">\n",
       "  <thead>\n",
       "    <tr style=\"text-align: right;\">\n",
       "      <th></th>\n",
       "      <th>Stars</th>\n",
       "      <th>processes_review</th>\n",
       "    </tr>\n",
       "  </thead>\n",
       "  <tbody>\n",
       "    <tr>\n",
       "      <th>17</th>\n",
       "      <td>1</td>\n",
       "      <td>worst experience ever like never gone process ...</td>\n",
       "    </tr>\n",
       "    <tr>\n",
       "      <th>18</th>\n",
       "      <td>1</td>\n",
       "      <td>good rate frustrating process constant delays ...</td>\n",
       "    </tr>\n",
       "    <tr>\n",
       "      <th>19</th>\n",
       "      <td>1</td>\n",
       "      <td>upfront learn mistake trusted loan officer zer...</td>\n",
       "    </tr>\n",
       "    <tr>\n",
       "      <th>20</th>\n",
       "      <td>1</td>\n",
       "      <td>initially mortgage broker friendly assertive p...</td>\n",
       "    </tr>\n",
       "    <tr>\n",
       "      <th>21</th>\n",
       "      <td>1</td>\n",
       "      <td>initially mortgage broker friendly assertive p...</td>\n",
       "    </tr>\n",
       "  </tbody>\n",
       "</table>\n",
       "</div>"
      ],
      "text/plain": [
       "    Stars                                   processes_review\n",
       "17      1  worst experience ever like never gone process ...\n",
       "18      1  good rate frustrating process constant delays ...\n",
       "19      1  upfront learn mistake trusted loan officer zer...\n",
       "20      1  initially mortgage broker friendly assertive p...\n",
       "21      1  initially mortgage broker friendly assertive p..."
      ]
     },
     "execution_count": 170,
     "metadata": {},
     "output_type": "execute_result"
    }
   ],
   "source": [
    "data_1.head()"
   ]
  },
  {
   "cell_type": "markdown",
   "metadata": {},
   "source": [
    "#### Using KMeans clustering"
   ]
  },
  {
   "cell_type": "code",
   "execution_count": 171,
   "metadata": {},
   "outputs": [],
   "source": [
    "# Import clustering and vectorizer packages\n",
    "from sklearn.feature_extraction.text import TfidfVectorizer\n",
    "from sklearn.cluster import KMeans\n",
    "from sklearn import metrics\n",
    "\n",
    "# Create vectors of processed reviews\n",
    "vectorizer = TfidfVectorizer()\n",
    "x_data = vectorizer.fit_transform(data_1['processes_review'])"
   ]
  },
  {
   "cell_type": "code",
   "execution_count": 193,
   "metadata": {},
   "outputs": [],
   "source": [
    "# Select the number of clusters using SC Score\n",
    "# Calculate SC Score for k = 3 through 14\n",
    "k_range = range(3, 14)\n",
    "scores = []\n",
    "for k in k_range:\n",
    "    km = KMeans(n_clusters=k, init='k-means++', max_iter=100, n_init=1, random_state=12)\n",
    "    km.fit(x_data)\n",
    "    scores.append(metrics.silhouette_score(x_data, km.labels_))\n"
   ]
  },
  {
   "cell_type": "code",
   "execution_count": 194,
   "metadata": {},
   "outputs": [
    {
     "name": "stdout",
     "output_type": "stream",
     "text": [
      "[0.024335610249235133, 0.033674455850917974, 0.04340929208316082, 0.05990058277770113, 0.08608008823926475, 0.09972036050577213, 0.10477603827946019, 0.11811685137468272, 0.12338604302755538, 0.13762354182286873, 0.14647409375012138]\n"
     ]
    }
   ],
   "source": [
    "print(scores)"
   ]
  },
  {
   "cell_type": "code",
   "execution_count": 195,
   "metadata": {},
   "outputs": [
    {
     "data": {
      "image/png": "[encoded data removed]",
      "text/plain": [
       "<Figure size 432x288 with 1 Axes>"
      ]
     },
     "metadata": {},
     "output_type": "display_data"
    }
   ],
   "source": [
    "# Plot the SC Scores\n",
    "plt.plot(k_range, scores)\n",
    "plt.grid(True)\n",
    "plt.show()"
   ]
  },
  {
   "cell_type": "code",
   "execution_count": 196,
   "metadata": {},
   "outputs": [
    {
     "data": {
      "text/plain": [
       "KMeans(algorithm='auto', copy_x=True, init='k-means++', max_iter=100,\n",
       "       n_clusters=8, n_init=1, n_jobs=None, precompute_distances='auto',\n",
       "       random_state=None, tol=0.0001, verbose=0)"
      ]
     },
     "execution_count": 196,
     "metadata": {},
     "output_type": "execute_result"
    }
   ],
   "source": [
    "# Cluster the reviews into 8 segments\n",
    "cluster_reviews = KMeans(n_clusters=8, init='k-means++', max_iter=100, n_init=1)\n",
    "cluster_reviews.fit(x_data)"
   ]
  },
  {
   "cell_type": "code",
   "execution_count": 197,
   "metadata": {},
   "outputs": [
    {
     "name": "stdout",
     "output_type": "stream",
     "text": [
      "Cluster:  0\n",
      "company\n",
      "mistake\n",
      "time\n",
      "would\n",
      "refinance\n",
      "\n",
      "\n",
      "Cluster:  1\n",
      "poor\n",
      "us\n",
      "questioned\n",
      "committed\n",
      "expired\n",
      "\n",
      "\n",
      "Cluster:  2\n",
      "closing\n",
      "us\n",
      "lender\n",
      "contacted\n",
      "site\n",
      "\n",
      "\n",
      "Cluster:  3\n",
      "saying\n",
      "phone\n",
      "tree\n",
      "lending\n",
      "rep\n",
      "\n",
      "\n",
      "Cluster:  4\n",
      "purchase\n",
      "information\n",
      "get\n",
      "screwed\n",
      "accepted\n",
      "\n",
      "\n",
      "Cluster:  5\n",
      "response\n",
      "nick\n",
      "called\n",
      "emailed\n",
      "due\n",
      "\n",
      "\n",
      "Cluster:  6\n",
      "bank\n",
      "would\n",
      "closing\n",
      "process\n",
      "loan\n",
      "\n",
      "\n",
      "Cluster:  7\n",
      "explain\n",
      "point\n",
      "interest\n",
      "higher\n",
      "apr\n",
      "\n",
      "\n"
     ]
    }
   ],
   "source": [
    "# print top 5 terms per cluster\n",
    "order_centroids = cluster_reviews.cluster_centers_.argsort()[:,::-1]\n",
    "terms = vectorizer.get_feature_names()\n",
    "for i in range(8):\n",
    "    print('Cluster: ', i)\n",
    "    for ind in order_centroids[i, :5]:\n",
    "        print(terms[ind])\n",
    "    print('\\n')"
   ]
  },
  {
   "cell_type": "markdown",
   "metadata": {},
   "source": [
    "#### Using LDA topic modeling"
   ]
  },
  {
   "cell_type": "code",
   "execution_count": 214,
   "metadata": {},
   "outputs": [
    {
     "data": {
      "text/html": [
       "<div>\n",
       "<style scoped>\n",
       "    .dataframe tbody tr th:only-of-type {\n",
       "        vertical-align: middle;\n",
       "    }\n",
       "\n",
       "    .dataframe tbody tr th {\n",
       "        vertical-align: top;\n",
       "    }\n",
       "\n",
       "    .dataframe thead th {\n",
       "        text-align: right;\n",
       "    }\n",
       "</style>\n",
       "<table border=\"1\" class=\"dataframe\">\n",
       "  <thead>\n",
       "    <tr style=\"text-align: right;\">\n",
       "      <th></th>\n",
       "      <th>Date</th>\n",
       "      <th>Stars</th>\n",
       "      <th>Reviews</th>\n",
       "      <th>BankName</th>\n",
       "      <th>sentiment_score</th>\n",
       "      <th>sentiment</th>\n",
       "      <th>processes_review</th>\n",
       "    </tr>\n",
       "  </thead>\n",
       "  <tbody>\n",
       "    <tr>\n",
       "      <th>0</th>\n",
       "      <td>2017-04-10</td>\n",
       "      <td>5</td>\n",
       "      <td>Great job, Wyndham Capital! Each person was pr...</td>\n",
       "      <td>Wyndham Capital Mortgage</td>\n",
       "      <td>0.433333</td>\n",
       "      <td>Positive</td>\n",
       "      <td>great job wyndham capital person professional ...</td>\n",
       "    </tr>\n",
       "    <tr>\n",
       "      <th>1</th>\n",
       "      <td>2017-02-10</td>\n",
       "      <td>5</td>\n",
       "      <td>Matthew Richardson is professional and helpful...</td>\n",
       "      <td>Wyndham Capital Mortgage</td>\n",
       "      <td>0.550000</td>\n",
       "      <td>Positive</td>\n",
       "      <td>matthew richardson professional helpful helped...</td>\n",
       "    </tr>\n",
       "    <tr>\n",
       "      <th>2</th>\n",
       "      <td>2017-08-21</td>\n",
       "      <td>5</td>\n",
       "      <td>We had a past experience with Wyndham Mortgage...</td>\n",
       "      <td>Wyndham Capital Mortgage</td>\n",
       "      <td>-0.033869</td>\n",
       "      <td>Neutral</td>\n",
       "      <td>past experience wyndham mortgage would without...</td>\n",
       "    </tr>\n",
       "    <tr>\n",
       "      <th>3</th>\n",
       "      <td>2017-12-17</td>\n",
       "      <td>5</td>\n",
       "      <td>We have been dealing with Brad Thomka from the...</td>\n",
       "      <td>Wyndham Capital Mortgage</td>\n",
       "      <td>0.061238</td>\n",
       "      <td>Positive</td>\n",
       "      <td>dealing brad thomka beginning started stressfu...</td>\n",
       "    </tr>\n",
       "    <tr>\n",
       "      <th>4</th>\n",
       "      <td>2016-05-27</td>\n",
       "      <td>5</td>\n",
       "      <td>I can't express how grateful I am for the supp...</td>\n",
       "      <td>Wyndham Capital Mortgage</td>\n",
       "      <td>0.086667</td>\n",
       "      <td>Positive</td>\n",
       "      <td>cant express grateful support zach provided fa...</td>\n",
       "    </tr>\n",
       "  </tbody>\n",
       "</table>\n",
       "</div>"
      ],
      "text/plain": [
       "        Date  Stars                                            Reviews  \\\n",
       "0 2017-04-10      5  Great job, Wyndham Capital! Each person was pr...   \n",
       "1 2017-02-10      5  Matthew Richardson is professional and helpful...   \n",
       "2 2017-08-21      5  We had a past experience with Wyndham Mortgage...   \n",
       "3 2017-12-17      5  We have been dealing with Brad Thomka from the...   \n",
       "4 2016-05-27      5  I can't express how grateful I am for the supp...   \n",
       "\n",
       "                   BankName  sentiment_score sentiment  \\\n",
       "0  Wyndham Capital Mortgage         0.433333  Positive   \n",
       "1  Wyndham Capital Mortgage         0.550000  Positive   \n",
       "2  Wyndham Capital Mortgage        -0.033869   Neutral   \n",
       "3  Wyndham Capital Mortgage         0.061238  Positive   \n",
       "4  Wyndham Capital Mortgage         0.086667  Positive   \n",
       "\n",
       "                                    processes_review  \n",
       "0  great job wyndham capital person professional ...  \n",
       "1  matthew richardson professional helpful helped...  \n",
       "2  past experience wyndham mortgage would without...  \n",
       "3  dealing brad thomka beginning started stressfu...  \n",
       "4  cant express grateful support zach provided fa...  "
      ]
     },
     "execution_count": 214,
     "metadata": {},
     "output_type": "execute_result"
    }
   ],
   "source": [
    "data.head()"
   ]
  },
  {
   "cell_type": "markdown",
   "metadata": {},
   "source": [
    "#### Data preprocessing"
   ]
  },
  {
   "cell_type": "code",
   "execution_count": 215,
   "metadata": {},
   "outputs": [],
   "source": [
    "from nltk.corpus import stopwords\n",
    "from nltk.stem.wordnet import WordNetLemmatizer\n",
    "import string\n",
    "stop_words = set(stopwords.words('english'))\n",
    "punctuations = set(string.punctuation)\n",
    "lemma = WordNetLemmatizer()"
   ]
  },
  {
   "cell_type": "code",
   "execution_count": 216,
   "metadata": {},
   "outputs": [],
   "source": [
    "def clean(doc):\n",
    "    stop_free = ' '.join([i for i in doc.lower().split() if i not in stop_words])\n",
    "    punc_free = ''.join([ch for ch in stop_free if ch not in punctuations])\n",
    "    normalized = ' '.join(lemma.lemmatize(word) for word in punc_free.split())\n",
    "    return normalized"
   ]
  },
  {
   "cell_type": "code",
   "execution_count": 217,
   "metadata": {},
   "outputs": [],
   "source": [
    "doc_clean = [clean(doc).split() for doc in all_docs]"
   ]
  },
  {
   "cell_type": "code",
   "execution_count": 220,
   "metadata": {},
   "outputs": [
    {
     "name": "stdout",
     "output_type": "stream",
     "text": [
      "['great', 'job', 'wyndham', 'capital', 'person', 'professional', 'helped', 'u', 'move', 'refinance', 'process', 'smoothly', 'thank']\n"
     ]
    }
   ],
   "source": [
    "print(doc_clean[0])"
   ]
  },
  {
   "cell_type": "code",
   "execution_count": 205,
   "metadata": {},
   "outputs": [],
   "source": [
    "# Prepare documents\n",
    "all_docs = []\n",
    "for i in range(data_1.shape[0]):\n",
    "    all_docs.append(data.processes_review[i])"
   ]
  },
  {
   "cell_type": "code",
   "execution_count": 221,
   "metadata": {},
   "outputs": [],
   "source": [
    "# Prepare document term matrix\n",
    "# Import gensim\n",
    "import gensim\n",
    "from gensim import corpora\n",
    "dictionary = corpora.Dictionary(doc_clean)"
   ]
  },
  {
   "cell_type": "code",
   "execution_count": 228,
   "metadata": {},
   "outputs": [],
   "source": [
    "doc_term_matrix = [dictionary.doc2bow(doc) for doc in doc_clean]"
   ]
  },
  {
   "cell_type": "code",
   "execution_count": 227,
   "metadata": {},
   "outputs": [],
   "source": [
    "# LDA Model\n",
    "# Create an object for LDA model and train it on doc term matrix\n",
    "# Gensim module allows both LDA model estimation from a training corpus and inference of topic distribution on new docs"
   ]
  },
  {
   "cell_type": "code",
   "execution_count": 230,
   "metadata": {},
   "outputs": [],
   "source": [
    "lda = gensim.models.ldamodel.LdaModel\n",
    "lda_model = lda(doc_term_matrix, num_topics = 5, id2word = dictionary, passes = 50)"
   ]
  },
  {
   "cell_type": "code",
   "execution_count": 234,
   "metadata": {},
   "outputs": [
    {
     "name": "stdout",
     "output_type": "stream",
     "text": [
      "[(1, '0.022*\"nasb\" + 0.018*\"home\" + 0.015*\"time\" + 0.012*\"closing\" + 0.011*\"process\"'), (2, '0.016*\"loan\" + 0.015*\"process\" + 0.014*\"u\" + 0.013*\"wyndham\" + 0.011*\"would\"')]\n"
     ]
    }
   ],
   "source": [
    "# Result\n",
    "print(lda_model.print_topics(num_topics = 2, num_words = 5))"
   ]
  },
  {
   "cell_type": "markdown",
   "metadata": {},
   "source": [
    "#### LDA - Kaggle"
   ]
  },
  {
   "cell_type": "code",
   "execution_count": 235,
   "metadata": {},
   "outputs": [],
   "source": [
    "from sklearn.decomposition import LatentDirichletAllocation\n",
    "lda = LatentDirichletAllocation(n_components=5, max_iter=10, learning_method='online',random_state=12, learning_offset=50.)"
   ]
  },
  {
   "cell_type": "code",
   "execution_count": 243,
   "metadata": {},
   "outputs": [],
   "source": [
    "from sklearn.feature_extraction.text import CountVectorizer\n",
    "vector = CountVectorizer()\n",
    "dtm = vector.fit_transform(all_docs)"
   ]
  },
  {
   "cell_type": "code",
   "execution_count": 245,
   "metadata": {},
   "outputs": [
    {
     "data": {
      "text/plain": [
       "LatentDirichletAllocation(batch_size=128, doc_topic_prior=None,\n",
       "                          evaluate_every=-1, learning_decay=0.7,\n",
       "                          learning_method='online', learning_offset=50.0,\n",
       "                          max_doc_update_iter=100, max_iter=10,\n",
       "                          mean_change_tol=0.001, n_components=5, n_jobs=None,\n",
       "                          perp_tol=0.1, random_state=12, topic_word_prior=None,\n",
       "                          total_samples=1000000.0, verbose=0)"
      ]
     },
     "execution_count": 245,
     "metadata": {},
     "output_type": "execute_result"
    }
   ],
   "source": [
    "lda.fit(dtm)"
   ]
  },
  {
   "cell_type": "code",
   "execution_count": 248,
   "metadata": {},
   "outputs": [],
   "source": [
    "def print_top_words(model, feature_names, n_top_words):\n",
    "    for index, topic in enumerate(model.components_):\n",
    "        message = \"\\nTopic #{}:\".format(index)\n",
    "        message += \" \".join([feature_names[i] for i in topic.argsort()[:-n_top_words - 1 :-1]])\n",
    "        print(message)\n",
    "        print(\"=\"*70)"
   ]
  },
  {
   "cell_type": "code",
   "execution_count": 249,
   "metadata": {},
   "outputs": [
    {
     "name": "stdout",
     "output_type": "stream",
     "text": [
      "\n",
      "Topics in LDA model: \n",
      "\n",
      "Topic #0:us process would home loan recommend time work professional mortgage\n",
      "======================================================================\n",
      "\n",
      "Topic #1:response nick going even called easy refi better looking want\n",
      "======================================================================\n",
      "\n",
      "Topic #2:pay would late told get fee teddy done gets represents\n",
      "======================================================================\n",
      "\n",
      "Topic #3:call get closing took broker loan back mortgage paper would\n",
      "======================================================================\n",
      "\n",
      "Topic #4:loan bank would us made weeks time closing get nasb\n",
      "======================================================================\n"
     ]
    }
   ],
   "source": [
    "n_top_words = 10\n",
    "print(\"\\nTopics in LDA model: \")\n",
    "tf_feature_names = vector.get_feature_names()\n",
    "print_top_words(lda, tf_feature_names, n_top_words)"
   ]
  },
  {
   "cell_type": "code",
   "execution_count": null,
   "metadata": {},
   "outputs": [],
   "source": []
  },
  {
   "cell_type": "markdown",
   "metadata": {},
   "source": [
    "#### Old code starts"
   ]
  },
  {
   "cell_type": "markdown",
   "metadata": {},
   "source": [
    "### Old code starts"
   ]
  },
  {
   "cell_type": "code",
   "execution_count": 36,
   "metadata": {},
   "outputs": [
    {
     "data": {
      "text/plain": [
       "5    410\n",
       "1     95\n",
       "Name: Stars, dtype: int64"
      ]
     },
     "execution_count": 36,
     "metadata": {},
     "output_type": "execute_result"
    }
   ],
   "source": [
    "data['Stars'].value_counts()"
   ]
  },
  {
   "cell_type": "code",
   "execution_count": 42,
   "metadata": {},
   "outputs": [
    {
     "data": {
      "image/png": "[encoded data removed]",
      "text/plain": [
       "<Figure size 432x288 with 1 Axes>"
      ]
     },
     "metadata": {},
     "output_type": "display_data"
    }
   ],
   "source": [
    "stars_count = data.groupby(['Stars']).count()\n",
    "sns.barplot(stars_count.index, stars_count['Reviews'])\n",
    "plt.xlabel('Stars', fontsize = 14)\n",
    "plt.ylabel('No. of Reviews', fontsize = 14)\n",
    "plt.title('Count of Reviews for each Star rating', fontsize=14)\n",
    "plt.show()"
   ]
  },
  {
   "cell_type": "markdown",
   "metadata": {},
   "source": [
    "#### Generate Document Term Matrix using CountVectorizer"
   ]
  },
  {
   "cell_type": "code",
   "execution_count": 43,
   "metadata": {},
   "outputs": [],
   "source": [
    "# tokenize to remove unwanted elements from the data such as symbols, and numbers\n",
    "from sklearn.feature_extraction.text import CountVectorizer\n",
    "from nltk.tokenize import RegexpTokenizer\n",
    "\n",
    "token = RegexpTokenizer(r'[a-zA-Z0-9]+')\n",
    "c_vect = CountVectorizer(lowercase=True, stop_words='english', ngram_range=(1,1), tokenizer=token.tokenize)\n",
    "text_count = c_vect.fit_transform(data['Reviews'])"
   ]
  },
  {
   "cell_type": "code",
   "execution_count": 62,
   "metadata": {},
   "outputs": [],
   "source": [
    "# Split the data into train and test for CountVectorizer\n",
    "from sklearn.model_selection import train_test_split\n",
    "x_train, x_test, y_train, y_test = train_test_split(text_count, data['Stars'], test_size = 0.3, random_state=1234)"
   ]
  },
  {
   "cell_type": "code",
   "execution_count": 63,
   "metadata": {},
   "outputs": [],
   "source": [
    "# Model building and evaluation"
   ]
  },
  {
   "cell_type": "code",
   "execution_count": 64,
   "metadata": {},
   "outputs": [],
   "source": [
    "from sklearn.naive_bayes import MultinomialNB\n",
    "model_cv = MultinomialNB().fit(x_train, y_train)"
   ]
  },
  {
   "cell_type": "code",
   "execution_count": 65,
   "metadata": {},
   "outputs": [],
   "source": [
    "y_pred = model_cv.predict(x_test)"
   ]
  },
  {
   "cell_type": "code",
   "execution_count": 66,
   "metadata": {},
   "outputs": [
    {
     "name": "stdout",
     "output_type": "stream",
     "text": [
      "Accuracy :  0.9605263157894737\n"
     ]
    }
   ],
   "source": [
    "print('Accuracy : ', metrics.accuracy_score(y_test, y_pred))"
   ]
  },
  {
   "cell_type": "code",
   "execution_count": 55,
   "metadata": {},
   "outputs": [],
   "source": [
    "# We got 96.05% accuracy using CountVector / BOW. \n",
    "# Try TF-IDF method to further improve the accuracy"
   ]
  },
  {
   "cell_type": "markdown",
   "metadata": {},
   "source": [
    "#### Feature Generation using TF-IDF"
   ]
  },
  {
   "cell_type": "code",
   "execution_count": 67,
   "metadata": {},
   "outputs": [],
   "source": [
    "# TF-IDF normalizes the document term matrix. It is the product of TF and IDF. \n",
    "from sklearn.feature_extraction.text import TfidfVectorizer\n",
    "tf = TfidfVectorizer()\n",
    "text_tf = tf.fit_transform(data['Reviews'])"
   ]
  },
  {
   "cell_type": "code",
   "execution_count": 68,
   "metadata": {},
   "outputs": [],
   "source": [
    "# Split the data into train and test for TF-IDF\n",
    "x_train, x_test, y_train, y_test = train_test_split(text_tf, data['Stars'], test_size = 0.3, random_state=1234)"
   ]
  },
  {
   "cell_type": "code",
   "execution_count": 69,
   "metadata": {},
   "outputs": [],
   "source": [
    "# Model building and evaluation\n",
    "model_tf = MultinomialNB().fit(x_train,y_train)\n",
    "y_pred_tf = model_tf.predict(x_test)"
   ]
  },
  {
   "cell_type": "code",
   "execution_count": 70,
   "metadata": {},
   "outputs": [
    {
     "name": "stdout",
     "output_type": "stream",
     "text": [
      "Accuracy using TF-IDF :  0.7894736842105263\n"
     ]
    }
   ],
   "source": [
    "print('Accuracy using TF-IDF : ', metrics.accuracy_score(y_test, y_pred_tf))"
   ]
  },
  {
   "cell_type": "code",
   "execution_count": null,
   "metadata": {},
   "outputs": [],
   "source": []
  },
  {
   "cell_type": "code",
   "execution_count": null,
   "metadata": {},
   "outputs": [],
   "source": []
  },
  {
   "cell_type": "code",
   "execution_count": null,
   "metadata": {},
   "outputs": [],
   "source": []
  },
  {
   "cell_type": "code",
   "execution_count": 12,
   "metadata": {},
   "outputs": [],
   "source": [
    "# Define x and y variables\n",
    "x = data['Reviews']\n",
    "y = data['Stars']"
   ]
  },
  {
   "cell_type": "code",
   "execution_count": 13,
   "metadata": {},
   "outputs": [
    {
     "name": "stdout",
     "output_type": "stream",
     "text": [
      "(353,)\n",
      "(152,)\n",
      "(353,)\n",
      "(152,)\n",
      "(505, 5)\n"
     ]
    }
   ],
   "source": [
    "# Split the dataframe into training and testing sets\n",
    "x_train, x_test, y_train, y_test = train_test_split(x, y, test_size=0.3, random_state=1234)\n",
    "print(x_train.shape)\n",
    "print(x_test.shape)\n",
    "print(y_train.shape)\n",
    "print(y_test.shape)\n",
    "print(data.shape)"
   ]
  },
  {
   "cell_type": "code",
   "execution_count": 14,
   "metadata": {},
   "outputs": [],
   "source": [
    "# Build a utility function for test processing (Abbreviations and words correction)\n",
    "import string\n",
    "import re\n",
    "import nltk\n",
    "from nltk.corpus import stopwords\n",
    "from nltk.tokenize import TweetTokenizer  "
   ]
  },
  {
   "cell_type": "code",
   "execution_count": 15,
   "metadata": {},
   "outputs": [],
   "source": [
    "def clean_text(text):\n",
    "    text = text.lower()\n",
    "    text = text.strip()\n",
    "    text = re.sub(r' +', ' ', text)\n",
    "    text = re.sub(r\"[-()\\\"#/@;:{}`+=~|.!?,'0-9]\", \"\", text)\n",
    "    return text"
   ]
  },
  {
   "cell_type": "code",
   "execution_count": 16,
   "metadata": {},
   "outputs": [
    {
     "name": "stdout",
     "output_type": "stream",
     "text": [
      "{'wouldn', \"wouldn't\", 'won', 'can', 'or', 'been', 'too', 'hadn', 'into', 'all', 'if', 'herself', 'your', 'o', \"mightn't\", 'an', 'haven', \"it's\", 'itself', 'ourselves', 'she', 'y', 'yours', 're', 'until', \"you'll\", 'this', 'some', 'who', 'doesn', 'so', 'does', 'off', \"you'd\", 'has', 'wasn', 'him', 'is', 'such', 'again', 'hasn', 'here', 'were', 'should', 'not', 'with', 'couldn', 'weren', 'me', 'as', \"hadn't\", 'aren', 'our', 's', 'and', \"shouldn't\", 'her', \"should've\", 'other', 'very', \"won't\", 'under', 'd', 'more', 'will', 'because', 'just', 'theirs', \"shan't\", 'have', 'why', 'it', 'don', 'having', 'mustn', 'once', 'did', 'them', 'was', 'by', 'up', \"needn't\", 'further', \"she's\", 'they', 'now', \"wasn't\", 'mightn', 'are', 'do', 'same', 'needn', 've', 'their', 'a', \"don't\", 'from', 'out', 'ain', 'at', \"haven't\", 'above', 'hers', 'while', 'against', 'over', 'few', 't', 'ma', \"you've\", 'my', 'than', 'nor', 'you', \"weren't\", \"isn't\", 'myself', 'only', 'he', 'below', 'which', 'themselves', 'in', 'we', 'but', 'what', 'for', 'himself', 'to', 'how', 'll', \"aren't\", 'isn', 'am', 'there', 'before', 'own', 'about', 'whom', 'that', 'where', 'his', 'its', 'being', 'doing', 'no', 'm', 'those', 'during', \"didn't\", \"couldn't\", 'shouldn', 'between', 'the', 'down', 'had', 'of', 'most', \"mustn't\", 'then', 'yourselves', 'i', 'through', 'when', \"doesn't\", 'ours', 'both', 'be', 'didn', 'shan', \"that'll\", 'each', 'after', 'on', \"hasn't\", \"you're\", 'these', 'any', 'yourself'}\n"
     ]
    }
   ],
   "source": [
    "stop_words = set(stopwords.words('english'))\n",
    "print(stop_words)"
   ]
  },
  {
   "cell_type": "code",
   "execution_count": 17,
   "metadata": {},
   "outputs": [],
   "source": [
    "stemmer_func = nltk.stem.snowball.SnowballStemmer('english').stem"
   ]
  },
  {
   "cell_type": "code",
   "execution_count": 18,
   "metadata": {},
   "outputs": [],
   "source": [
    "def pre_process(text):\n",
    "    text = text.apply(lambda x: \" \".join(x for x in x.split() if x not in stop_words))\n",
    "    return(text)"
   ]
  },
  {
   "cell_type": "code",
   "execution_count": 19,
   "metadata": {},
   "outputs": [
    {
     "data": {
      "text/plain": [
       "102    \\r\\nI feel they made promises that they could ...\n",
       "481    \\r\\nGreat bank with great products.  Easily th...\n",
       "224    \\r\\ncan someone explain why the APR is more th...\n",
       "101    \\r\\nWorst lending experience of my life. My po...\n",
       "391    \\r\\nThey were very helpful. Any questions or c...\n",
       "Name: Reviews, dtype: object"
      ]
     },
     "execution_count": 19,
     "metadata": {},
     "output_type": "execute_result"
    }
   ],
   "source": [
    "x_train.head()"
   ]
  },
  {
   "cell_type": "code",
   "execution_count": 20,
   "metadata": {},
   "outputs": [],
   "source": [
    "# Apply these text processing functions on the train and test data\n",
    "x_train = x_train.apply(clean_text)\n",
    "x_test = x_test.apply(clean_text)"
   ]
  },
  {
   "cell_type": "code",
   "execution_count": 21,
   "metadata": {},
   "outputs": [],
   "source": [
    "x_train = pre_process(x_train)\n",
    "x_test = pre_process(x_test)"
   ]
  },
  {
   "cell_type": "code",
   "execution_count": 22,
   "metadata": {},
   "outputs": [
    {
     "data": {
      "text/plain": [
       "102    feel made promises could keep made mistakes pe...\n",
       "481    great bank great products easily best bank ive...\n",
       "Name: Reviews, dtype: object"
      ]
     },
     "execution_count": 22,
     "metadata": {},
     "output_type": "execute_result"
    }
   ],
   "source": [
    "x_train.head(2)"
   ]
  },
  {
   "cell_type": "code",
   "execution_count": 23,
   "metadata": {},
   "outputs": [],
   "source": [
    "# Vectorization \n",
    "from textblob import Word"
   ]
  },
  {
   "cell_type": "code",
   "execution_count": 24,
   "metadata": {},
   "outputs": [],
   "source": [
    "# Train data\n",
    "count_vect = CountVectorizer(analyzer='word', token_pattern=r'\\w{1,}', ngram_range=(1,1),encoding='latin-1')\n",
    "xtrain_count = count_vect.fit_transform(x_train)"
   ]
  },
  {
   "cell_type": "code",
   "execution_count": 25,
   "metadata": {},
   "outputs": [],
   "source": [
    "dtm = xtrain_count.toarray()"
   ]
  },
  {
   "cell_type": "code",
   "execution_count": 26,
   "metadata": {},
   "outputs": [
    {
     "data": {
      "text/plain": [
       "array([[0, 0, 0, ..., 0, 0, 0],\n",
       "       [0, 0, 0, ..., 0, 0, 0],\n",
       "       [0, 0, 0, ..., 0, 0, 0],\n",
       "       ...,\n",
       "       [0, 0, 0, ..., 0, 0, 0],\n",
       "       [0, 0, 0, ..., 0, 0, 0],\n",
       "       [0, 0, 0, ..., 0, 0, 0]], dtype=int64)"
      ]
     },
     "execution_count": 26,
     "metadata": {},
     "output_type": "execute_result"
    }
   ],
   "source": [
    "dtm"
   ]
  },
  {
   "cell_type": "code",
   "execution_count": 27,
   "metadata": {},
   "outputs": [
    {
     "name": "stdout",
     "output_type": "stream",
     "text": [
      "['aaron', 'aarons', 'ability', 'able', 'absoltely', 'absolute', 'absolutely', 'accept', 'acceptable', 'accepted', 'accessible', 'accommodate', 'accommodating', 'accomplished', 'account', 'accountant', 'accurate', 'accusing', 'achieve', 'acquire', 'acquired', 'across', 'act', 'action', 'actual', 'actually', 'adam', 'adan', 'added', 'addedconsolidationit', 'addition', 'additional', 'address', 'addressed', 'addressresolve', 'adjust', 'adjusted', 'admin', 'admiration', 'advice', 'advised', 'advocated', 'afford', 'agai', 'age', 'agent', 'agents', 'aggravating', 'ago', 'agree', 'agreed', 'agreement', 'ahead', 'airfare', 'airline', 'alerted', 'alex', 'alievatied', 'alina', 'all', 'allow', 'allowed', 'almost', 'along', 'alpine', 'already', 'also', 'although', 'alves', 'always', 'amazing', 'amd', 'american', 'among', 'amortgage', 'amount', 'amounts', 'andd', 'andor', 'andrea', 'andrew', 'andy', 'angelica', 'ann', 'annoyed', 'annoying', 'another', 'answer', 'answered', 'answering', 'answers', 'antebellum', 'anthony', 'anticipated', 'anxiety', 'anybody', 'anyone', 'anything', 'anythony', 'anytime', 'apart', 'apartment', 'apologizing', 'apparent', 'apparently', 'appeared', 'applicaiton', 'applicants', 'application', 'applications', 'applied', 'apply', 'appraisal', 'appraise', 'appraiser', 'appraising', 'appreciate', 'appreciated', 'appreciative', 'approach', 'approached', 'appropriately', 'approval', 'approved', 'approximate', 'apr', 'area', 'arent', 'arghhh', 'arises', 'arose', 'around', 'arrival', 'arrived', 'arrogantevery', 'articulate', 'asap', 'ask', 'asked', 'asking', 'asks', 'aspect', 'aspects', 'assertive', 'asset', 'assigned', 'assistance', 'assisted', 'assisting', 'assumed', 'assumptions', 'assurance', 'assurances', 'assure', 'assured', 'assuring', 'at', 'attention', 'attentive', 'attitude', 'attorney', 'auditors', 'aug', 'austen', 'authenticity', 'authorize', 'automatic', 'automatically', 'avail', 'available', 'averaged', 'aware', 'away', 'awesome', 'awful', 'awsome', 'b', 'back', 'bad', 'badmouthed', 'badwe', 'balance', 'balances', 'ball', 'bank', 'banker', 'banks', 'bar', 'barrett', 'based', 'basement', 'basic', 'basis', 'beat', 'beautiful', 'beautifully', 'became', 'become', 'becomes', 'bedroom', 'began', 'begin', 'beginning', 'believability', 'believe', 'ben', 'bends', 'beneficial', 'besides', 'best', 'better', 'beyond', 'bidding', 'bids', 'big', 'biggest', 'biggie', 'bike', 'bill', 'binh', 'black', 'blame', 'blindly', 'blocks', 'blown', 'board', 'boat', 'bob', 'books', 'borrower', 'boss', 'bottom', 'bought', 'bow', 'brad', 'brads', 'brand', 'brandon', 'breaks', 'breeze', 'brent', 'bright', 'bring', 'broke', 'broken', 'broker', 'brokerage', 'brokers', 'brought', 'bryan', 'bryant', 'bs', 'btw', 'builders', 'building', 'built', 'bumps', 'bunch', 'bureau', 'bureaucracy', 'business', 'busness', 'busy', 'buy', 'buyer', 'buyers', 'buying', 'buyingrefinancing', 'buyingselling', 'byron', 'ca', 'cadwell', 'calculate', 'calendar', 'caliber', 'call', 'called', 'calling', 'calls', 'calm', 'came', 'canceled', 'candid', 'cannot', 'cant', 'capable', 'capital', 'capitoldo', 'card', 'care', 'cared', 'careful', 'carefully', 'cares', 'caring', 'carla', 'carolina', 'carrion', 'carry', 'case', 'cash', 'castaneda', 'caused', 'causing', 'caution', 'cave', 'certainly', 'certificate', 'certified', 'challenges', 'challenging', 'chance', 'chances', 'chandler', 'change', 'changed', 'changes', 'character', 'charge', 'charged', 'charges', 'charging', 'chase', 'chaz', 'check', 'checkins', 'choice', 'choose', 'choosing', 'chose', 'chris', 'christmas', 'christopher', 'chuck', 'circumstances', 'claim', 'clara', 'clarification', 'class', 'classifying', 'clear', 'clearly', 'client', 'clients', 'close', 'closed', 'closes', 'closing', 'clunky', 'colleague', 'collect', 'columbus', 'come', 'comes', 'comfortable', 'comforts', 'comment', 'commented', 'comments', 'commission', 'commitment', 'committed', 'communicate', 'communicated', 'communicating', 'communication', 'communications', 'communicator', 'companies', 'company', 'comparable', 'compare', 'compared', 'comparison', 'compassion', 'compete', 'competence', 'competent', 'competing', 'competitive', 'competitor', 'competitors', 'complained', 'complaint', 'complaintgrievance', 'complaints', 'complete', 'completed', 'completely', 'completion', 'complex', 'complicate', 'complicated', 'complications', 'complimented', 'compoentsfees', 'component', 'comps', 'concern', 'concerned', 'concerns', 'conclusion', 'condescension', 'conditions', 'condo', 'confidence', 'confident', 'confirmation', 'confirmed', 'confirming', 'confused', 'confusion', 'congratulations', 'connect', 'connected', 'cons', 'consent', 'consider', 'considerate', 'consideration', 'considered', 'consistently', 'consolidate', 'constant', 'constantly', 'constructive', 'consultant', 'consultation', 'consummate', 'contact', 'contacted', 'contacting', 'contingencies', 'continually', 'continue', 'continued', 'contract', 'control', 'conventional', 'conversation', 'conversations', 'convinced', 'convincing', 'cool', 'coordinate', 'coordination', 'copies', 'copy', 'corey', 'corner', 'correct', 'corrected', 'corrections', 'correctly', 'correspondence', 'cost', 'costs', 'could', 'couldn', 'couldnt', 'couldve', 'counseling', 'count', 'countless', 'country', 'county', 'couple', 'course', 'courteous', 'courtesy', 'cover', 'creative', 'credit', 'creditors', 'crew', 'crossed', 'crunched', 'current', 'currently', 'custer', 'customer', 'customers', 'cut', 'cycle', 'd', 'dad', 'daily', 'dallas', 'date', 'daughter', 'daunting', 'day', 'days', 'daysand', 'daywhat', 'deadline', 'deadlines', 'deaf', 'deal', 'dealing', 'dealings', 'deals', 'dealt', 'dean', 'debit', 'debited', 'debt', 'decade', 'december', 'decide', 'decided', 'deciding', 'decision', 'decisions', 'declining', 'dedicated', 'dedication', 'default', 'deff', 'defiantly', 'deficiency', 'definite', 'definitely', 'degree', 'delay', 'delayed', 'delays', 'delight', 'delighted', 'delightful', 'delivered', 'demanded', 'demanding', 'demeaning', 'demeanor', 'denied', 'department', 'departure', 'dependable', 'depending', 'depends', 'deserved', 'deserving', 'desperation', 'despite', 'despites', 'detail', 'detailed', 'details', 'devastated', 'developer', 'didn', 'didnt', 'dier', 'difference', 'different', 'difficult', 'difficulties', 'diffiicult', 'diligent', 'diligently', 'dilucchio', 'direct', 'direction', 'directly', 'disappeared', 'disappointed', 'disappointing', 'disaster', 'disbursement', 'disclosed', 'disclosing', 'discovered', 'discrepancies', 'discuss', 'discussing', 'discussions', 'disorganized', 'displeasure', 'disrespect', 'disturbing', 'dlj', 'dljs', 'docs', 'document', 'documentation', 'documents', 'doesnt', 'doghouse', 'done', 'donethen', 'donna', 'dont', 'double', 'doubt', 'doubts', 'download', 'downpayment', 'downs', 'downsides', 'dozens', 'dramatic', 'dread', 'dreading', 'dream', 'dreams', 'drewry', 'driving', 'drop', 'due', 'dummy', 'dyllon', 'eager', 'earlier', 'early', 'earned', 'earns', 'ears', 'ease', 'easier', 'easiest', 'easily', 'easy', 'eave', 'ed', 'educate', 'effective', 'efficient', 'efficiently', 'effort', 'either', 'electronic', 'electronically', 'element', 'eligibility', 'eligible', 'eliminated', 'else', 'elsewhere', 'email', 'emailas', 'emailed', 'emailedand', 'emailedthen', 'emails', 'embark', 'eminent', 'employment', 'encountered', 'encouraging', 'end', 'endeavor', 'ended', 'ending', 'endless', 'englert', 'english', 'enjoy', 'enjoyable', 'enjoyed', 'enormously', 'enough', 'enriquez', 'ensure', 'ensured', 'entering', 'enthusiastically', 'entire', 'entirely', 'entirety', 'entries', 'error', 'errors', 'errounous', 'escrow', 'escrows', 'especially', 'estate', 'estimate', 'estimates', 'etc', 'ethan', 'evaluated', 'even', 'eventually', 'ever', 'every', 'everyday', 'everyone', 'everythign', 'everything', 'everythings', 'exact', 'exactly', 'example', 'exceeded', 'excellent', 'exception', 'exceptional', 'exchange', 'exclusively', 'exp', 'expanded', 'expect', 'expectations', 'expected', 'expensive', 'experiecne', 'experience', 'experienced', 'experiences', 'experienceworking', 'expert', 'expertise', 'expired', 'explain', 'explained', 'explaining', 'explains', 'explanation', 'explanations', 'exploring', 'express', 'expressing', 'expressly', 'extended', 'extension', 'extent', 'external', 'extorting', 'extra', 'extraordinarily', 'extremely', 'faced', 'facetoface', 'fact', 'failed', 'fair', 'fairly', 'fairness', 'faith', 'fall', 'falling', 'familiar', 'families', 'family', 'fantastic', 'far', 'fashion', 'fast', 'faster', 'fasthighly', 'father', 'fault', 'favorable', 'favorite', 'fax', 'features', 'february', 'fedex', 'fee', 'feed', 'feedback', 'feel', 'fees', 'fell', 'fellow', 'felt', 'ferrell', 'fha', 'fiance', 'field', 'figured', 'figuring', 'file', 'filed', 'fill', 'filled', 'final', 'finally', 'finance', 'financed', 'finances', 'financial', 'financially', 'financialour', 'financials', 'financing', 'find', 'finding', 'fine', 'finish', 'finished', 'firm', 'first', 'firsttime', 'fit', 'five', 'fixed', 'flags', 'flawlessly', 'floated', 'flowing', 'fly', 'focus', 'focused', 'folks', 'follow', 'followed', 'following', 'followup', 'force', 'forever', 'forgot', 'form', 'formally', 'forms', 'fortunate', 'forward', 'fought', 'found', 'four', 'frame', 'fred', 'free', 'freelancer', 'frequent', 'friday', 'friend', 'friendand', 'friendly', 'friends', 'frightening', 'fro', 'front', 'frustrated', 'frustrating', 'frustration', 'full', 'fulltime', 'fully', 'functionary', 'funded', 'funding', 'funds', 'future', 'g', 'game', 'games', 'garanteed', 'gave', 'gay', 'general', 'genna', 'genuinely', 'germain', 'get', 'getting', 'gimmicky', 'give', 'given', 'giving', 'glad', 'gladly', 'glen', 'glitch', 'glitches', 'glue', 'go', 'goals', 'god', 'goes', 'gohe', 'going', 'gone', 'good', 'goodlet', 'goodness', 'goods', 'got', 'gotten', 'gove', 'gr', 'granddaughter', 'grateful', 'gratitude', 'great', 'greatly', 'group', 'guarantee', 'guaranteed', 'guerra', 'guess', 'guesswork', 'guidance', 'guide', 'guided', 'guidelines', 'guy', 'guys', 'hadnt', 'hamilton', 'hand', 'handle', 'handled', 'handling', 'hands', 'hangs', 'hangups', 'happen', 'happened', 'happening', 'happier', 'happily', 'happy', 'harass', 'harassment', 'hard', 'hartegan', 'hassle', 'hasslefree', 'havent', 'hawaii', 'he', 'head', 'health', 'hear', 'heard', 'hearing', 'heart', 'heartily', 'hed', 'heisser', 'held', 'hello', 'heloc', 'help', 'helped', 'helpful', 'helping', 'helps', 'hesitant', 'hesitate', 'hesitation', 'hesitations', 'hiccups', 'hidden', 'high', 'higher', 'highest', 'highly', 'highy', 'himhe', 'himso', 'hired', 'history', 'hit', 'hitch', 'hold', 'holding', 'hole', 'home', 'homebuyer', 'homebuying', 'homeowner', 'homeowners', 'homes', 'honest', 'honestly', 'honesty', 'honorable', 'hope', 'hoped', 'horrible', 'hour', 'hours', 'house', 'household', 'houses', 'houston', 'housworth', 'however', 'hud', 'huge', 'humanly', 'humor', 'hung', 'husband', 'i', 'id', 'idea', 'identifying', 'ill', 'im', 'imaginable', 'imagine', 'immediate', 'immediately', 'impacts', 'impeccable', 'important', 'importantly', 'impossible', 'impressed', 'impressive', 'improving', 'inability', 'inc', 'incentives', 'including', 'income', 'incompetence', 'incompetent', 'incorrect', 'increasingly', 'incredible', 'incredibly', 'indebted', 'individual', 'individualized', 'industry', 'inferior', 'info', 'information', 'informational', 'informative', 'informed', 'initial', 'initially', 'initiate', 'inquire', 'inquired', 'inquires', 'inquiries', 'inquiry', 'insisted', 'inspection', 'instances', 'instantly', 'instead', 'institution', 'instructed', 'insurance', 'integrity', 'intelligent', 'intended', 'intent', 'interaction', 'interest', 'interested', 'interests', 'interface', 'intimidating', 'introduced', 'intuitions', 'intuitive', 'involved', 'irrrl', 'irs', 'irvine', 'issue', 'issues', 'it', 'items', 'ive', 'j', 'jaclyn', 'jacob', 'james', 'jan', 'janeen', 'janel', 'january', 'jason', 'jay', 'jeff', 'jeremy', 'jersey', 'jim', 'jo', 'joanne', 'job', 'jocovic', 'joe', 'joes', 'joey', 'john', 'joking', 'jon', 'jons', 'journey', 'joy', 'judgment', 'july', 'june', 'justified', 'k', 'kang', 'kary', 'katie', 'keen', 'keep', 'keeping', 'keeps', 'kelly', 'ken', 'kenneth', 'kept', 'kevin', 'kidding', 'killed', 'kind', 'kindness', 'kirk', 'klossner', 'knew', 'know', 'knowing', 'knowledable', 'knowledgable', 'knowledge', 'knowledgeable', 'known', 'knows', 'koppel', 'kory', 'kudos', 'kulick', 'laborious', 'lack', 'lag', 'lai', 'lammerts', 'land', 'larger', 'last', 'late', 'lately', 'later', 'latest', 'laughed', 'law', 'lawyer', 'leader', 'learn', 'learning', 'lease', 'leasing', 'least', 'leave', 'leaving', 'led', 'lee', 'leehy', 'lees', 'left', 'legal', 'lender', 'lenders', 'lending', 'lendingtree', 'lengths', 'less', 'let', 'letter', 'level', 'life', 'lifetime', 'like', 'likely', 'lind', 'lindread', 'line', 'lingo', 'list', 'listed', 'listened', 'literally', 'little', 'live', 'lived', 'lives', 'living', 'll', 'loan', 'loans', 'loansespecially', 'loansnap', 'local', 'locate', 'lock', 'locked', 'log', 'logo', 'long', 'longer', 'longterm', 'look', 'looked', 'looking', 'looks', 'loop', 'lost', 'lot', 'lots', 'loved', 'low', 'lower', 'lowest', 'lt', 'luck', 'lucky', 'lyon', 'm', 'machine', 'made', 'madewell', 'mail', 'mailed', 'maintained', 'major', 'make', 'makes', 'making', 'malcolm', 'man', 'manage', 'managed', 'manner', 'many', 'marcos', 'marcus', 'maribel', 'mark', 'market', 'marroquin', 'martin', 'martinez', 'match', 'matched', 'matt', 'matter', 'mattered', 'matters', 'matthew', 'mattison', 'maurice', 'may', 'maya', 'maybe', 'mcdevitt', 'means', 'mears', 'measure', 'meet', 'meets', 'members', 'mental', 'mention', 'mentioned', 'messages', 'messy', 'met', 'mgr', 'michael', 'michele', 'michelle', 'middle', 'midst', 'might', 'mile', 'military', 'mind', 'mindidnt', 'mine', 'minimal', 'minor', 'minute', 'minutes', 'minutesi', 'miserable', 'mishandling', 'mislead', 'misled', 'missed', 'missing', 'mistake', 'mistakes', 'misunderstanding', 'moment', 'monday', 'money', 'moneys', 'monica', 'month', 'monthbut', 'monthly', 'months', 'moore', 'morning', 'mortgage', 'mortgages', 'mostly', 'motorcycle', 'move', 'moved', 'moving', 'mr', 'much', 'multiemmywinning', 'multiple', 'munoz', 'must', 'mutual', 'mutually', 'muñoz', 'n', 'name', 'napa', 'nasb', 'nasbs', 'navigated', 'nc', 'nd', 'near', 'nearly', 'necessary', 'need', 'needed', 'needing', 'needs', 'needy', 'negative', 'neither', 'nervous', 'network', 'neutral', 'never', 'new', 'newhome', 'news', 'next', 'nice', 'nick', 'night', 'nine', 'nominal', 'nonbusiness', 'none', 'nonlocal', 'normal', 'north', 'notary', 'notch', 'note', 'nothing', 'noticed', 'notifications', 'notified', 'number', 'numbers', 'numerous', 'obligations', 'obstacles', 'obtain', 'obtaining', 'occasion', 'occasions', 'occurred', 'offagainlet', 'offer', 'offered', 'offering', 'offers', 'office', 'officer', 'often', 'oh', 'ok', 'old', 'one', 'ones', 'online', 'opinion', 'opportune', 'opportunities', 'opportunity', 'opposite', 'option', 'options', 'order', 'ordered', 'organized', 'orginal', 'oriented', 'original', 'originally', 'origination', 'others', 'outsdanding', 'outstanding', 'overall', 'overbearing', 'overcome', 'overcoming', 'overwhelmed', 'overwhelming', 'owe', 'owed', 'owens', 'owned', 'owners', 'ownership', 'pacific', 'package', 'paid', 'painful', 'painless', 'painting', 'paper', 'papers', 'paperwork', 'parallel', 'parameters', 'paranoid', 'part', 'particularly', 'parties', 'partner', 'pass', 'passing', 'passionate', 'past', 'pat', 'path', 'paths', 'patience', 'patient', 'patiently', 'patrick', 'pattern', 'patterns', 'paul', 'pay', 'paying', 'payment', 'payments', 'payoff', 'payoffwell', 'pb', 'peace', 'penny', 'people', 'per', 'percent', 'perfectly', 'performing', 'perhaps', 'period', 'permission', 'persistent', 'person', 'personable', 'personal', 'personally', 'peter', 'phenomenal', 'phillip', 'phone', 'pick', 'picked', 'picture', 'pictures', 'piecemeal', 'pieces', 'pierce', 'pile', 'pitch', 'place', 'placed', 'places', 'plan', 'planned', 'play', 'played', 'pleasant', 'please', 'pleased', 'pleasurable', 'pleasure', 'plenty', 'plus', 'po', 'point', 'pointed', 'points', 'polite', 'poor', 'pope', 'position', 'positive', 'possible', 'possibly', 'potential', 'power', 'powers', 'praise', 'preapproval', 'precisely', 'preferred', 'pregnant', 'preliminary', 'prepaid', 'prepared', 'pressure', 'pressured', 'pretty', 'prevailing', 'prevent', 'prevented', 'previous', 'previously', 'price', 'primary', 'prior', 'proactive', 'probably', 'problem', 'problems', 'proceed', 'process', 'processes', 'processing', 'processor', 'processs', 'produce', 'producer', 'product', 'products', 'profession', 'professional', 'professionalism', 'professionally', 'professionals', 'progress', 'progressed', 'projected', 'promise', 'promised', 'promises', 'prompt', 'promptly', 'proof', 'properties', 'property', 'proposal', 'pros', 'prove', 'proved', 'provide', 'provided', 'provides', 'pull', 'pulled', 'pulling', 'purchas', 'purchase', 'purchased', 'purchases', 'purchasing', 'pursued', 'pursuing', 'push', 'pushed', 'pushing', 'put', 'putting', 'q', 'quality', 'question', 'questioned', 'questions', 'quick', 'quicken', 'quickly', 'quit', 'quite', 'quoted', 'quotes', 'raise', 'raleigh', 'rally', 'ran', 'ranee', 'rare', 'rasool', 'rate', 'ratelock', 'rates', 'rather', 'rating', 'ratio', 'rationale', 'rc', 'rd', 're', 'reach', 'reached', 'reaching', 'read', 'reading', 'ready', 'real', 'realistic', 'reality', 'really', 'realtor', 'reason', 'reasonable', 'reassurance', 'reassured', 'reassuring', 'recall', 'receive', 'received', 'receiving', 'recently', 'recognize', 'recommenced', 'recommend', 'recommendation', 'recommendations', 'recommended', 'recommending', 'record', 'records', 'recover', 'rectify', 'recured', 'red', 'redonetheni', 'reduce', 'reducing', 'reevaluate', 'refer', 'referred', 'referring', 'refi', 'refinance', 'refinanced', 'refinancing', 'refreshing', 'refused', 'regarding', 'registering', 'regret', 'regular', 'regulations', 'reimbursed', 'reinstate', 'related', 'relationships', 'relatively', 'reliance', 'relief', 'relocate', 'relockin', 'reluctant', 'remained', 'remarkable', 'remember', 'remembered', 'rental', 'rep', 'repeat', 'repeated', 'repeatedly', 'repeats', 'repetitive', 'replied', 'reply', 'report', 'representative', 'request', 'requested', 'requesting', 'requests', 'required', 'requirement', 'requirements', 'rescue', 'research', 'reside', 'resolution', 'resolve', 'resonated', 'resource', 'respect', 'respectable', 'respectful', 'respond', 'responded', 'responding', 'response', 'responses', 'responsibility', 'responsible', 'responsive', 'responsiveness', 'result', 'results', 'retirement', 'return', 'returned', 'returning', 'returns', 'reverification', 'review', 'reviews', 'rewritten', 'rich', 'richardson', 'richter', 'rick', 'ridiculous', 'right', 'ritu', 'road', 'roadblocks', 'rob', 'robert', 'rolled', 'rolling', 'rookie', 'room', 'round', 'rowel', 'rude', 'rudeness', 'rule', 'rules', 'run', 'running', 'rush', 'rushed', 's', 'said', 'sakani', 'sale', 'sales', 'salesperson', 'salvador', 'sam', 'sample', 'santa', 'satisfaction', 'satisfied', 'save', 'saved', 'saving', 'savings', 'savvy', 'say', 'saying', 'saylet', 'says', 'scary', 'schedule', 'scheduled', 'score', 'scores', 'scott', 'screwed', 'seamless', 'search', 'season', 'second', 'seconds', 'secure', 'secured', 'see', 'seeing', 'seeking', 'seem', 'seemed', 'seemless', 'seems', 'seen', 'select', 'selected', 'self', 'selfemployed', 'sell', 'seller', 'sellers', 'selling', 'send', 'sending', 'senior', 'sense', 'sensed', 'sensitivity', 'sent', 'separate', 'sept', 'september', 'series', 'serious', 'service', 'servicer', 'services', 'servicing', 'set', 'settled', 'settlement', 'settling', 'several', 'share', 'shared', 'shatz', 'shawn', 'shipped', 'shooter', 'shop', 'shopped', 'shopping', 'short', 'shot', 'shoulnt', 'shoutout', 'show', 'showed', 'showing', 'shows', 'side', 'sign', 'signed', 'significant', 'signing', 'sill', 'similar', 'simple', 'simply', 'since', 'sincerest', 'single', 'sisters', 'sit', 'site', 'sitting', 'situation', 'skeptical', 'skilled', 'skills', 'slightly', 'slow', 'small', 'smiling', 'smooth', 'smoother', 'smoothly', 'socalled', 'sold', 'solid', 'solve', 'solved', 'somehow', 'someone', 'someones', 'something', 'sometime', 'sometimes', 'somewhat', 'son', 'sons', 'soon', 'sorry', 'sounded', 'sources', 'southern', 'spaceship', 'span', 'speak', 'speaking', 'special', 'specially', 'specifically', 'specifics', 'specified', 'spectacular', 'speed', 'spellman', 'spend', 'spending', 'spent', 'spinning', 'spirits', 'spoke', 'spring', 'st', 'staff', 'stage', 'stages', 'stand', 'standard', 'star', 'stars', 'start', 'started', 'starts', 'state', 'stated', 'stateing', 'statement', 'statements', 'stating', 'status', 'stay', 'stayed', 'staying', 'stays', 'steer', 'stellar', 'step', 'stephanie', 'stepped', 'steps', 'steve', 'steven', 'still', 'stood', 'stop', 'stopped', 'stops', 'straight', 'straightforward', 'straightforwardly', 'straights', 'streamlined', 'stress', 'stressful', 'string', 'stringent', 'strong', 'strongly', 'stuff', 'stumbling', 'style', 'submitted', 'submitting', 'success', 'successful', 'successfully', 'sufficient', 'suggest', 'suggested', 'suggestions', 'super', 'superb', 'superior', 'superlatives', 'supervisor', 'supervisors', 'support', 'supporting', 'supportive', 'suppose', 'supposed', 'sure', 'surely', 'surprise', 'surprises', 'susan', 'swamped', 'swapping', 'sweet', 'swiftly', 'switch', 'switched', 'system', 't', 'table', 'tag', 'take', 'taken', 'taking', 'talk', 'talked', 'talkedi', 'talking', 'target', 'task', 'tax', 'taxes', 'td', 'team', 'teams', 'techniques', 'technology', 'teddy', 'tedious', 'telepathy', 'tell', 'telling', 'ten', 'tension', 'tentative', 'termite', 'terms', 'terribly', 'texas', 'text', 'texting', 'texts', 'tgif', 'th', 'thank', 'thankful', 'thankfully', 'thanks', 'that', 'thats', 'theres', 'thing', 'things', 'think', 'thinking', 'thinks', 'third', 'this', 'thomka', 'thorough', 'thoroughly', 'thoroughness', 'though', 'thought', 'thoughtful', 'thousands', 'three', 'throughout', 'thru', 'thumbs', 'thus', 'ticket', 'tight', 'til', 'tim', 'time', 'timeline', 'timelines', 'timely', 'times', 'timesit', 'timing', 'tine', 'tirelessly', 'title', 'today', 'together', 'told', 'tom', 'tomorrow', 'tone', 'tons', 'took', 'top', 'total', 'totally', 'touch', 'tough', 'toward', 'towards', 'town', 'track', 'tracking', 'traditional', 'transaction', 'transactions', 'transcript', 'transcripts', 'transfers', 'transition', 'transitioning', 'transparent', 'traveling', 'treat', 'treated', 'treats', 'tree', 'tremendous', 'tried', 'trip', 'triumph', 'triumphs', 'true', 'truely', 'truly', 'trust', 'trusted', 'truthful', 'try', 'trying', 'turn', 'turnaround', 'turned', 'turns', 'tv', 'twice', 'two', 'tx', 'type', 'types', 'typically', 'ultimately', 'unable', 'unacceptable', 'unbelievable', 'uncalled', 'uncertainties', 'understand', 'understanding', 'understands', 'understood', 'underwriter', 'underwriting', 'undivided', 'unflappable', 'unfold', 'unforeseen', 'unfortunate', 'unfortunately', 'unique', 'unless', 'unlike', 'unlucky', 'unmatched', 'unpacked', 'unpleasant', 'unprofessional', 'unsure', 'unwilling', 'update', 'updated', 'updates', 'upfront', 'upload', 'uploaded', 'upmost', 'upon', 'ups', 'upset', 'urgency', 'us', 'use', 'used', 'using', 'usual', 'usually', 'utmost', 'va', 'vacation', 'value', 'values', 'variable', 'various', 've', 'vehicle', 'verification', 'versed', 'versus', 'veteran', 'via', 'viable', 'violated', 'visiting', 'voice', 'voicemail', 'voicing', 'w', 'wait', 'waiting', 'waived', 'waking', 'walk', 'walked', 'walking', 'walks', 'want', 'wanted', 'wanting', 'wants', 'wasn', 'wasnt', 'waste', 'wasted', 'wasting', 'watson', 'way', 'waymire', 'we', 'web', 'website', 'week', 'weekends', 'weeks', 'weeksit', 'well', 'wellcoordinated', 'welloiled', 'went', 'weren', 'werent', 'wesley', 'weve', 'whatever', 'whenever', 'where', 'white', 'whole', 'whose', 'wife', 'wifes', 'william', 'williams', 'willing', 'willingness', 'wire', 'wisdom', 'wish', 'wished', 'within', 'withnot', 'without', 'woman', 'wonder', 'wonderful', 'wont', 'word', 'words', 'work', 'worked', 'working', 'works', 'workwe', 'worry', 'worrying', 'worst', 'worth', 'would', 'wouldn', 'wouldnt', 'write', 'writing', 'written', 'wrong', 'ws', 'wyndham', 'wyndum', 'xx', 'y', 'year', 'years', 'yelp', 'yes', 'yet', 'you', 'youi', 'zach', 'zelada', 'zero']\n"
     ]
    }
   ],
   "source": [
    "print(count_vect.get_feature_names())"
   ]
  },
  {
   "cell_type": "code",
   "execution_count": 28,
   "metadata": {},
   "outputs": [],
   "source": [
    "dtm1 = pd.DataFrame(dtm)\n",
    "dtm1.columns = count_vect.get_feature_names()"
   ]
  },
  {
   "cell_type": "code",
   "execution_count": 29,
   "metadata": {},
   "outputs": [
    {
     "data": {
      "text/html": [
       "<div>\n",
       "<style scoped>\n",
       "    .dataframe tbody tr th:only-of-type {\n",
       "        vertical-align: middle;\n",
       "    }\n",
       "\n",
       "    .dataframe tbody tr th {\n",
       "        vertical-align: top;\n",
       "    }\n",
       "\n",
       "    .dataframe thead th {\n",
       "        text-align: right;\n",
       "    }\n",
       "</style>\n",
       "<table border=\"1\" class=\"dataframe\">\n",
       "  <thead>\n",
       "    <tr style=\"text-align: right;\">\n",
       "      <th></th>\n",
       "      <th>aaron</th>\n",
       "      <th>aarons</th>\n",
       "      <th>ability</th>\n",
       "      <th>able</th>\n",
       "      <th>absoltely</th>\n",
       "      <th>absolute</th>\n",
       "      <th>absolutely</th>\n",
       "      <th>accept</th>\n",
       "      <th>acceptable</th>\n",
       "      <th>accepted</th>\n",
       "      <th>...</th>\n",
       "      <th>year</th>\n",
       "      <th>years</th>\n",
       "      <th>yelp</th>\n",
       "      <th>yes</th>\n",
       "      <th>yet</th>\n",
       "      <th>you</th>\n",
       "      <th>youi</th>\n",
       "      <th>zach</th>\n",
       "      <th>zelada</th>\n",
       "      <th>zero</th>\n",
       "    </tr>\n",
       "  </thead>\n",
       "  <tbody>\n",
       "    <tr>\n",
       "      <th>0</th>\n",
       "      <td>0</td>\n",
       "      <td>0</td>\n",
       "      <td>0</td>\n",
       "      <td>0</td>\n",
       "      <td>0</td>\n",
       "      <td>0</td>\n",
       "      <td>0</td>\n",
       "      <td>0</td>\n",
       "      <td>0</td>\n",
       "      <td>0</td>\n",
       "      <td>...</td>\n",
       "      <td>0</td>\n",
       "      <td>0</td>\n",
       "      <td>0</td>\n",
       "      <td>0</td>\n",
       "      <td>0</td>\n",
       "      <td>0</td>\n",
       "      <td>0</td>\n",
       "      <td>0</td>\n",
       "      <td>0</td>\n",
       "      <td>0</td>\n",
       "    </tr>\n",
       "    <tr>\n",
       "      <th>1</th>\n",
       "      <td>0</td>\n",
       "      <td>0</td>\n",
       "      <td>0</td>\n",
       "      <td>0</td>\n",
       "      <td>0</td>\n",
       "      <td>0</td>\n",
       "      <td>0</td>\n",
       "      <td>0</td>\n",
       "      <td>0</td>\n",
       "      <td>0</td>\n",
       "      <td>...</td>\n",
       "      <td>0</td>\n",
       "      <td>0</td>\n",
       "      <td>0</td>\n",
       "      <td>0</td>\n",
       "      <td>0</td>\n",
       "      <td>0</td>\n",
       "      <td>0</td>\n",
       "      <td>0</td>\n",
       "      <td>0</td>\n",
       "      <td>0</td>\n",
       "    </tr>\n",
       "    <tr>\n",
       "      <th>2</th>\n",
       "      <td>0</td>\n",
       "      <td>0</td>\n",
       "      <td>0</td>\n",
       "      <td>0</td>\n",
       "      <td>0</td>\n",
       "      <td>0</td>\n",
       "      <td>0</td>\n",
       "      <td>0</td>\n",
       "      <td>0</td>\n",
       "      <td>0</td>\n",
       "      <td>...</td>\n",
       "      <td>0</td>\n",
       "      <td>0</td>\n",
       "      <td>0</td>\n",
       "      <td>0</td>\n",
       "      <td>0</td>\n",
       "      <td>0</td>\n",
       "      <td>0</td>\n",
       "      <td>0</td>\n",
       "      <td>0</td>\n",
       "      <td>0</td>\n",
       "    </tr>\n",
       "    <tr>\n",
       "      <th>3</th>\n",
       "      <td>0</td>\n",
       "      <td>0</td>\n",
       "      <td>0</td>\n",
       "      <td>0</td>\n",
       "      <td>0</td>\n",
       "      <td>0</td>\n",
       "      <td>0</td>\n",
       "      <td>0</td>\n",
       "      <td>0</td>\n",
       "      <td>0</td>\n",
       "      <td>...</td>\n",
       "      <td>0</td>\n",
       "      <td>0</td>\n",
       "      <td>0</td>\n",
       "      <td>1</td>\n",
       "      <td>2</td>\n",
       "      <td>0</td>\n",
       "      <td>0</td>\n",
       "      <td>0</td>\n",
       "      <td>0</td>\n",
       "      <td>0</td>\n",
       "    </tr>\n",
       "    <tr>\n",
       "      <th>4</th>\n",
       "      <td>0</td>\n",
       "      <td>0</td>\n",
       "      <td>0</td>\n",
       "      <td>0</td>\n",
       "      <td>0</td>\n",
       "      <td>0</td>\n",
       "      <td>0</td>\n",
       "      <td>0</td>\n",
       "      <td>0</td>\n",
       "      <td>0</td>\n",
       "      <td>...</td>\n",
       "      <td>0</td>\n",
       "      <td>0</td>\n",
       "      <td>0</td>\n",
       "      <td>0</td>\n",
       "      <td>0</td>\n",
       "      <td>0</td>\n",
       "      <td>0</td>\n",
       "      <td>0</td>\n",
       "      <td>0</td>\n",
       "      <td>0</td>\n",
       "    </tr>\n",
       "  </tbody>\n",
       "</table>\n",
       "<p>5 rows × 2270 columns</p>\n",
       "</div>"
      ],
      "text/plain": [
       "   aaron  aarons  ability  able  absoltely  absolute  absolutely  accept  \\\n",
       "0      0       0        0     0          0         0           0       0   \n",
       "1      0       0        0     0          0         0           0       0   \n",
       "2      0       0        0     0          0         0           0       0   \n",
       "3      0       0        0     0          0         0           0       0   \n",
       "4      0       0        0     0          0         0           0       0   \n",
       "\n",
       "   acceptable  accepted  ...  year  years  yelp  yes  yet  you  youi  zach  \\\n",
       "0           0         0  ...     0      0     0    0    0    0     0     0   \n",
       "1           0         0  ...     0      0     0    0    0    0     0     0   \n",
       "2           0         0  ...     0      0     0    0    0    0     0     0   \n",
       "3           0         0  ...     0      0     0    1    2    0     0     0   \n",
       "4           0         0  ...     0      0     0    0    0    0     0     0   \n",
       "\n",
       "   zelada  zero  \n",
       "0       0     0  \n",
       "1       0     0  \n",
       "2       0     0  \n",
       "3       0     0  \n",
       "4       0     0  \n",
       "\n",
       "[5 rows x 2270 columns]"
      ]
     },
     "execution_count": 29,
     "metadata": {},
     "output_type": "execute_result"
    }
   ],
   "source": [
    "dtm1.head()"
   ]
  },
  {
   "cell_type": "code",
   "execution_count": 108,
   "metadata": {},
   "outputs": [],
   "source": [
    "tfidf_transformer = TfidfTransformer()\n",
    "x_train_tfidf = tfidf_transformer.fit_transform(xtrain_count)\n",
    "\n",
    "#Test\n",
    "#count_vect = CountVectorizer()\n",
    "xtest_count = count_vect.transform(x_test)\n",
    "\n",
    "#tfidf_transformer = TfidfTransformer()\n",
    "x_test_tfidf = tfidf_transformer.transform(xtest_count)"
   ]
  },
  {
   "cell_type": "code",
   "execution_count": 109,
   "metadata": {},
   "outputs": [],
   "source": [
    "dtm2=pd.DataFrame(x_train_tfidf.toarray(), columns=count_vect.get_feature_names())"
   ]
  },
  {
   "cell_type": "code",
   "execution_count": 110,
   "metadata": {},
   "outputs": [
    {
     "data": {
      "text/html": [
       "<div>\n",
       "<style scoped>\n",
       "    .dataframe tbody tr th:only-of-type {\n",
       "        vertical-align: middle;\n",
       "    }\n",
       "\n",
       "    .dataframe tbody tr th {\n",
       "        vertical-align: top;\n",
       "    }\n",
       "\n",
       "    .dataframe thead th {\n",
       "        text-align: right;\n",
       "    }\n",
       "</style>\n",
       "<table border=\"1\" class=\"dataframe\">\n",
       "  <thead>\n",
       "    <tr style=\"text-align: right;\">\n",
       "      <th></th>\n",
       "      <th>aaron</th>\n",
       "      <th>aarons</th>\n",
       "      <th>ability</th>\n",
       "      <th>able</th>\n",
       "      <th>absoltely</th>\n",
       "      <th>absolute</th>\n",
       "      <th>absolutely</th>\n",
       "      <th>accept</th>\n",
       "      <th>acceptable</th>\n",
       "      <th>accepted</th>\n",
       "      <th>...</th>\n",
       "      <th>year</th>\n",
       "      <th>years</th>\n",
       "      <th>yelp</th>\n",
       "      <th>yep</th>\n",
       "      <th>yes</th>\n",
       "      <th>yet</th>\n",
       "      <th>you</th>\n",
       "      <th>zach</th>\n",
       "      <th>zelada</th>\n",
       "      <th>zero</th>\n",
       "    </tr>\n",
       "  </thead>\n",
       "  <tbody>\n",
       "    <tr>\n",
       "      <th>0</th>\n",
       "      <td>0.0</td>\n",
       "      <td>0.0</td>\n",
       "      <td>0.0</td>\n",
       "      <td>0.106621</td>\n",
       "      <td>0.0</td>\n",
       "      <td>0.0</td>\n",
       "      <td>0.0</td>\n",
       "      <td>0.000000</td>\n",
       "      <td>0.0</td>\n",
       "      <td>0.0</td>\n",
       "      <td>...</td>\n",
       "      <td>0.0</td>\n",
       "      <td>0.000000</td>\n",
       "      <td>0.0</td>\n",
       "      <td>0.0</td>\n",
       "      <td>0.0</td>\n",
       "      <td>0.000000</td>\n",
       "      <td>0.0</td>\n",
       "      <td>0.0</td>\n",
       "      <td>0.0</td>\n",
       "      <td>0.0</td>\n",
       "    </tr>\n",
       "    <tr>\n",
       "      <th>1</th>\n",
       "      <td>0.0</td>\n",
       "      <td>0.0</td>\n",
       "      <td>0.0</td>\n",
       "      <td>0.000000</td>\n",
       "      <td>0.0</td>\n",
       "      <td>0.0</td>\n",
       "      <td>0.0</td>\n",
       "      <td>0.110909</td>\n",
       "      <td>0.0</td>\n",
       "      <td>0.0</td>\n",
       "      <td>...</td>\n",
       "      <td>0.0</td>\n",
       "      <td>0.075754</td>\n",
       "      <td>0.0</td>\n",
       "      <td>0.0</td>\n",
       "      <td>0.0</td>\n",
       "      <td>0.000000</td>\n",
       "      <td>0.0</td>\n",
       "      <td>0.0</td>\n",
       "      <td>0.0</td>\n",
       "      <td>0.0</td>\n",
       "    </tr>\n",
       "    <tr>\n",
       "      <th>2</th>\n",
       "      <td>0.0</td>\n",
       "      <td>0.0</td>\n",
       "      <td>0.0</td>\n",
       "      <td>0.000000</td>\n",
       "      <td>0.0</td>\n",
       "      <td>0.0</td>\n",
       "      <td>0.0</td>\n",
       "      <td>0.000000</td>\n",
       "      <td>0.0</td>\n",
       "      <td>0.0</td>\n",
       "      <td>...</td>\n",
       "      <td>0.0</td>\n",
       "      <td>0.000000</td>\n",
       "      <td>0.0</td>\n",
       "      <td>0.0</td>\n",
       "      <td>0.0</td>\n",
       "      <td>0.319378</td>\n",
       "      <td>0.0</td>\n",
       "      <td>0.0</td>\n",
       "      <td>0.0</td>\n",
       "      <td>0.0</td>\n",
       "    </tr>\n",
       "    <tr>\n",
       "      <th>3</th>\n",
       "      <td>0.0</td>\n",
       "      <td>0.0</td>\n",
       "      <td>0.0</td>\n",
       "      <td>0.000000</td>\n",
       "      <td>0.0</td>\n",
       "      <td>0.0</td>\n",
       "      <td>0.0</td>\n",
       "      <td>0.000000</td>\n",
       "      <td>0.0</td>\n",
       "      <td>0.0</td>\n",
       "      <td>...</td>\n",
       "      <td>0.0</td>\n",
       "      <td>0.000000</td>\n",
       "      <td>0.0</td>\n",
       "      <td>0.0</td>\n",
       "      <td>0.0</td>\n",
       "      <td>0.000000</td>\n",
       "      <td>0.0</td>\n",
       "      <td>0.0</td>\n",
       "      <td>0.0</td>\n",
       "      <td>0.0</td>\n",
       "    </tr>\n",
       "    <tr>\n",
       "      <th>4</th>\n",
       "      <td>0.0</td>\n",
       "      <td>0.0</td>\n",
       "      <td>0.0</td>\n",
       "      <td>0.000000</td>\n",
       "      <td>0.0</td>\n",
       "      <td>0.0</td>\n",
       "      <td>0.0</td>\n",
       "      <td>0.000000</td>\n",
       "      <td>0.0</td>\n",
       "      <td>0.0</td>\n",
       "      <td>...</td>\n",
       "      <td>0.0</td>\n",
       "      <td>0.000000</td>\n",
       "      <td>0.0</td>\n",
       "      <td>0.0</td>\n",
       "      <td>0.0</td>\n",
       "      <td>0.000000</td>\n",
       "      <td>0.0</td>\n",
       "      <td>0.0</td>\n",
       "      <td>0.0</td>\n",
       "      <td>0.0</td>\n",
       "    </tr>\n",
       "  </tbody>\n",
       "</table>\n",
       "<p>5 rows × 2247 columns</p>\n",
       "</div>"
      ],
      "text/plain": [
       "   aaron  aarons  ability      able  absoltely  absolute  absolutely  \\\n",
       "0    0.0     0.0      0.0  0.106621        0.0       0.0         0.0   \n",
       "1    0.0     0.0      0.0  0.000000        0.0       0.0         0.0   \n",
       "2    0.0     0.0      0.0  0.000000        0.0       0.0         0.0   \n",
       "3    0.0     0.0      0.0  0.000000        0.0       0.0         0.0   \n",
       "4    0.0     0.0      0.0  0.000000        0.0       0.0         0.0   \n",
       "\n",
       "     accept  acceptable  accepted  ...  year     years  yelp  yep  yes  \\\n",
       "0  0.000000         0.0       0.0  ...   0.0  0.000000   0.0  0.0  0.0   \n",
       "1  0.110909         0.0       0.0  ...   0.0  0.075754   0.0  0.0  0.0   \n",
       "2  0.000000         0.0       0.0  ...   0.0  0.000000   0.0  0.0  0.0   \n",
       "3  0.000000         0.0       0.0  ...   0.0  0.000000   0.0  0.0  0.0   \n",
       "4  0.000000         0.0       0.0  ...   0.0  0.000000   0.0  0.0  0.0   \n",
       "\n",
       "        yet  you  zach  zelada  zero  \n",
       "0  0.000000  0.0   0.0     0.0   0.0  \n",
       "1  0.000000  0.0   0.0     0.0   0.0  \n",
       "2  0.319378  0.0   0.0     0.0   0.0  \n",
       "3  0.000000  0.0   0.0     0.0   0.0  \n",
       "4  0.000000  0.0   0.0     0.0   0.0  \n",
       "\n",
       "[5 rows x 2247 columns]"
      ]
     },
     "execution_count": 110,
     "metadata": {},
     "output_type": "execute_result"
    }
   ],
   "source": [
    "dtm2.head()"
   ]
  },
  {
   "cell_type": "code",
   "execution_count": 111,
   "metadata": {},
   "outputs": [],
   "source": [
    "#Topic Models as features\n",
    "\n",
    "# train a LDA Model\n",
    "lda_model = decomposition.LatentDirichletAllocation(n_components=20, learning_method='online', max_iter=20)\n",
    "x_topics = lda_model.fit_transform(x_train_tfidf)\n",
    "topic_word = lda_model.components_ \n",
    "vocab = count_vect.get_feature_names()"
   ]
  },
  {
   "cell_type": "code",
   "execution_count": 112,
   "metadata": {},
   "outputs": [
    {
     "data": {
      "text/plain": [
       "['apr docs higher explain check point fees someone interest send rate could closing consultant bob id total sent told repeatedly explanation faith day mentioned household driving power fly fedex unpacked coordinate consent four less weeksit goods blown guesswork expressing eliminated embark dread beautifully breeze guarantee broke reluctant ran attorney nc',\n",
       " 'penny attitude whatever institution janel scott shawn firsttime transparent partner judgment maintained complex functionary humor concerned kidding truely accessible dunlop daniel worse corner joey kory pressured rushed opposite biggest klossner approximate calculate circumstances confirming types versus cons sense purposes encourage referrals pace unique fit lives inquiries glen salvador highy paths',\n",
       " 'surprises guy good responsive brought hand congratulations written sending diligent absoltely touch skills aspects persistent effective work note taken clear ensure necessary personal leehy spoke everyone recommended adam beyond care came ll buying communication hard house know friendly knowledgeable highly worked professional closed first time thorough us recommend commission andrew',\n",
       " 'salesman listening altho interrupting astronomical rather pushy convinced learn favorable running careful plus faith info words line telling looks costs points quite wanted spoke person wasnt please kept said closing zero initially numbers upfront point charge estimate higher good dealing rate asking trusted sign interest jon option im officer lower',\n",
       " 'fred kary nice address pleasant seems confused upset inability hassle world properly viable rude product provide needs help able pretty record hands concerns id paperwork set sure customers painless best going available make without care business thanks getting really done refinance always possible never recommend made informed questions first everything',\n",
       " 'marcus deff land undivided regular attorney increase legal notary tshirt disclosure closings conduct learned borrowing sanctioned notifying estimated servicer estate nc basis attention locked bar huge luck gave dream took respond points related work future use recommend anyone call nd highly looking lender could questions always helped taxes dean help',\n",
       " 'overcoming dependable truthful mile obstacles honest friendly professional extra easy going quick effective cost service closing zach sent dean first comps seeing aspects owens home check read made definite stars could stuck couple day empathetic great sale advice stress joking discussing simply reviews clunky despites pat pick days hitch cant',\n",
       " 'always outstanding timely hangs fred stress susan free exactly bob smooth prompt schedule wonder documents encountered super website responds responsive definitely fit money house share rewritten following heard somehow bedroom alerted thankfully weeksit class couldt goes concerns involved two investment candle adampac bill roadblocks michele sitting conventional occasion like appreciated',\n",
       " 'responses joey somehow roadblocks receptive matthew various encountered hartegan peter prompt despite thorough answered got professional quick closing close us team questions correct richardson work great time appreciated manner timely friendly helpful identifying errounous faced stood uncertainties alievatied stand wire homebuyer saved hope stepped guidance wife barrett chose mr certainly',\n",
       " 'delay discovered zelada borrower extended significant following piecemeal pb assumptions pattern assurances holding comparable q entirely instances numerous quicken likely seemed challenging probably reading family obstacles cared rasool us see helping line stressful request lammerts fully kory care correspondence referring couldnt really worked rate months extremely made time despite kelly',\n",
       " 'real bank values walks traditional fine talk people pleasure business great helpful rob loan closed end time able concerns know get issues didnt getting done questions still working quickly answer competitive mark respectful across close triumph lender team closing appreciated experience refer bestalways look mike would tim pay consultant products',\n",
       " 'oriented customer jeremy professional company hesitant nonlocal previously mortgage consider usually involved exceeded trusted friend dont expectations ve local used loan knowledge i people rule followed relockin officer use business service recommend would process rate obviously resources shine tools rain missed dallas stellar deadline followup given commitment reason understand successful',\n",
       " 'represents gets hardworking teddy communicative job patient done well company salesperson cash td hangs heloc quoted pushing ridiculous specifically better im got matched fortunate rate best even price deal said looking kept work set told chris week business underwriting sell try law texas loan rookie class shopping phillip real lost',\n",
       " 'jason brad june surprises better wyndham expected waived third interest smooth responsibility doghouse miserable screwed imaginable accepted extremely errors purchasing wouldnt less much rate new ca guys purchase fiance brads lee bean never thomka process everything guidance experience city nh home recommend honest timelines discussions maurice sincerest ed might viable',\n",
       " 'informative responsive bryant us tim able progress profession rowel incredibly helpful kept steve throughout uptodate inquiries military lenders accommodating gladly ethan beginning tough industry bill beat awesome builders simply work pope encountered opportunity pleasure unlike homes knew institutions expectations ownership relief string realistic handled road accurate deals knowledgeable professional end',\n",
       " 'us products rock identifying side refinance good nick mistake company calls accommodating online cash absolutely difference help g mortgage standard steps busness barrett stepped stand andor answered communication response vacation swamped reviews recured certainly started earlier read overwhelming always support mislead walks realtor card frustrated document enjoyed guide faced disturbing',\n",
       " 'donna bank site would unprofessional alex previous professionally disturbing necessary realtor done clients number beneficial care company contacted documentation registering susan friend us top stays well misunderstanding truly mortgage heard needs cares list guaranteed professionalism admiration bends customers greatly beyond ask look assure really team home lender sitting mattison voicemail',\n",
       " 'bad disturbing registering site number unprofessional list contacted previous phone lender work great attitude complications portal give forget loan try patrick person share janeen madewell hold map sure offer you noninvasive flawlessly far matt power offers wouldn transaction sweet rescue contact methods i box estimates easy often improving years crew',\n",
       " 'great loan process would us home time recommend service work team mortgage easy questions experience made read always helpful best worked closing working rate anyone nasb highly closed alex first get everything refinance thanks lender quick knowledgeable professional every jon went amazing company thank friendly looking hard responsive make got',\n",
       " 'goodlet assuring bids custer appreciative completion comments slightly signing kudos leader convincing believability truthful promised begin supportive origination sales beat satisfied competitive delivered dallas applied point price matched brent none product nasb wife service cost completely tree chose mortgage online whole several closing staff lending company application time timely assumptions']"
      ]
     },
     "execution_count": 112,
     "metadata": {},
     "output_type": "execute_result"
    }
   ],
   "source": [
    "# view the topic models\n",
    "n_top_words = 50\n",
    "topic_summaries = []\n",
    "for i, topic_dist in enumerate(topic_word):\n",
    "    topic_words = np.array(vocab)[np.argsort(topic_dist)][:-(n_top_words+1):-1]\n",
    "    topic_summaries.append(' '.join(topic_words))\n",
    "\n",
    "topic_summaries"
   ]
  },
  {
   "cell_type": "code",
   "execution_count": 113,
   "metadata": {},
   "outputs": [],
   "source": [
    "frequency_words_wo_stop= {}\n",
    "for text in data['Reviews']:\n",
    "    tokens = nltk.wordpunct_tokenize(text.lower())\n",
    "    for token in tokens:\n",
    "        if token.lower() not in stop_words:\n",
    "            if token in frequency_words_wo_stop:\n",
    "                count = frequency_words_wo_stop[token]\n",
    "                count = count + 1\n",
    "                frequency_words_wo_stop[token] = count\n",
    "            else:\n",
    "                frequency_words_wo_stop[token] = 1\n",
    "                \n"
   ]
  },
  {
   "cell_type": "code",
   "execution_count": 114,
   "metadata": {},
   "outputs": [
    {
     "data": {
      "text/plain": [
       "{'great': 139,\n",
       " 'job': 25,\n",
       " ',': 1135,\n",
       " 'wyndham': 16,\n",
       " 'capital': 12,\n",
       " '!': 222,\n",
       " 'person': 17,\n",
       " 'professional': 70,\n",
       " 'helped': 35,\n",
       " 'us': 207,\n",
       " 'move': 12,\n",
       " 'refinance': 70,\n",
       " 'process': 253,\n",
       " 'smoothly': 15,\n",
       " '.': 1976,\n",
       " 'thank': 50,\n",
       " 'matthew': 3,\n",
       " 'richardson': 1,\n",
       " 'helpful': 56,\n",
       " 'find': 19,\n",
       " 'correct': 1,\n",
       " 'product': 10,\n",
       " 'mortgage': 147,\n",
       " 'much': 38,\n",
       " 'excellent': 30,\n",
       " 'service': 99,\n",
       " 'past': 13,\n",
       " 'experience': 110,\n",
       " 'would': 246,\n",
       " 'without': 29,\n",
       " 'question': 7,\n",
       " 'use': 48,\n",
       " 'needed': 29,\n",
       " '!!': 24,\n",
       " 'went': 70,\n",
       " 'beyond': 25,\n",
       " 'extra': 19,\n",
       " 'mile': 8,\n",
       " 'right': 28,\n",
       " 'wrong': 7,\n",
       " 'encountered': 7,\n",
       " 'servicer': 3,\n",
       " 'dealing': 14,\n",
       " 'previous': 13,\n",
       " 'loan': 313,\n",
       " 'pulled': 4,\n",
       " 'together': 8,\n",
       " 'found': 16,\n",
       " 'viable': 3,\n",
       " 'option': 8,\n",
       " 'ultimately': 5,\n",
       " 'saved': 7,\n",
       " 'money': 22,\n",
       " 'highly': 65,\n",
       " 'recommend': 156,\n",
       " 'brad': 7,\n",
       " 'thomka': 3,\n",
       " 'team': 113,\n",
       " 'needs': 27,\n",
       " 'sincerest': 2,\n",
       " 'thanks': 61,\n",
       " 'ed': 2,\n",
       " '&': 30,\n",
       " 'lind': 1,\n",
       " 'beginning': 32,\n",
       " 'started': 17,\n",
       " 'stressful': 24,\n",
       " 'time': 189,\n",
       " 'help': 39,\n",
       " 'entire': 47,\n",
       " 'turned': 3,\n",
       " 'happy': 37,\n",
       " 'ending': 1,\n",
       " 'indebted': 1,\n",
       " 'lindread': 1,\n",
       " 'less': 18,\n",
       " \"'\": 270,\n",
       " 'express': 9,\n",
       " 'grateful': 4,\n",
       " 'support': 10,\n",
       " 'zach': 2,\n",
       " 'provided': 36,\n",
       " 'family': 28,\n",
       " 'home': 191,\n",
       " 'purchase': 40,\n",
       " 'customer': 56,\n",
       " 'responsiveness': 11,\n",
       " 'demeanor': 4,\n",
       " 'second': 15,\n",
       " 'none': 9,\n",
       " 'thorough': 11,\n",
       " 'took': 51,\n",
       " 'educate': 4,\n",
       " 'along': 16,\n",
       " 'way': 46,\n",
       " 'working': 76,\n",
       " 'pleasure': 34,\n",
       " 'september': 1,\n",
       " '2018': 1,\n",
       " 'making': 23,\n",
       " 'columbus': 1,\n",
       " 'oh': 5,\n",
       " 'original': 7,\n",
       " 'conversation': 12,\n",
       " 'officer': 61,\n",
       " 'underwriting': 8,\n",
       " 'closing': 136,\n",
       " 'responsive': 48,\n",
       " 'impressed': 12,\n",
       " 'smooth': 27,\n",
       " 'timely': 21,\n",
       " 'communication': 34,\n",
       " 'given': 7,\n",
       " 'buying': 38,\n",
       " '(': 89,\n",
       " 'selling': 7,\n",
       " ')': 46,\n",
       " 'mattison': 1,\n",
       " 'greatly': 3,\n",
       " 'professionally': 9,\n",
       " 'done': 45,\n",
       " 'really': 31,\n",
       " 'cares': 4,\n",
       " 'clients': 11,\n",
       " 'stays': 1,\n",
       " 'top': 19,\n",
       " 'everything': 84,\n",
       " 'misunderstanding': 1,\n",
       " 'overall': 10,\n",
       " 'truly': 10,\n",
       " 'bends': 1,\n",
       " 'back': 45,\n",
       " 'wonderful': 14,\n",
       " 'patrick': 6,\n",
       " 'answered': 27,\n",
       " 'questions': 101,\n",
       " 'email': 51,\n",
       " 'immediately': 11,\n",
       " 'spent': 11,\n",
       " 'lot': 14,\n",
       " 'sure': 51,\n",
       " 'got': 57,\n",
       " 'situation': 15,\n",
       " 'portal': 1,\n",
       " 'extremely': 46,\n",
       " 'easy': 65,\n",
       " 'closed': 70,\n",
       " '2': 24,\n",
       " 'weeks': 62,\n",
       " 'pleased': 12,\n",
       " 'intend': 1,\n",
       " 'using': 20,\n",
       " 'later': 39,\n",
       " '!!!!': 3,\n",
       " 'loved': 3,\n",
       " 'group': 1,\n",
       " 'people': 25,\n",
       " 'laughed': 2,\n",
       " 'phone': 48,\n",
       " 'always': 87,\n",
       " 'moved': 4,\n",
       " 'quickly': 23,\n",
       " 'possible': 29,\n",
       " 'knowledgeable': 63,\n",
       " 'staff': 16,\n",
       " 'shopping': 4,\n",
       " 'around': 16,\n",
       " 'lender': 65,\n",
       " 'one': 48,\n",
       " 'badmouthed': 1,\n",
       " 'lost': 3,\n",
       " 'business': 50,\n",
       " 'told': 57,\n",
       " 'class': 4,\n",
       " 'say': 27,\n",
       " 'anything': 15,\n",
       " 'negative': 2,\n",
       " 'another': 32,\n",
       " 'company': 82,\n",
       " 'get': 96,\n",
       " '\"': 100,\n",
       " 'sell': 9,\n",
       " 'web': 1,\n",
       " 'interface': 1,\n",
       " 'application': 19,\n",
       " 'document': 6,\n",
       " 'upload': 1,\n",
       " 'download': 1,\n",
       " 'features': 1,\n",
       " 'quick': 37,\n",
       " 'responses': 9,\n",
       " 'concerns': 9,\n",
       " 'willingness': 1,\n",
       " 'communicate': 10,\n",
       " 'almost': 18,\n",
       " 'exclusively': 1,\n",
       " 'via': 18,\n",
       " '...': 179,\n",
       " 'calls': 39,\n",
       " 'michelle': 3,\n",
       " 'well': 50,\n",
       " 'first': 79,\n",
       " 'homeowner': 1,\n",
       " 'feel': 31,\n",
       " 'successful': 7,\n",
       " 'definitely': 33,\n",
       " 'friends': 16,\n",
       " 'usten': 1,\n",
       " 'butler': 2,\n",
       " 'brought': 4,\n",
       " 'humanity': 2,\n",
       " 'connection': 1,\n",
       " 'stiff': 1,\n",
       " 'lifeless': 1,\n",
       " 'scary': 3,\n",
       " 'transaction': 11,\n",
       " 'quite': 15,\n",
       " 'possibly': 5,\n",
       " 'largest': 1,\n",
       " 'wife': 25,\n",
       " 'ever': 35,\n",
       " 'make': 56,\n",
       " 'simply': 3,\n",
       " 'want': 29,\n",
       " 'transact': 1,\n",
       " 'faceless': 1,\n",
       " 'institution': 8,\n",
       " 'riding': 1,\n",
       " 'picking': 1,\n",
       " 'house': 41,\n",
       " 'work': 128,\n",
       " 'austen': 4,\n",
       " 'every': 67,\n",
       " 'step': 33,\n",
       " 'true': 9,\n",
       " 'best': 100,\n",
       " 'deal': 26,\n",
       " 'yes': 3,\n",
       " 'also': 46,\n",
       " 'starting': 1,\n",
       " 'looking': 42,\n",
       " 'year': 13,\n",
       " 'wanted': 23,\n",
       " 'presence': 1,\n",
       " 'positivity': 1,\n",
       " 'guidance': 5,\n",
       " 'gave': 18,\n",
       " 'confidence': 4,\n",
       " 'take': 12,\n",
       " 'dream': 13,\n",
       " 'made': 117,\n",
       " 'huge': 7,\n",
       " 'difference': 10,\n",
       " '13': 4,\n",
       " 'kids': 1,\n",
       " 'block': 1,\n",
       " 'happier': 11,\n",
       " '-': 110,\n",
       " 'jay': 1,\n",
       " 'hold': 9,\n",
       " 'whole': 21,\n",
       " 'know': 47,\n",
       " 'could': 68,\n",
       " 'million': 3,\n",
       " 'especially': 7,\n",
       " 'mark': 5,\n",
       " 'taylor': 1,\n",
       " '’': 65,\n",
       " 'even': 52,\n",
       " 'clock': 1,\n",
       " 'mean': 1,\n",
       " 'heart': 6,\n",
       " 'appreciate': 6,\n",
       " 'chaz': 3,\n",
       " 'fantastic': 11,\n",
       " 'throughout': 32,\n",
       " 'lending': 42,\n",
       " 'processs': 2,\n",
       " 'share': 3,\n",
       " 'challenges': 4,\n",
       " 'underwriter': 4,\n",
       " 'fault': 1,\n",
       " 'chase': 1,\n",
       " 'yet': 11,\n",
       " 'stepped': 3,\n",
       " 'rectify': 4,\n",
       " 'issues': 24,\n",
       " 'glue': 1,\n",
       " 'kept': 33,\n",
       " 'property': 8,\n",
       " 'falling': 1,\n",
       " 'last': 14,\n",
       " 'minute': 2,\n",
       " 'spirits': 1,\n",
       " 'assisted': 3,\n",
       " 'transitioning': 1,\n",
       " 'new': 33,\n",
       " 'better': 26,\n",
       " 'end': 30,\n",
       " 'cannot': 14,\n",
       " 'enough': 19,\n",
       " 'positive': 8,\n",
       " 'things': 34,\n",
       " 'consummate': 1,\n",
       " 'plan': 5,\n",
       " 'staying': 1,\n",
       " 'touch': 6,\n",
       " 'future': 31,\n",
       " 'opportunities': 3,\n",
       " 'awsome': 1,\n",
       " 'refi': 18,\n",
       " 'explains': 2,\n",
       " 'options': 23,\n",
       " 'thoroughly': 6,\n",
       " 'b': 3,\n",
       " 'companies': 19,\n",
       " 'repeat': 2,\n",
       " 'says': 1,\n",
       " 'salesperson': 1,\n",
       " 'pushing': 3,\n",
       " 'cash': 1,\n",
       " 'heloc': 2,\n",
       " 'specifically': 6,\n",
       " 'hangs': 1,\n",
       " 'said': 41,\n",
       " 'quoted': 2,\n",
       " 'rate': 128,\n",
       " 'td': 1,\n",
       " 'bank': 63,\n",
       " 'ridiculous': 3,\n",
       " '....': 38,\n",
       " 'worst': 5,\n",
       " 'like': 39,\n",
       " 'never': 64,\n",
       " 'gone': 4,\n",
       " 'complete': 12,\n",
       " 'list': 11,\n",
       " 'documents': 25,\n",
       " 'required': 13,\n",
       " 'day': 55,\n",
       " 'request': 16,\n",
       " 'appraiser': 10,\n",
       " 'hired': 3,\n",
       " 'many': 38,\n",
       " 'mistakes': 4,\n",
       " 'send': 20,\n",
       " 'corrections': 3,\n",
       " 'go': 41,\n",
       " 'wyndum': 1,\n",
       " 'continue': 6,\n",
       " 'ask': 23,\n",
       " 'copies': 3,\n",
       " '3': 18,\n",
       " '4': 29,\n",
       " 'times': 36,\n",
       " 'filed': 2,\n",
       " 'correctly': 2,\n",
       " 'different': 31,\n",
       " 'awful': 2,\n",
       " 'good': 39,\n",
       " 'frustrating': 5,\n",
       " 'constant': 8,\n",
       " 'delays': 6,\n",
       " 'decisions': 4,\n",
       " 'changed': 10,\n",
       " 'overwhelmed': 1,\n",
       " 'week': 28,\n",
       " 'log': 1,\n",
       " 'rookie': 1,\n",
       " 'mistake': 17,\n",
       " 'related': 4,\n",
       " 'texas': 1,\n",
       " 'law': 3,\n",
       " 'caused': 5,\n",
       " 'additional': 16,\n",
       " 'wait': 7,\n",
       " 'happened': 9,\n",
       " '6': 7,\n",
       " 'courteous': 5,\n",
       " 'sense': 5,\n",
       " 'urgency': 1,\n",
       " 'upfront': 5,\n",
       " 'learn': 1,\n",
       " 'trusted': 10,\n",
       " 'zero': 2,\n",
       " 'point': 14,\n",
       " 'convinced': 1,\n",
       " 'initially': 5,\n",
       " 'sign': 14,\n",
       " 'faith': 7,\n",
       " 'estimate': 10,\n",
       " 'higher': 7,\n",
       " 'plus': 4,\n",
       " 'credit': 44,\n",
       " 'running': 1,\n",
       " 'numbers': 3,\n",
       " 'lower': 23,\n",
       " 'interest': 29,\n",
       " 'favorable': 1,\n",
       " 'asking': 10,\n",
       " 'charge': 4,\n",
       " 'points': 3,\n",
       " 'looks': 2,\n",
       " 'words': 4,\n",
       " 'please': 8,\n",
       " 'careful': 2,\n",
       " 'broker': 23,\n",
       " 'friendly': 36,\n",
       " 'assertive': 2,\n",
       " 'paper': 4,\n",
       " 'filled': 3,\n",
       " 'eminent': 2,\n",
       " 'became': 9,\n",
       " 'increasingly': 2,\n",
       " 'difficult': 7,\n",
       " 'reach': 9,\n",
       " 'initiate': 2,\n",
       " 'seemed': 14,\n",
       " 'call': 57,\n",
       " 'forward': 18,\n",
       " 'four': 5,\n",
       " 'copy': 4,\n",
       " 'payoff': 3,\n",
       " 'card': 7,\n",
       " 'worked': 83,\n",
       " 'kory': 25,\n",
       " 'carla': 3,\n",
       " 'nasb': 112,\n",
       " 'superb': 3,\n",
       " 'complicated': 18,\n",
       " 'hung': 8,\n",
       " 'far': 19,\n",
       " 'two': 35,\n",
       " 'properties': 9,\n",
       " 'cool': 3,\n",
       " 'calm': 9,\n",
       " 'anyone': 71,\n",
       " 'else': 20,\n",
       " 'moving': 5,\n",
       " 'level': 5,\n",
       " 'integrity': 3,\n",
       " 'expert': 4,\n",
       " 'versed': 3,\n",
       " 'va': 32,\n",
       " 'financial': 28,\n",
       " 'impacts': 3,\n",
       " 'component': 3,\n",
       " 'changes': 7,\n",
       " 'across': 13,\n",
       " '7': 3,\n",
       " '/': 26,\n",
       " 'deals': 6,\n",
       " 'advocated': 3,\n",
       " '#': 4,\n",
       " '1': 13,\n",
       " 'real': 23,\n",
       " 'estate': 5,\n",
       " 'state': 14,\n",
       " 'due': 17,\n",
       " 'ability': 5,\n",
       " 'close': 57,\n",
       " 'high': 10,\n",
       " 'pressure': 4,\n",
       " 'places': 4,\n",
       " '32': 3,\n",
       " 'years': 46,\n",
       " 'patiently': 7,\n",
       " 'answers': 13,\n",
       " 'detailed': 6,\n",
       " 'rally': 3,\n",
       " 'expanded': 3,\n",
       " 'stellar': 5,\n",
       " '!)': 5,\n",
       " 'handled': 6,\n",
       " 'change': 7,\n",
       " 'tried': 8,\n",
       " 'buy': 24,\n",
       " 'antebellum': 6,\n",
       " 'tough': 9,\n",
       " 'comps': 14,\n",
       " 'retirement': 6,\n",
       " 'military': 9,\n",
       " 'income': 10,\n",
       " 'verification': 5,\n",
       " 'five': 12,\n",
       " 'families': 4,\n",
       " 'swapping': 3,\n",
       " 'homes': 8,\n",
       " 'tons': 6,\n",
       " 'contingencies': 3,\n",
       " ').': 30,\n",
       " 'mattered': 4,\n",
       " 'aaron': 23,\n",
       " 'weekends': 8,\n",
       " 'market': 10,\n",
       " 'added': 4,\n",
       " 'origination': 6,\n",
       " 'fees': 22,\n",
       " 'look': 17,\n",
       " 'pass': 3,\n",
       " 'opportunity': 4,\n",
       " 'important': 3,\n",
       " 'despite': 15,\n",
       " 'challenging': 7,\n",
       " 'pull': 4,\n",
       " 'stops': 3,\n",
       " 'rules': 5,\n",
       " 'regulations': 6,\n",
       " 'guide': 8,\n",
       " 'believe': 8,\n",
       " 'loans': 18,\n",
       " 'complicate': 3,\n",
       " 'dallas': 25,\n",
       " 'goodlet': 10,\n",
       " 'deserving': 3,\n",
       " 'special': 6,\n",
       " 'come': 11,\n",
       " '12': 7,\n",
       " 'days': 28,\n",
       " 'competitor': 3,\n",
       " 'originally': 6,\n",
       " 'called': 53,\n",
       " 'saving': 6,\n",
       " 'thousands': 10,\n",
       " 'current': 17,\n",
       " 'getting': 27,\n",
       " 'act': 3,\n",
       " 'comments': 3,\n",
       " ':': 15,\n",
       " 'begin': 8,\n",
       " 'signing': 4,\n",
       " 'completion': 4,\n",
       " 'leader': 3,\n",
       " 'online': 15,\n",
       " 'satisfied': 11,\n",
       " 'cost': 30,\n",
       " 'applied': 6,\n",
       " 'tree': 18,\n",
       " 'competitive': 11,\n",
       " 'bids': 3,\n",
       " 'several': 41,\n",
       " 'matched': 5,\n",
       " 'slightly': 3,\n",
       " 'beat': 7,\n",
       " 'convincing': 3,\n",
       " 'chose': 14,\n",
       " 'believability': 3,\n",
       " 'sales': 8,\n",
       " 'assuring': 3,\n",
       " 'supportive': 4,\n",
       " 'truthful': 4,\n",
       " 'brent': 11,\n",
       " 'custer': 5,\n",
       " 'delivered': 5,\n",
       " 'price': 6,\n",
       " 'promised': 8,\n",
       " 'completely': 14,\n",
       " 'appreciative': 3,\n",
       " 'kudos': 3,\n",
       " 'jon': 37,\n",
       " 'amazing': 31,\n",
       " 'start': 22,\n",
       " 'offered': 16,\n",
       " 'since': 17,\n",
       " 'away': 9,\n",
       " 'ready': 15,\n",
       " 'stringent': 3,\n",
       " 'potential': 10,\n",
       " 'buyers': 9,\n",
       " 'calling': 9,\n",
       " 'decide': 5,\n",
       " 'pre': 11,\n",
       " 'approval': 12,\n",
       " 'informational': 3,\n",
       " 'within': 27,\n",
       " '30': 12,\n",
       " 'agreement': 3,\n",
       " 'date': 18,\n",
       " 'barrett': 22,\n",
       " 'asset': 6,\n",
       " 'husband': 11,\n",
       " 'simple': 15,\n",
       " 'patient': 27,\n",
       " 'accurate': 10,\n",
       " 'passing': 3,\n",
       " 'name': 9,\n",
       " 'incredibly': 6,\n",
       " 'awesome': 12,\n",
       " 'bryant': 15,\n",
       " 'small': 5,\n",
       " 'purchased': 11,\n",
       " 'refinanced': 11,\n",
       " 'makes': 7,\n",
       " 'discuss': 3,\n",
       " 'met': 14,\n",
       " 'authenticity': 4,\n",
       " 'knew': 17,\n",
       " 'instantly': 3,\n",
       " 'going': 46,\n",
       " 'hoped': 3,\n",
       " 'jeff': 3,\n",
       " 'exceeded': 11,\n",
       " 'expectations': 13,\n",
       " 'hard': 42,\n",
       " 'recommended': 16,\n",
       " 'adam': 39,\n",
       " 'attention': 9,\n",
       " 'detail': 11,\n",
       " 'thru': 7,\n",
       " 'unsure': 3,\n",
       " 'talking': 13,\n",
       " 'confident': 8,\n",
       " 'manner': 13,\n",
       " 'hesitate': 5,\n",
       " 'agai': 1,\n",
       " 'website': 10,\n",
       " 'tedious': 4,\n",
       " 'received': 35,\n",
       " 'offers': 7,\n",
       " 'multiple': 7,\n",
       " 'banks': 20,\n",
       " 'alex': 57,\n",
       " 'madewell': 6,\n",
       " 'offer': 18,\n",
       " 'seamless': 8,\n",
       " 'surprises': 7,\n",
       " 'rob': 3,\n",
       " 'still': 17,\n",
       " 'able': 47,\n",
       " 'peter': 15,\n",
       " 'prompt': 10,\n",
       " 'somehow': 3,\n",
       " 'various': 7,\n",
       " 'roadblocks': 3,\n",
       " 'came': 30,\n",
       " 'spoke': 24,\n",
       " 'clear': 16,\n",
       " 'ensure': 12,\n",
       " 'taken': 13,\n",
       " 'care': 26,\n",
       " 'aspects': 5,\n",
       " 'necessary': 10,\n",
       " 'effective': 6,\n",
       " 'skills': 5,\n",
       " 'personal': 13,\n",
       " 'sending': 4,\n",
       " 'hand': 3,\n",
       " 'written': 4,\n",
       " 'note': 7,\n",
       " 'congratulations': 3,\n",
       " 'everyone': 20,\n",
       " 'servicing': 9,\n",
       " 'disaster': 3,\n",
       " 'set': 8,\n",
       " 'automatic': 6,\n",
       " 'payments': 19,\n",
       " 'clunky': 3,\n",
       " 'unlike': 9,\n",
       " 'intuitive': 3,\n",
       " 'provide': 12,\n",
       " 'confirmation': 3,\n",
       " 'entries': 3,\n",
       " '10': 13,\n",
       " 'months': 16,\n",
       " 'automatically': 6,\n",
       " 'debited': 9,\n",
       " 'external': 3,\n",
       " 'account': 15,\n",
       " 'scheduled': 5,\n",
       " 'however': 19,\n",
       " 'escrow': 11,\n",
       " 'amount': 21,\n",
       " 'old': 7,\n",
       " 'sent': 31,\n",
       " 'deficiency': 6,\n",
       " 'letter': 16,\n",
       " 'balance': 6,\n",
       " '--': 4,\n",
       " 'used': 21,\n",
       " 'debit': 3,\n",
       " 'counseling': 6,\n",
       " 'telling': 8,\n",
       " 'apply': 6,\n",
       " 'payment': 9,\n",
       " 'late': 11,\n",
       " 'double': 3,\n",
       " '$': 33,\n",
       " '40': 4,\n",
       " 'suggested': 6,\n",
       " 'services': 13,\n",
       " 'department': 9,\n",
       " 'representative': 4,\n",
       " 'error': 5,\n",
       " 'adjusted': 3,\n",
       " 'showing': 4,\n",
       " 'total': 12,\n",
       " 'voice': 3,\n",
       " 'mail': 8,\n",
       " 'messages': 8,\n",
       " 'e': 10,\n",
       " 'span': 3,\n",
       " '20': 3,\n",
       " 'minutes': 17,\n",
       " 'default': 6,\n",
       " 'woman': 4,\n",
       " 'rude': 7,\n",
       " 'showed': 6,\n",
       " 'record': 7,\n",
       " 'earlier': 15,\n",
       " 'problem': 18,\n",
       " 'agent': 13,\n",
       " 'man': 7,\n",
       " 'show': 5,\n",
       " 'system': 8,\n",
       " 'adjust': 3,\n",
       " '25': 7,\n",
       " 'experienced': 11,\n",
       " 'incompetence': 3,\n",
       " 'instructed': 5,\n",
       " 'capable': 3,\n",
       " 'actually': 4,\n",
       " 'performing': 3,\n",
       " 'veteran': 9,\n",
       " 'miserable': 3,\n",
       " 'screwed': 3,\n",
       " 'imaginable': 5,\n",
       " 'accepted': 4,\n",
       " 'responsibility': 3,\n",
       " 'errors': 7,\n",
       " 'wouldnt': 4,\n",
       " 'doghouse': 3,\n",
       " 'purchasing': 8,\n",
       " 'committed': 10,\n",
       " 'communicated': 8,\n",
       " 'questioned': 10,\n",
       " 'items': 10,\n",
       " 'problems': 16,\n",
       " 'settling': 5,\n",
       " 'lock': 17,\n",
       " 'expired': 11,\n",
       " 'idea': 5,\n",
       " 'unless': 6,\n",
       " 'contacted': 26,\n",
       " 'steve': 25,\n",
       " 'poor': 32,\n",
       " 'mr': 28,\n",
       " 'kang': 3,\n",
       " 'appraise': 5,\n",
       " '30k': 5,\n",
       " 'appraising': 3,\n",
       " 'causing': 9,\n",
       " '%': 20,\n",
       " 'disorganized': 6,\n",
       " 'twice': 9,\n",
       " 'pictures': 5,\n",
       " 'forgot': 5,\n",
       " 'notifications': 5,\n",
       " 'actual': 8,\n",
       " 'settlement': 5,\n",
       " 'sweet': 6,\n",
       " 'competent': 5,\n",
       " 'notary': 10,\n",
       " 'goodness': 5,\n",
       " 'already': 14,\n",
       " 'refinancing': 31,\n",
       " 'steer': 6,\n",
       " 'nick': 6,\n",
       " 'ok': 9,\n",
       " 'fro': 3,\n",
       " '5': 27,\n",
       " 'must': 5,\n",
       " 'understood': 12,\n",
       " 'heard': 11,\n",
       " '?': 31,\n",
       " 'response': 28,\n",
       " 'supervisor': 5,\n",
       " 'mailed': 7,\n",
       " 'busness': 3,\n",
       " 'rep': 19,\n",
       " 'donna': 18,\n",
       " 'respond': 24,\n",
       " 'clearly': 5,\n",
       " 'explained': 17,\n",
       " 'unfold': 3,\n",
       " 'sounded': 3,\n",
       " 'count': 3,\n",
       " 'single': 7,\n",
       " 'promise': 12,\n",
       " '15': 5,\n",
       " 'assurance': 6,\n",
       " 'something': 9,\n",
       " 'completed': 18,\n",
       " 'wished': 3,\n",
       " 'violated': 3,\n",
       " 'example': 3,\n",
       " 'traveling': 3,\n",
       " 'country': 4,\n",
       " '11': 6,\n",
       " 'departure': 3,\n",
       " 'happen': 10,\n",
       " 'documentation': 20,\n",
       " 'hours': 15,\n",
       " 'depending': 3,\n",
       " 'occasion': 3,\n",
       " 'assure': 4,\n",
       " 'asked': 28,\n",
       " 'repeats': 3,\n",
       " '.\"': 10,\n",
       " 'tell': 8,\n",
       " 'patterns': 3,\n",
       " 'recured': 3,\n",
       " 'customers': 22,\n",
       " 'incompetent': 3,\n",
       " 'complained': 6,\n",
       " 'requests': 9,\n",
       " 'complaints': 4,\n",
       " 'justified': 3,\n",
       " 'sorry': 5,\n",
       " 'unable': 5,\n",
       " 'unwilling': 3,\n",
       " 'broken': 3,\n",
       " 'promises': 8,\n",
       " 'finally': 12,\n",
       " 'initial': 16,\n",
       " 'imagine': 4,\n",
       " 'long': 11,\n",
       " 'responded': 13,\n",
       " 'pushed': 4,\n",
       " 'treats': 3,\n",
       " 'disrespect': 3,\n",
       " 'someone': 24,\n",
       " 'owned': 4,\n",
       " 'life': 9,\n",
       " 'mortgages': 9,\n",
       " 'honestly': 15,\n",
       " 'owe': 3,\n",
       " 'respectful': 5,\n",
       " 'star': 8,\n",
       " 'number': 7,\n",
       " 'registering': 3,\n",
       " 'site': 4,\n",
       " 'unprofessional': 7,\n",
       " 'disturbing': 3,\n",
       " 'write': 3,\n",
       " 'reviews': 9,\n",
       " 'prevent': 3,\n",
       " 'north': 12,\n",
       " 'american': 9,\n",
       " 'savings': 9,\n",
       " 'lenders': 28,\n",
       " 'standard': 4,\n",
       " 'minimal': 5,\n",
       " 'w': 3,\n",
       " 'bob': 12,\n",
       " 'g': 5,\n",
       " 'ran': 4,\n",
       " 'check': 23,\n",
       " 'knowledge': 17,\n",
       " 'consent': 3,\n",
       " 'agreed': 7,\n",
       " '9': 9,\n",
       " 'paperwork': 11,\n",
       " 'household': 4,\n",
       " 'goods': 4,\n",
       " 'unpacked': 3,\n",
       " 'power': 3,\n",
       " 'attorney': 9,\n",
       " 'fly': 3,\n",
       " 'id': 6,\n",
       " 'docs': 10,\n",
       " 'fedex': 3,\n",
       " 'accept': 6,\n",
       " 'driving': 3,\n",
       " 'nc': 4,\n",
       " 'coordinate': 3,\n",
       " 'sale': 10,\n",
       " 'houses': 6,\n",
       " 'read': 190,\n",
       " 'horrible': 7,\n",
       " 'plenty': 5,\n",
       " 'etc': 10,\n",
       " 'disappeared': 3,\n",
       " 'failed': 10,\n",
       " 'give': 29,\n",
       " 'firm': 5,\n",
       " 'thankfully': 4,\n",
       " 'sensed': 3,\n",
       " 'local': 19,\n",
       " 'terms': 11,\n",
       " 'low': 8,\n",
       " 'fact': 17,\n",
       " 'round': 6,\n",
       " 'thought': 14,\n",
       " 'select': 6,\n",
       " 'talked': 12,\n",
       " 'directly': 4,\n",
       " 'saying': 13,\n",
       " 'contract': 11,\n",
       " 'signed': 4,\n",
       " 'tomorrow': 3,\n",
       " 'exact': 3,\n",
       " 'parameters': 3,\n",
       " 'replied': 3,\n",
       " 'selected': 4,\n",
       " 'locked': 6,\n",
       " 'following': 4,\n",
       " 'continued': 5,\n",
       " 'receive': 16,\n",
       " 'emails': 30,\n",
       " 'proceed': 3,\n",
       " 'let': 13,\n",
       " '\".': 10,\n",
       " 'january': 3,\n",
       " '8th': 3,\n",
       " 'february': 3,\n",
       " '5th': 3,\n",
       " 'guess': 3,\n",
       " 'missed': 6,\n",
       " 'boat': 3,\n",
       " 'fall': 4,\n",
       " 'deaf': 3,\n",
       " 'ears': 3,\n",
       " 'rates': 17,\n",
       " 'though': 6,\n",
       " 'pretty': 8,\n",
       " 'near': 3,\n",
       " 'bunch': 4,\n",
       " 'consultant': 8,\n",
       " '875': 3,\n",
       " 'fixed': 4,\n",
       " '2300': 5,\n",
       " '2929': 3,\n",
       " '600': 5,\n",
       " 'mentioned': 7,\n",
       " 'exp': 1,\n",
       " '100': 9,\n",
       " 'considerate': 1,\n",
       " 'goals': 4,\n",
       " 'helping': 15,\n",
       " 'achieve': 5,\n",
       " 'connect': 1,\n",
       " 'mary': 2,\n",
       " 'connolly': 1,\n",
       " 'upper': 1,\n",
       " 'management': 1,\n",
       " 'nothing': 16,\n",
       " 'lady': 1,\n",
       " 'uncomfortable': 1,\n",
       " 'nervous': 3,\n",
       " 'available': 29,\n",
       " 'answer': 26,\n",
       " 'reliance': 20,\n",
       " 'impossible': 3,\n",
       " 'lately': 1,\n",
       " 'improving': 1,\n",
       " 'scores': 2,\n",
       " 'reassurance': 2,\n",
       " 'skeptical': 3,\n",
       " 'devastated': 1,\n",
       " 'felt': 28,\n",
       " 'waste': 5,\n",
       " 'approved': 10,\n",
       " 'need': 15,\n",
       " 'arose': 4,\n",
       " 'dad': 1,\n",
       " 'declining': 1,\n",
       " 'health': 1,\n",
       " 'demanded': 1,\n",
       " 'room': 1,\n",
       " 'keep': 8,\n",
       " 'expect': 8,\n",
       " 'soon': 4,\n",
       " 'reassured': 3,\n",
       " 'delighted': 1,\n",
       " 'pat': 1,\n",
       " 'informed': 13,\n",
       " 'eligible': 1,\n",
       " 'walk': 6,\n",
       " 'personally': 8,\n",
       " 'superlatives': 1,\n",
       " 'sufficient': 3,\n",
       " 'assumed': 3,\n",
       " 'successfully': 2,\n",
       " 'navigated': 1,\n",
       " 'conclusion': 1,\n",
       " 'proved': 1,\n",
       " 'polite': 4,\n",
       " 'consistently': 3,\n",
       " 'remember': 1,\n",
       " 'dealt': 6,\n",
       " 'returned': 6,\n",
       " 'happily': 1,\n",
       " 'enthusiastically': 1,\n",
       " 'others': 3,\n",
       " 'assistance': 3,\n",
       " 'genna': 1,\n",
       " 'englert': 1,\n",
       " 'fast': 22,\n",
       " 'ritu': 2,\n",
       " 'energetic': 1,\n",
       " ...}"
      ]
     },
     "execution_count": 114,
     "metadata": {},
     "output_type": "execute_result"
    }
   ],
   "source": [
    "frequency_words_wo_stop"
   ]
  },
  {
   "cell_type": "code",
   "execution_count": 115,
   "metadata": {},
   "outputs": [],
   "source": [
    "def train_model(classifier, feature_vector_train, label, feature_vector_valid,  valid_y, is_neural_net=False):\n",
    "    # fit the training dataset on the classifier\n",
    "    classifier.fit(feature_vector_train, label)\n",
    "    \n",
    "    # predict the labels on validation dataset\n",
    "    predictions = classifier.predict(feature_vector_valid)\n",
    "    \n",
    "    if is_neural_net:\n",
    "        predictions = predictions.argmax(axis=-1)\n",
    "    \n",
    "    return metrics.accuracy_score(predictions, valid_y)"
   ]
  },
  {
   "cell_type": "code",
   "execution_count": 117,
   "metadata": {},
   "outputs": [
    {
     "name": "stdout",
     "output_type": "stream",
     "text": [
      "NB , Count Vectors:  0.8026315789473685\n"
     ]
    }
   ],
   "source": [
    "# Naive Bayes on Count Vectors and TF-IDF\n",
    "accuracy = train_model(naive_bayes.MultinomialNB(), x_train_tfidf, y_train, x_test_tfidf, y_test)\n",
    "print(\"NB , Count Vectors: \", accuracy)\n",
    "\n"
   ]
  },
  {
   "cell_type": "code",
   "execution_count": 118,
   "metadata": {},
   "outputs": [
    {
     "name": "stdout",
     "output_type": "stream",
     "text": [
      "LR , Count Vectors:  0.7960526315789473\n"
     ]
    }
   ],
   "source": [
    "# Logistic regression on Count Vectors and TF-IDF\n",
    "accuracy_lg = train_model(LogisticRegression(), x_train_tfidf, y_train, x_test_tfidf, y_test)\n",
    "print(\"LR , Count Vectors: \", accuracy_lg)"
   ]
  },
  {
   "cell_type": "code",
   "execution_count": 119,
   "metadata": {},
   "outputs": [
    {
     "name": "stdout",
     "output_type": "stream",
     "text": [
      "LR , Count Vectors:  0.9539473684210527\n"
     ]
    }
   ],
   "source": [
    "# LinearSVC on Count Vectors and TF-IDF\n",
    "accuracy_svc = train_model(svm.LinearSVC(), x_train_tfidf, y_train, x_test_tfidf, y_test)\n",
    "print(\"LR , Count Vectors: \", accuracy_svc)\n",
    "\n"
   ]
  },
  {
   "cell_type": "code",
   "execution_count": 120,
   "metadata": {},
   "outputs": [],
   "source": [
    "# use CountVectorizer to create document-term matrices from X_train and X_test\n",
    "vect = CountVectorizer()"
   ]
  },
  {
   "cell_type": "code",
   "execution_count": 121,
   "metadata": {},
   "outputs": [],
   "source": [
    "x_train_dtm = vect.fit_transform(x_train)\n",
    "x_test_dtm = vect.transform(x_test)"
   ]
  },
  {
   "cell_type": "code",
   "execution_count": 122,
   "metadata": {},
   "outputs": [
    {
     "name": "stdout",
     "output_type": "stream",
     "text": [
      "(152, 2235)\n",
      "(353, 2235)\n"
     ]
    }
   ],
   "source": [
    "print(x_test_dtm.shape)\n",
    "print(x_train_dtm.shape)"
   ]
  },
  {
   "cell_type": "code",
   "execution_count": 124,
   "metadata": {},
   "outputs": [
    {
     "data": {
      "text/plain": [
       "CountVectorizer(analyzer='word', binary=False, decode_error='strict',\n",
       "        dtype=<class 'numpy.int64'>, encoding='utf-8', input='content',\n",
       "        lowercase=True, max_df=1.0, max_features=None, min_df=1,\n",
       "        ngram_range=(1, 1), preprocessor=None, stop_words=None,\n",
       "        strip_accents=None, token_pattern='(?u)\\\\b\\\\w\\\\w+\\\\b',\n",
       "        tokenizer=None, vocabulary=None)"
      ]
     },
     "execution_count": 124,
     "metadata": {},
     "output_type": "execute_result"
    }
   ],
   "source": [
    "# show vectorizer options\n",
    "vect"
   ]
  },
  {
   "cell_type": "code",
   "execution_count": 125,
   "metadata": {},
   "outputs": [
    {
     "name": "stdout",
     "output_type": "stream",
     "text": [
      "['wouldn', 'wouldnt', 'wow', 'write', 'writing', 'written', 'wrong', 'ws', 'wyndham', 'wyndum', 'year', 'years', 'yelp', 'yep', 'yes', 'yet', 'you', 'zach', 'zelada', 'zero']\n"
     ]
    }
   ],
   "source": [
    "# last 20 features\n",
    "print(vect.get_feature_names()[-20:])"
   ]
  },
  {
   "cell_type": "code",
   "execution_count": 126,
   "metadata": {},
   "outputs": [
    {
     "data": {
      "text/plain": [
       "(353, 2235)"
      ]
     },
     "execution_count": 126,
     "metadata": {},
     "output_type": "execute_result"
    }
   ],
   "source": [
    "# don't convert to lowercase\n",
    "vect = CountVectorizer(lowercase=False)\n",
    "x_train_dtm = vect.fit_transform(x_train)\n",
    "x_train_dtm.shape"
   ]
  },
  {
   "cell_type": "code",
   "execution_count": 127,
   "metadata": {},
   "outputs": [
    {
     "name": "stdout",
     "output_type": "stream",
     "text": [
      "[[1.         0.82384531 0.28730789 0.20464882]\n",
      " [0.82384531 1.         0.16511247 0.1679379 ]\n",
      " [0.28730789 0.16511247 1.         0.89268279]\n",
      " [0.20464882 0.1679379  0.89268279 1.        ]]\n"
     ]
    }
   ],
   "source": [
    "#Calculate tf-idf:\n",
    "from sklearn.feature_extraction.text import TfidfVectorizer\n",
    "vect = TfidfVectorizer(min_df=1)\n",
    "tfidf = vect.fit_transform([\"New Year's Eve in New York\",\n",
    "                            \"New Year's Eve in London\",\n",
    "                            \"York is closer to London than to New York\",\n",
    "                            \"London is closer to Bucharest than to New York\"])\n",
    "\n",
    "#Calculate cosine similarity:\n",
    "cosine=(tfidf * tfidf.T).A\n",
    "print(cosine)"
   ]
  },
  {
   "cell_type": "code",
   "execution_count": 130,
   "metadata": {},
   "outputs": [],
   "source": [
    "from sklearn.naive_bayes import MultinomialNB"
   ]
  },
  {
   "cell_type": "code",
   "execution_count": 131,
   "metadata": {},
   "outputs": [
    {
     "name": "stdout",
     "output_type": "stream",
     "text": [
      "0.9736842105263158\n"
     ]
    }
   ],
   "source": [
    "#### Predicting the Star rating\n",
    "# use Naive Bayes to predict the star rating\n",
    "nb = MultinomialNB()\n",
    "nb.fit(x_train_dtm, y_train)\n",
    "y_pred_class = nb.predict(x_test_dtm)\n",
    "\n",
    "# calculate accuracy\n",
    "print(metrics.accuracy_score(y_test, y_pred_class))"
   ]
  },
  {
   "cell_type": "code",
   "execution_count": 132,
   "metadata": {},
   "outputs": [],
   "source": [
    "# define a function that accepts a vectorizer and calculates the accuracy\n",
    "def tokenize_test(vect):\n",
    "    x_train_dtm = vect.fit_transform(x_train)\n",
    "    print('Features: ', x_train_dtm.shape[1])\n",
    "    x_test_dtm = vect.transform(x_test)\n",
    "    nb = MultinomialNB()\n",
    "    nb.fit(x_train_dtm, y_train)\n",
    "    y_pred_class = nb.predict(x_test_dtm)\n",
    "    print('Accuracy: ', metrics.accuracy_score(y_test, y_pred_class))"
   ]
  },
  {
   "cell_type": "code",
   "execution_count": 133,
   "metadata": {},
   "outputs": [],
   "source": [
    "# Sentiment"
   ]
  },
  {
   "cell_type": "code",
   "execution_count": 135,
   "metadata": {},
   "outputs": [],
   "source": [
    "review = data['Reviews'][0]"
   ]
  },
  {
   "cell_type": "code",
   "execution_count": 137,
   "metadata": {},
   "outputs": [],
   "source": [
    "# define a function that accepts text and returns the polarity\n",
    "def detect_sentiment(text):\n",
    "    return TextBlob(text.decode('utf-8')).sentiment.polarity"
   ]
  },
  {
   "cell_type": "code",
   "execution_count": 138,
   "metadata": {},
   "outputs": [
    {
     "data": {
      "text/html": [
       "<div>\n",
       "<style scoped>\n",
       "    .dataframe tbody tr th:only-of-type {\n",
       "        vertical-align: middle;\n",
       "    }\n",
       "\n",
       "    .dataframe tbody tr th {\n",
       "        vertical-align: top;\n",
       "    }\n",
       "\n",
       "    .dataframe thead th {\n",
       "        text-align: right;\n",
       "    }\n",
       "</style>\n",
       "<table border=\"1\" class=\"dataframe\">\n",
       "  <thead>\n",
       "    <tr style=\"text-align: right;\">\n",
       "      <th></th>\n",
       "      <th>Date</th>\n",
       "      <th>Stars</th>\n",
       "      <th>Reviews</th>\n",
       "      <th>BankName</th>\n",
       "      <th>sentiment</th>\n",
       "    </tr>\n",
       "  </thead>\n",
       "  <tbody>\n",
       "    <tr>\n",
       "      <th>0</th>\n",
       "      <td>2017-04-10</td>\n",
       "      <td>5</td>\n",
       "      <td>Great job, Wyndham Capital! Each person was pr...</td>\n",
       "      <td>Wyndham Capital Mortgage</td>\n",
       "      <td>0.533333</td>\n",
       "    </tr>\n",
       "    <tr>\n",
       "      <th>1</th>\n",
       "      <td>2017-02-10</td>\n",
       "      <td>5</td>\n",
       "      <td>Matthew Richardson is professional and helpful...</td>\n",
       "      <td>Wyndham Capital Mortgage</td>\n",
       "      <td>0.453333</td>\n",
       "    </tr>\n",
       "    <tr>\n",
       "      <th>2</th>\n",
       "      <td>2017-08-21</td>\n",
       "      <td>5</td>\n",
       "      <td>We had a past experience with Wyndham Mortgage...</td>\n",
       "      <td>Wyndham Capital Mortgage</td>\n",
       "      <td>-0.033231</td>\n",
       "    </tr>\n",
       "    <tr>\n",
       "      <th>3</th>\n",
       "      <td>2017-12-17</td>\n",
       "      <td>5</td>\n",
       "      <td>We have been dealing with Brad Thomka from the...</td>\n",
       "      <td>Wyndham Capital Mortgage</td>\n",
       "      <td>0.093740</td>\n",
       "    </tr>\n",
       "    <tr>\n",
       "      <th>4</th>\n",
       "      <td>2016-05-27</td>\n",
       "      <td>5</td>\n",
       "      <td>I can't express how grateful I am for the supp...</td>\n",
       "      <td>Wyndham Capital Mortgage</td>\n",
       "      <td>0.125000</td>\n",
       "    </tr>\n",
       "  </tbody>\n",
       "</table>\n",
       "</div>"
      ],
      "text/plain": [
       "        Date  Stars                                            Reviews  \\\n",
       "0 2017-04-10      5  Great job, Wyndham Capital! Each person was pr...   \n",
       "1 2017-02-10      5  Matthew Richardson is professional and helpful...   \n",
       "2 2017-08-21      5  We had a past experience with Wyndham Mortgage...   \n",
       "3 2017-12-17      5  We have been dealing with Brad Thomka from the...   \n",
       "4 2016-05-27      5  I can't express how grateful I am for the supp...   \n",
       "\n",
       "                   BankName  sentiment  \n",
       "0  Wyndham Capital Mortgage   0.533333  \n",
       "1  Wyndham Capital Mortgage   0.453333  \n",
       "2  Wyndham Capital Mortgage  -0.033231  \n",
       "3  Wyndham Capital Mortgage   0.093740  \n",
       "4  Wyndham Capital Mortgage   0.125000  "
      ]
     },
     "execution_count": 138,
     "metadata": {},
     "output_type": "execute_result"
    }
   ],
   "source": [
    "data.head()"
   ]
  },
  {
   "cell_type": "code",
   "execution_count": null,
   "metadata": {},
   "outputs": [],
   "source": []
  },
  {
   "cell_type": "code",
   "execution_count": null,
   "metadata": {},
   "outputs": [],
   "source": []
  },
  {
   "cell_type": "markdown",
   "metadata": {},
   "source": [
    "### Old code starts"
   ]
  },
  {
   "cell_type": "code",
   "execution_count": 9,
   "metadata": {},
   "outputs": [
    {
     "name": "stdout",
     "output_type": "stream",
     "text": [
      "<class 'pandas.core.frame.DataFrame'>\n",
      "RangeIndex: 505 entries, 0 to 504\n",
      "Data columns (total 4 columns):\n",
      "Date        505 non-null datetime64[ns]\n",
      "Stars       505 non-null int64\n",
      "Reviews     505 non-null object\n",
      "BankName    505 non-null object\n",
      "dtypes: datetime64[ns](1), int64(1), object(2)\n",
      "memory usage: 15.9+ KB\n",
      "None\n",
      "- - - - - - - - - - - - - - - - - - - - - - - - - - - - - - - - - - - - - - - - - - - - - - - - - - \n",
      "No. of missing values:  0\n"
     ]
    }
   ],
   "source": [
    "print(data.info())\n",
    "print('- '*50)\n",
    "print('No. of missing values: ',data.isnull().any().sum())"
   ]
  },
  {
   "cell_type": "markdown",
   "metadata": {},
   "source": [
    "#### From above information we observe that,\n",
    "- There are no null values\n",
    "- All variables are in appropriate data types"
   ]
  },
  {
   "cell_type": "markdown",
   "metadata": {},
   "source": [
    "#### Lowercase conversion\n",
    "- Convert the reviews text into lowercase"
   ]
  },
  {
   "cell_type": "code",
   "execution_count": 10,
   "metadata": {},
   "outputs": [],
   "source": [
    "data['Reviews'] = data['Reviews'].apply(lambda x : x.lower())"
   ]
  },
  {
   "cell_type": "code",
   "execution_count": 11,
   "metadata": {},
   "outputs": [
    {
     "data": {
      "text/html": [
       "<div>\n",
       "<style scoped>\n",
       "    .dataframe tbody tr th:only-of-type {\n",
       "        vertical-align: middle;\n",
       "    }\n",
       "\n",
       "    .dataframe tbody tr th {\n",
       "        vertical-align: top;\n",
       "    }\n",
       "\n",
       "    .dataframe thead th {\n",
       "        text-align: right;\n",
       "    }\n",
       "</style>\n",
       "<table border=\"1\" class=\"dataframe\">\n",
       "  <thead>\n",
       "    <tr style=\"text-align: right;\">\n",
       "      <th></th>\n",
       "      <th>Date</th>\n",
       "      <th>Stars</th>\n",
       "      <th>Reviews</th>\n",
       "      <th>BankName</th>\n",
       "    </tr>\n",
       "  </thead>\n",
       "  <tbody>\n",
       "    <tr>\n",
       "      <th>0</th>\n",
       "      <td>2017-04-10</td>\n",
       "      <td>5</td>\n",
       "      <td>great job, wyndham capital! each person was pr...</td>\n",
       "      <td>Wyndham Capital Mortgage</td>\n",
       "    </tr>\n",
       "    <tr>\n",
       "      <th>1</th>\n",
       "      <td>2017-02-10</td>\n",
       "      <td>5</td>\n",
       "      <td>matthew richardson is professional and helpful...</td>\n",
       "      <td>Wyndham Capital Mortgage</td>\n",
       "    </tr>\n",
       "  </tbody>\n",
       "</table>\n",
       "</div>"
      ],
      "text/plain": [
       "        Date  Stars                                            Reviews  \\\n",
       "0 2017-04-10      5  great job, wyndham capital! each person was pr...   \n",
       "1 2017-02-10      5  matthew richardson is professional and helpful...   \n",
       "\n",
       "                   BankName  \n",
       "0  Wyndham Capital Mortgage  \n",
       "1  Wyndham Capital Mortgage  "
      ]
     },
     "execution_count": 11,
     "metadata": {},
     "output_type": "execute_result"
    }
   ],
   "source": [
    "data.head(2)"
   ]
  },
  {
   "cell_type": "markdown",
   "metadata": {},
   "source": [
    "#### Tokenization\n",
    "- Tokenization is the process of breaking down a text paragraph into smaller chunks such as words or sentence. Token is a single entity that is building blocks for sentence or paragraph."
   ]
  },
  {
   "cell_type": "code",
   "execution_count": 12,
   "metadata": {},
   "outputs": [],
   "source": [
    "# Word tokenization\n",
    "from nltk.tokenize import word_tokenize\n",
    "data['token_review'] = data['Reviews'].apply(lambda x : word_tokenize(x))"
   ]
  },
  {
   "cell_type": "markdown",
   "metadata": {},
   "source": [
    "#### Remove punctuation"
   ]
  },
  {
   "cell_type": "code",
   "execution_count": 13,
   "metadata": {},
   "outputs": [
    {
     "data": {
      "text/plain": [
       "'!\"#$%&\\'()*+,-./:;<=>?@[\\\\]^_`{|}~'"
      ]
     },
     "execution_count": 13,
     "metadata": {},
     "output_type": "execute_result"
    }
   ],
   "source": [
    "import string\n",
    "string.punctuation"
   ]
  },
  {
   "cell_type": "code",
   "execution_count": 14,
   "metadata": {},
   "outputs": [],
   "source": [
    "for i in range(505):\n",
    "    for word in data['token_review'][i]:\n",
    "        if word in string.punctuation:\n",
    "            data['token_review'][i].remove(word)\n",
    "    "
   ]
  },
  {
   "cell_type": "code",
   "execution_count": 15,
   "metadata": {},
   "outputs": [
    {
     "data": {
      "text/html": [
       "<div>\n",
       "<style scoped>\n",
       "    .dataframe tbody tr th:only-of-type {\n",
       "        vertical-align: middle;\n",
       "    }\n",
       "\n",
       "    .dataframe tbody tr th {\n",
       "        vertical-align: top;\n",
       "    }\n",
       "\n",
       "    .dataframe thead th {\n",
       "        text-align: right;\n",
       "    }\n",
       "</style>\n",
       "<table border=\"1\" class=\"dataframe\">\n",
       "  <thead>\n",
       "    <tr style=\"text-align: right;\">\n",
       "      <th></th>\n",
       "      <th>Date</th>\n",
       "      <th>Stars</th>\n",
       "      <th>Reviews</th>\n",
       "      <th>BankName</th>\n",
       "      <th>token_review</th>\n",
       "    </tr>\n",
       "  </thead>\n",
       "  <tbody>\n",
       "    <tr>\n",
       "      <th>0</th>\n",
       "      <td>2017-04-10</td>\n",
       "      <td>5</td>\n",
       "      <td>great job, wyndham capital! each person was pr...</td>\n",
       "      <td>Wyndham Capital Mortgage</td>\n",
       "      <td>[great, job, wyndham, capital, each, person, w...</td>\n",
       "    </tr>\n",
       "    <tr>\n",
       "      <th>1</th>\n",
       "      <td>2017-02-10</td>\n",
       "      <td>5</td>\n",
       "      <td>matthew richardson is professional and helpful...</td>\n",
       "      <td>Wyndham Capital Mortgage</td>\n",
       "      <td>[matthew, richardson, is, professional, and, h...</td>\n",
       "    </tr>\n",
       "  </tbody>\n",
       "</table>\n",
       "</div>"
      ],
      "text/plain": [
       "        Date  Stars                                            Reviews  \\\n",
       "0 2017-04-10      5  great job, wyndham capital! each person was pr...   \n",
       "1 2017-02-10      5  matthew richardson is professional and helpful...   \n",
       "\n",
       "                   BankName                                       token_review  \n",
       "0  Wyndham Capital Mortgage  [great, job, wyndham, capital, each, person, w...  \n",
       "1  Wyndham Capital Mortgage  [matthew, richardson, is, professional, and, h...  "
      ]
     },
     "execution_count": 15,
     "metadata": {},
     "output_type": "execute_result"
    }
   ],
   "source": [
    "data.head(2)"
   ]
  },
  {
   "cell_type": "markdown",
   "metadata": {},
   "source": [
    "#### Remove stopwords"
   ]
  },
  {
   "cell_type": "code",
   "execution_count": 16,
   "metadata": {},
   "outputs": [],
   "source": [
    "from nltk.corpus import stopwords\n",
    "stop_words = set(stopwords.words('english'))"
   ]
  },
  {
   "cell_type": "code",
   "execution_count": 17,
   "metadata": {},
   "outputs": [
    {
     "name": "stdout",
     "output_type": "stream",
     "text": [
      "{'did', 'a', 'because', 'by', 'd', \"you've\", 'more', 'down', 'needn', 'didn', 'wasn', 'these', 'we', 'hers', 'all', 'when', 'same', \"you're\", 'its', 'off', 'hadn', 'had', 'my', \"hadn't\", \"isn't\", 'having', 'yourselves', 'wouldn', 'over', 'why', 'himself', \"mustn't\", 'yourself', \"that'll\", 'who', 'below', 'again', \"wouldn't\", 'have', 'while', 'his', 'herself', 'which', 'into', 'nor', 'm', \"weren't\", 'so', \"don't\", 'most', 'our', 't', \"should've\", 'mightn', 're', 'each', 'mustn', 'yours', 'how', 'are', 'further', 'couldn', 'will', 'up', 'through', 'itself', \"needn't\", 'shan', 'o', 'very', 'shouldn', \"you'd\", 'should', 'haven', 'being', 'whom', 'those', 'aren', 'than', \"aren't\", 'hasn', 'him', 'in', 'll', 'no', 'during', 'you', 's', \"shan't\", 'at', \"hasn't\", 'own', 'and', 'of', 'y', 'any', 'few', \"mightn't\", \"it's\", 'if', 'that', 'then', 'myself', 'for', 'be', 'here', 'some', 'out', 'too', 'with', \"haven't\", \"shouldn't\", 'the', 'themselves', 'but', 'was', 'am', 'can', 'until', 'her', 'what', \"won't\", \"couldn't\", 'them', 'won', 'doing', 'does', 'their', 'theirs', 'or', 'where', 'weren', 'she', \"she's\", 'such', 'not', 'only', 'were', 'other', 'been', 'it', 'both', 'this', 'isn', 've', 'before', 'he', 'an', 'against', 'doesn', 'on', 'ain', 'ours', 'i', 'about', 'don', 'there', \"doesn't\", 'to', 'your', \"didn't\", 'has', 'they', \"you'll\", 'ma', 'me', 'is', 'just', 'once', 'above', 'ourselves', 'now', 'between', 'from', 'under', \"wasn't\", 'after', 'do', 'as'}\n"
     ]
    }
   ],
   "source": [
    "print(stop_words)"
   ]
  },
  {
   "cell_type": "code",
   "execution_count": 18,
   "metadata": {},
   "outputs": [],
   "source": [
    "for i in range(505):\n",
    "    for word in data['token_review'][i]:\n",
    "        if word in stop_words:\n",
    "            data['token_review'][i].remove(word)"
   ]
  },
  {
   "cell_type": "code",
   "execution_count": 19,
   "metadata": {},
   "outputs": [
    {
     "data": {
      "text/html": [
       "<div>\n",
       "<style scoped>\n",
       "    .dataframe tbody tr th:only-of-type {\n",
       "        vertical-align: middle;\n",
       "    }\n",
       "\n",
       "    .dataframe tbody tr th {\n",
       "        vertical-align: top;\n",
       "    }\n",
       "\n",
       "    .dataframe thead th {\n",
       "        text-align: right;\n",
       "    }\n",
       "</style>\n",
       "<table border=\"1\" class=\"dataframe\">\n",
       "  <thead>\n",
       "    <tr style=\"text-align: right;\">\n",
       "      <th></th>\n",
       "      <th>Date</th>\n",
       "      <th>Stars</th>\n",
       "      <th>Reviews</th>\n",
       "      <th>BankName</th>\n",
       "      <th>token_review</th>\n",
       "    </tr>\n",
       "  </thead>\n",
       "  <tbody>\n",
       "    <tr>\n",
       "      <th>0</th>\n",
       "      <td>2017-04-10</td>\n",
       "      <td>5</td>\n",
       "      <td>great job, wyndham capital! each person was pr...</td>\n",
       "      <td>Wyndham Capital Mortgage</td>\n",
       "      <td>[great, job, wyndham, capital, person, profess...</td>\n",
       "    </tr>\n",
       "    <tr>\n",
       "      <th>1</th>\n",
       "      <td>2017-02-10</td>\n",
       "      <td>5</td>\n",
       "      <td>matthew richardson is professional and helpful...</td>\n",
       "      <td>Wyndham Capital Mortgage</td>\n",
       "      <td>[matthew, richardson, professional, helpful, h...</td>\n",
       "    </tr>\n",
       "    <tr>\n",
       "      <th>2</th>\n",
       "      <td>2017-08-21</td>\n",
       "      <td>5</td>\n",
       "      <td>we had a past experience with wyndham mortgage...</td>\n",
       "      <td>Wyndham Capital Mortgage</td>\n",
       "      <td>[had, past, experience, wyndham, mortgage, wou...</td>\n",
       "    </tr>\n",
       "    <tr>\n",
       "      <th>3</th>\n",
       "      <td>2017-12-17</td>\n",
       "      <td>5</td>\n",
       "      <td>we have been dealing with brad thomka from the...</td>\n",
       "      <td>Wyndham Capital Mortgage</td>\n",
       "      <td>[have, dealing, brad, thomka, beginning, what,...</td>\n",
       "    </tr>\n",
       "    <tr>\n",
       "      <th>4</th>\n",
       "      <td>2016-05-27</td>\n",
       "      <td>5</td>\n",
       "      <td>i can't express how grateful i am for the supp...</td>\n",
       "      <td>Wyndham Capital Mortgage</td>\n",
       "      <td>[ca, n't, express, grateful, am, support, zach...</td>\n",
       "    </tr>\n",
       "  </tbody>\n",
       "</table>\n",
       "</div>"
      ],
      "text/plain": [
       "        Date  Stars                                            Reviews  \\\n",
       "0 2017-04-10      5  great job, wyndham capital! each person was pr...   \n",
       "1 2017-02-10      5  matthew richardson is professional and helpful...   \n",
       "2 2017-08-21      5  we had a past experience with wyndham mortgage...   \n",
       "3 2017-12-17      5  we have been dealing with brad thomka from the...   \n",
       "4 2016-05-27      5  i can't express how grateful i am for the supp...   \n",
       "\n",
       "                   BankName                                       token_review  \n",
       "0  Wyndham Capital Mortgage  [great, job, wyndham, capital, person, profess...  \n",
       "1  Wyndham Capital Mortgage  [matthew, richardson, professional, helpful, h...  \n",
       "2  Wyndham Capital Mortgage  [had, past, experience, wyndham, mortgage, wou...  \n",
       "3  Wyndham Capital Mortgage  [have, dealing, brad, thomka, beginning, what,...  \n",
       "4  Wyndham Capital Mortgage  [ca, n't, express, grateful, am, support, zach...  "
      ]
     },
     "execution_count": 19,
     "metadata": {},
     "output_type": "execute_result"
    }
   ],
   "source": [
    "data.head()"
   ]
  },
  {
   "cell_type": "code",
   "execution_count": null,
   "metadata": {},
   "outputs": [],
   "source": []
  },
  {
   "cell_type": "code",
   "execution_count": null,
   "metadata": {},
   "outputs": [],
   "source": []
  },
  {
   "cell_type": "code",
   "execution_count": null,
   "metadata": {},
   "outputs": [],
   "source": []
  },
  {
   "cell_type": "markdown",
   "metadata": {},
   "source": [
    "### Old code starts"
   ]
  },
  {
   "cell_type": "markdown",
   "metadata": {},
   "source": [
    "#### Sentiment Analysis"
   ]
  },
  {
   "cell_type": "code",
   "execution_count": 207,
   "metadata": {},
   "outputs": [
    {
     "data": {
      "text/plain": [
       "5    410\n",
       "1     95\n",
       "Name: Stars, dtype: int64"
      ]
     },
     "execution_count": 207,
     "metadata": {},
     "output_type": "execute_result"
    }
   ],
   "source": [
    "data['Stars'].value_counts()"
   ]
  },
  {
   "cell_type": "code",
   "execution_count": 208,
   "metadata": {},
   "outputs": [],
   "source": [
    "# Our data is predominantly positively rated"
   ]
  },
  {
   "cell_type": "code",
   "execution_count": 212,
   "metadata": {},
   "outputs": [
    {
     "data": {
      "image/png": "[encoded data removed]",
      "text/plain": [
       "<Figure size 432x288 with 1 Axes>"
      ]
     },
     "metadata": {
      "needs_background": "light"
     },
     "output_type": "display_data"
    }
   ],
   "source": [
    "stars_count = data.groupby('Stars').count()\n",
    "plt.bar(stars_count.index.values, stars_count['Reviews'])\n",
    "plt.xlabel('Star Rating')\n",
    "plt.ylabel('Number of Review')\n",
    "plt.show()"
   ]
  },
  {
   "cell_type": "code",
   "execution_count": 213,
   "metadata": {},
   "outputs": [],
   "source": [
    "# Feature generation using Bag of Words\n",
    "# We have a set of reviews and their Star ratings. \n",
    "# Bag of Words (BoW) converts text into matrix of occurence of words within a document, \n",
    "# Create a document term matrix using CountVectorizer"
   ]
  },
  {
   "cell_type": "code",
   "execution_count": 225,
   "metadata": {},
   "outputs": [],
   "source": [
    "from sklearn.feature_extraction.text import CountVectorizer\n",
    "from nltk.tokenize import RegexpTokenizer"
   ]
  },
  {
   "cell_type": "code",
   "execution_count": 226,
   "metadata": {},
   "outputs": [],
   "source": [
    "token = RegexpTokenizer(r'[a-zA-Z0-9]+')\n",
    "cv = CountVectorizer(lowercase=True,stop_words='english',ngram_range = (1,1),tokenizer = token.tokenize)\n",
    "text_counts= cv.fit_transform(data['Reviews'])"
   ]
  },
  {
   "cell_type": "code",
   "execution_count": 227,
   "metadata": {},
   "outputs": [],
   "source": [
    "# Split the data into train and test\n",
    "from sklearn.model_selection import train_test_split\n",
    "train_x,test_x,train_y,test_y = train_test_split(text_counts, data['Stars'], test_size=0.3, random_state = 1234)"
   ]
  },
  {
   "cell_type": "code",
   "execution_count": 236,
   "metadata": {},
   "outputs": [
    {
     "data": {
      "text/plain": [
       "(505, 2453)"
      ]
     },
     "execution_count": 236,
     "metadata": {},
     "output_type": "execute_result"
    }
   ],
   "source": [
    "text_counts.shape"
   ]
  },
  {
   "cell_type": "markdown",
   "metadata": {},
   "source": [
    "#### Model building and evaluation"
   ]
  },
  {
   "cell_type": "code",
   "execution_count": 237,
   "metadata": {},
   "outputs": [],
   "source": [
    "# Build a text classification model using TF-IDF\n",
    "from sklearn.naive_bayes import MultinomialNB\n",
    "from sklearn import metrics"
   ]
  },
  {
   "cell_type": "code",
   "execution_count": 238,
   "metadata": {},
   "outputs": [],
   "source": [
    "clf = MultinomialNB().fit(train_x, train_y)"
   ]
  },
  {
   "cell_type": "code",
   "execution_count": 239,
   "metadata": {},
   "outputs": [
    {
     "data": {
      "text/plain": [
       "sklearn.naive_bayes.MultinomialNB"
      ]
     },
     "execution_count": 239,
     "metadata": {},
     "output_type": "execute_result"
    }
   ],
   "source": [
    "type(clf)"
   ]
  },
  {
   "cell_type": "code",
   "execution_count": 240,
   "metadata": {},
   "outputs": [],
   "source": [
    "predicted = clf.predict(test_x)"
   ]
  },
  {
   "cell_type": "code",
   "execution_count": 241,
   "metadata": {},
   "outputs": [
    {
     "name": "stdout",
     "output_type": "stream",
     "text": [
      "MultinomialNB Accuracy: 0.9605263157894737\n"
     ]
    }
   ],
   "source": [
    "print(\"MultinomialNB Accuracy:\" , metrics.accuracy_score(test_y, predicted))"
   ]
  },
  {
   "cell_type": "code",
   "execution_count": null,
   "metadata": {},
   "outputs": [],
   "source": []
  },
  {
   "cell_type": "markdown",
   "metadata": {},
   "source": [
    "#### Predicting Star rating for a given review"
   ]
  },
  {
   "cell_type": "code",
   "execution_count": null,
   "metadata": {},
   "outputs": [],
   "source": []
  },
  {
   "cell_type": "markdown",
   "metadata": {},
   "source": [
    "#### Frequency Distribution"
   ]
  },
  {
   "cell_type": "code",
   "execution_count": 66,
   "metadata": {},
   "outputs": [],
   "source": [
    "from nltk.probability import FreqDist"
   ]
  },
  {
   "cell_type": "code",
   "execution_count": 114,
   "metadata": {},
   "outputs": [
    {
     "data": {
      "text/plain": [
       "str"
      ]
     },
     "execution_count": 114,
     "metadata": {},
     "output_type": "execute_result"
    }
   ],
   "source": [
    "all_review = ''\n",
    "for i in range(data.shape[0]):\n",
    "    all_review = all_review + data['Reviews'][i]\n",
    "type(all_review)"
   ]
  },
  {
   "cell_type": "code",
   "execution_count": 115,
   "metadata": {},
   "outputs": [
    {
     "name": "stdout",
     "output_type": "stream",
     "text": [
      "<FreqDist with 2818 samples and 43220 outcomes>\n"
     ]
    }
   ],
   "source": [
    "# Now tokenize all_review\n",
    "all_review_token = word_tokenize(all_review)\n",
    "fdist = FreqDist(all_review_token)\n",
    "print(fdist)"
   ]
  },
  {
   "cell_type": "code",
   "execution_count": 116,
   "metadata": {},
   "outputs": [
    {
     "name": "stdout",
     "output_type": "stream",
     "text": [
      "[('.', 1977), ('and', 1537), ('the', 1410), ('to', 1248), (',', 1151), ('i', 1149), ('was', 838), ('a', 829), ('with', 677), ('of', 504)]\n"
     ]
    }
   ],
   "source": [
    "# 10 Most frequent words\n",
    "print(fdist.most_common(10))"
   ]
  },
  {
   "cell_type": "code",
   "execution_count": 117,
   "metadata": {},
   "outputs": [
    {
     "data": {
      "image/png": "[encoded data removed]",
      "text/plain": [
       "<Figure size 432x288 with 1 Axes>"
      ]
     },
     "metadata": {
      "needs_background": "light"
     },
     "output_type": "display_data"
    }
   ],
   "source": [
    "fdist.plot(10,cumulative=False)\n",
    "plt.show()"
   ]
  },
  {
   "cell_type": "markdown",
   "metadata": {},
   "source": [
    "### Old code starts"
   ]
  },
  {
   "cell_type": "markdown",
   "metadata": {},
   "source": [
    "#### Univariate Analysis"
   ]
  },
  {
   "cell_type": "code",
   "execution_count": 70,
   "metadata": {},
   "outputs": [
    {
     "data": {
      "text/plain": [
       "array([5, 1], dtype=int64)"
      ]
     },
     "execution_count": 70,
     "metadata": {},
     "output_type": "execute_result"
    }
   ],
   "source": [
    "data['Stars'].unique()"
   ]
  },
  {
   "cell_type": "code",
   "execution_count": 71,
   "metadata": {},
   "outputs": [],
   "source": [
    "# From above, we observe that the data has Star ratings of only '1' and '5'"
   ]
  },
  {
   "cell_type": "code",
   "execution_count": 72,
   "metadata": {},
   "outputs": [
    {
     "name": "stdout",
     "output_type": "stream",
     "text": [
      "505\n",
      "440.33861386138614\n",
      "2954\n",
      "15\n"
     ]
    },
    {
     "data": {
      "image/png": "[encoded data removed]",
      "text/plain": [
       "<Figure size 432x288 with 1 Axes>"
      ]
     },
     "metadata": {
      "needs_background": "light"
     },
     "output_type": "display_data"
    }
   ],
   "source": [
    "print(data['length_review'].count())\n",
    "print(data['length_review'].mean())\n",
    "print(data['length_review'].max())\n",
    "print(data['length_review'].min())\n",
    "sns.distplot(data['length_review'])\n",
    "plt.show()"
   ]
  },
  {
   "cell_type": "markdown",
   "metadata": {},
   "source": [
    "#### Bivariate Analysis"
   ]
  },
  {
   "cell_type": "code",
   "execution_count": 73,
   "metadata": {},
   "outputs": [],
   "source": [
    "# Using visualization, identify if length of the reviews has any relationship with the Stars"
   ]
  },
  {
   "cell_type": "code",
   "execution_count": 74,
   "metadata": {},
   "outputs": [
    {
     "data": {
      "image/png": "[encoded data removed]",
      "text/plain": [
       "<Figure size 432x216 with 2 Axes>"
      ]
     },
     "metadata": {
      "needs_background": "light"
     },
     "output_type": "display_data"
    }
   ],
   "source": [
    "g = sns.FacetGrid(data=data, col='Stars')\n",
    "g.map(plt.hist, 'length_review', bins = 20)\n",
    "plt.show()"
   ]
  },
  {
   "cell_type": "code",
   "execution_count": 75,
   "metadata": {},
   "outputs": [
    {
     "data": {
      "image/png": "[encoded data removed]",
      "text/plain": [
       "<Figure size 432x288 with 1 Axes>"
      ]
     },
     "metadata": {
      "needs_background": "light"
     },
     "output_type": "display_data"
    }
   ],
   "source": [
    "sns.boxplot(x='Stars', y='length_review', data=data)\n",
    "plt.show()"
   ]
  },
  {
   "cell_type": "code",
   "execution_count": 76,
   "metadata": {},
   "outputs": [],
   "source": [
    "# From above, we observe that\n",
    "# mean length of review is lower for 5 stars compared to 1 star"
   ]
  },
  {
   "cell_type": "code",
   "execution_count": 77,
   "metadata": {},
   "outputs": [],
   "source": [
    "# lets group the data by the star rating and find correlation between features\n",
    "stars = data.groupby(['Stars']).mean()"
   ]
  },
  {
   "cell_type": "code",
   "execution_count": 78,
   "metadata": {},
   "outputs": [
    {
     "data": {
      "text/html": [
       "<div>\n",
       "<style scoped>\n",
       "    .dataframe tbody tr th:only-of-type {\n",
       "        vertical-align: middle;\n",
       "    }\n",
       "\n",
       "    .dataframe tbody tr th {\n",
       "        vertical-align: top;\n",
       "    }\n",
       "\n",
       "    .dataframe thead th {\n",
       "        text-align: right;\n",
       "    }\n",
       "</style>\n",
       "<table border=\"1\" class=\"dataframe\">\n",
       "  <thead>\n",
       "    <tr style=\"text-align: right;\">\n",
       "      <th></th>\n",
       "      <th>length_review</th>\n",
       "    </tr>\n",
       "    <tr>\n",
       "      <th>Stars</th>\n",
       "      <th></th>\n",
       "    </tr>\n",
       "  </thead>\n",
       "  <tbody>\n",
       "    <tr>\n",
       "      <th>1</th>\n",
       "      <td>776.968421</td>\n",
       "    </tr>\n",
       "    <tr>\n",
       "      <th>5</th>\n",
       "      <td>362.339024</td>\n",
       "    </tr>\n",
       "  </tbody>\n",
       "</table>\n",
       "</div>"
      ],
      "text/plain": [
       "       length_review\n",
       "Stars               \n",
       "1         776.968421\n",
       "5         362.339024"
      ]
     },
     "execution_count": 78,
     "metadata": {},
     "output_type": "execute_result"
    }
   ],
   "source": [
    "stars"
   ]
  },
  {
   "cell_type": "code",
   "execution_count": 79,
   "metadata": {},
   "outputs": [],
   "source": [
    "# Lets create the x and y variable for our classification task.\n",
    "# x : reviews\n",
    "# y : stars"
   ]
  },
  {
   "cell_type": "code",
   "execution_count": 80,
   "metadata": {},
   "outputs": [
    {
     "data": {
      "text/plain": [
       "Index(['Date', 'Stars', 'Reviews', 'BankName', 'length_review'], dtype='object')"
      ]
     },
     "execution_count": 80,
     "metadata": {},
     "output_type": "execute_result"
    }
   ],
   "source": [
    "data.columns"
   ]
  },
  {
   "cell_type": "code",
   "execution_count": 81,
   "metadata": {},
   "outputs": [],
   "source": [
    "x = data['Reviews']\n",
    "y = data['Stars']"
   ]
  },
  {
   "cell_type": "markdown",
   "metadata": {},
   "source": [
    "#### Vectorisation"
   ]
  },
  {
   "cell_type": "code",
   "execution_count": 87,
   "metadata": {},
   "outputs": [],
   "source": [
    "from sklearn.feature_extraction.text import CountVectorizer"
   ]
  },
  {
   "cell_type": "code",
   "execution_count": 88,
   "metadata": {},
   "outputs": [],
   "source": [
    "bow_transformer = CountVectorizer(analyzer=text_process).fit(x)"
   ]
  },
  {
   "cell_type": "code",
   "execution_count": 89,
   "metadata": {},
   "outputs": [
    {
     "data": {
      "text/plain": [
       "2916"
      ]
     },
     "execution_count": 89,
     "metadata": {},
     "output_type": "execute_result"
    }
   ],
   "source": [
    "len(bow_transformer.vocabulary_)"
   ]
  },
  {
   "cell_type": "code",
   "execution_count": 90,
   "metadata": {},
   "outputs": [
    {
     "data": {
      "text/plain": [
       "'Expert loan officer, well versed in VA and the financial impacts of loan component changes. The best I have worked with across 7 home buying/selling deals. Now advocated for by the #1 real estate broker in the state due to his ability to close complicated and high pressure deals. She places him at the top of the list after 32 years in the business! Professionally and patiently answers detailed questions and can rally the expanded NASB team (also stellar!) to support your needs. He handled my complicated VA loan that seemed to change every week while we tried to buy an Antebellum home (tough comps) during my retirement from the military (tough income verification) with five families all swapping homes (tons of contingencies). Everything along the way mattered and Aaron and the NASB team got it done (even on weekends) and closed on time with the best interest rate in the market and no added origination fees. Look, do NOT pass up an opportunity to work with him.\\xa0'"
      ]
     },
     "execution_count": 90,
     "metadata": {},
     "output_type": "execute_result"
    }
   ],
   "source": [
    "# Illustration\n",
    "review_25 = x[24] \n",
    "review_25"
   ]
  },
  {
   "cell_type": "code",
   "execution_count": 91,
   "metadata": {},
   "outputs": [],
   "source": [
    "bow_25 = bow_transformer.transform([review_25])"
   ]
  },
  {
   "cell_type": "code",
   "execution_count": 92,
   "metadata": {},
   "outputs": [
    {
     "data": {
      "text/plain": [
       "(1, 2916)"
      ]
     },
     "execution_count": 92,
     "metadata": {},
     "output_type": "execute_result"
    }
   ],
   "source": [
    "bow_25.shape"
   ]
  },
  {
   "cell_type": "code",
   "execution_count": 93,
   "metadata": {},
   "outputs": [
    {
     "data": {
      "text/plain": [
       "'clients'"
      ]
     },
     "execution_count": 93,
     "metadata": {},
     "output_type": "execute_result"
    }
   ],
   "source": [
    "bow_transformer.get_feature_names()[1000]"
   ]
  },
  {
   "cell_type": "code",
   "execution_count": 95,
   "metadata": {},
   "outputs": [
    {
     "name": "stdout",
     "output_type": "stream",
     "text": [
      "acceptable\n"
     ]
    }
   ],
   "source": [
    "#print(bow_25)\n",
    "#print(bow_25.shape)\n",
    "#445\n",
    "print(bow_transformer.get_feature_names()[678])"
   ]
  },
  {
   "cell_type": "code",
   "execution_count": 96,
   "metadata": {},
   "outputs": [],
   "source": [
    "# Now, transform the x dataframe into sparse matrix\n",
    "x = bow_transformer.transform(x)"
   ]
  },
  {
   "cell_type": "code",
   "execution_count": 97,
   "metadata": {},
   "outputs": [
    {
     "name": "stdout",
     "output_type": "stream",
     "text": [
      "Shape of Sparse Matrix:  (505, 2916)\n",
      "No. of non-zero occurences:  17078\n"
     ]
    }
   ],
   "source": [
    "print('Shape of Sparse Matrix: ', x.shape)\n",
    "print('No. of non-zero occurences: ',x.nnz)"
   ]
  },
  {
   "cell_type": "code",
   "execution_count": 98,
   "metadata": {},
   "outputs": [
    {
     "name": "stdout",
     "output_type": "stream",
     "text": [
      "Density: 1.159733257276345\n"
     ]
    }
   ],
   "source": [
    "# Percentage of non-zero values\n",
    "density = (100.0*x.nnz/(x.shape[0]*x.shape[1]))\n",
    "print('Density: {}'.format((density)))"
   ]
  },
  {
   "cell_type": "code",
   "execution_count": 100,
   "metadata": {},
   "outputs": [],
   "source": [
    "# Reviews are processed now. Split the data into train and test\n",
    "from sklearn.model_selection import train_test_split\n",
    "train_x,test_x,train_y,test_y = train_test_split(x,y,test_size=0.3, random_state=1234)"
   ]
  },
  {
   "cell_type": "code",
   "execution_count": 101,
   "metadata": {},
   "outputs": [
    {
     "data": {
      "text/plain": [
       "MultinomialNB(alpha=1.0, class_prior=None, fit_prior=True)"
      ]
     },
     "execution_count": 101,
     "metadata": {},
     "output_type": "execute_result"
    }
   ],
   "source": [
    "# Training the model\n",
    "# Lets use multinomial naive bayes to fit the training set\n",
    "from sklearn.naive_bayes import MultinomialNB\n",
    "nb = MultinomialNB()\n",
    "nb.fit(train_x, train_y)"
   ]
  },
  {
   "cell_type": "code",
   "execution_count": 102,
   "metadata": {},
   "outputs": [],
   "source": [
    "# Test and evaluate the model\n",
    "pred = nb.predict(test_x)"
   ]
  },
  {
   "cell_type": "code",
   "execution_count": 103,
   "metadata": {},
   "outputs": [],
   "source": [
    "# Lets evaluate the predictions against the actual ratings using confusion matrix and classification report\n",
    "from sklearn.metrics import confusion_matrix, classification_report"
   ]
  },
  {
   "cell_type": "code",
   "execution_count": 104,
   "metadata": {},
   "outputs": [
    {
     "name": "stdout",
     "output_type": "stream",
     "text": [
      "[[ 31   1]\n",
      " [  2 118]]\n"
     ]
    }
   ],
   "source": [
    "print(confusion_matrix(test_y, pred))"
   ]
  },
  {
   "cell_type": "code",
   "execution_count": 105,
   "metadata": {},
   "outputs": [
    {
     "name": "stdout",
     "output_type": "stream",
     "text": [
      "              precision    recall  f1-score   support\n",
      "\n",
      "           1       0.94      0.97      0.95        32\n",
      "           5       0.99      0.98      0.99       120\n",
      "\n",
      "   micro avg       0.98      0.98      0.98       152\n",
      "   macro avg       0.97      0.98      0.97       152\n",
      "weighted avg       0.98      0.98      0.98       152\n",
      "\n"
     ]
    }
   ],
   "source": [
    "print(classification_report(test_y, pred))"
   ]
  },
  {
   "cell_type": "code",
   "execution_count": 62,
   "metadata": {},
   "outputs": [],
   "source": [
    "# Our model has achieved 92% accuracy!"
   ]
  }
 ],
 "metadata": {
  "kernelspec": {
   "display_name": "Python 3",
   "language": "python",
   "name": "python3"
  },
  "language_info": {
   "codemirror_mode": {
    "name": "ipython",
    "version": 3
   },
   "file_extension": ".py",
   "mimetype": "text/x-python",
   "name": "python",
   "nbconvert_exporter": "python",
   "pygments_lexer": "ipython3",
   "version": "3.7.0"
  }
 },
 "nbformat": 4,
 "nbformat_minor": 2
}
