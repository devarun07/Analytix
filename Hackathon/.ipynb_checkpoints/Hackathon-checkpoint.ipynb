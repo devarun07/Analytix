{
 "cells": [
  {
   "cell_type": "markdown",
   "metadata": {},
   "source": [
    "https://datahack.analyticsvidhya.com/contest/india-ml-hiring-hackathon-2019/"
   ]
  },
  {
   "cell_type": "code",
   "execution_count": 1,
   "metadata": {},
   "outputs": [],
   "source": [
    "import pandas as pd\n",
    "import numpy as np\n",
    "import seaborn as sns\n",
    "import pandas_profiling\n",
    "import scipy.stats as stats\n",
    "import matplotlib.pyplot as plt"
   ]
  },
  {
   "cell_type": "code",
   "execution_count": 465,
   "metadata": {},
   "outputs": [
    {
     "data": {
      "text/html": [
       "<div>\n",
       "<style scoped>\n",
       "    .dataframe tbody tr th:only-of-type {\n",
       "        vertical-align: middle;\n",
       "    }\n",
       "\n",
       "    .dataframe tbody tr th {\n",
       "        vertical-align: top;\n",
       "    }\n",
       "\n",
       "    .dataframe thead th {\n",
       "        text-align: right;\n",
       "    }\n",
       "</style>\n",
       "<table border=\"1\" class=\"dataframe\">\n",
       "  <thead>\n",
       "    <tr style=\"text-align: right;\">\n",
       "      <th></th>\n",
       "      <th>loan_id</th>\n",
       "      <th>source</th>\n",
       "      <th>financial_institution</th>\n",
       "      <th>interest_rate</th>\n",
       "      <th>unpaid_principal_bal</th>\n",
       "      <th>loan_term</th>\n",
       "      <th>origination_date</th>\n",
       "      <th>first_payment_date</th>\n",
       "      <th>loan_to_value</th>\n",
       "      <th>number_of_borrowers</th>\n",
       "      <th>...</th>\n",
       "      <th>m4</th>\n",
       "      <th>m5</th>\n",
       "      <th>m6</th>\n",
       "      <th>m7</th>\n",
       "      <th>m8</th>\n",
       "      <th>m9</th>\n",
       "      <th>m10</th>\n",
       "      <th>m11</th>\n",
       "      <th>m12</th>\n",
       "      <th>m13</th>\n",
       "    </tr>\n",
       "  </thead>\n",
       "  <tbody>\n",
       "    <tr>\n",
       "      <th>0</th>\n",
       "      <td>268055008619</td>\n",
       "      <td>Z</td>\n",
       "      <td>Turner, Baldwin and Rhodes</td>\n",
       "      <td>4.250</td>\n",
       "      <td>214000</td>\n",
       "      <td>360</td>\n",
       "      <td>2012-03-01</td>\n",
       "      <td>05/2012</td>\n",
       "      <td>95</td>\n",
       "      <td>1.0</td>\n",
       "      <td>...</td>\n",
       "      <td>0</td>\n",
       "      <td>0</td>\n",
       "      <td>0</td>\n",
       "      <td>1</td>\n",
       "      <td>0</td>\n",
       "      <td>0</td>\n",
       "      <td>0</td>\n",
       "      <td>0</td>\n",
       "      <td>0</td>\n",
       "      <td>1</td>\n",
       "    </tr>\n",
       "    <tr>\n",
       "      <th>1</th>\n",
       "      <td>672831657627</td>\n",
       "      <td>Y</td>\n",
       "      <td>Swanson, Newton and Miller</td>\n",
       "      <td>4.875</td>\n",
       "      <td>144000</td>\n",
       "      <td>360</td>\n",
       "      <td>2012-01-01</td>\n",
       "      <td>03/2012</td>\n",
       "      <td>72</td>\n",
       "      <td>1.0</td>\n",
       "      <td>...</td>\n",
       "      <td>0</td>\n",
       "      <td>0</td>\n",
       "      <td>0</td>\n",
       "      <td>0</td>\n",
       "      <td>0</td>\n",
       "      <td>0</td>\n",
       "      <td>0</td>\n",
       "      <td>1</td>\n",
       "      <td>0</td>\n",
       "      <td>1</td>\n",
       "    </tr>\n",
       "    <tr>\n",
       "      <th>2</th>\n",
       "      <td>742515242108</td>\n",
       "      <td>Z</td>\n",
       "      <td>Thornton-Davis</td>\n",
       "      <td>3.250</td>\n",
       "      <td>366000</td>\n",
       "      <td>180</td>\n",
       "      <td>2012-01-01</td>\n",
       "      <td>03/2012</td>\n",
       "      <td>49</td>\n",
       "      <td>1.0</td>\n",
       "      <td>...</td>\n",
       "      <td>0</td>\n",
       "      <td>0</td>\n",
       "      <td>0</td>\n",
       "      <td>0</td>\n",
       "      <td>0</td>\n",
       "      <td>0</td>\n",
       "      <td>0</td>\n",
       "      <td>0</td>\n",
       "      <td>0</td>\n",
       "      <td>1</td>\n",
       "    </tr>\n",
       "    <tr>\n",
       "      <th>3</th>\n",
       "      <td>601385667462</td>\n",
       "      <td>X</td>\n",
       "      <td>OTHER</td>\n",
       "      <td>4.750</td>\n",
       "      <td>135000</td>\n",
       "      <td>360</td>\n",
       "      <td>2012-02-01</td>\n",
       "      <td>04/2012</td>\n",
       "      <td>46</td>\n",
       "      <td>2.0</td>\n",
       "      <td>...</td>\n",
       "      <td>0</td>\n",
       "      <td>0</td>\n",
       "      <td>0</td>\n",
       "      <td>0</td>\n",
       "      <td>0</td>\n",
       "      <td>1</td>\n",
       "      <td>1</td>\n",
       "      <td>1</td>\n",
       "      <td>1</td>\n",
       "      <td>1</td>\n",
       "    </tr>\n",
       "    <tr>\n",
       "      <th>4</th>\n",
       "      <td>273870029961</td>\n",
       "      <td>X</td>\n",
       "      <td>OTHER</td>\n",
       "      <td>4.750</td>\n",
       "      <td>124000</td>\n",
       "      <td>360</td>\n",
       "      <td>2012-02-01</td>\n",
       "      <td>04/2012</td>\n",
       "      <td>80</td>\n",
       "      <td>1.0</td>\n",
       "      <td>...</td>\n",
       "      <td>3</td>\n",
       "      <td>4</td>\n",
       "      <td>5</td>\n",
       "      <td>6</td>\n",
       "      <td>7</td>\n",
       "      <td>8</td>\n",
       "      <td>9</td>\n",
       "      <td>10</td>\n",
       "      <td>11</td>\n",
       "      <td>1</td>\n",
       "    </tr>\n",
       "  </tbody>\n",
       "</table>\n",
       "<p>5 rows × 29 columns</p>\n",
       "</div>"
      ],
      "text/plain": [
       "        loan_id source       financial_institution  interest_rate  \\\n",
       "0  268055008619      Z  Turner, Baldwin and Rhodes          4.250   \n",
       "1  672831657627      Y  Swanson, Newton and Miller          4.875   \n",
       "2  742515242108      Z              Thornton-Davis          3.250   \n",
       "3  601385667462      X                       OTHER          4.750   \n",
       "4  273870029961      X                       OTHER          4.750   \n",
       "\n",
       "   unpaid_principal_bal  loan_term origination_date first_payment_date  \\\n",
       "0                214000        360       2012-03-01            05/2012   \n",
       "1                144000        360       2012-01-01            03/2012   \n",
       "2                366000        180       2012-01-01            03/2012   \n",
       "3                135000        360       2012-02-01            04/2012   \n",
       "4                124000        360       2012-02-01            04/2012   \n",
       "\n",
       "   loan_to_value  number_of_borrowers ...   m4  m5 m6  m7  m8  m9  m10  m11  \\\n",
       "0             95                  1.0 ...    0   0  0   1   0   0    0    0   \n",
       "1             72                  1.0 ...    0   0  0   0   0   0    0    1   \n",
       "2             49                  1.0 ...    0   0  0   0   0   0    0    0   \n",
       "3             46                  2.0 ...    0   0  0   0   0   1    1    1   \n",
       "4             80                  1.0 ...    3   4  5   6   7   8    9   10   \n",
       "\n",
       "   m12  m13  \n",
       "0    0    1  \n",
       "1    0    1  \n",
       "2    0    1  \n",
       "3    1    1  \n",
       "4   11    1  \n",
       "\n",
       "[5 rows x 29 columns]"
      ]
     },
     "execution_count": 465,
     "metadata": {},
     "output_type": "execute_result"
    }
   ],
   "source": [
    "# data = pd.read_csv('F:\\\\Analytix\\\\Git\\\\Analytix\\\\Hackathon\\\\train_u5jK80M\\\\train.csv')\n",
    "data = pd.read_csv('C:\\\\Analytix\\\\Git\\\\Analytix\\\\Hackathon\\\\train_u5jK80M\\\\train.csv')\n",
    "data.head()"
   ]
  },
  {
   "cell_type": "code",
   "execution_count": 466,
   "metadata": {},
   "outputs": [
    {
     "name": "stdout",
     "output_type": "stream",
     "text": [
      "<class 'pandas.core.frame.DataFrame'>\n",
      "RangeIndex: 116058 entries, 0 to 116057\n",
      "Data columns (total 29 columns):\n",
      "loan_id                     116058 non-null int64\n",
      "source                      116058 non-null object\n",
      "financial_institution       116058 non-null object\n",
      "interest_rate               116058 non-null float64\n",
      "unpaid_principal_bal        116058 non-null int64\n",
      "loan_term                   116058 non-null int64\n",
      "origination_date            116058 non-null object\n",
      "first_payment_date          116058 non-null object\n",
      "loan_to_value               116058 non-null int64\n",
      "number_of_borrowers         116058 non-null float64\n",
      "debt_to_income_ratio        116058 non-null float64\n",
      "borrower_credit_score       116058 non-null float64\n",
      "loan_purpose                116058 non-null object\n",
      "insurance_percent           116058 non-null float64\n",
      "co-borrower_credit_score    116058 non-null float64\n",
      "insurance_type              116058 non-null float64\n",
      "m1                          116058 non-null int64\n",
      "m2                          116058 non-null int64\n",
      "m3                          116058 non-null int64\n",
      "m4                          116058 non-null int64\n",
      "m5                          116058 non-null int64\n",
      "m6                          116058 non-null int64\n",
      "m7                          116058 non-null int64\n",
      "m8                          116058 non-null int64\n",
      "m9                          116058 non-null int64\n",
      "m10                         116058 non-null int64\n",
      "m11                         116058 non-null int64\n",
      "m12                         116058 non-null int64\n",
      "m13                         116058 non-null int64\n",
      "dtypes: float64(7), int64(17), object(5)\n",
      "memory usage: 25.7+ MB\n"
     ]
    }
   ],
   "source": [
    "data.info()"
   ]
  },
  {
   "cell_type": "code",
   "execution_count": 467,
   "metadata": {},
   "outputs": [
    {
     "data": {
      "text/html": [
       "<div>\n",
       "<style scoped>\n",
       "    .dataframe tbody tr th:only-of-type {\n",
       "        vertical-align: middle;\n",
       "    }\n",
       "\n",
       "    .dataframe tbody tr th {\n",
       "        vertical-align: top;\n",
       "    }\n",
       "\n",
       "    .dataframe thead th {\n",
       "        text-align: right;\n",
       "    }\n",
       "</style>\n",
       "<table border=\"1\" class=\"dataframe\">\n",
       "  <thead>\n",
       "    <tr style=\"text-align: right;\">\n",
       "      <th></th>\n",
       "      <th>count</th>\n",
       "      <th>mean</th>\n",
       "      <th>std</th>\n",
       "      <th>min</th>\n",
       "      <th>25%</th>\n",
       "      <th>50%</th>\n",
       "      <th>75%</th>\n",
       "      <th>max</th>\n",
       "    </tr>\n",
       "  </thead>\n",
       "  <tbody>\n",
       "    <tr>\n",
       "      <th>loan_id</th>\n",
       "      <td>116058.0</td>\n",
       "      <td>5.494155e+11</td>\n",
       "      <td>2.597560e+11</td>\n",
       "      <td>1.000009e+11</td>\n",
       "      <td>3.244656e+11</td>\n",
       "      <td>5.486239e+11</td>\n",
       "      <td>7.743034e+11</td>\n",
       "      <td>9.999971e+11</td>\n",
       "    </tr>\n",
       "    <tr>\n",
       "      <th>interest_rate</th>\n",
       "      <td>116058.0</td>\n",
       "      <td>3.868961e+00</td>\n",
       "      <td>4.610200e-01</td>\n",
       "      <td>2.250000e+00</td>\n",
       "      <td>3.500000e+00</td>\n",
       "      <td>3.875000e+00</td>\n",
       "      <td>4.125000e+00</td>\n",
       "      <td>6.750000e+00</td>\n",
       "    </tr>\n",
       "    <tr>\n",
       "      <th>unpaid_principal_bal</th>\n",
       "      <td>116058.0</td>\n",
       "      <td>2.082262e+05</td>\n",
       "      <td>1.146851e+05</td>\n",
       "      <td>1.100000e+04</td>\n",
       "      <td>1.200000e+05</td>\n",
       "      <td>1.830000e+05</td>\n",
       "      <td>2.780000e+05</td>\n",
       "      <td>1.200000e+06</td>\n",
       "    </tr>\n",
       "    <tr>\n",
       "      <th>loan_term</th>\n",
       "      <td>116058.0</td>\n",
       "      <td>2.922810e+02</td>\n",
       "      <td>8.976241e+01</td>\n",
       "      <td>6.000000e+01</td>\n",
       "      <td>1.800000e+02</td>\n",
       "      <td>3.600000e+02</td>\n",
       "      <td>3.600000e+02</td>\n",
       "      <td>3.600000e+02</td>\n",
       "    </tr>\n",
       "    <tr>\n",
       "      <th>loan_to_value</th>\n",
       "      <td>116058.0</td>\n",
       "      <td>6.743194e+01</td>\n",
       "      <td>1.729172e+01</td>\n",
       "      <td>6.000000e+00</td>\n",
       "      <td>5.700000e+01</td>\n",
       "      <td>7.200000e+01</td>\n",
       "      <td>8.000000e+01</td>\n",
       "      <td>9.700000e+01</td>\n",
       "    </tr>\n",
       "    <tr>\n",
       "      <th>number_of_borrowers</th>\n",
       "      <td>116058.0</td>\n",
       "      <td>1.593186e+00</td>\n",
       "      <td>4.912417e-01</td>\n",
       "      <td>1.000000e+00</td>\n",
       "      <td>1.000000e+00</td>\n",
       "      <td>2.000000e+00</td>\n",
       "      <td>2.000000e+00</td>\n",
       "      <td>2.000000e+00</td>\n",
       "    </tr>\n",
       "    <tr>\n",
       "      <th>debt_to_income_ratio</th>\n",
       "      <td>116058.0</td>\n",
       "      <td>3.074229e+01</td>\n",
       "      <td>9.730798e+00</td>\n",
       "      <td>1.000000e+00</td>\n",
       "      <td>2.300000e+01</td>\n",
       "      <td>3.100000e+01</td>\n",
       "      <td>3.900000e+01</td>\n",
       "      <td>6.400000e+01</td>\n",
       "    </tr>\n",
       "    <tr>\n",
       "      <th>borrower_credit_score</th>\n",
       "      <td>116058.0</td>\n",
       "      <td>7.699268e+02</td>\n",
       "      <td>4.221071e+01</td>\n",
       "      <td>0.000000e+00</td>\n",
       "      <td>7.510000e+02</td>\n",
       "      <td>7.820000e+02</td>\n",
       "      <td>8.000000e+02</td>\n",
       "      <td>8.400000e+02</td>\n",
       "    </tr>\n",
       "    <tr>\n",
       "      <th>insurance_percent</th>\n",
       "      <td>116058.0</td>\n",
       "      <td>2.786288e+00</td>\n",
       "      <td>8.096464e+00</td>\n",
       "      <td>0.000000e+00</td>\n",
       "      <td>0.000000e+00</td>\n",
       "      <td>0.000000e+00</td>\n",
       "      <td>0.000000e+00</td>\n",
       "      <td>4.000000e+01</td>\n",
       "    </tr>\n",
       "    <tr>\n",
       "      <th>co-borrower_credit_score</th>\n",
       "      <td>116058.0</td>\n",
       "      <td>4.596116e+02</td>\n",
       "      <td>3.819469e+02</td>\n",
       "      <td>0.000000e+00</td>\n",
       "      <td>0.000000e+00</td>\n",
       "      <td>7.400000e+02</td>\n",
       "      <td>7.910000e+02</td>\n",
       "      <td>8.360000e+02</td>\n",
       "    </tr>\n",
       "    <tr>\n",
       "      <th>insurance_type</th>\n",
       "      <td>116058.0</td>\n",
       "      <td>3.256992e-03</td>\n",
       "      <td>5.697730e-02</td>\n",
       "      <td>0.000000e+00</td>\n",
       "      <td>0.000000e+00</td>\n",
       "      <td>0.000000e+00</td>\n",
       "      <td>0.000000e+00</td>\n",
       "      <td>1.000000e+00</td>\n",
       "    </tr>\n",
       "    <tr>\n",
       "      <th>m1</th>\n",
       "      <td>116058.0</td>\n",
       "      <td>3.196678e-03</td>\n",
       "      <td>6.335350e-02</td>\n",
       "      <td>0.000000e+00</td>\n",
       "      <td>0.000000e+00</td>\n",
       "      <td>0.000000e+00</td>\n",
       "      <td>0.000000e+00</td>\n",
       "      <td>3.000000e+00</td>\n",
       "    </tr>\n",
       "    <tr>\n",
       "      <th>m2</th>\n",
       "      <td>116058.0</td>\n",
       "      <td>2.059315e-03</td>\n",
       "      <td>5.139077e-02</td>\n",
       "      <td>0.000000e+00</td>\n",
       "      <td>0.000000e+00</td>\n",
       "      <td>0.000000e+00</td>\n",
       "      <td>0.000000e+00</td>\n",
       "      <td>4.000000e+00</td>\n",
       "    </tr>\n",
       "    <tr>\n",
       "      <th>m3</th>\n",
       "      <td>116058.0</td>\n",
       "      <td>1.973151e-03</td>\n",
       "      <td>5.542726e-02</td>\n",
       "      <td>0.000000e+00</td>\n",
       "      <td>0.000000e+00</td>\n",
       "      <td>0.000000e+00</td>\n",
       "      <td>0.000000e+00</td>\n",
       "      <td>5.000000e+00</td>\n",
       "    </tr>\n",
       "    <tr>\n",
       "      <th>m4</th>\n",
       "      <td>116058.0</td>\n",
       "      <td>2.179945e-03</td>\n",
       "      <td>6.216137e-02</td>\n",
       "      <td>0.000000e+00</td>\n",
       "      <td>0.000000e+00</td>\n",
       "      <td>0.000000e+00</td>\n",
       "      <td>0.000000e+00</td>\n",
       "      <td>6.000000e+00</td>\n",
       "    </tr>\n",
       "    <tr>\n",
       "      <th>m5</th>\n",
       "      <td>116058.0</td>\n",
       "      <td>3.532716e-03</td>\n",
       "      <td>8.263768e-02</td>\n",
       "      <td>0.000000e+00</td>\n",
       "      <td>0.000000e+00</td>\n",
       "      <td>0.000000e+00</td>\n",
       "      <td>0.000000e+00</td>\n",
       "      <td>7.000000e+00</td>\n",
       "    </tr>\n",
       "    <tr>\n",
       "      <th>m6</th>\n",
       "      <td>116058.0</td>\n",
       "      <td>3.420703e-03</td>\n",
       "      <td>8.755319e-02</td>\n",
       "      <td>0.000000e+00</td>\n",
       "      <td>0.000000e+00</td>\n",
       "      <td>0.000000e+00</td>\n",
       "      <td>0.000000e+00</td>\n",
       "      <td>8.000000e+00</td>\n",
       "    </tr>\n",
       "    <tr>\n",
       "      <th>m7</th>\n",
       "      <td>116058.0</td>\n",
       "      <td>4.161712e-03</td>\n",
       "      <td>1.009613e-01</td>\n",
       "      <td>0.000000e+00</td>\n",
       "      <td>0.000000e+00</td>\n",
       "      <td>0.000000e+00</td>\n",
       "      <td>0.000000e+00</td>\n",
       "      <td>9.000000e+00</td>\n",
       "    </tr>\n",
       "    <tr>\n",
       "      <th>m8</th>\n",
       "      <td>116058.0</td>\n",
       "      <td>4.825174e-03</td>\n",
       "      <td>1.131283e-01</td>\n",
       "      <td>0.000000e+00</td>\n",
       "      <td>0.000000e+00</td>\n",
       "      <td>0.000000e+00</td>\n",
       "      <td>0.000000e+00</td>\n",
       "      <td>1.000000e+01</td>\n",
       "    </tr>\n",
       "    <tr>\n",
       "      <th>m9</th>\n",
       "      <td>116058.0</td>\n",
       "      <td>5.359389e-03</td>\n",
       "      <td>1.282417e-01</td>\n",
       "      <td>0.000000e+00</td>\n",
       "      <td>0.000000e+00</td>\n",
       "      <td>0.000000e+00</td>\n",
       "      <td>0.000000e+00</td>\n",
       "      <td>1.100000e+01</td>\n",
       "    </tr>\n",
       "    <tr>\n",
       "      <th>m10</th>\n",
       "      <td>116058.0</td>\n",
       "      <td>6.617381e-03</td>\n",
       "      <td>1.484304e-01</td>\n",
       "      <td>0.000000e+00</td>\n",
       "      <td>0.000000e+00</td>\n",
       "      <td>0.000000e+00</td>\n",
       "      <td>0.000000e+00</td>\n",
       "      <td>1.200000e+01</td>\n",
       "    </tr>\n",
       "    <tr>\n",
       "      <th>m11</th>\n",
       "      <td>116058.0</td>\n",
       "      <td>7.108515e-03</td>\n",
       "      <td>1.628841e-01</td>\n",
       "      <td>0.000000e+00</td>\n",
       "      <td>0.000000e+00</td>\n",
       "      <td>0.000000e+00</td>\n",
       "      <td>0.000000e+00</td>\n",
       "      <td>1.300000e+01</td>\n",
       "    </tr>\n",
       "    <tr>\n",
       "      <th>m12</th>\n",
       "      <td>116058.0</td>\n",
       "      <td>8.064933e-03</td>\n",
       "      <td>1.781283e-01</td>\n",
       "      <td>0.000000e+00</td>\n",
       "      <td>0.000000e+00</td>\n",
       "      <td>0.000000e+00</td>\n",
       "      <td>0.000000e+00</td>\n",
       "      <td>1.400000e+01</td>\n",
       "    </tr>\n",
       "    <tr>\n",
       "      <th>m13</th>\n",
       "      <td>116058.0</td>\n",
       "      <td>5.480019e-03</td>\n",
       "      <td>7.382435e-02</td>\n",
       "      <td>0.000000e+00</td>\n",
       "      <td>0.000000e+00</td>\n",
       "      <td>0.000000e+00</td>\n",
       "      <td>0.000000e+00</td>\n",
       "      <td>1.000000e+00</td>\n",
       "    </tr>\n",
       "  </tbody>\n",
       "</table>\n",
       "</div>"
      ],
      "text/plain": [
       "                             count          mean           std           min  \\\n",
       "loan_id                   116058.0  5.494155e+11  2.597560e+11  1.000009e+11   \n",
       "interest_rate             116058.0  3.868961e+00  4.610200e-01  2.250000e+00   \n",
       "unpaid_principal_bal      116058.0  2.082262e+05  1.146851e+05  1.100000e+04   \n",
       "loan_term                 116058.0  2.922810e+02  8.976241e+01  6.000000e+01   \n",
       "loan_to_value             116058.0  6.743194e+01  1.729172e+01  6.000000e+00   \n",
       "number_of_borrowers       116058.0  1.593186e+00  4.912417e-01  1.000000e+00   \n",
       "debt_to_income_ratio      116058.0  3.074229e+01  9.730798e+00  1.000000e+00   \n",
       "borrower_credit_score     116058.0  7.699268e+02  4.221071e+01  0.000000e+00   \n",
       "insurance_percent         116058.0  2.786288e+00  8.096464e+00  0.000000e+00   \n",
       "co-borrower_credit_score  116058.0  4.596116e+02  3.819469e+02  0.000000e+00   \n",
       "insurance_type            116058.0  3.256992e-03  5.697730e-02  0.000000e+00   \n",
       "m1                        116058.0  3.196678e-03  6.335350e-02  0.000000e+00   \n",
       "m2                        116058.0  2.059315e-03  5.139077e-02  0.000000e+00   \n",
       "m3                        116058.0  1.973151e-03  5.542726e-02  0.000000e+00   \n",
       "m4                        116058.0  2.179945e-03  6.216137e-02  0.000000e+00   \n",
       "m5                        116058.0  3.532716e-03  8.263768e-02  0.000000e+00   \n",
       "m6                        116058.0  3.420703e-03  8.755319e-02  0.000000e+00   \n",
       "m7                        116058.0  4.161712e-03  1.009613e-01  0.000000e+00   \n",
       "m8                        116058.0  4.825174e-03  1.131283e-01  0.000000e+00   \n",
       "m9                        116058.0  5.359389e-03  1.282417e-01  0.000000e+00   \n",
       "m10                       116058.0  6.617381e-03  1.484304e-01  0.000000e+00   \n",
       "m11                       116058.0  7.108515e-03  1.628841e-01  0.000000e+00   \n",
       "m12                       116058.0  8.064933e-03  1.781283e-01  0.000000e+00   \n",
       "m13                       116058.0  5.480019e-03  7.382435e-02  0.000000e+00   \n",
       "\n",
       "                                   25%           50%           75%  \\\n",
       "loan_id                   3.244656e+11  5.486239e+11  7.743034e+11   \n",
       "interest_rate             3.500000e+00  3.875000e+00  4.125000e+00   \n",
       "unpaid_principal_bal      1.200000e+05  1.830000e+05  2.780000e+05   \n",
       "loan_term                 1.800000e+02  3.600000e+02  3.600000e+02   \n",
       "loan_to_value             5.700000e+01  7.200000e+01  8.000000e+01   \n",
       "number_of_borrowers       1.000000e+00  2.000000e+00  2.000000e+00   \n",
       "debt_to_income_ratio      2.300000e+01  3.100000e+01  3.900000e+01   \n",
       "borrower_credit_score     7.510000e+02  7.820000e+02  8.000000e+02   \n",
       "insurance_percent         0.000000e+00  0.000000e+00  0.000000e+00   \n",
       "co-borrower_credit_score  0.000000e+00  7.400000e+02  7.910000e+02   \n",
       "insurance_type            0.000000e+00  0.000000e+00  0.000000e+00   \n",
       "m1                        0.000000e+00  0.000000e+00  0.000000e+00   \n",
       "m2                        0.000000e+00  0.000000e+00  0.000000e+00   \n",
       "m3                        0.000000e+00  0.000000e+00  0.000000e+00   \n",
       "m4                        0.000000e+00  0.000000e+00  0.000000e+00   \n",
       "m5                        0.000000e+00  0.000000e+00  0.000000e+00   \n",
       "m6                        0.000000e+00  0.000000e+00  0.000000e+00   \n",
       "m7                        0.000000e+00  0.000000e+00  0.000000e+00   \n",
       "m8                        0.000000e+00  0.000000e+00  0.000000e+00   \n",
       "m9                        0.000000e+00  0.000000e+00  0.000000e+00   \n",
       "m10                       0.000000e+00  0.000000e+00  0.000000e+00   \n",
       "m11                       0.000000e+00  0.000000e+00  0.000000e+00   \n",
       "m12                       0.000000e+00  0.000000e+00  0.000000e+00   \n",
       "m13                       0.000000e+00  0.000000e+00  0.000000e+00   \n",
       "\n",
       "                                   max  \n",
       "loan_id                   9.999971e+11  \n",
       "interest_rate             6.750000e+00  \n",
       "unpaid_principal_bal      1.200000e+06  \n",
       "loan_term                 3.600000e+02  \n",
       "loan_to_value             9.700000e+01  \n",
       "number_of_borrowers       2.000000e+00  \n",
       "debt_to_income_ratio      6.400000e+01  \n",
       "borrower_credit_score     8.400000e+02  \n",
       "insurance_percent         4.000000e+01  \n",
       "co-borrower_credit_score  8.360000e+02  \n",
       "insurance_type            1.000000e+00  \n",
       "m1                        3.000000e+00  \n",
       "m2                        4.000000e+00  \n",
       "m3                        5.000000e+00  \n",
       "m4                        6.000000e+00  \n",
       "m5                        7.000000e+00  \n",
       "m6                        8.000000e+00  \n",
       "m7                        9.000000e+00  \n",
       "m8                        1.000000e+01  \n",
       "m9                        1.100000e+01  \n",
       "m10                       1.200000e+01  \n",
       "m11                       1.300000e+01  \n",
       "m12                       1.400000e+01  \n",
       "m13                       1.000000e+00  "
      ]
     },
     "execution_count": 467,
     "metadata": {},
     "output_type": "execute_result"
    }
   ],
   "source": [
    "data.describe().T"
   ]
  },
  {
   "cell_type": "code",
   "execution_count": 468,
   "metadata": {},
   "outputs": [],
   "source": [
    "# profile = pandas_profiling.ProfileReport(data)"
   ]
  },
  {
   "cell_type": "code",
   "execution_count": 469,
   "metadata": {},
   "outputs": [],
   "source": [
    "# profile.to_file(outputfile='profiling.html')"
   ]
  },
  {
   "cell_type": "code",
   "execution_count": 470,
   "metadata": {},
   "outputs": [
    {
     "data": {
      "image/png": "[encoded data removed]",
      "text/plain": [
       "<Figure size 432x288 with 1 Axes>"
      ]
     },
     "metadata": {},
     "output_type": "display_data"
    }
   ],
   "source": [
    "sns.countplot(x='m13',data=data,palette='hls')\n",
    "plt.show()"
   ]
  },
  {
   "cell_type": "code",
   "execution_count": 471,
   "metadata": {},
   "outputs": [
    {
     "name": "stdout",
     "output_type": "stream",
     "text": [
      "636\n",
      "115422\n"
     ]
    }
   ],
   "source": [
    "defaulter = data[data['m13'] == 1]\n",
    "non_defaulter = data[data['m13'] == 0]\n",
    "print(len(defaulter))\n",
    "print(len(non_defaulter))"
   ]
  },
  {
   "cell_type": "code",
   "execution_count": 472,
   "metadata": {},
   "outputs": [],
   "source": [
    "default_indices = np.array(data[data['m13'] == 1].index)\n",
    "non_default_indices = np.array(data[data['m13'] == 0].index)"
   ]
  },
  {
   "cell_type": "markdown",
   "metadata": {},
   "source": [
    "https://www.kaggle.com/gargmanish/how-to-handle-imbalance-data-study-in-detail"
   ]
  },
  {
   "cell_type": "code",
   "execution_count": 474,
   "metadata": {},
   "outputs": [
    {
     "data": {
      "text/html": [
       "<div>\n",
       "<style scoped>\n",
       "    .dataframe tbody tr th:only-of-type {\n",
       "        vertical-align: middle;\n",
       "    }\n",
       "\n",
       "    .dataframe tbody tr th {\n",
       "        vertical-align: top;\n",
       "    }\n",
       "\n",
       "    .dataframe thead th {\n",
       "        text-align: right;\n",
       "    }\n",
       "</style>\n",
       "<table border=\"1\" class=\"dataframe\">\n",
       "  <thead>\n",
       "    <tr style=\"text-align: right;\">\n",
       "      <th></th>\n",
       "      <th>loan_id</th>\n",
       "      <th>interest_rate</th>\n",
       "      <th>unpaid_principal_bal</th>\n",
       "      <th>loan_term</th>\n",
       "      <th>loan_to_value</th>\n",
       "      <th>number_of_borrowers</th>\n",
       "      <th>debt_to_income_ratio</th>\n",
       "      <th>borrower_credit_score</th>\n",
       "      <th>insurance_percent</th>\n",
       "      <th>co-borrower_credit_score</th>\n",
       "      <th>...</th>\n",
       "      <th>m3</th>\n",
       "      <th>m4</th>\n",
       "      <th>m5</th>\n",
       "      <th>m6</th>\n",
       "      <th>m7</th>\n",
       "      <th>m8</th>\n",
       "      <th>m9</th>\n",
       "      <th>m10</th>\n",
       "      <th>m11</th>\n",
       "      <th>m12</th>\n",
       "    </tr>\n",
       "    <tr>\n",
       "      <th>m13</th>\n",
       "      <th></th>\n",
       "      <th></th>\n",
       "      <th></th>\n",
       "      <th></th>\n",
       "      <th></th>\n",
       "      <th></th>\n",
       "      <th></th>\n",
       "      <th></th>\n",
       "      <th></th>\n",
       "      <th></th>\n",
       "      <th></th>\n",
       "      <th></th>\n",
       "      <th></th>\n",
       "      <th></th>\n",
       "      <th></th>\n",
       "      <th></th>\n",
       "      <th></th>\n",
       "      <th></th>\n",
       "      <th></th>\n",
       "      <th></th>\n",
       "      <th></th>\n",
       "    </tr>\n",
       "  </thead>\n",
       "  <tbody>\n",
       "    <tr>\n",
       "      <th>0</th>\n",
       "      <td>5.494730e+11</td>\n",
       "      <td>3.867103</td>\n",
       "      <td>208371.965483</td>\n",
       "      <td>292.124404</td>\n",
       "      <td>67.410944</td>\n",
       "      <td>1.594644</td>\n",
       "      <td>30.714820</td>\n",
       "      <td>770.221985</td>\n",
       "      <td>2.782849</td>\n",
       "      <td>460.820823</td>\n",
       "      <td>...</td>\n",
       "      <td>0.001326</td>\n",
       "      <td>0.001170</td>\n",
       "      <td>0.001941</td>\n",
       "      <td>0.001551</td>\n",
       "      <td>0.001845</td>\n",
       "      <td>0.001975</td>\n",
       "      <td>0.001845</td>\n",
       "      <td>0.002565</td>\n",
       "      <td>0.002149</td>\n",
       "      <td>0.001897</td>\n",
       "    </tr>\n",
       "    <tr>\n",
       "      <th>1</th>\n",
       "      <td>5.389809e+11</td>\n",
       "      <td>4.206182</td>\n",
       "      <td>181776.729560</td>\n",
       "      <td>320.699686</td>\n",
       "      <td>71.242138</td>\n",
       "      <td>1.328616</td>\n",
       "      <td>35.727987</td>\n",
       "      <td>716.352201</td>\n",
       "      <td>3.410377</td>\n",
       "      <td>240.154088</td>\n",
       "      <td>...</td>\n",
       "      <td>0.119497</td>\n",
       "      <td>0.185535</td>\n",
       "      <td>0.292453</td>\n",
       "      <td>0.342767</td>\n",
       "      <td>0.424528</td>\n",
       "      <td>0.522013</td>\n",
       "      <td>0.643082</td>\n",
       "      <td>0.742138</td>\n",
       "      <td>0.907233</td>\n",
       "      <td>1.127358</td>\n",
       "    </tr>\n",
       "  </tbody>\n",
       "</table>\n",
       "<p>2 rows × 23 columns</p>\n",
       "</div>"
      ],
      "text/plain": [
       "          loan_id  interest_rate  unpaid_principal_bal   loan_term  \\\n",
       "m13                                                                  \n",
       "0    5.494730e+11       3.867103         208371.965483  292.124404   \n",
       "1    5.389809e+11       4.206182         181776.729560  320.699686   \n",
       "\n",
       "     loan_to_value  number_of_borrowers  debt_to_income_ratio  \\\n",
       "m13                                                             \n",
       "0        67.410944             1.594644             30.714820   \n",
       "1        71.242138             1.328616             35.727987   \n",
       "\n",
       "     borrower_credit_score  insurance_percent  co-borrower_credit_score  \\\n",
       "m13                                                                       \n",
       "0               770.221985           2.782849                460.820823   \n",
       "1               716.352201           3.410377                240.154088   \n",
       "\n",
       "       ...           m3        m4        m5        m6        m7        m8  \\\n",
       "m13    ...                                                                  \n",
       "0      ...     0.001326  0.001170  0.001941  0.001551  0.001845  0.001975   \n",
       "1      ...     0.119497  0.185535  0.292453  0.342767  0.424528  0.522013   \n",
       "\n",
       "           m9       m10       m11       m12  \n",
       "m13                                          \n",
       "0    0.001845  0.002565  0.002149  0.001897  \n",
       "1    0.643082  0.742138  0.907233  1.127358  \n",
       "\n",
       "[2 rows x 23 columns]"
      ]
     },
     "execution_count": 474,
     "metadata": {},
     "output_type": "execute_result"
    }
   ],
   "source": [
    "data.groupby('m13').mean()"
   ]
  },
  {
   "cell_type": "code",
   "execution_count": 475,
   "metadata": {},
   "outputs": [
    {
     "name": "stdout",
     "output_type": "stream",
     "text": [
      "['loan_id', 'interest_rate', 'unpaid_principal_bal', 'loan_term', 'loan_to_value', 'number_of_borrowers', 'debt_to_income_ratio', 'borrower_credit_score', 'insurance_percent', 'co-borrower_credit_score', 'insurance_type', 'm1', 'm2', 'm3', 'm4', 'm5', 'm6', 'm7', 'm8', 'm9', 'm10', 'm11', 'm12', 'm13']\n",
      "['source', 'financial_institution', 'origination_date', 'first_payment_date', 'loan_purpose']\n"
     ]
    }
   ],
   "source": [
    "num_vars = [col for col in dict(data.dtypes) if dict(data.dtypes)[col] in ['float64','int64']]\n",
    "cat_vars = [col for col in dict(data.dtypes) if dict(data.dtypes)[col] in ['object']]\n",
    "print(num_vars)\n",
    "print(cat_vars)"
   ]
  },
  {
   "cell_type": "code",
   "execution_count": 476,
   "metadata": {},
   "outputs": [],
   "source": [
    "cat_vars = ['source',\n",
    "            'financial_institution',\n",
    "            'origination_date',\n",
    "            'first_payment_date',\n",
    "            'loan_purpose',\n",
    "            'insurance_type',\n",
    "            'number_of_borrowers']\n",
    "num_vars = ['loan_id',\n",
    "            'interest_rate',\n",
    "            'unpaid_principal_bal',\n",
    "            'loan_term',\n",
    "            'loan_to_value',\n",
    "            'debt_to_income_ratio',\n",
    "            'borrower_credit_score',\n",
    "            'insurance_percent',\n",
    "            'co-borrower_credit_score']\n",
    "ordinal_vars = ['m1', 'm2', 'm3', 'm4', 'm5', 'm6', 'm7', 'm8', 'm9', 'm10', 'm11', 'm12', 'm13']"
   ]
  },
  {
   "cell_type": "code",
   "execution_count": 477,
   "metadata": {},
   "outputs": [
    {
     "data": {
      "text/html": [
       "<div>\n",
       "<style scoped>\n",
       "    .dataframe tbody tr th:only-of-type {\n",
       "        vertical-align: middle;\n",
       "    }\n",
       "\n",
       "    .dataframe tbody tr th {\n",
       "        vertical-align: top;\n",
       "    }\n",
       "\n",
       "    .dataframe thead th {\n",
       "        text-align: right;\n",
       "    }\n",
       "</style>\n",
       "<table border=\"1\" class=\"dataframe\">\n",
       "  <thead>\n",
       "    <tr style=\"text-align: right;\">\n",
       "      <th></th>\n",
       "      <th>loan_id</th>\n",
       "      <th>interest_rate</th>\n",
       "      <th>unpaid_principal_bal</th>\n",
       "      <th>loan_term</th>\n",
       "      <th>loan_to_value</th>\n",
       "      <th>debt_to_income_ratio</th>\n",
       "      <th>borrower_credit_score</th>\n",
       "      <th>insurance_percent</th>\n",
       "      <th>co-borrower_credit_score</th>\n",
       "    </tr>\n",
       "  </thead>\n",
       "  <tbody>\n",
       "    <tr>\n",
       "      <th>0</th>\n",
       "      <td>268055008619</td>\n",
       "      <td>4.250</td>\n",
       "      <td>214000</td>\n",
       "      <td>360</td>\n",
       "      <td>95</td>\n",
       "      <td>22.0</td>\n",
       "      <td>694.0</td>\n",
       "      <td>30.0</td>\n",
       "      <td>0.0</td>\n",
       "    </tr>\n",
       "    <tr>\n",
       "      <th>1</th>\n",
       "      <td>672831657627</td>\n",
       "      <td>4.875</td>\n",
       "      <td>144000</td>\n",
       "      <td>360</td>\n",
       "      <td>72</td>\n",
       "      <td>44.0</td>\n",
       "      <td>697.0</td>\n",
       "      <td>0.0</td>\n",
       "      <td>0.0</td>\n",
       "    </tr>\n",
       "    <tr>\n",
       "      <th>2</th>\n",
       "      <td>742515242108</td>\n",
       "      <td>3.250</td>\n",
       "      <td>366000</td>\n",
       "      <td>180</td>\n",
       "      <td>49</td>\n",
       "      <td>33.0</td>\n",
       "      <td>780.0</td>\n",
       "      <td>0.0</td>\n",
       "      <td>0.0</td>\n",
       "    </tr>\n",
       "    <tr>\n",
       "      <th>3</th>\n",
       "      <td>601385667462</td>\n",
       "      <td>4.750</td>\n",
       "      <td>135000</td>\n",
       "      <td>360</td>\n",
       "      <td>46</td>\n",
       "      <td>44.0</td>\n",
       "      <td>633.0</td>\n",
       "      <td>0.0</td>\n",
       "      <td>638.0</td>\n",
       "    </tr>\n",
       "    <tr>\n",
       "      <th>4</th>\n",
       "      <td>273870029961</td>\n",
       "      <td>4.750</td>\n",
       "      <td>124000</td>\n",
       "      <td>360</td>\n",
       "      <td>80</td>\n",
       "      <td>43.0</td>\n",
       "      <td>681.0</td>\n",
       "      <td>0.0</td>\n",
       "      <td>0.0</td>\n",
       "    </tr>\n",
       "  </tbody>\n",
       "</table>\n",
       "</div>"
      ],
      "text/plain": [
       "        loan_id  interest_rate  unpaid_principal_bal  loan_term  \\\n",
       "0  268055008619          4.250                214000        360   \n",
       "1  672831657627          4.875                144000        360   \n",
       "2  742515242108          3.250                366000        180   \n",
       "3  601385667462          4.750                135000        360   \n",
       "4  273870029961          4.750                124000        360   \n",
       "\n",
       "   loan_to_value  debt_to_income_ratio  borrower_credit_score  \\\n",
       "0             95                  22.0                  694.0   \n",
       "1             72                  44.0                  697.0   \n",
       "2             49                  33.0                  780.0   \n",
       "3             46                  44.0                  633.0   \n",
       "4             80                  43.0                  681.0   \n",
       "\n",
       "   insurance_percent  co-borrower_credit_score  \n",
       "0               30.0                       0.0  \n",
       "1                0.0                       0.0  \n",
       "2                0.0                       0.0  \n",
       "3                0.0                     638.0  \n",
       "4                0.0                       0.0  "
      ]
     },
     "execution_count": 477,
     "metadata": {},
     "output_type": "execute_result"
    }
   ],
   "source": [
    "data_num = data[num_vars]\n",
    "data_num.head()"
   ]
  },
  {
   "cell_type": "code",
   "execution_count": 478,
   "metadata": {},
   "outputs": [
    {
     "data": {
      "text/html": [
       "<div>\n",
       "<style scoped>\n",
       "    .dataframe tbody tr th:only-of-type {\n",
       "        vertical-align: middle;\n",
       "    }\n",
       "\n",
       "    .dataframe tbody tr th {\n",
       "        vertical-align: top;\n",
       "    }\n",
       "\n",
       "    .dataframe thead th {\n",
       "        text-align: right;\n",
       "    }\n",
       "</style>\n",
       "<table border=\"1\" class=\"dataframe\">\n",
       "  <thead>\n",
       "    <tr style=\"text-align: right;\">\n",
       "      <th></th>\n",
       "      <th>source</th>\n",
       "      <th>financial_institution</th>\n",
       "      <th>origination_date</th>\n",
       "      <th>first_payment_date</th>\n",
       "      <th>loan_purpose</th>\n",
       "      <th>insurance_type</th>\n",
       "      <th>number_of_borrowers</th>\n",
       "    </tr>\n",
       "  </thead>\n",
       "  <tbody>\n",
       "    <tr>\n",
       "      <th>0</th>\n",
       "      <td>Z</td>\n",
       "      <td>Turner, Baldwin and Rhodes</td>\n",
       "      <td>2012-03-01</td>\n",
       "      <td>05/2012</td>\n",
       "      <td>C86</td>\n",
       "      <td>0.0</td>\n",
       "      <td>1.0</td>\n",
       "    </tr>\n",
       "    <tr>\n",
       "      <th>1</th>\n",
       "      <td>Y</td>\n",
       "      <td>Swanson, Newton and Miller</td>\n",
       "      <td>2012-01-01</td>\n",
       "      <td>03/2012</td>\n",
       "      <td>B12</td>\n",
       "      <td>0.0</td>\n",
       "      <td>1.0</td>\n",
       "    </tr>\n",
       "    <tr>\n",
       "      <th>2</th>\n",
       "      <td>Z</td>\n",
       "      <td>Thornton-Davis</td>\n",
       "      <td>2012-01-01</td>\n",
       "      <td>03/2012</td>\n",
       "      <td>B12</td>\n",
       "      <td>0.0</td>\n",
       "      <td>1.0</td>\n",
       "    </tr>\n",
       "    <tr>\n",
       "      <th>3</th>\n",
       "      <td>X</td>\n",
       "      <td>OTHER</td>\n",
       "      <td>2012-02-01</td>\n",
       "      <td>04/2012</td>\n",
       "      <td>B12</td>\n",
       "      <td>0.0</td>\n",
       "      <td>2.0</td>\n",
       "    </tr>\n",
       "    <tr>\n",
       "      <th>4</th>\n",
       "      <td>X</td>\n",
       "      <td>OTHER</td>\n",
       "      <td>2012-02-01</td>\n",
       "      <td>04/2012</td>\n",
       "      <td>C86</td>\n",
       "      <td>0.0</td>\n",
       "      <td>1.0</td>\n",
       "    </tr>\n",
       "  </tbody>\n",
       "</table>\n",
       "</div>"
      ],
      "text/plain": [
       "  source       financial_institution origination_date first_payment_date  \\\n",
       "0      Z  Turner, Baldwin and Rhodes       2012-03-01            05/2012   \n",
       "1      Y  Swanson, Newton and Miller       2012-01-01            03/2012   \n",
       "2      Z              Thornton-Davis       2012-01-01            03/2012   \n",
       "3      X                       OTHER       2012-02-01            04/2012   \n",
       "4      X                       OTHER       2012-02-01            04/2012   \n",
       "\n",
       "  loan_purpose  insurance_type  number_of_borrowers  \n",
       "0          C86             0.0                  1.0  \n",
       "1          B12             0.0                  1.0  \n",
       "2          B12             0.0                  1.0  \n",
       "3          B12             0.0                  2.0  \n",
       "4          C86             0.0                  1.0  "
      ]
     },
     "execution_count": 478,
     "metadata": {},
     "output_type": "execute_result"
    }
   ],
   "source": [
    "data_cat = data[cat_vars]\n",
    "data_cat.head()"
   ]
  },
  {
   "cell_type": "code",
   "execution_count": 479,
   "metadata": {},
   "outputs": [
    {
     "data": {
      "text/html": [
       "<div>\n",
       "<style scoped>\n",
       "    .dataframe tbody tr th:only-of-type {\n",
       "        vertical-align: middle;\n",
       "    }\n",
       "\n",
       "    .dataframe tbody tr th {\n",
       "        vertical-align: top;\n",
       "    }\n",
       "\n",
       "    .dataframe thead th {\n",
       "        text-align: right;\n",
       "    }\n",
       "</style>\n",
       "<table border=\"1\" class=\"dataframe\">\n",
       "  <thead>\n",
       "    <tr style=\"text-align: right;\">\n",
       "      <th></th>\n",
       "      <th>m1</th>\n",
       "      <th>m2</th>\n",
       "      <th>m3</th>\n",
       "      <th>m4</th>\n",
       "      <th>m5</th>\n",
       "      <th>m6</th>\n",
       "      <th>m7</th>\n",
       "      <th>m8</th>\n",
       "      <th>m9</th>\n",
       "      <th>m10</th>\n",
       "      <th>m11</th>\n",
       "      <th>m12</th>\n",
       "      <th>m13</th>\n",
       "    </tr>\n",
       "  </thead>\n",
       "  <tbody>\n",
       "    <tr>\n",
       "      <th>0</th>\n",
       "      <td>0</td>\n",
       "      <td>0</td>\n",
       "      <td>0</td>\n",
       "      <td>0</td>\n",
       "      <td>0</td>\n",
       "      <td>0</td>\n",
       "      <td>1</td>\n",
       "      <td>0</td>\n",
       "      <td>0</td>\n",
       "      <td>0</td>\n",
       "      <td>0</td>\n",
       "      <td>0</td>\n",
       "      <td>1</td>\n",
       "    </tr>\n",
       "    <tr>\n",
       "      <th>1</th>\n",
       "      <td>0</td>\n",
       "      <td>0</td>\n",
       "      <td>0</td>\n",
       "      <td>0</td>\n",
       "      <td>0</td>\n",
       "      <td>0</td>\n",
       "      <td>0</td>\n",
       "      <td>0</td>\n",
       "      <td>0</td>\n",
       "      <td>0</td>\n",
       "      <td>1</td>\n",
       "      <td>0</td>\n",
       "      <td>1</td>\n",
       "    </tr>\n",
       "    <tr>\n",
       "      <th>2</th>\n",
       "      <td>0</td>\n",
       "      <td>0</td>\n",
       "      <td>0</td>\n",
       "      <td>0</td>\n",
       "      <td>0</td>\n",
       "      <td>0</td>\n",
       "      <td>0</td>\n",
       "      <td>0</td>\n",
       "      <td>0</td>\n",
       "      <td>0</td>\n",
       "      <td>0</td>\n",
       "      <td>0</td>\n",
       "      <td>1</td>\n",
       "    </tr>\n",
       "    <tr>\n",
       "      <th>3</th>\n",
       "      <td>0</td>\n",
       "      <td>0</td>\n",
       "      <td>0</td>\n",
       "      <td>0</td>\n",
       "      <td>0</td>\n",
       "      <td>0</td>\n",
       "      <td>0</td>\n",
       "      <td>0</td>\n",
       "      <td>1</td>\n",
       "      <td>1</td>\n",
       "      <td>1</td>\n",
       "      <td>1</td>\n",
       "      <td>1</td>\n",
       "    </tr>\n",
       "    <tr>\n",
       "      <th>4</th>\n",
       "      <td>0</td>\n",
       "      <td>1</td>\n",
       "      <td>2</td>\n",
       "      <td>3</td>\n",
       "      <td>4</td>\n",
       "      <td>5</td>\n",
       "      <td>6</td>\n",
       "      <td>7</td>\n",
       "      <td>8</td>\n",
       "      <td>9</td>\n",
       "      <td>10</td>\n",
       "      <td>11</td>\n",
       "      <td>1</td>\n",
       "    </tr>\n",
       "  </tbody>\n",
       "</table>\n",
       "</div>"
      ],
      "text/plain": [
       "   m1  m2  m3  m4  m5  m6  m7  m8  m9  m10  m11  m12  m13\n",
       "0   0   0   0   0   0   0   1   0   0    0    0    0    1\n",
       "1   0   0   0   0   0   0   0   0   0    0    1    0    1\n",
       "2   0   0   0   0   0   0   0   0   0    0    0    0    1\n",
       "3   0   0   0   0   0   0   0   0   1    1    1    1    1\n",
       "4   0   1   2   3   4   5   6   7   8    9   10   11    1"
      ]
     },
     "execution_count": 479,
     "metadata": {},
     "output_type": "execute_result"
    }
   ],
   "source": [
    "data_ord = data[ordinal_vars]\n",
    "data_ord.head()"
   ]
  },
  {
   "cell_type": "code",
   "execution_count": 480,
   "metadata": {},
   "outputs": [
    {
     "name": "stderr",
     "output_type": "stream",
     "text": [
      "C:\\Users\\arundev.satheesan\\AppData\\Local\\Continuum\\anaconda3\\lib\\site-packages\\pandas\\core\\frame.py:3694: SettingWithCopyWarning: \n",
      "A value is trying to be set on a copy of a slice from a DataFrame\n",
      "\n",
      "See the caveats in the documentation: http://pandas.pydata.org/pandas-docs/stable/indexing.html#indexing-view-versus-copy\n",
      "  errors=errors)\n"
     ]
    },
    {
     "data": {
      "text/html": [
       "<div>\n",
       "<style scoped>\n",
       "    .dataframe tbody tr th:only-of-type {\n",
       "        vertical-align: middle;\n",
       "    }\n",
       "\n",
       "    .dataframe tbody tr th {\n",
       "        vertical-align: top;\n",
       "    }\n",
       "\n",
       "    .dataframe thead th {\n",
       "        text-align: right;\n",
       "    }\n",
       "</style>\n",
       "<table border=\"1\" class=\"dataframe\">\n",
       "  <thead>\n",
       "    <tr style=\"text-align: right;\">\n",
       "      <th></th>\n",
       "      <th>source</th>\n",
       "      <th>financial_institution</th>\n",
       "      <th>loan_purpose</th>\n",
       "      <th>insurance_type</th>\n",
       "      <th>number_of_borrowers</th>\n",
       "    </tr>\n",
       "  </thead>\n",
       "  <tbody>\n",
       "    <tr>\n",
       "      <th>0</th>\n",
       "      <td>Z</td>\n",
       "      <td>Turner, Baldwin and Rhodes</td>\n",
       "      <td>C86</td>\n",
       "      <td>0.0</td>\n",
       "      <td>1.0</td>\n",
       "    </tr>\n",
       "    <tr>\n",
       "      <th>1</th>\n",
       "      <td>Y</td>\n",
       "      <td>Swanson, Newton and Miller</td>\n",
       "      <td>B12</td>\n",
       "      <td>0.0</td>\n",
       "      <td>1.0</td>\n",
       "    </tr>\n",
       "    <tr>\n",
       "      <th>2</th>\n",
       "      <td>Z</td>\n",
       "      <td>Thornton-Davis</td>\n",
       "      <td>B12</td>\n",
       "      <td>0.0</td>\n",
       "      <td>1.0</td>\n",
       "    </tr>\n",
       "    <tr>\n",
       "      <th>3</th>\n",
       "      <td>X</td>\n",
       "      <td>OTHER</td>\n",
       "      <td>B12</td>\n",
       "      <td>0.0</td>\n",
       "      <td>2.0</td>\n",
       "    </tr>\n",
       "    <tr>\n",
       "      <th>4</th>\n",
       "      <td>X</td>\n",
       "      <td>OTHER</td>\n",
       "      <td>C86</td>\n",
       "      <td>0.0</td>\n",
       "      <td>1.0</td>\n",
       "    </tr>\n",
       "  </tbody>\n",
       "</table>\n",
       "</div>"
      ],
      "text/plain": [
       "  source       financial_institution loan_purpose  insurance_type  \\\n",
       "0      Z  Turner, Baldwin and Rhodes          C86             0.0   \n",
       "1      Y  Swanson, Newton and Miller          B12             0.0   \n",
       "2      Z              Thornton-Davis          B12             0.0   \n",
       "3      X                       OTHER          B12             0.0   \n",
       "4      X                       OTHER          C86             0.0   \n",
       "\n",
       "   number_of_borrowers  \n",
       "0                  1.0  \n",
       "1                  1.0  \n",
       "2                  1.0  \n",
       "3                  2.0  \n",
       "4                  1.0  "
      ]
     },
     "execution_count": 480,
     "metadata": {},
     "output_type": "execute_result"
    }
   ],
   "source": [
    "data_cat.drop(columns=['origination_date','first_payment_date'],inplace=True)\n",
    "data_cat.head()"
   ]
  },
  {
   "cell_type": "code",
   "execution_count": null,
   "metadata": {},
   "outputs": [],
   "source": []
  },
  {
   "cell_type": "code",
   "execution_count": 481,
   "metadata": {},
   "outputs": [],
   "source": [
    "def outlierCapping(x):\n",
    "    x = x.clip_upper(x.quantile(0.99))\n",
    "    x = x.clip_lower(x.quantile(0.01))\n",
    "    return x\n",
    "data_num = data_num.apply(lambda x: outlierCapping(x))"
   ]
  },
  {
   "cell_type": "code",
   "execution_count": 482,
   "metadata": {},
   "outputs": [
    {
     "data": {
      "text/html": [
       "<div>\n",
       "<style scoped>\n",
       "    .dataframe tbody tr th:only-of-type {\n",
       "        vertical-align: middle;\n",
       "    }\n",
       "\n",
       "    .dataframe tbody tr th {\n",
       "        vertical-align: top;\n",
       "    }\n",
       "\n",
       "    .dataframe thead th {\n",
       "        text-align: right;\n",
       "    }\n",
       "</style>\n",
       "<table border=\"1\" class=\"dataframe\">\n",
       "  <thead>\n",
       "    <tr style=\"text-align: right;\">\n",
       "      <th></th>\n",
       "      <th>loan_id</th>\n",
       "      <th>interest_rate</th>\n",
       "      <th>unpaid_principal_bal</th>\n",
       "      <th>loan_term</th>\n",
       "      <th>loan_to_value</th>\n",
       "      <th>debt_to_income_ratio</th>\n",
       "      <th>borrower_credit_score</th>\n",
       "      <th>insurance_percent</th>\n",
       "      <th>co-borrower_credit_score</th>\n",
       "    </tr>\n",
       "  </thead>\n",
       "  <tbody>\n",
       "    <tr>\n",
       "      <th>loan_id</th>\n",
       "      <td>1.000000</td>\n",
       "      <td>-0.000843</td>\n",
       "      <td>0.005690</td>\n",
       "      <td>-0.001180</td>\n",
       "      <td>0.000670</td>\n",
       "      <td>0.003926</td>\n",
       "      <td>0.000400</td>\n",
       "      <td>0.000973</td>\n",
       "      <td>0.001917</td>\n",
       "    </tr>\n",
       "    <tr>\n",
       "      <th>interest_rate</th>\n",
       "      <td>-0.000843</td>\n",
       "      <td>1.000000</td>\n",
       "      <td>0.000071</td>\n",
       "      <td>0.728452</td>\n",
       "      <td>0.275547</td>\n",
       "      <td>0.183511</td>\n",
       "      <td>-0.223086</td>\n",
       "      <td>0.146604</td>\n",
       "      <td>-0.138254</td>\n",
       "    </tr>\n",
       "    <tr>\n",
       "      <th>unpaid_principal_bal</th>\n",
       "      <td>0.005690</td>\n",
       "      <td>0.000071</td>\n",
       "      <td>1.000000</td>\n",
       "      <td>0.192964</td>\n",
       "      <td>0.063857</td>\n",
       "      <td>0.073973</td>\n",
       "      <td>0.054287</td>\n",
       "      <td>0.012471</td>\n",
       "      <td>0.133517</td>\n",
       "    </tr>\n",
       "    <tr>\n",
       "      <th>loan_term</th>\n",
       "      <td>-0.001180</td>\n",
       "      <td>0.728452</td>\n",
       "      <td>0.192964</td>\n",
       "      <td>1.000000</td>\n",
       "      <td>0.292569</td>\n",
       "      <td>0.138152</td>\n",
       "      <td>-0.076748</td>\n",
       "      <td>0.191166</td>\n",
       "      <td>-0.110245</td>\n",
       "    </tr>\n",
       "    <tr>\n",
       "      <th>loan_to_value</th>\n",
       "      <td>0.000670</td>\n",
       "      <td>0.275547</td>\n",
       "      <td>0.063857</td>\n",
       "      <td>0.292569</td>\n",
       "      <td>1.000000</td>\n",
       "      <td>0.126334</td>\n",
       "      <td>-0.152916</td>\n",
       "      <td>0.491360</td>\n",
       "      <td>-0.109829</td>\n",
       "    </tr>\n",
       "    <tr>\n",
       "      <th>debt_to_income_ratio</th>\n",
       "      <td>0.003926</td>\n",
       "      <td>0.183511</td>\n",
       "      <td>0.073973</td>\n",
       "      <td>0.138152</td>\n",
       "      <td>0.126334</td>\n",
       "      <td>1.000000</td>\n",
       "      <td>-0.205020</td>\n",
       "      <td>0.066894</td>\n",
       "      <td>-0.145745</td>\n",
       "    </tr>\n",
       "    <tr>\n",
       "      <th>borrower_credit_score</th>\n",
       "      <td>0.000400</td>\n",
       "      <td>-0.223086</td>\n",
       "      <td>0.054287</td>\n",
       "      <td>-0.076748</td>\n",
       "      <td>-0.152916</td>\n",
       "      <td>-0.205020</td>\n",
       "      <td>1.000000</td>\n",
       "      <td>-0.069537</td>\n",
       "      <td>0.161513</td>\n",
       "    </tr>\n",
       "    <tr>\n",
       "      <th>insurance_percent</th>\n",
       "      <td>0.000973</td>\n",
       "      <td>0.146604</td>\n",
       "      <td>0.012471</td>\n",
       "      <td>0.191166</td>\n",
       "      <td>0.491360</td>\n",
       "      <td>0.066894</td>\n",
       "      <td>-0.069537</td>\n",
       "      <td>1.000000</td>\n",
       "      <td>-0.063485</td>\n",
       "    </tr>\n",
       "    <tr>\n",
       "      <th>co-borrower_credit_score</th>\n",
       "      <td>0.001917</td>\n",
       "      <td>-0.138254</td>\n",
       "      <td>0.133517</td>\n",
       "      <td>-0.110245</td>\n",
       "      <td>-0.109829</td>\n",
       "      <td>-0.145745</td>\n",
       "      <td>0.161513</td>\n",
       "      <td>-0.063485</td>\n",
       "      <td>1.000000</td>\n",
       "    </tr>\n",
       "  </tbody>\n",
       "</table>\n",
       "</div>"
      ],
      "text/plain": [
       "                           loan_id  interest_rate  unpaid_principal_bal  \\\n",
       "loan_id                   1.000000      -0.000843              0.005690   \n",
       "interest_rate            -0.000843       1.000000              0.000071   \n",
       "unpaid_principal_bal      0.005690       0.000071              1.000000   \n",
       "loan_term                -0.001180       0.728452              0.192964   \n",
       "loan_to_value             0.000670       0.275547              0.063857   \n",
       "debt_to_income_ratio      0.003926       0.183511              0.073973   \n",
       "borrower_credit_score     0.000400      -0.223086              0.054287   \n",
       "insurance_percent         0.000973       0.146604              0.012471   \n",
       "co-borrower_credit_score  0.001917      -0.138254              0.133517   \n",
       "\n",
       "                          loan_term  loan_to_value  debt_to_income_ratio  \\\n",
       "loan_id                   -0.001180       0.000670              0.003926   \n",
       "interest_rate              0.728452       0.275547              0.183511   \n",
       "unpaid_principal_bal       0.192964       0.063857              0.073973   \n",
       "loan_term                  1.000000       0.292569              0.138152   \n",
       "loan_to_value              0.292569       1.000000              0.126334   \n",
       "debt_to_income_ratio       0.138152       0.126334              1.000000   \n",
       "borrower_credit_score     -0.076748      -0.152916             -0.205020   \n",
       "insurance_percent          0.191166       0.491360              0.066894   \n",
       "co-borrower_credit_score  -0.110245      -0.109829             -0.145745   \n",
       "\n",
       "                          borrower_credit_score  insurance_percent  \\\n",
       "loan_id                                0.000400           0.000973   \n",
       "interest_rate                         -0.223086           0.146604   \n",
       "unpaid_principal_bal                   0.054287           0.012471   \n",
       "loan_term                             -0.076748           0.191166   \n",
       "loan_to_value                         -0.152916           0.491360   \n",
       "debt_to_income_ratio                  -0.205020           0.066894   \n",
       "borrower_credit_score                  1.000000          -0.069537   \n",
       "insurance_percent                     -0.069537           1.000000   \n",
       "co-borrower_credit_score               0.161513          -0.063485   \n",
       "\n",
       "                          co-borrower_credit_score  \n",
       "loan_id                                   0.001917  \n",
       "interest_rate                            -0.138254  \n",
       "unpaid_principal_bal                      0.133517  \n",
       "loan_term                                -0.110245  \n",
       "loan_to_value                            -0.109829  \n",
       "debt_to_income_ratio                     -0.145745  \n",
       "borrower_credit_score                     0.161513  \n",
       "insurance_percent                        -0.063485  \n",
       "co-borrower_credit_score                  1.000000  "
      ]
     },
     "execution_count": 482,
     "metadata": {},
     "output_type": "execute_result"
    }
   ],
   "source": [
    "data_num.corr()"
   ]
  },
  {
   "cell_type": "code",
   "execution_count": 483,
   "metadata": {},
   "outputs": [
    {
     "data": {
      "text/plain": [
       "<matplotlib.axes._subplots.AxesSubplot at 0x234e60d0668>"
      ]
     },
     "execution_count": 483,
     "metadata": {},
     "output_type": "execute_result"
    },
    {
     "data": {
      "image/png": "[encoded data removed]",
      "text/plain": [
       "<Figure size 432x288 with 2 Axes>"
      ]
     },
     "metadata": {},
     "output_type": "display_data"
    }
   ],
   "source": [
    "corr = data_num.corr()\n",
    "sns.heatmap(corr)"
   ]
  },
  {
   "cell_type": "code",
   "execution_count": 484,
   "metadata": {},
   "outputs": [
    {
     "name": "stdout",
     "output_type": "stream",
     "text": [
      "<class 'pandas.core.frame.DataFrame'>\n",
      "RangeIndex: 116058 entries, 0 to 116057\n",
      "Data columns (total 5 columns):\n",
      "source                   116058 non-null category\n",
      "financial_institution    116058 non-null category\n",
      "loan_purpose             116058 non-null category\n",
      "insurance_type           116058 non-null category\n",
      "number_of_borrowers      116058 non-null category\n",
      "dtypes: category(5)\n",
      "memory usage: 567.9 KB\n"
     ]
    }
   ],
   "source": [
    "data_cat = data_cat.apply(lambda x: x.astype('category'))\n",
    "data_cat.info()"
   ]
  },
  {
   "cell_type": "code",
   "execution_count": 485,
   "metadata": {},
   "outputs": [],
   "source": [
    "from sklearn.preprocessing import LabelEncoder,OneHotEncoder"
   ]
  },
  {
   "cell_type": "code",
   "execution_count": 486,
   "metadata": {},
   "outputs": [],
   "source": [
    "def create_dummies(df,colname):\n",
    "    col_dummies = pd.get_dummies(df[colname],prefix=colname,drop_first=True)\n",
    "    df = pd.concat([df,col_dummies],axis=1)\n",
    "    df.drop(colname,axis=1,inplace=True)\n",
    "    return df"
   ]
  },
  {
   "cell_type": "code",
   "execution_count": 487,
   "metadata": {},
   "outputs": [
    {
     "name": "stdout",
     "output_type": "stream",
     "text": [
      "<class 'pandas.core.frame.DataFrame'>\n",
      "RangeIndex: 116058 entries, 0 to 116057\n",
      "Data columns (total 24 columns):\n",
      "source_Y                                             116058 non-null uint8\n",
      "source_Z                                             116058 non-null uint8\n",
      "financial_institution_Browning-Hart                  116058 non-null uint8\n",
      "financial_institution_Chapman-Mcmahon                116058 non-null uint8\n",
      "financial_institution_Cole, Brooks and Vincent       116058 non-null uint8\n",
      "financial_institution_Edwards-Hoffman                116058 non-null uint8\n",
      "financial_institution_Martinez, Duffy and Bird       116058 non-null uint8\n",
      "financial_institution_Miller, Mcclure and Allen      116058 non-null uint8\n",
      "financial_institution_Nicholson Group                116058 non-null uint8\n",
      "financial_institution_OTHER                          116058 non-null uint8\n",
      "financial_institution_Richards-Walters               116058 non-null uint8\n",
      "financial_institution_Richardson Ltd                 116058 non-null uint8\n",
      "financial_institution_Romero, Woods and Johnson      116058 non-null uint8\n",
      "financial_institution_Sanchez, Hays and Wilkerson    116058 non-null uint8\n",
      "financial_institution_Sanchez-Robinson               116058 non-null uint8\n",
      "financial_institution_Suarez Inc                     116058 non-null uint8\n",
      "financial_institution_Swanson, Newton and Miller     116058 non-null uint8\n",
      "financial_institution_Taylor, Hunt and Rodriguez     116058 non-null uint8\n",
      "financial_institution_Thornton-Davis                 116058 non-null uint8\n",
      "financial_institution_Turner, Baldwin and Rhodes     116058 non-null uint8\n",
      "loan_purpose_B12                                     116058 non-null uint8\n",
      "loan_purpose_C86                                     116058 non-null uint8\n",
      "insurance_type_1.0                                   116058 non-null uint8\n",
      "number_of_borrowers_2.0                              116058 non-null uint8\n",
      "dtypes: uint8(24)\n",
      "memory usage: 2.7 MB\n"
     ]
    }
   ],
   "source": [
    "data_cat_new = data_cat\n",
    "for col in data_cat.columns:\n",
    "    data_cat_new = create_dummies(data_cat_new,col)\n",
    "data_cat_new.info()"
   ]
  },
  {
   "cell_type": "code",
   "execution_count": 488,
   "metadata": {},
   "outputs": [
    {
     "name": "stdout",
     "output_type": "stream",
     "text": [
      "<class 'pandas.core.frame.DataFrame'>\n",
      "RangeIndex: 116058 entries, 0 to 116057\n",
      "Data columns (total 46 columns):\n",
      "loan_id                                              116058 non-null float64\n",
      "interest_rate                                        116058 non-null float64\n",
      "unpaid_principal_bal                                 116058 non-null float64\n",
      "loan_term                                            116058 non-null float64\n",
      "loan_to_value                                        116058 non-null float64\n",
      "debt_to_income_ratio                                 116058 non-null float64\n",
      "borrower_credit_score                                116058 non-null float64\n",
      "insurance_percent                                    116058 non-null float64\n",
      "co-borrower_credit_score                             116058 non-null float64\n",
      "source_Y                                             116058 non-null uint8\n",
      "source_Z                                             116058 non-null uint8\n",
      "financial_institution_Browning-Hart                  116058 non-null uint8\n",
      "financial_institution_Chapman-Mcmahon                116058 non-null uint8\n",
      "financial_institution_Cole, Brooks and Vincent       116058 non-null uint8\n",
      "financial_institution_Edwards-Hoffman                116058 non-null uint8\n",
      "financial_institution_Martinez, Duffy and Bird       116058 non-null uint8\n",
      "financial_institution_Miller, Mcclure and Allen      116058 non-null uint8\n",
      "financial_institution_Nicholson Group                116058 non-null uint8\n",
      "financial_institution_OTHER                          116058 non-null uint8\n",
      "financial_institution_Richards-Walters               116058 non-null uint8\n",
      "financial_institution_Richardson Ltd                 116058 non-null uint8\n",
      "financial_institution_Romero, Woods and Johnson      116058 non-null uint8\n",
      "financial_institution_Sanchez, Hays and Wilkerson    116058 non-null uint8\n",
      "financial_institution_Sanchez-Robinson               116058 non-null uint8\n",
      "financial_institution_Suarez Inc                     116058 non-null uint8\n",
      "financial_institution_Swanson, Newton and Miller     116058 non-null uint8\n",
      "financial_institution_Taylor, Hunt and Rodriguez     116058 non-null uint8\n",
      "financial_institution_Thornton-Davis                 116058 non-null uint8\n",
      "financial_institution_Turner, Baldwin and Rhodes     116058 non-null uint8\n",
      "loan_purpose_B12                                     116058 non-null uint8\n",
      "loan_purpose_C86                                     116058 non-null uint8\n",
      "insurance_type_1.0                                   116058 non-null uint8\n",
      "number_of_borrowers_2.0                              116058 non-null uint8\n",
      "m1                                                   116058 non-null int64\n",
      "m2                                                   116058 non-null int64\n",
      "m3                                                   116058 non-null int64\n",
      "m4                                                   116058 non-null int64\n",
      "m5                                                   116058 non-null int64\n",
      "m6                                                   116058 non-null int64\n",
      "m7                                                   116058 non-null int64\n",
      "m8                                                   116058 non-null int64\n",
      "m9                                                   116058 non-null int64\n",
      "m10                                                  116058 non-null int64\n",
      "m11                                                  116058 non-null int64\n",
      "m12                                                  116058 non-null int64\n",
      "m13                                                  116058 non-null int64\n",
      "dtypes: float64(9), int64(13), uint8(24)\n",
      "memory usage: 22.1 MB\n"
     ]
    }
   ],
   "source": [
    "data_new = pd.concat([data_num,data_cat_new,data_ord],axis=1)\n",
    "data_new.info()"
   ]
  },
  {
   "cell_type": "code",
   "execution_count": 489,
   "metadata": {},
   "outputs": [],
   "source": [
    "# data_new.rename(columns={'co-borrower_credit_score': 'co_borrower_credit_score'},inplace=True)\n",
    "data_new.columns = [var.strip().replace('-','_') for var in data_new.columns]\n",
    "data_new.columns = [var.strip().replace(' ','_') for var in data_new.columns]\n",
    "data_new.columns = [var.strip().replace(',','_') for var in data_new.columns]\n",
    "data_new.columns = [var.strip().replace('.','_') for var in data_new.columns]"
   ]
  },
  {
   "cell_type": "code",
   "execution_count": 490,
   "metadata": {},
   "outputs": [
    {
     "name": "stdout",
     "output_type": "stream",
     "text": [
      "<class 'pandas.core.frame.DataFrame'>\n",
      "RangeIndex: 116058 entries, 0 to 116057\n",
      "Data columns (total 46 columns):\n",
      "loan_id                                              116058 non-null float64\n",
      "interest_rate                                        116058 non-null float64\n",
      "unpaid_principal_bal                                 116058 non-null float64\n",
      "loan_term                                            116058 non-null float64\n",
      "loan_to_value                                        116058 non-null float64\n",
      "debt_to_income_ratio                                 116058 non-null float64\n",
      "borrower_credit_score                                116058 non-null float64\n",
      "insurance_percent                                    116058 non-null float64\n",
      "co_borrower_credit_score                             116058 non-null float64\n",
      "source_Y                                             116058 non-null uint8\n",
      "source_Z                                             116058 non-null uint8\n",
      "financial_institution_Browning_Hart                  116058 non-null uint8\n",
      "financial_institution_Chapman_Mcmahon                116058 non-null uint8\n",
      "financial_institution_Cole__Brooks_and_Vincent       116058 non-null uint8\n",
      "financial_institution_Edwards_Hoffman                116058 non-null uint8\n",
      "financial_institution_Martinez__Duffy_and_Bird       116058 non-null uint8\n",
      "financial_institution_Miller__Mcclure_and_Allen      116058 non-null uint8\n",
      "financial_institution_Nicholson_Group                116058 non-null uint8\n",
      "financial_institution_OTHER                          116058 non-null uint8\n",
      "financial_institution_Richards_Walters               116058 non-null uint8\n",
      "financial_institution_Richardson_Ltd                 116058 non-null uint8\n",
      "financial_institution_Romero__Woods_and_Johnson      116058 non-null uint8\n",
      "financial_institution_Sanchez__Hays_and_Wilkerson    116058 non-null uint8\n",
      "financial_institution_Sanchez_Robinson               116058 non-null uint8\n",
      "financial_institution_Suarez_Inc                     116058 non-null uint8\n",
      "financial_institution_Swanson__Newton_and_Miller     116058 non-null uint8\n",
      "financial_institution_Taylor__Hunt_and_Rodriguez     116058 non-null uint8\n",
      "financial_institution_Thornton_Davis                 116058 non-null uint8\n",
      "financial_institution_Turner__Baldwin_and_Rhodes     116058 non-null uint8\n",
      "loan_purpose_B12                                     116058 non-null uint8\n",
      "loan_purpose_C86                                     116058 non-null uint8\n",
      "insurance_type_1_0                                   116058 non-null uint8\n",
      "number_of_borrowers_2_0                              116058 non-null uint8\n",
      "m1                                                   116058 non-null int64\n",
      "m2                                                   116058 non-null int64\n",
      "m3                                                   116058 non-null int64\n",
      "m4                                                   116058 non-null int64\n",
      "m5                                                   116058 non-null int64\n",
      "m6                                                   116058 non-null int64\n",
      "m7                                                   116058 non-null int64\n",
      "m8                                                   116058 non-null int64\n",
      "m9                                                   116058 non-null int64\n",
      "m10                                                  116058 non-null int64\n",
      "m11                                                  116058 non-null int64\n",
      "m12                                                  116058 non-null int64\n",
      "m13                                                  116058 non-null int64\n",
      "dtypes: float64(9), int64(13), uint8(24)\n",
      "memory usage: 22.1 MB\n"
     ]
    }
   ],
   "source": [
    "data_new.info()"
   ]
  },
  {
   "cell_type": "code",
   "execution_count": null,
   "metadata": {},
   "outputs": [],
   "source": []
  },
  {
   "cell_type": "code",
   "execution_count": 491,
   "metadata": {},
   "outputs": [
    {
     "data": {
      "text/html": [
       "<div>\n",
       "<style scoped>\n",
       "    .dataframe tbody tr th:only-of-type {\n",
       "        vertical-align: middle;\n",
       "    }\n",
       "\n",
       "    .dataframe tbody tr th {\n",
       "        vertical-align: top;\n",
       "    }\n",
       "\n",
       "    .dataframe thead th {\n",
       "        text-align: right;\n",
       "    }\n",
       "</style>\n",
       "<table border=\"1\" class=\"dataframe\">\n",
       "  <thead>\n",
       "    <tr style=\"text-align: right;\">\n",
       "      <th></th>\n",
       "      <th>loan_id</th>\n",
       "      <th>interest_rate</th>\n",
       "      <th>unpaid_principal_bal</th>\n",
       "      <th>loan_term</th>\n",
       "      <th>loan_to_value</th>\n",
       "      <th>debt_to_income_ratio</th>\n",
       "      <th>borrower_credit_score</th>\n",
       "      <th>insurance_percent</th>\n",
       "      <th>co_borrower_credit_score</th>\n",
       "      <th>source_Y</th>\n",
       "      <th>...</th>\n",
       "      <th>m4</th>\n",
       "      <th>m5</th>\n",
       "      <th>m6</th>\n",
       "      <th>m7</th>\n",
       "      <th>m8</th>\n",
       "      <th>m9</th>\n",
       "      <th>m10</th>\n",
       "      <th>m11</th>\n",
       "      <th>m12</th>\n",
       "      <th>m13</th>\n",
       "    </tr>\n",
       "  </thead>\n",
       "  <tbody>\n",
       "    <tr>\n",
       "      <th>count</th>\n",
       "      <td>1.160580e+05</td>\n",
       "      <td>116058.000000</td>\n",
       "      <td>116058.000000</td>\n",
       "      <td>116058.000000</td>\n",
       "      <td>116058.000000</td>\n",
       "      <td>116058.000000</td>\n",
       "      <td>116058.000000</td>\n",
       "      <td>116058.000000</td>\n",
       "      <td>116058.000000</td>\n",
       "      <td>116058.000000</td>\n",
       "      <td>...</td>\n",
       "      <td>116058.000000</td>\n",
       "      <td>116058.000000</td>\n",
       "      <td>116058.000000</td>\n",
       "      <td>116058.000000</td>\n",
       "      <td>116058.000000</td>\n",
       "      <td>116058.000000</td>\n",
       "      <td>116058.000000</td>\n",
       "      <td>116058.000000</td>\n",
       "      <td>116058.000000</td>\n",
       "      <td>116058.000000</td>\n",
       "    </tr>\n",
       "    <tr>\n",
       "      <th>mean</th>\n",
       "      <td>5.494105e+11</td>\n",
       "      <td>3.867114</td>\n",
       "      <td>207808.345827</td>\n",
       "      <td>292.336883</td>\n",
       "      <td>67.461950</td>\n",
       "      <td>30.761309</td>\n",
       "      <td>770.305856</td>\n",
       "      <td>2.770098</td>\n",
       "      <td>459.586767</td>\n",
       "      <td>0.323580</td>\n",
       "      <td>...</td>\n",
       "      <td>0.002180</td>\n",
       "      <td>0.003533</td>\n",
       "      <td>0.003421</td>\n",
       "      <td>0.004162</td>\n",
       "      <td>0.004825</td>\n",
       "      <td>0.005359</td>\n",
       "      <td>0.006617</td>\n",
       "      <td>0.007109</td>\n",
       "      <td>0.008065</td>\n",
       "      <td>0.005480</td>\n",
       "    </tr>\n",
       "    <tr>\n",
       "      <th>std</th>\n",
       "      <td>2.596040e+11</td>\n",
       "      <td>0.452785</td>\n",
       "      <td>112880.558895</td>\n",
       "      <td>89.646335</td>\n",
       "      <td>17.154091</td>\n",
       "      <td>9.663045</td>\n",
       "      <td>38.641997</td>\n",
       "      <td>8.036764</td>\n",
       "      <td>381.923425</td>\n",
       "      <td>0.467844</td>\n",
       "      <td>...</td>\n",
       "      <td>0.062161</td>\n",
       "      <td>0.082638</td>\n",
       "      <td>0.087553</td>\n",
       "      <td>0.100961</td>\n",
       "      <td>0.113128</td>\n",
       "      <td>0.128242</td>\n",
       "      <td>0.148430</td>\n",
       "      <td>0.162884</td>\n",
       "      <td>0.178128</td>\n",
       "      <td>0.073824</td>\n",
       "    </tr>\n",
       "    <tr>\n",
       "      <th>min</th>\n",
       "      <td>1.082963e+11</td>\n",
       "      <td>2.875000</td>\n",
       "      <td>43000.000000</td>\n",
       "      <td>120.000000</td>\n",
       "      <td>21.000000</td>\n",
       "      <td>10.000000</td>\n",
       "      <td>650.000000</td>\n",
       "      <td>0.000000</td>\n",
       "      <td>0.000000</td>\n",
       "      <td>0.000000</td>\n",
       "      <td>...</td>\n",
       "      <td>0.000000</td>\n",
       "      <td>0.000000</td>\n",
       "      <td>0.000000</td>\n",
       "      <td>0.000000</td>\n",
       "      <td>0.000000</td>\n",
       "      <td>0.000000</td>\n",
       "      <td>0.000000</td>\n",
       "      <td>0.000000</td>\n",
       "      <td>0.000000</td>\n",
       "      <td>0.000000</td>\n",
       "    </tr>\n",
       "    <tr>\n",
       "      <th>25%</th>\n",
       "      <td>3.244656e+11</td>\n",
       "      <td>3.500000</td>\n",
       "      <td>120000.000000</td>\n",
       "      <td>180.000000</td>\n",
       "      <td>57.000000</td>\n",
       "      <td>23.000000</td>\n",
       "      <td>751.000000</td>\n",
       "      <td>0.000000</td>\n",
       "      <td>0.000000</td>\n",
       "      <td>0.000000</td>\n",
       "      <td>...</td>\n",
       "      <td>0.000000</td>\n",
       "      <td>0.000000</td>\n",
       "      <td>0.000000</td>\n",
       "      <td>0.000000</td>\n",
       "      <td>0.000000</td>\n",
       "      <td>0.000000</td>\n",
       "      <td>0.000000</td>\n",
       "      <td>0.000000</td>\n",
       "      <td>0.000000</td>\n",
       "      <td>0.000000</td>\n",
       "    </tr>\n",
       "    <tr>\n",
       "      <th>50%</th>\n",
       "      <td>5.486239e+11</td>\n",
       "      <td>3.875000</td>\n",
       "      <td>183000.000000</td>\n",
       "      <td>360.000000</td>\n",
       "      <td>72.000000</td>\n",
       "      <td>31.000000</td>\n",
       "      <td>782.000000</td>\n",
       "      <td>0.000000</td>\n",
       "      <td>740.000000</td>\n",
       "      <td>0.000000</td>\n",
       "      <td>...</td>\n",
       "      <td>0.000000</td>\n",
       "      <td>0.000000</td>\n",
       "      <td>0.000000</td>\n",
       "      <td>0.000000</td>\n",
       "      <td>0.000000</td>\n",
       "      <td>0.000000</td>\n",
       "      <td>0.000000</td>\n",
       "      <td>0.000000</td>\n",
       "      <td>0.000000</td>\n",
       "      <td>0.000000</td>\n",
       "    </tr>\n",
       "    <tr>\n",
       "      <th>75%</th>\n",
       "      <td>7.743034e+11</td>\n",
       "      <td>4.125000</td>\n",
       "      <td>278000.000000</td>\n",
       "      <td>360.000000</td>\n",
       "      <td>80.000000</td>\n",
       "      <td>39.000000</td>\n",
       "      <td>800.000000</td>\n",
       "      <td>0.000000</td>\n",
       "      <td>791.000000</td>\n",
       "      <td>1.000000</td>\n",
       "      <td>...</td>\n",
       "      <td>0.000000</td>\n",
       "      <td>0.000000</td>\n",
       "      <td>0.000000</td>\n",
       "      <td>0.000000</td>\n",
       "      <td>0.000000</td>\n",
       "      <td>0.000000</td>\n",
       "      <td>0.000000</td>\n",
       "      <td>0.000000</td>\n",
       "      <td>0.000000</td>\n",
       "      <td>0.000000</td>\n",
       "    </tr>\n",
       "    <tr>\n",
       "      <th>max</th>\n",
       "      <td>9.908142e+11</td>\n",
       "      <td>5.000000</td>\n",
       "      <td>554000.000000</td>\n",
       "      <td>360.000000</td>\n",
       "      <td>95.000000</td>\n",
       "      <td>49.000000</td>\n",
       "      <td>820.000000</td>\n",
       "      <td>30.000000</td>\n",
       "      <td>819.000000</td>\n",
       "      <td>1.000000</td>\n",
       "      <td>...</td>\n",
       "      <td>6.000000</td>\n",
       "      <td>7.000000</td>\n",
       "      <td>8.000000</td>\n",
       "      <td>9.000000</td>\n",
       "      <td>10.000000</td>\n",
       "      <td>11.000000</td>\n",
       "      <td>12.000000</td>\n",
       "      <td>13.000000</td>\n",
       "      <td>14.000000</td>\n",
       "      <td>1.000000</td>\n",
       "    </tr>\n",
       "  </tbody>\n",
       "</table>\n",
       "<p>8 rows × 46 columns</p>\n",
       "</div>"
      ],
      "text/plain": [
       "            loan_id  interest_rate  unpaid_principal_bal      loan_term  \\\n",
       "count  1.160580e+05  116058.000000         116058.000000  116058.000000   \n",
       "mean   5.494105e+11       3.867114         207808.345827     292.336883   \n",
       "std    2.596040e+11       0.452785         112880.558895      89.646335   \n",
       "min    1.082963e+11       2.875000          43000.000000     120.000000   \n",
       "25%    3.244656e+11       3.500000         120000.000000     180.000000   \n",
       "50%    5.486239e+11       3.875000         183000.000000     360.000000   \n",
       "75%    7.743034e+11       4.125000         278000.000000     360.000000   \n",
       "max    9.908142e+11       5.000000         554000.000000     360.000000   \n",
       "\n",
       "       loan_to_value  debt_to_income_ratio  borrower_credit_score  \\\n",
       "count  116058.000000         116058.000000          116058.000000   \n",
       "mean       67.461950             30.761309             770.305856   \n",
       "std        17.154091              9.663045              38.641997   \n",
       "min        21.000000             10.000000             650.000000   \n",
       "25%        57.000000             23.000000             751.000000   \n",
       "50%        72.000000             31.000000             782.000000   \n",
       "75%        80.000000             39.000000             800.000000   \n",
       "max        95.000000             49.000000             820.000000   \n",
       "\n",
       "       insurance_percent  co_borrower_credit_score       source_Y  \\\n",
       "count      116058.000000             116058.000000  116058.000000   \n",
       "mean            2.770098                459.586767       0.323580   \n",
       "std             8.036764                381.923425       0.467844   \n",
       "min             0.000000                  0.000000       0.000000   \n",
       "25%             0.000000                  0.000000       0.000000   \n",
       "50%             0.000000                740.000000       0.000000   \n",
       "75%             0.000000                791.000000       1.000000   \n",
       "max            30.000000                819.000000       1.000000   \n",
       "\n",
       "           ...                   m4             m5             m6  \\\n",
       "count      ...        116058.000000  116058.000000  116058.000000   \n",
       "mean       ...             0.002180       0.003533       0.003421   \n",
       "std        ...             0.062161       0.082638       0.087553   \n",
       "min        ...             0.000000       0.000000       0.000000   \n",
       "25%        ...             0.000000       0.000000       0.000000   \n",
       "50%        ...             0.000000       0.000000       0.000000   \n",
       "75%        ...             0.000000       0.000000       0.000000   \n",
       "max        ...             6.000000       7.000000       8.000000   \n",
       "\n",
       "                  m7             m8             m9            m10  \\\n",
       "count  116058.000000  116058.000000  116058.000000  116058.000000   \n",
       "mean        0.004162       0.004825       0.005359       0.006617   \n",
       "std         0.100961       0.113128       0.128242       0.148430   \n",
       "min         0.000000       0.000000       0.000000       0.000000   \n",
       "25%         0.000000       0.000000       0.000000       0.000000   \n",
       "50%         0.000000       0.000000       0.000000       0.000000   \n",
       "75%         0.000000       0.000000       0.000000       0.000000   \n",
       "max         9.000000      10.000000      11.000000      12.000000   \n",
       "\n",
       "                 m11            m12            m13  \n",
       "count  116058.000000  116058.000000  116058.000000  \n",
       "mean        0.007109       0.008065       0.005480  \n",
       "std         0.162884       0.178128       0.073824  \n",
       "min         0.000000       0.000000       0.000000  \n",
       "25%         0.000000       0.000000       0.000000  \n",
       "50%         0.000000       0.000000       0.000000  \n",
       "75%         0.000000       0.000000       0.000000  \n",
       "max        13.000000      14.000000       1.000000  \n",
       "\n",
       "[8 rows x 46 columns]"
      ]
     },
     "execution_count": 491,
     "metadata": {},
     "output_type": "execute_result"
    }
   ],
   "source": [
    "data_new.describe()"
   ]
  },
  {
   "cell_type": "code",
   "execution_count": 492,
   "metadata": {},
   "outputs": [],
   "source": [
    "# profile_new = pandas_profiling.ProfileReport(data_new)\n",
    "# profile_new.to_file(outputfile='profile_new.html')"
   ]
  },
  {
   "cell_type": "code",
   "execution_count": 493,
   "metadata": {},
   "outputs": [],
   "source": [
    "data_new.drop(columns=['borrower_credit_score'],inplace=True)\n",
    "#High correlation with "
   ]
  },
  {
   "cell_type": "code",
   "execution_count": 494,
   "metadata": {},
   "outputs": [
    {
     "data": {
      "text/html": [
       "<div>\n",
       "<style scoped>\n",
       "    .dataframe tbody tr th:only-of-type {\n",
       "        vertical-align: middle;\n",
       "    }\n",
       "\n",
       "    .dataframe tbody tr th {\n",
       "        vertical-align: top;\n",
       "    }\n",
       "\n",
       "    .dataframe thead th {\n",
       "        text-align: right;\n",
       "    }\n",
       "</style>\n",
       "<table border=\"1\" class=\"dataframe\">\n",
       "  <thead>\n",
       "    <tr style=\"text-align: right;\">\n",
       "      <th></th>\n",
       "      <th>loan_id</th>\n",
       "      <th>interest_rate</th>\n",
       "      <th>unpaid_principal_bal</th>\n",
       "      <th>loan_term</th>\n",
       "      <th>loan_to_value</th>\n",
       "      <th>debt_to_income_ratio</th>\n",
       "      <th>insurance_percent</th>\n",
       "      <th>co_borrower_credit_score</th>\n",
       "      <th>source_Y</th>\n",
       "      <th>source_Z</th>\n",
       "      <th>...</th>\n",
       "      <th>m4</th>\n",
       "      <th>m5</th>\n",
       "      <th>m6</th>\n",
       "      <th>m7</th>\n",
       "      <th>m8</th>\n",
       "      <th>m9</th>\n",
       "      <th>m10</th>\n",
       "      <th>m11</th>\n",
       "      <th>m12</th>\n",
       "      <th>m13</th>\n",
       "    </tr>\n",
       "  </thead>\n",
       "  <tbody>\n",
       "    <tr>\n",
       "      <th>0</th>\n",
       "      <td>2.680550e+11</td>\n",
       "      <td>4.250</td>\n",
       "      <td>214000.0</td>\n",
       "      <td>360.0</td>\n",
       "      <td>95.0</td>\n",
       "      <td>22.0</td>\n",
       "      <td>30.0</td>\n",
       "      <td>0.0</td>\n",
       "      <td>0</td>\n",
       "      <td>1</td>\n",
       "      <td>...</td>\n",
       "      <td>0</td>\n",
       "      <td>0</td>\n",
       "      <td>0</td>\n",
       "      <td>1</td>\n",
       "      <td>0</td>\n",
       "      <td>0</td>\n",
       "      <td>0</td>\n",
       "      <td>0</td>\n",
       "      <td>0</td>\n",
       "      <td>1</td>\n",
       "    </tr>\n",
       "    <tr>\n",
       "      <th>1</th>\n",
       "      <td>6.728317e+11</td>\n",
       "      <td>4.875</td>\n",
       "      <td>144000.0</td>\n",
       "      <td>360.0</td>\n",
       "      <td>72.0</td>\n",
       "      <td>44.0</td>\n",
       "      <td>0.0</td>\n",
       "      <td>0.0</td>\n",
       "      <td>1</td>\n",
       "      <td>0</td>\n",
       "      <td>...</td>\n",
       "      <td>0</td>\n",
       "      <td>0</td>\n",
       "      <td>0</td>\n",
       "      <td>0</td>\n",
       "      <td>0</td>\n",
       "      <td>0</td>\n",
       "      <td>0</td>\n",
       "      <td>1</td>\n",
       "      <td>0</td>\n",
       "      <td>1</td>\n",
       "    </tr>\n",
       "    <tr>\n",
       "      <th>2</th>\n",
       "      <td>7.425152e+11</td>\n",
       "      <td>3.250</td>\n",
       "      <td>366000.0</td>\n",
       "      <td>180.0</td>\n",
       "      <td>49.0</td>\n",
       "      <td>33.0</td>\n",
       "      <td>0.0</td>\n",
       "      <td>0.0</td>\n",
       "      <td>0</td>\n",
       "      <td>1</td>\n",
       "      <td>...</td>\n",
       "      <td>0</td>\n",
       "      <td>0</td>\n",
       "      <td>0</td>\n",
       "      <td>0</td>\n",
       "      <td>0</td>\n",
       "      <td>0</td>\n",
       "      <td>0</td>\n",
       "      <td>0</td>\n",
       "      <td>0</td>\n",
       "      <td>1</td>\n",
       "    </tr>\n",
       "    <tr>\n",
       "      <th>3</th>\n",
       "      <td>6.013857e+11</td>\n",
       "      <td>4.750</td>\n",
       "      <td>135000.0</td>\n",
       "      <td>360.0</td>\n",
       "      <td>46.0</td>\n",
       "      <td>44.0</td>\n",
       "      <td>0.0</td>\n",
       "      <td>638.0</td>\n",
       "      <td>0</td>\n",
       "      <td>0</td>\n",
       "      <td>...</td>\n",
       "      <td>0</td>\n",
       "      <td>0</td>\n",
       "      <td>0</td>\n",
       "      <td>0</td>\n",
       "      <td>0</td>\n",
       "      <td>1</td>\n",
       "      <td>1</td>\n",
       "      <td>1</td>\n",
       "      <td>1</td>\n",
       "      <td>1</td>\n",
       "    </tr>\n",
       "    <tr>\n",
       "      <th>4</th>\n",
       "      <td>2.738700e+11</td>\n",
       "      <td>4.750</td>\n",
       "      <td>124000.0</td>\n",
       "      <td>360.0</td>\n",
       "      <td>80.0</td>\n",
       "      <td>43.0</td>\n",
       "      <td>0.0</td>\n",
       "      <td>0.0</td>\n",
       "      <td>0</td>\n",
       "      <td>0</td>\n",
       "      <td>...</td>\n",
       "      <td>3</td>\n",
       "      <td>4</td>\n",
       "      <td>5</td>\n",
       "      <td>6</td>\n",
       "      <td>7</td>\n",
       "      <td>8</td>\n",
       "      <td>9</td>\n",
       "      <td>10</td>\n",
       "      <td>11</td>\n",
       "      <td>1</td>\n",
       "    </tr>\n",
       "  </tbody>\n",
       "</table>\n",
       "<p>5 rows × 45 columns</p>\n",
       "</div>"
      ],
      "text/plain": [
       "        loan_id  interest_rate  unpaid_principal_bal  loan_term  \\\n",
       "0  2.680550e+11          4.250              214000.0      360.0   \n",
       "1  6.728317e+11          4.875              144000.0      360.0   \n",
       "2  7.425152e+11          3.250              366000.0      180.0   \n",
       "3  6.013857e+11          4.750              135000.0      360.0   \n",
       "4  2.738700e+11          4.750              124000.0      360.0   \n",
       "\n",
       "   loan_to_value  debt_to_income_ratio  insurance_percent  \\\n",
       "0           95.0                  22.0               30.0   \n",
       "1           72.0                  44.0                0.0   \n",
       "2           49.0                  33.0                0.0   \n",
       "3           46.0                  44.0                0.0   \n",
       "4           80.0                  43.0                0.0   \n",
       "\n",
       "   co_borrower_credit_score  source_Y  source_Z ...   m4  m5  m6  m7  m8  m9  \\\n",
       "0                       0.0         0         1 ...    0   0   0   1   0   0   \n",
       "1                       0.0         1         0 ...    0   0   0   0   0   0   \n",
       "2                       0.0         0         1 ...    0   0   0   0   0   0   \n",
       "3                     638.0         0         0 ...    0   0   0   0   0   1   \n",
       "4                       0.0         0         0 ...    3   4   5   6   7   8   \n",
       "\n",
       "   m10  m11  m12  m13  \n",
       "0    0    0    0    1  \n",
       "1    0    1    0    1  \n",
       "2    0    0    0    1  \n",
       "3    1    1    1    1  \n",
       "4    9   10   11    1  \n",
       "\n",
       "[5 rows x 45 columns]"
      ]
     },
     "execution_count": 494,
     "metadata": {},
     "output_type": "execute_result"
    }
   ],
   "source": [
    "data_new.head()"
   ]
  },
  {
   "cell_type": "code",
   "execution_count": 495,
   "metadata": {},
   "outputs": [],
   "source": [
    "data_new.drop(columns=['loan_id'],inplace=True)"
   ]
  },
  {
   "cell_type": "code",
   "execution_count": 54,
   "metadata": {},
   "outputs": [
    {
     "name": "stderr",
     "output_type": "stream",
     "text": [
      "C:\\Users\\arundev.satheesan\\AppData\\Local\\Continuum\\anaconda3\\lib\\site-packages\\ipykernel\\__main__.py:4: RuntimeWarning: divide by zero encountered in log\n",
      "C:\\Users\\arundev.satheesan\\AppData\\Local\\Continuum\\anaconda3\\lib\\site-packages\\matplotlib\\pyplot.py:537: RuntimeWarning: More than 20 figures have been opened. Figures created through the pyplot interface (`matplotlib.pyplot.figure`) are retained until explicitly closed and may consume too much memory. (To control this warning, see the rcParam `figure.max_open_warning`).\n",
      "  max_open_warning, RuntimeWarning)\n"
     ]
    },
    {
     "data": {
      "image/png": "[encoded data removed]",
      "text/plain": [
       "<Figure size 720x288 with 1 Axes>"
      ]
     },
     "metadata": {},
     "output_type": "display_data"
    },
    {
     "data": {
      "image/png": "[encoded data removed]",
      "text/plain": [
       "<Figure size 720x288 with 1 Axes>"
      ]
     },
     "metadata": {},
     "output_type": "display_data"
    },
    {
     "data": {
      "image/png": "[encoded data removed]",
      "text/plain": [
       "<Figure size 720x288 with 1 Axes>"
      ]
     },
     "metadata": {},
     "output_type": "display_data"
    },
    {
     "data": {
      "image/png": "[encoded data removed]",
      "text/plain": [
       "<Figure size 720x288 with 1 Axes>"
      ]
     },
     "metadata": {},
     "output_type": "display_data"
    },
    {
     "data": {
      "image/png": "[encoded data removed]",
      "text/plain": [
       "<Figure size 720x288 with 1 Axes>"
      ]
     },
     "metadata": {},
     "output_type": "display_data"
    },
    {
     "data": {
      "image/png": "[encoded data removed]",
      "text/plain": [
       "<Figure size 720x288 with 1 Axes>"
      ]
     },
     "metadata": {},
     "output_type": "display_data"
    },
    {
     "data": {
      "image/png": "[encoded data removed]",
      "text/plain": [
       "<Figure size 720x288 with 1 Axes>"
      ]
     },
     "metadata": {},
     "output_type": "display_data"
    },
    {
     "data": {
      "image/png": "[encoded data removed]",
      "text/plain": [
       "<Figure size 720x288 with 1 Axes>"
      ]
     },
     "metadata": {},
     "output_type": "display_data"
    },
    {
     "data": {
      "image/png": "[encoded data removed]",
      "text/plain": [
       "<Figure size 720x288 with 1 Axes>"
      ]
     },
     "metadata": {},
     "output_type": "display_data"
    },
    {
     "data": {
      "image/png": "[encoded data removed]",
      "text/plain": [
       "<Figure size 720x288 with 1 Axes>"
      ]
     },
     "metadata": {},
     "output_type": "display_data"
    },
    {
     "data": {
      "image/png": "[encoded data removed]",
      "text/plain": [
       "<Figure size 720x288 with 1 Axes>"
      ]
     },
     "metadata": {},
     "output_type": "display_data"
    },
    {
     "data": {
      "image/png": "[encoded data removed]",
      "text/plain": [
       "<Figure size 720x288 with 1 Axes>"
      ]
     },
     "metadata": {},
     "output_type": "display_data"
    },
    {
     "data": {
      "image/png": "[encoded data removed]",
      "text/plain": [
       "<Figure size 720x288 with 1 Axes>"
      ]
     },
     "metadata": {},
     "output_type": "display_data"
    },
    {
     "data": {
      "image/png": "[encoded data removed]",
      "text/plain": [
       "<Figure size 720x288 with 1 Axes>"
      ]
     },
     "metadata": {},
     "output_type": "display_data"
    },
    {
     "data": {
      "image/png": "[encoded data removed]",
      "text/plain": [
       "<Figure size 720x288 with 1 Axes>"
      ]
     },
     "metadata": {},
     "output_type": "display_data"
    },
    {
     "data": {
      "image/png": "[encoded data removed]",
      "text/plain": [
       "<Figure size 720x288 with 1 Axes>"
      ]
     },
     "metadata": {},
     "output_type": "display_data"
    },
    {
     "data": {
      "image/png": "[encoded data removed]",
      "text/plain": [
       "<Figure size 720x288 with 1 Axes>"
      ]
     },
     "metadata": {},
     "output_type": "display_data"
    },
    {
     "data": {
      "image/png": "[encoded data removed]",
      "text/plain": [
       "<Figure size 720x288 with 1 Axes>"
      ]
     },
     "metadata": {},
     "output_type": "display_data"
    },
    {
     "data": {
      "image/png": "[encoded data removed]",
      "text/plain": [
       "<Figure size 720x288 with 1 Axes>"
      ]
     },
     "metadata": {},
     "output_type": "display_data"
    },
    {
     "data": {
      "image/png": "[encoded data removed]",
      "text/plain": [
       "<Figure size 720x288 with 1 Axes>"
      ]
     },
     "metadata": {},
     "output_type": "display_data"
    },
    {
     "data": {
      "image/png": "[encoded data removed]",
      "text/plain": [
       "<Figure size 720x288 with 1 Axes>"
      ]
     },
     "metadata": {},
     "output_type": "display_data"
    },
    {
     "data": {
      "image/png": "[encoded data removed]",
      "text/plain": [
       "<Figure size 720x288 with 1 Axes>"
      ]
     },
     "metadata": {},
     "output_type": "display_data"
    },
    {
     "data": {
      "image/png": "[encoded data removed]",
      "text/plain": [
       "<Figure size 720x288 with 1 Axes>"
      ]
     },
     "metadata": {},
     "output_type": "display_data"
    },
    {
     "data": {
      "image/png": "[encoded data removed]",
      "text/plain": [
       "<Figure size 720x288 with 1 Axes>"
      ]
     },
     "metadata": {},
     "output_type": "display_data"
    },
    {
     "data": {
      "image/png": "[encoded data removed]",
      "text/plain": [
       "<Figure size 720x288 with 1 Axes>"
      ]
     },
     "metadata": {},
     "output_type": "display_data"
    },
    {
     "data": {
      "image/png": "[encoded data removed]",
      "text/plain": [
       "<Figure size 720x288 with 1 Axes>"
      ]
     },
     "metadata": {},
     "output_type": "display_data"
    },
    {
     "data": {
      "image/png": "[encoded data removed]",
      "text/plain": [
       "<Figure size 720x288 with 1 Axes>"
      ]
     },
     "metadata": {},
     "output_type": "display_data"
    },
    {
     "data": {
      "image/png": "[encoded data removed]",
      "text/plain": [
       "<Figure size 720x288 with 1 Axes>"
      ]
     },
     "metadata": {},
     "output_type": "display_data"
    },
    {
     "data": {
      "image/png": "[encoded data removed]",
      "text/plain": [
       "<Figure size 720x288 with 1 Axes>"
      ]
     },
     "metadata": {},
     "output_type": "display_data"
    },
    {
     "data": {
      "image/png": "[encoded data removed]",
      "text/plain": [
       "<Figure size 720x288 with 1 Axes>"
      ]
     },
     "metadata": {},
     "output_type": "display_data"
    },
    {
     "data": {
      "image/png": "[encoded data removed]",
      "text/plain": [
       "<Figure size 720x288 with 1 Axes>"
      ]
     },
     "metadata": {},
     "output_type": "display_data"
    },
    {
     "data": {
      "image/png": "[encoded data removed]",
      "text/plain": [
       "<Figure size 720x288 with 1 Axes>"
      ]
     },
     "metadata": {},
     "output_type": "display_data"
    },
    {
     "data": {
      "image/png": "[encoded data removed]",
      "text/plain": [
       "<Figure size 720x288 with 1 Axes>"
      ]
     },
     "metadata": {},
     "output_type": "display_data"
    },
    {
     "data": {
      "image/png": "[encoded data removed]",
      "text/plain": [
       "<Figure size 720x288 with 1 Axes>"
      ]
     },
     "metadata": {},
     "output_type": "display_data"
    },
    {
     "data": {
      "image/png": "[encoded data removed]",
      "text/plain": [
       "<Figure size 720x288 with 1 Axes>"
      ]
     },
     "metadata": {},
     "output_type": "display_data"
    },
    {
     "data": {
      "image/png": "[encoded data removed]",
      "text/plain": [
       "<Figure size 720x288 with 1 Axes>"
      ]
     },
     "metadata": {},
     "output_type": "display_data"
    },
    {
     "data": {
      "image/png": "[encoded data removed]",
      "text/plain": [
       "<Figure size 720x288 with 1 Axes>"
      ]
     },
     "metadata": {},
     "output_type": "display_data"
    },
    {
     "data": {
      "image/png": "[encoded data removed]",
      "text/plain": [
       "<Figure size 720x288 with 1 Axes>"
      ]
     },
     "metadata": {},
     "output_type": "display_data"
    },
    {
     "data": {
      "image/png": "[encoded data removed]",
      "text/plain": [
       "<Figure size 720x288 with 1 Axes>"
      ]
     },
     "metadata": {},
     "output_type": "display_data"
    },
    {
     "data": {
      "image/png": "[encoded data removed]",
      "text/plain": [
       "<Figure size 720x288 with 1 Axes>"
      ]
     },
     "metadata": {},
     "output_type": "display_data"
    },
    {
     "data": {
      "image/png": "[encoded data removed]",
      "text/plain": [
       "<Figure size 720x288 with 1 Axes>"
      ]
     },
     "metadata": {},
     "output_type": "display_data"
    },
    {
     "data": {
      "image/png": "[encoded data removed]",
      "text/plain": [
       "<Figure size 720x288 with 1 Axes>"
      ]
     },
     "metadata": {},
     "output_type": "display_data"
    },
    {
     "data": {
      "image/png": "[encoded data removed]",
      "text/plain": [
       "<Figure size 720x288 with 1 Axes>"
      ]
     },
     "metadata": {},
     "output_type": "display_data"
    }
   ],
   "source": [
    "for feature in data_new.columns.difference(['m13']):\n",
    "    binned = pd.cut(data_new[feature],bins=10, labels=list(range(1,11)))\n",
    "    odds = data_new.groupby(binned)['m13'].sum() / (data_new.groupby(binned)['m13'].count()-data_new.groupby(binned)['m13'].sum())\n",
    "    log_odds = np.log(odds)\n",
    "    fig,axes = plt.subplots(figsize=(10,4))\n",
    "    sns.barplot(x=log_odds.index,y=log_odds)\n",
    "    plt.ylabel('Log Odds Ratio')\n",
    "    plt.title(str('Logit Plot for identifying if the bucketing is required or not for variable ') + str(feature))"
   ]
  },
  {
   "cell_type": "markdown",
   "metadata": {},
   "source": [
    "Variables with less variation in log odds:\n",
    "    "
   ]
  },
  {
   "cell_type": "code",
   "execution_count": 496,
   "metadata": {},
   "outputs": [],
   "source": [
    "import statsmodels.formula.api as sm\n",
    "from sklearn import metrics"
   ]
  },
  {
   "cell_type": "code",
   "execution_count": 497,
   "metadata": {},
   "outputs": [
    {
     "name": "stdout",
     "output_type": "stream",
     "text": [
      "Optimization terminated successfully.\n",
      "         Current function value: 0.033101\n",
      "         Iterations 9\n",
      "Optimization terminated successfully.\n",
      "         Current function value: 0.033233\n",
      "         Iterations 10\n",
      "Optimization terminated successfully.\n",
      "         Current function value: 0.033997\n",
      "         Iterations 9\n",
      "Warning: Maximum number of iterations has been exceeded.\n",
      "         Current function value: 0.033979\n",
      "         Iterations: 35\n",
      "Optimization terminated successfully.\n",
      "         Current function value: 0.033994\n",
      "         Iterations 9\n"
     ]
    },
    {
     "name": "stderr",
     "output_type": "stream",
     "text": [
      "C:\\Users\\arundev.satheesan\\AppData\\Local\\Continuum\\anaconda3\\lib\\site-packages\\statsmodels\\base\\model.py:508: ConvergenceWarning: Maximum Likelihood optimization failed to converge. Check mle_retvals\n",
      "  \"Check mle_retvals\", ConvergenceWarning)\n"
     ]
    },
    {
     "name": "stdout",
     "output_type": "stream",
     "text": [
      "Optimization terminated successfully.\n",
      "         Current function value: 0.033967\n",
      "         Iterations 9\n",
      "Optimization terminated successfully.\n",
      "         Current function value: 0.033996\n",
      "         Iterations 9\n",
      "Optimization terminated successfully.\n",
      "         Current function value: 0.033997\n",
      "         Iterations 9\n",
      "Optimization terminated successfully.\n",
      "         Current function value: 0.033997\n",
      "         Iterations 9\n",
      "Optimization terminated successfully.\n",
      "         Current function value: 0.033997\n",
      "         Iterations 9\n",
      "Optimization terminated successfully.\n",
      "         Current function value: 0.033992\n",
      "         Iterations 10\n",
      "Optimization terminated successfully.\n",
      "         Current function value: 0.033992\n",
      "         Iterations 10\n",
      "Optimization terminated successfully.\n",
      "         Current function value: 0.033992\n",
      "         Iterations 10\n",
      "Optimization terminated successfully.\n",
      "         Current function value: 0.033966\n",
      "         Iterations 11\n",
      "Optimization terminated successfully.\n",
      "         Current function value: 0.033989\n",
      "         Iterations 10\n",
      "Optimization terminated successfully.\n",
      "         Current function value: 0.033985\n",
      "         Iterations 10\n",
      "Optimization terminated successfully.\n",
      "         Current function value: 0.033990\n",
      "         Iterations 9\n",
      "Optimization terminated successfully.\n",
      "         Current function value: 0.033991\n",
      "         Iterations 10\n",
      "Optimization terminated successfully.\n",
      "         Current function value: 0.033997\n",
      "         Iterations 9\n",
      "Optimization terminated successfully.\n",
      "         Current function value: 0.033992\n",
      "         Iterations 9\n",
      "Optimization terminated successfully.\n",
      "         Current function value: 0.033982\n",
      "         Iterations 9\n",
      "Optimization terminated successfully.\n",
      "         Current function value: 0.033985\n",
      "         Iterations 9\n",
      "Optimization terminated successfully.\n",
      "         Current function value: 0.032540\n",
      "         Iterations 10\n",
      "Optimization terminated successfully.\n",
      "         Current function value: 0.033884\n",
      "         Iterations 9\n",
      "Optimization terminated successfully.\n",
      "         Current function value: 0.033906\n",
      "         Iterations 9\n",
      "Optimization terminated successfully.\n",
      "         Current function value: 0.033694\n",
      "         Iterations 10\n",
      "Optimization terminated successfully.\n",
      "         Current function value: 0.033855\n",
      "         Iterations 10\n",
      "Optimization terminated successfully.\n",
      "         Current function value: 0.033290\n",
      "         Iterations 9\n",
      "Optimization terminated successfully.\n",
      "         Current function value: 0.028084\n",
      "         Iterations 9\n",
      "Optimization terminated successfully.\n",
      "         Current function value: 0.026297\n",
      "         Iterations 10\n",
      "Optimization terminated successfully.\n",
      "         Current function value: 0.022828\n",
      "         Iterations 10\n",
      "Optimization terminated successfully.\n",
      "         Current function value: 0.032773\n",
      "         Iterations 9\n",
      "Optimization terminated successfully.\n",
      "         Current function value: 0.032776\n",
      "         Iterations 9\n",
      "Optimization terminated successfully.\n",
      "         Current function value: 0.031865\n",
      "         Iterations 9\n",
      "Optimization terminated successfully.\n",
      "         Current function value: 0.031025\n",
      "         Iterations 9\n",
      "Optimization terminated successfully.\n",
      "         Current function value: 0.030555\n",
      "         Iterations 9\n",
      "Optimization terminated successfully.\n",
      "         Current function value: 0.029802\n",
      "         Iterations 9\n",
      "Optimization terminated successfully.\n",
      "         Current function value: 0.028951\n",
      "         Iterations 9\n",
      "Optimization terminated successfully.\n",
      "         Current function value: 0.027973\n",
      "         Iterations 9\n",
      "Optimization terminated successfully.\n",
      "         Current function value: 0.033213\n",
      "         Iterations 10\n",
      "Optimization terminated successfully.\n",
      "         Current function value: 0.033946\n",
      "         Iterations 9\n",
      "Optimization terminated successfully.\n",
      "         Current function value: 0.033997\n",
      "         Iterations 9\n",
      "Optimization terminated successfully.\n",
      "         Current function value: 0.033841\n",
      "         Iterations 10\n"
     ]
    }
   ],
   "source": [
    "somersd_df = pd.DataFrame()\n",
    "for feature in data_new.columns.difference(['m13']):\n",
    "    logreg = sm.logit(formula='m13~' + str(feature),data=data_new)\n",
    "    result = logreg.fit()\n",
    "    y_score = pd.DataFrame(result.predict(),columns=['Score'])\n",
    "    somersD = 2 * metrics.roc_auc_score(y_score=y_score,y_true=data_new['m13']) - 1\n",
    "    temp = pd.DataFrame([feature,somersD]).T\n",
    "    temp.columns = ['Variable Name', 'SomersD']\n",
    "    somersd_df = pd.concat([somersd_df, temp], axis=0)"
   ]
  },
  {
   "cell_type": "code",
   "execution_count": 498,
   "metadata": {},
   "outputs": [
    {
     "data": {
      "text/plain": [
       "array(['m12', 'interest_rate', 'm11', 'co_borrower_credit_score', 'm10',\n",
       "       'debt_to_income_ratio', 'm9', 'number_of_borrowers_2_0', 'm8',\n",
       "       'm7', 'm5', 'm6', 'loan_term', 'unpaid_principal_bal',\n",
       "       'loan_to_value', 'm4', 'loan_purpose_B12', 'm3', 'm2',\n",
       "       'loan_purpose_C86', 'm1', 'source_Y', 'insurance_percent',\n",
       "       'financial_institution_Edwards_Hoffman'], dtype=object)"
      ]
     },
     "execution_count": 498,
     "metadata": {},
     "output_type": "execute_result"
    }
   ],
   "source": [
    "somersd_df = somersd_df.sort_values(by=['SomersD'],ascending=False).reset_index(drop=True)\n",
    "selectsomers_df = somersd_df[somersd_df['SomersD'] > 0.02]\n",
    "selected_from_somersD = np.array(selectsomers_df['Variable Name'])\n",
    "selected_from_somersD"
   ]
  },
  {
   "cell_type": "markdown",
   "metadata": {},
   "source": [
    "RFE"
   ]
  },
  {
   "cell_type": "code",
   "execution_count": 499,
   "metadata": {},
   "outputs": [],
   "source": [
    "from sklearn.feature_selection import RFE\n",
    "from sklearn.linear_model import LogisticRegression"
   ]
  },
  {
   "cell_type": "code",
   "execution_count": 500,
   "metadata": {},
   "outputs": [
    {
     "name": "stderr",
     "output_type": "stream",
     "text": [
      "C:\\Users\\arundev.satheesan\\AppData\\Local\\Continuum\\anaconda3\\lib\\site-packages\\sklearn\\utils\\validation.py:578: DataConversionWarning: A column-vector y was passed when a 1d array was expected. Please change the shape of y to (n_samples, ), for example using ravel().\n",
      "  y = column_or_1d(y, warn=True)\n"
     ]
    },
    {
     "name": "stdout",
     "output_type": "stream",
     "text": [
      "[ True False False False False False False False False False False False\n",
      "  True False False False False False False  True False False False False\n",
      "  True  True False False False  True  True  True False  True  True False\n",
      " False  True  True  True False  True  True]\n"
     ]
    }
   ],
   "source": [
    "X = data_new.iloc[:,:43]\n",
    "y = data_new.iloc[:,43:]\n",
    "logreg = LogisticRegression()\n",
    "rfe = RFE(logreg,n_features_to_select=15)\n",
    "rfe.fit(X,y)\n",
    "print(rfe.support_)"
   ]
  },
  {
   "cell_type": "code",
   "execution_count": 501,
   "metadata": {},
   "outputs": [
    {
     "data": {
      "text/plain": [
       "Index(['interest_rate', 'financial_institution_Edwards_Hoffman',\n",
       "       'financial_institution_Romero__Woods_and_Johnson',\n",
       "       'financial_institution_Taylor__Hunt_and_Rodriguez',\n",
       "       'financial_institution_Thornton_Davis', 'insurance_type_1_0',\n",
       "       'number_of_borrowers_2_0', 'm1', 'm3', 'm4', 'm7', 'm8', 'm9', 'm11',\n",
       "       'm12'],\n",
       "      dtype='object')"
      ]
     },
     "execution_count": 501,
     "metadata": {},
     "output_type": "execute_result"
    }
   ],
   "source": [
    "selected_features_from_rfe = data_new.iloc[:,rfe.support_].columns\n",
    "selected_features_from_rfe"
   ]
  },
  {
   "cell_type": "code",
   "execution_count": 502,
   "metadata": {},
   "outputs": [],
   "source": [
    "import itertools"
   ]
  },
  {
   "cell_type": "code",
   "execution_count": 503,
   "metadata": {},
   "outputs": [
    {
     "data": {
      "text/plain": [
       "{'co_borrower_credit_score',\n",
       " 'debt_to_income_ratio',\n",
       " 'financial_institution_Edwards_Hoffman',\n",
       " 'financial_institution_Romero__Woods_and_Johnson',\n",
       " 'financial_institution_Taylor__Hunt_and_Rodriguez',\n",
       " 'financial_institution_Thornton_Davis',\n",
       " 'insurance_percent',\n",
       " 'insurance_type_1_0',\n",
       " 'interest_rate',\n",
       " 'loan_purpose_B12',\n",
       " 'loan_purpose_C86',\n",
       " 'loan_term',\n",
       " 'loan_to_value',\n",
       " 'm1',\n",
       " 'm10',\n",
       " 'm11',\n",
       " 'm12',\n",
       " 'm2',\n",
       " 'm3',\n",
       " 'm4',\n",
       " 'm5',\n",
       " 'm6',\n",
       " 'm7',\n",
       " 'm8',\n",
       " 'm9',\n",
       " 'number_of_borrowers_2_0',\n",
       " 'source_Y',\n",
       " 'unpaid_principal_bal'}"
      ]
     },
     "execution_count": 503,
     "metadata": {},
     "output_type": "execute_result"
    }
   ],
   "source": [
    "selected_features = set([])\n",
    "for x,y in itertools.zip_longest(selected_features_from_rfe,selected_from_somersD):\n",
    "    if(x):\n",
    "        selected_features.add(x) \n",
    "    if(y):\n",
    "        selected_features.add(y)\n",
    "selected_features"
   ]
  },
  {
   "cell_type": "code",
   "execution_count": 504,
   "metadata": {},
   "outputs": [],
   "source": [
    "from statsmodels.stats.outliers_influence import variance_inflation_factor\n",
    "from patsy import dmatrices"
   ]
  },
  {
   "cell_type": "code",
   "execution_count": 505,
   "metadata": {},
   "outputs": [
    {
     "data": {
      "text/plain": [
       "'m13~m2+m8+m5+number_of_borrowers_2_0+m10+m9+debt_to_income_ratio+m7+financial_institution_Thornton_Davis+financial_institution_Taylor__Hunt_and_Rodriguez+source_Y+m3+interest_rate+co_borrower_credit_score+financial_institution_Edwards_Hoffman+m4+insurance_percent+insurance_type_1_0+loan_purpose_C86+m11+financial_institution_Romero__Woods_and_Johnson+loan_purpose_B12+m6+unpaid_principal_bal+m1+loan_to_value+m12+loan_term'"
      ]
     },
     "execution_count": 505,
     "metadata": {},
     "output_type": "execute_result"
    }
   ],
   "source": [
    "formula = 'm13~' + '+'.join(selected_features)\n",
    "formula"
   ]
  },
  {
   "cell_type": "code",
   "execution_count": 506,
   "metadata": {},
   "outputs": [],
   "source": [
    "formula = 'm13~m2+debt_to_income_ratio+financial_institution_Thornton_Davis+financial_institution_Taylor__Hunt_and_Rodriguez+source_Y+m3+interest_rate+co_borrower_credit_score+financial_institution_Edwards_Hoffman+m4+insurance_percent+insurance_type_1_0+loan_purpose_C86+financial_institution_Romero__Woods_and_Johnson+loan_purpose_B12+unpaid_principal_bal+m1+loan_to_value+m12'"
   ]
  },
  {
   "cell_type": "code",
   "execution_count": 507,
   "metadata": {},
   "outputs": [
    {
     "data": {
      "text/html": [
       "<div>\n",
       "<style scoped>\n",
       "    .dataframe tbody tr th:only-of-type {\n",
       "        vertical-align: middle;\n",
       "    }\n",
       "\n",
       "    .dataframe tbody tr th {\n",
       "        vertical-align: top;\n",
       "    }\n",
       "\n",
       "    .dataframe thead th {\n",
       "        text-align: right;\n",
       "    }\n",
       "</style>\n",
       "<table border=\"1\" class=\"dataframe\">\n",
       "  <thead>\n",
       "    <tr style=\"text-align: right;\">\n",
       "      <th></th>\n",
       "      <th>VIF Factor</th>\n",
       "      <th>features</th>\n",
       "    </tr>\n",
       "  </thead>\n",
       "  <tbody>\n",
       "    <tr>\n",
       "      <th>1</th>\n",
       "      <td>1.743490</td>\n",
       "      <td>m4</td>\n",
       "    </tr>\n",
       "    <tr>\n",
       "      <th>2</th>\n",
       "      <td>1.663999</td>\n",
       "      <td>m3</td>\n",
       "    </tr>\n",
       "    <tr>\n",
       "      <th>3</th>\n",
       "      <td>1.498831</td>\n",
       "      <td>loan_to_value</td>\n",
       "    </tr>\n",
       "    <tr>\n",
       "      <th>4</th>\n",
       "      <td>1.439426</td>\n",
       "      <td>m2</td>\n",
       "    </tr>\n",
       "    <tr>\n",
       "      <th>5</th>\n",
       "      <td>1.378523</td>\n",
       "      <td>insurance_percent</td>\n",
       "    </tr>\n",
       "    <tr>\n",
       "      <th>6</th>\n",
       "      <td>1.351537</td>\n",
       "      <td>loan_purpose_C86</td>\n",
       "    </tr>\n",
       "    <tr>\n",
       "      <th>7</th>\n",
       "      <td>1.200019</td>\n",
       "      <td>m12</td>\n",
       "    </tr>\n",
       "    <tr>\n",
       "      <th>8</th>\n",
       "      <td>1.177032</td>\n",
       "      <td>loan_purpose_B12</td>\n",
       "    </tr>\n",
       "    <tr>\n",
       "      <th>9</th>\n",
       "      <td>1.162984</td>\n",
       "      <td>interest_rate</td>\n",
       "    </tr>\n",
       "    <tr>\n",
       "      <th>10</th>\n",
       "      <td>1.097560</td>\n",
       "      <td>m1</td>\n",
       "    </tr>\n",
       "    <tr>\n",
       "      <th>11</th>\n",
       "      <td>1.076463</td>\n",
       "      <td>debt_to_income_ratio</td>\n",
       "    </tr>\n",
       "    <tr>\n",
       "      <th>12</th>\n",
       "      <td>1.069743</td>\n",
       "      <td>co_borrower_credit_score</td>\n",
       "    </tr>\n",
       "    <tr>\n",
       "      <th>13</th>\n",
       "      <td>1.067350</td>\n",
       "      <td>unpaid_principal_bal</td>\n",
       "    </tr>\n",
       "    <tr>\n",
       "      <th>14</th>\n",
       "      <td>1.052213</td>\n",
       "      <td>source_Y</td>\n",
       "    </tr>\n",
       "    <tr>\n",
       "      <th>15</th>\n",
       "      <td>1.034439</td>\n",
       "      <td>financial_institution_Edwards_Hoffman</td>\n",
       "    </tr>\n",
       "    <tr>\n",
       "      <th>16</th>\n",
       "      <td>1.029625</td>\n",
       "      <td>insurance_type_1_0</td>\n",
       "    </tr>\n",
       "    <tr>\n",
       "      <th>17</th>\n",
       "      <td>1.009891</td>\n",
       "      <td>financial_institution_Thornton_Davis</td>\n",
       "    </tr>\n",
       "    <tr>\n",
       "      <th>18</th>\n",
       "      <td>1.007562</td>\n",
       "      <td>financial_institution_Taylor__Hunt_and_Rodriguez</td>\n",
       "    </tr>\n",
       "    <tr>\n",
       "      <th>19</th>\n",
       "      <td>1.006789</td>\n",
       "      <td>financial_institution_Romero__Woods_and_Johnson</td>\n",
       "    </tr>\n",
       "  </tbody>\n",
       "</table>\n",
       "</div>"
      ],
      "text/plain": [
       "    VIF Factor                                          features\n",
       "1     1.743490                                                m4\n",
       "2     1.663999                                                m3\n",
       "3     1.498831                                     loan_to_value\n",
       "4     1.439426                                                m2\n",
       "5     1.378523                                 insurance_percent\n",
       "6     1.351537                                  loan_purpose_C86\n",
       "7     1.200019                                               m12\n",
       "8     1.177032                                  loan_purpose_B12\n",
       "9     1.162984                                     interest_rate\n",
       "10    1.097560                                                m1\n",
       "11    1.076463                              debt_to_income_ratio\n",
       "12    1.069743                          co_borrower_credit_score\n",
       "13    1.067350                              unpaid_principal_bal\n",
       "14    1.052213                                          source_Y\n",
       "15    1.034439             financial_institution_Edwards_Hoffman\n",
       "16    1.029625                                insurance_type_1_0\n",
       "17    1.009891              financial_institution_Thornton_Davis\n",
       "18    1.007562  financial_institution_Taylor__Hunt_and_Rodriguez\n",
       "19    1.006789   financial_institution_Romero__Woods_and_Johnson"
      ]
     },
     "execution_count": 507,
     "metadata": {},
     "output_type": "execute_result"
    }
   ],
   "source": [
    "a,b = dmatrices(formula_like=formula, data = data_new, return_type='dataframe')\n",
    "\n",
    "vif = pd.DataFrame()\n",
    "vif[\"VIF Factor\"] = [variance_inflation_factor(b.values, i) for i in range(b.shape[1])]\n",
    "vif[\"features\"] = b.columns\n",
    "\n",
    "vif = vif.sort_values(by=['VIF Factor'],ascending=False).reset_index(drop=True).iloc[1:,:]\n",
    "vif"
   ]
  },
  {
   "cell_type": "code",
   "execution_count": 508,
   "metadata": {},
   "outputs": [
    {
     "data": {
      "text/plain": [
       "array(['m4', 'm3', 'loan_to_value', 'm2', 'insurance_percent',\n",
       "       'loan_purpose_C86', 'm12', 'loan_purpose_B12', 'interest_rate',\n",
       "       'm1', 'debt_to_income_ratio', 'co_borrower_credit_score',\n",
       "       'unpaid_principal_bal', 'source_Y',\n",
       "       'financial_institution_Edwards_Hoffman', 'insurance_type_1_0',\n",
       "       'financial_institution_Thornton_Davis',\n",
       "       'financial_institution_Taylor__Hunt_and_Rodriguez',\n",
       "       'financial_institution_Romero__Woods_and_Johnson'], dtype=object)"
      ]
     },
     "execution_count": 508,
     "metadata": {},
     "output_type": "execute_result"
    }
   ],
   "source": [
    "final_features = np.array(vif.features)\n",
    "final_features"
   ]
  },
  {
   "cell_type": "code",
   "execution_count": null,
   "metadata": {},
   "outputs": [],
   "source": []
  },
  {
   "cell_type": "markdown",
   "metadata": {},
   "source": [
    "Model Building"
   ]
  },
  {
   "cell_type": "code",
   "execution_count": 509,
   "metadata": {},
   "outputs": [],
   "source": [
    "from sklearn.model_selection import train_test_split"
   ]
  },
  {
   "cell_type": "code",
   "execution_count": 510,
   "metadata": {},
   "outputs": [
    {
     "data": {
      "text/plain": [
       "array(['m4', 'm3', 'loan_to_value', 'm2', 'insurance_percent',\n",
       "       'loan_purpose_C86', 'm12', 'loan_purpose_B12', 'interest_rate',\n",
       "       'm1', 'debt_to_income_ratio', 'co_borrower_credit_score',\n",
       "       'unpaid_principal_bal', 'source_Y',\n",
       "       'financial_institution_Edwards_Hoffman', 'insurance_type_1_0',\n",
       "       'financial_institution_Thornton_Davis',\n",
       "       'financial_institution_Taylor__Hunt_and_Rodriguez',\n",
       "       'financial_institution_Romero__Woods_and_Johnson', 'm13'],\n",
       "      dtype=object)"
      ]
     },
     "execution_count": 510,
     "metadata": {},
     "output_type": "execute_result"
    }
   ],
   "source": [
    "final_features = np.append(final_features,['m13'])\n",
    "final_features"
   ]
  },
  {
   "cell_type": "code",
   "execution_count": 514,
   "metadata": {},
   "outputs": [],
   "source": [
    "def undersample(default_indices,non_default_indices,times):\n",
    "    undersampling_indices = np.array(np.random.choice(non_default_indices,(times*len(default_indices)),replace=False))\n",
    "    total_indices = np.concatenate([default_indices,undersampling_indices])\n",
    "    undersample = data_new.iloc[total_indices,:]\n",
    "    print(\"the non_defaulter proportion is : {}\".format(len(undersample[undersample['m13']==0])/len(undersample)))\n",
    "    print(\"the defaulter proportion is :\",len(undersample[undersample['m13']==1])/len(undersample))\n",
    "    print(\"total number of record in resampled data is:\",len(undersample))\n",
    "    return(undersample)"
   ]
  },
  {
   "cell_type": "code",
   "execution_count": 515,
   "metadata": {},
   "outputs": [],
   "source": [
    "data_new = data_new[final_features]\n",
    "default_indices = np.array(data_new[data_new['m13'] == 1].index)\n",
    "non_default_indices = np.array(data_new[data_new['m13'] == 0].index)"
   ]
  },
  {
   "cell_type": "code",
   "execution_count": 643,
   "metadata": {},
   "outputs": [
    {
     "name": "stdout",
     "output_type": "stream",
     "text": [
      "the non_defaulter proportion is : 0.967741935483871\n",
      "the defaulter proportion is : 0.03225806451612903\n",
      "total number of record in resampled data is: 19716\n"
     ]
    },
    {
     "data": {
      "text/html": [
       "<div>\n",
       "<style scoped>\n",
       "    .dataframe tbody tr th:only-of-type {\n",
       "        vertical-align: middle;\n",
       "    }\n",
       "\n",
       "    .dataframe tbody tr th {\n",
       "        vertical-align: top;\n",
       "    }\n",
       "\n",
       "    .dataframe thead th {\n",
       "        text-align: right;\n",
       "    }\n",
       "</style>\n",
       "<table border=\"1\" class=\"dataframe\">\n",
       "  <thead>\n",
       "    <tr style=\"text-align: right;\">\n",
       "      <th></th>\n",
       "      <th>m4</th>\n",
       "      <th>m3</th>\n",
       "      <th>loan_to_value</th>\n",
       "      <th>m2</th>\n",
       "      <th>insurance_percent</th>\n",
       "      <th>loan_purpose_C86</th>\n",
       "      <th>m12</th>\n",
       "      <th>loan_purpose_B12</th>\n",
       "      <th>interest_rate</th>\n",
       "      <th>m1</th>\n",
       "      <th>debt_to_income_ratio</th>\n",
       "      <th>co_borrower_credit_score</th>\n",
       "      <th>unpaid_principal_bal</th>\n",
       "      <th>source_Y</th>\n",
       "      <th>financial_institution_Edwards_Hoffman</th>\n",
       "      <th>insurance_type_1_0</th>\n",
       "      <th>financial_institution_Thornton_Davis</th>\n",
       "      <th>financial_institution_Taylor__Hunt_and_Rodriguez</th>\n",
       "      <th>financial_institution_Romero__Woods_and_Johnson</th>\n",
       "      <th>m13</th>\n",
       "    </tr>\n",
       "  </thead>\n",
       "  <tbody>\n",
       "    <tr>\n",
       "      <th>0</th>\n",
       "      <td>0</td>\n",
       "      <td>0</td>\n",
       "      <td>95.0</td>\n",
       "      <td>0</td>\n",
       "      <td>30.0</td>\n",
       "      <td>1</td>\n",
       "      <td>0</td>\n",
       "      <td>0</td>\n",
       "      <td>4.250</td>\n",
       "      <td>0</td>\n",
       "      <td>22.0</td>\n",
       "      <td>0.0</td>\n",
       "      <td>214000.0</td>\n",
       "      <td>0</td>\n",
       "      <td>0</td>\n",
       "      <td>0</td>\n",
       "      <td>0</td>\n",
       "      <td>0</td>\n",
       "      <td>0</td>\n",
       "      <td>1</td>\n",
       "    </tr>\n",
       "    <tr>\n",
       "      <th>1</th>\n",
       "      <td>0</td>\n",
       "      <td>0</td>\n",
       "      <td>72.0</td>\n",
       "      <td>0</td>\n",
       "      <td>0.0</td>\n",
       "      <td>0</td>\n",
       "      <td>0</td>\n",
       "      <td>1</td>\n",
       "      <td>4.875</td>\n",
       "      <td>0</td>\n",
       "      <td>44.0</td>\n",
       "      <td>0.0</td>\n",
       "      <td>144000.0</td>\n",
       "      <td>1</td>\n",
       "      <td>0</td>\n",
       "      <td>0</td>\n",
       "      <td>0</td>\n",
       "      <td>0</td>\n",
       "      <td>0</td>\n",
       "      <td>1</td>\n",
       "    </tr>\n",
       "    <tr>\n",
       "      <th>2</th>\n",
       "      <td>0</td>\n",
       "      <td>0</td>\n",
       "      <td>49.0</td>\n",
       "      <td>0</td>\n",
       "      <td>0.0</td>\n",
       "      <td>0</td>\n",
       "      <td>0</td>\n",
       "      <td>1</td>\n",
       "      <td>3.250</td>\n",
       "      <td>0</td>\n",
       "      <td>33.0</td>\n",
       "      <td>0.0</td>\n",
       "      <td>366000.0</td>\n",
       "      <td>0</td>\n",
       "      <td>0</td>\n",
       "      <td>0</td>\n",
       "      <td>1</td>\n",
       "      <td>0</td>\n",
       "      <td>0</td>\n",
       "      <td>1</td>\n",
       "    </tr>\n",
       "    <tr>\n",
       "      <th>3</th>\n",
       "      <td>0</td>\n",
       "      <td>0</td>\n",
       "      <td>46.0</td>\n",
       "      <td>0</td>\n",
       "      <td>0.0</td>\n",
       "      <td>0</td>\n",
       "      <td>1</td>\n",
       "      <td>1</td>\n",
       "      <td>4.750</td>\n",
       "      <td>0</td>\n",
       "      <td>44.0</td>\n",
       "      <td>638.0</td>\n",
       "      <td>135000.0</td>\n",
       "      <td>0</td>\n",
       "      <td>0</td>\n",
       "      <td>0</td>\n",
       "      <td>0</td>\n",
       "      <td>0</td>\n",
       "      <td>0</td>\n",
       "      <td>1</td>\n",
       "    </tr>\n",
       "    <tr>\n",
       "      <th>4</th>\n",
       "      <td>3</td>\n",
       "      <td>2</td>\n",
       "      <td>80.0</td>\n",
       "      <td>1</td>\n",
       "      <td>0.0</td>\n",
       "      <td>1</td>\n",
       "      <td>11</td>\n",
       "      <td>0</td>\n",
       "      <td>4.750</td>\n",
       "      <td>0</td>\n",
       "      <td>43.0</td>\n",
       "      <td>0.0</td>\n",
       "      <td>124000.0</td>\n",
       "      <td>0</td>\n",
       "      <td>0</td>\n",
       "      <td>0</td>\n",
       "      <td>0</td>\n",
       "      <td>0</td>\n",
       "      <td>0</td>\n",
       "      <td>1</td>\n",
       "    </tr>\n",
       "  </tbody>\n",
       "</table>\n",
       "</div>"
      ],
      "text/plain": [
       "   m4  m3  loan_to_value  m2  insurance_percent  loan_purpose_C86  m12  \\\n",
       "0   0   0           95.0   0               30.0                 1    0   \n",
       "1   0   0           72.0   0                0.0                 0    0   \n",
       "2   0   0           49.0   0                0.0                 0    0   \n",
       "3   0   0           46.0   0                0.0                 0    1   \n",
       "4   3   2           80.0   1                0.0                 1   11   \n",
       "\n",
       "   loan_purpose_B12  interest_rate  m1  debt_to_income_ratio  \\\n",
       "0                 0          4.250   0                  22.0   \n",
       "1                 1          4.875   0                  44.0   \n",
       "2                 1          3.250   0                  33.0   \n",
       "3                 1          4.750   0                  44.0   \n",
       "4                 0          4.750   0                  43.0   \n",
       "\n",
       "   co_borrower_credit_score  unpaid_principal_bal  source_Y  \\\n",
       "0                       0.0              214000.0         0   \n",
       "1                       0.0              144000.0         1   \n",
       "2                       0.0              366000.0         0   \n",
       "3                     638.0              135000.0         0   \n",
       "4                       0.0              124000.0         0   \n",
       "\n",
       "   financial_institution_Edwards_Hoffman  insurance_type_1_0  \\\n",
       "0                                      0                   0   \n",
       "1                                      0                   0   \n",
       "2                                      0                   0   \n",
       "3                                      0                   0   \n",
       "4                                      0                   0   \n",
       "\n",
       "   financial_institution_Thornton_Davis  \\\n",
       "0                                     0   \n",
       "1                                     0   \n",
       "2                                     1   \n",
       "3                                     0   \n",
       "4                                     0   \n",
       "\n",
       "   financial_institution_Taylor__Hunt_and_Rodriguez  \\\n",
       "0                                                 0   \n",
       "1                                                 0   \n",
       "2                                                 0   \n",
       "3                                                 0   \n",
       "4                                                 0   \n",
       "\n",
       "   financial_institution_Romero__Woods_and_Johnson  m13  \n",
       "0                                                0    1  \n",
       "1                                                0    1  \n",
       "2                                                0    1  \n",
       "3                                                0    1  \n",
       "4                                                0    1  "
      ]
     },
     "execution_count": 643,
     "metadata": {},
     "output_type": "execute_result"
    }
   ],
   "source": [
    "Undersample_data = undersample(default_indices,non_default_indices,30)\n",
    "Undersample_data.head()"
   ]
  },
  {
   "cell_type": "code",
   "execution_count": null,
   "metadata": {},
   "outputs": [],
   "source": []
  },
  {
   "cell_type": "code",
   "execution_count": null,
   "metadata": {},
   "outputs": [],
   "source": []
  },
  {
   "cell_type": "code",
   "execution_count": null,
   "metadata": {},
   "outputs": [],
   "source": []
  },
  {
   "cell_type": "code",
   "execution_count": null,
   "metadata": {},
   "outputs": [],
   "source": []
  },
  {
   "cell_type": "code",
   "execution_count": null,
   "metadata": {},
   "outputs": [],
   "source": []
  },
  {
   "cell_type": "code",
   "execution_count": null,
   "metadata": {},
   "outputs": [],
   "source": []
  },
  {
   "cell_type": "code",
   "execution_count": null,
   "metadata": {},
   "outputs": [],
   "source": []
  },
  {
   "cell_type": "code",
   "execution_count": 644,
   "metadata": {},
   "outputs": [],
   "source": [
    "train, test = train_test_split(Undersample_data,test_size=0.3,random_state=123)"
   ]
  },
  {
   "cell_type": "code",
   "execution_count": 645,
   "metadata": {},
   "outputs": [
    {
     "data": {
      "text/html": [
       "<div>\n",
       "<style scoped>\n",
       "    .dataframe tbody tr th:only-of-type {\n",
       "        vertical-align: middle;\n",
       "    }\n",
       "\n",
       "    .dataframe tbody tr th {\n",
       "        vertical-align: top;\n",
       "    }\n",
       "\n",
       "    .dataframe thead th {\n",
       "        text-align: right;\n",
       "    }\n",
       "</style>\n",
       "<table border=\"1\" class=\"dataframe\">\n",
       "  <thead>\n",
       "    <tr style=\"text-align: right;\">\n",
       "      <th></th>\n",
       "      <th>m4</th>\n",
       "      <th>m3</th>\n",
       "      <th>loan_to_value</th>\n",
       "      <th>m2</th>\n",
       "      <th>insurance_percent</th>\n",
       "      <th>loan_purpose_C86</th>\n",
       "      <th>m12</th>\n",
       "      <th>loan_purpose_B12</th>\n",
       "      <th>interest_rate</th>\n",
       "      <th>m1</th>\n",
       "      <th>debt_to_income_ratio</th>\n",
       "      <th>co_borrower_credit_score</th>\n",
       "      <th>unpaid_principal_bal</th>\n",
       "      <th>source_Y</th>\n",
       "      <th>financial_institution_Edwards_Hoffman</th>\n",
       "      <th>insurance_type_1_0</th>\n",
       "      <th>financial_institution_Thornton_Davis</th>\n",
       "      <th>financial_institution_Taylor__Hunt_and_Rodriguez</th>\n",
       "      <th>financial_institution_Romero__Woods_and_Johnson</th>\n",
       "      <th>m13</th>\n",
       "    </tr>\n",
       "  </thead>\n",
       "  <tbody>\n",
       "    <tr>\n",
       "      <th>76235</th>\n",
       "      <td>0</td>\n",
       "      <td>0</td>\n",
       "      <td>61.0</td>\n",
       "      <td>0</td>\n",
       "      <td>0.0</td>\n",
       "      <td>0</td>\n",
       "      <td>0</td>\n",
       "      <td>1</td>\n",
       "      <td>3.875</td>\n",
       "      <td>0</td>\n",
       "      <td>30.0</td>\n",
       "      <td>0.0</td>\n",
       "      <td>126000.0</td>\n",
       "      <td>0</td>\n",
       "      <td>0</td>\n",
       "      <td>0</td>\n",
       "      <td>0</td>\n",
       "      <td>0</td>\n",
       "      <td>0</td>\n",
       "      <td>0</td>\n",
       "    </tr>\n",
       "    <tr>\n",
       "      <th>62975</th>\n",
       "      <td>0</td>\n",
       "      <td>0</td>\n",
       "      <td>80.0</td>\n",
       "      <td>0</td>\n",
       "      <td>0.0</td>\n",
       "      <td>0</td>\n",
       "      <td>0</td>\n",
       "      <td>0</td>\n",
       "      <td>3.875</td>\n",
       "      <td>0</td>\n",
       "      <td>29.0</td>\n",
       "      <td>819.0</td>\n",
       "      <td>256000.0</td>\n",
       "      <td>0</td>\n",
       "      <td>0</td>\n",
       "      <td>0</td>\n",
       "      <td>0</td>\n",
       "      <td>0</td>\n",
       "      <td>0</td>\n",
       "      <td>0</td>\n",
       "    </tr>\n",
       "    <tr>\n",
       "      <th>64534</th>\n",
       "      <td>0</td>\n",
       "      <td>0</td>\n",
       "      <td>80.0</td>\n",
       "      <td>0</td>\n",
       "      <td>0.0</td>\n",
       "      <td>0</td>\n",
       "      <td>0</td>\n",
       "      <td>1</td>\n",
       "      <td>3.625</td>\n",
       "      <td>0</td>\n",
       "      <td>45.0</td>\n",
       "      <td>733.0</td>\n",
       "      <td>88000.0</td>\n",
       "      <td>0</td>\n",
       "      <td>0</td>\n",
       "      <td>0</td>\n",
       "      <td>0</td>\n",
       "      <td>0</td>\n",
       "      <td>0</td>\n",
       "      <td>0</td>\n",
       "    </tr>\n",
       "    <tr>\n",
       "      <th>45793</th>\n",
       "      <td>0</td>\n",
       "      <td>0</td>\n",
       "      <td>95.0</td>\n",
       "      <td>0</td>\n",
       "      <td>30.0</td>\n",
       "      <td>1</td>\n",
       "      <td>0</td>\n",
       "      <td>0</td>\n",
       "      <td>4.500</td>\n",
       "      <td>0</td>\n",
       "      <td>28.0</td>\n",
       "      <td>0.0</td>\n",
       "      <td>62000.0</td>\n",
       "      <td>1</td>\n",
       "      <td>0</td>\n",
       "      <td>0</td>\n",
       "      <td>0</td>\n",
       "      <td>0</td>\n",
       "      <td>0</td>\n",
       "      <td>0</td>\n",
       "    </tr>\n",
       "    <tr>\n",
       "      <th>48799</th>\n",
       "      <td>0</td>\n",
       "      <td>0</td>\n",
       "      <td>67.0</td>\n",
       "      <td>0</td>\n",
       "      <td>0.0</td>\n",
       "      <td>0</td>\n",
       "      <td>0</td>\n",
       "      <td>0</td>\n",
       "      <td>3.250</td>\n",
       "      <td>0</td>\n",
       "      <td>29.0</td>\n",
       "      <td>0.0</td>\n",
       "      <td>223000.0</td>\n",
       "      <td>1</td>\n",
       "      <td>0</td>\n",
       "      <td>0</td>\n",
       "      <td>0</td>\n",
       "      <td>0</td>\n",
       "      <td>0</td>\n",
       "      <td>0</td>\n",
       "    </tr>\n",
       "  </tbody>\n",
       "</table>\n",
       "</div>"
      ],
      "text/plain": [
       "       m4  m3  loan_to_value  m2  insurance_percent  loan_purpose_C86  m12  \\\n",
       "76235   0   0           61.0   0                0.0                 0    0   \n",
       "62975   0   0           80.0   0                0.0                 0    0   \n",
       "64534   0   0           80.0   0                0.0                 0    0   \n",
       "45793   0   0           95.0   0               30.0                 1    0   \n",
       "48799   0   0           67.0   0                0.0                 0    0   \n",
       "\n",
       "       loan_purpose_B12  interest_rate  m1  debt_to_income_ratio  \\\n",
       "76235                 1          3.875   0                  30.0   \n",
       "62975                 0          3.875   0                  29.0   \n",
       "64534                 1          3.625   0                  45.0   \n",
       "45793                 0          4.500   0                  28.0   \n",
       "48799                 0          3.250   0                  29.0   \n",
       "\n",
       "       co_borrower_credit_score  unpaid_principal_bal  source_Y  \\\n",
       "76235                       0.0              126000.0         0   \n",
       "62975                     819.0              256000.0         0   \n",
       "64534                     733.0               88000.0         0   \n",
       "45793                       0.0               62000.0         1   \n",
       "48799                       0.0              223000.0         1   \n",
       "\n",
       "       financial_institution_Edwards_Hoffman  insurance_type_1_0  \\\n",
       "76235                                      0                   0   \n",
       "62975                                      0                   0   \n",
       "64534                                      0                   0   \n",
       "45793                                      0                   0   \n",
       "48799                                      0                   0   \n",
       "\n",
       "       financial_institution_Thornton_Davis  \\\n",
       "76235                                     0   \n",
       "62975                                     0   \n",
       "64534                                     0   \n",
       "45793                                     0   \n",
       "48799                                     0   \n",
       "\n",
       "       financial_institution_Taylor__Hunt_and_Rodriguez  \\\n",
       "76235                                                 0   \n",
       "62975                                                 0   \n",
       "64534                                                 0   \n",
       "45793                                                 0   \n",
       "48799                                                 0   \n",
       "\n",
       "       financial_institution_Romero__Woods_and_Johnson  m13  \n",
       "76235                                                0    0  \n",
       "62975                                                0    0  \n",
       "64534                                                0    0  \n",
       "45793                                                0    0  \n",
       "48799                                                0    0  "
      ]
     },
     "execution_count": 645,
     "metadata": {},
     "output_type": "execute_result"
    }
   ],
   "source": [
    "train.head()"
   ]
  },
  {
   "cell_type": "markdown",
   "metadata": {},
   "source": [
    "Logistic Regression"
   ]
  },
  {
   "cell_type": "code",
   "execution_count": 646,
   "metadata": {},
   "outputs": [
    {
     "data": {
      "text/plain": [
       "'m13~co_borrower_credit_score+debt_to_income_ratio+financial_institution_Edwards_Hoffman+financial_institution_Romero__Woods_and_Johnson+financial_institution_Taylor__Hunt_and_Rodriguez+financial_institution_Thornton_Davis+insurance_percent+insurance_type_1_0+interest_rate+loan_purpose_B12+loan_purpose_C86+loan_to_value+m1+m12+m2+m3+m4+source_Y+unpaid_principal_bal'"
      ]
     },
     "execution_count": 646,
     "metadata": {},
     "output_type": "execute_result"
    }
   ],
   "source": [
    "formula = 'm13~'+ '+'.join(train.columns.difference(['m13']))\n",
    "formula"
   ]
  },
  {
   "cell_type": "code",
   "execution_count": 674,
   "metadata": {},
   "outputs": [],
   "source": [
    "# formula = 'm13~co_borrower_credit_score+debt_to_income_ratio+financial_institution_Edwards_Hoffman+interest_rate+loan_purpose_B12+loan_to_value+m1+m12+m4+unpaid_principal_bal'\n",
    "formula = 'm13~co_borrower_credit_score+debt_to_income_ratio+financial_institution_Edwards_Hoffman+interest_rate+loan_purpose_B12+m1+m12+m2+m4+unpaid_principal_bal'"
   ]
  },
  {
   "cell_type": "code",
   "execution_count": 675,
   "metadata": {},
   "outputs": [
    {
     "name": "stdout",
     "output_type": "stream",
     "text": [
      "Optimization terminated successfully.\n",
      "         Current function value: 0.084145\n",
      "         Iterations 9\n"
     ]
    }
   ],
   "source": [
    "logit = sm.logit(formula=formula,data=train)\n",
    "result = logit.fit()"
   ]
  },
  {
   "cell_type": "code",
   "execution_count": 676,
   "metadata": {},
   "outputs": [
    {
     "name": "stdout",
     "output_type": "stream",
     "text": [
      "                                    Results: Logit\n",
      "======================================================================================\n",
      "Model:                      Logit                   Pseudo R-squared:        0.411    \n",
      "Dependent Variable:         m13                     AIC:                     2344.5775\n",
      "Date:                       2019-08-23 19:02        BIC:                     2427.4349\n",
      "No. Observations:           13801                   Log-Likelihood:          -1161.3  \n",
      "Df Model:                   10                      LL-Null:                 -1972.9  \n",
      "Df Residuals:               13790                   LLR p-value:             0.0000   \n",
      "Converged:                  1.0000                  Scale:                   1.0000   \n",
      "No. Iterations:             9.0000                                                    \n",
      "--------------------------------------------------------------------------------------\n",
      "                                       Coef.  Std.Err.    z     P>|z|   [0.025  0.975]\n",
      "--------------------------------------------------------------------------------------\n",
      "Intercept                             -8.5005   0.6403 -13.2757 0.0000 -9.7555 -7.2455\n",
      "co_borrower_credit_score              -0.0009   0.0002  -4.9498 0.0000 -0.0012 -0.0005\n",
      "debt_to_income_ratio                   0.0439   0.0075   5.8709 0.0000  0.0292  0.0585\n",
      "financial_institution_Edwards_Hoffman  0.7445   0.2436   3.0558 0.0022  0.2670  1.2220\n",
      "interest_rate                          0.8702   0.1444   6.0280 0.0000  0.5872  1.1531\n",
      "loan_purpose_B12                       0.2749   0.1382   1.9885 0.0468  0.0039  0.5459\n",
      "m1                                     1.4092   0.3180   4.4314 0.0000  0.7859  2.0324\n",
      "m12                                    5.1969   0.2519  20.6340 0.0000  4.7032  5.6905\n",
      "m2                                     1.5704   0.5951   2.6387 0.0083  0.4039  2.7368\n",
      "m4                                     3.0924   0.5068   6.1016 0.0000  2.0991  4.0858\n",
      "unpaid_principal_bal                  -0.0000   0.0000  -2.4690 0.0135 -0.0000 -0.0000\n",
      "======================================================================================\n",
      "\n"
     ]
    }
   ],
   "source": [
    "print(result.summary2())"
   ]
  },
  {
   "cell_type": "code",
   "execution_count": null,
   "metadata": {},
   "outputs": [],
   "source": []
  },
  {
   "cell_type": "code",
   "execution_count": 677,
   "metadata": {},
   "outputs": [
    {
     "name": "stdout",
     "output_type": "stream",
     "text": [
      "The Gini Index for the model built on the Train Data is :  0.7249603718263538\n",
      "The Gini Index for the model built on the Test Data is :  0.7279854076920091\n",
      "The AUC for the model built on the Train Data is :  0.8624801859131769\n",
      "The AUC for the model built on the Test Data is :  0.8639927038460046\n"
     ]
    }
   ],
   "source": [
    "train_gini = 2*metrics.roc_auc_score(train['m13'], result.predict(train)) - 1\n",
    "print(\"The Gini Index for the model built on the Train Data is : \", train_gini)\n",
    "\n",
    "test_gini = 2*metrics.roc_auc_score(test['m13'], result.predict(test)) - 1\n",
    "print(\"The Gini Index for the model built on the Test Data is : \", test_gini)\n",
    "\n",
    "train_auc = metrics.roc_auc_score(train['m13'], result.predict(train))\n",
    "test_auc = metrics.roc_auc_score(test['m13'], result.predict(test))\n",
    "\n",
    "print(\"The AUC for the model built on the Train Data is : \", train_auc)\n",
    "print(\"The AUC for the model built on the Test Data is : \", test_auc)"
   ]
  },
  {
   "cell_type": "code",
   "execution_count": 678,
   "metadata": {},
   "outputs": [
    {
     "data": {
      "text/html": [
       "<div>\n",
       "<style scoped>\n",
       "    .dataframe tbody tr th:only-of-type {\n",
       "        vertical-align: middle;\n",
       "    }\n",
       "\n",
       "    .dataframe tbody tr th {\n",
       "        vertical-align: top;\n",
       "    }\n",
       "\n",
       "    .dataframe thead th {\n",
       "        text-align: right;\n",
       "    }\n",
       "</style>\n",
       "<table border=\"1\" class=\"dataframe\">\n",
       "  <thead>\n",
       "    <tr style=\"text-align: right;\">\n",
       "      <th></th>\n",
       "      <th>actual</th>\n",
       "      <th>prob</th>\n",
       "    </tr>\n",
       "  </thead>\n",
       "  <tbody>\n",
       "    <tr>\n",
       "      <th>76235</th>\n",
       "      <td>0</td>\n",
       "      <td>0.023429</td>\n",
       "    </tr>\n",
       "    <tr>\n",
       "      <th>62975</th>\n",
       "      <td>0</td>\n",
       "      <td>0.006934</td>\n",
       "    </tr>\n",
       "    <tr>\n",
       "      <th>64534</th>\n",
       "      <td>0</td>\n",
       "      <td>0.020364</td>\n",
       "    </tr>\n",
       "    <tr>\n",
       "      <th>45793</th>\n",
       "      <td>0</td>\n",
       "      <td>0.030734</td>\n",
       "    </tr>\n",
       "    <tr>\n",
       "      <th>48799</th>\n",
       "      <td>0</td>\n",
       "      <td>0.008657</td>\n",
       "    </tr>\n",
       "  </tbody>\n",
       "</table>\n",
       "</div>"
      ],
      "text/plain": [
       "       actual      prob\n",
       "76235       0  0.023429\n",
       "62975       0  0.006934\n",
       "64534       0  0.020364\n",
       "45793       0  0.030734\n",
       "48799       0  0.008657"
      ]
     },
     "execution_count": 678,
     "metadata": {},
     "output_type": "execute_result"
    }
   ],
   "source": [
    "## Intuition behind ROC curve - predicted probability as a tool for separating the '1's and '0's\n",
    "train_predicted_prob = pd.DataFrame(result.predict(train))\n",
    "train_predicted_prob.columns = ['prob']\n",
    "train_actual = train['m13']\n",
    "# making a DataFrame with actual and prob columns\n",
    "train_predict = pd.concat([train_actual, train_predicted_prob], axis=1)\n",
    "train_predict.columns = ['actual','prob']\n",
    "train_predict.head()"
   ]
  },
  {
   "cell_type": "code",
   "execution_count": 679,
   "metadata": {},
   "outputs": [
    {
     "data": {
      "text/html": [
       "<div>\n",
       "<style scoped>\n",
       "    .dataframe tbody tr th:only-of-type {\n",
       "        vertical-align: middle;\n",
       "    }\n",
       "\n",
       "    .dataframe tbody tr th {\n",
       "        vertical-align: top;\n",
       "    }\n",
       "\n",
       "    .dataframe thead th {\n",
       "        text-align: right;\n",
       "    }\n",
       "</style>\n",
       "<table border=\"1\" class=\"dataframe\">\n",
       "  <thead>\n",
       "    <tr style=\"text-align: right;\">\n",
       "      <th></th>\n",
       "      <th>actual</th>\n",
       "      <th>prob</th>\n",
       "    </tr>\n",
       "  </thead>\n",
       "  <tbody>\n",
       "    <tr>\n",
       "      <th>106767</th>\n",
       "      <td>0</td>\n",
       "      <td>0.002792</td>\n",
       "    </tr>\n",
       "    <tr>\n",
       "      <th>72093</th>\n",
       "      <td>0</td>\n",
       "      <td>0.018668</td>\n",
       "    </tr>\n",
       "    <tr>\n",
       "      <th>111429</th>\n",
       "      <td>0</td>\n",
       "      <td>0.012238</td>\n",
       "    </tr>\n",
       "    <tr>\n",
       "      <th>35303</th>\n",
       "      <td>0</td>\n",
       "      <td>0.006725</td>\n",
       "    </tr>\n",
       "    <tr>\n",
       "      <th>13210</th>\n",
       "      <td>0</td>\n",
       "      <td>0.069960</td>\n",
       "    </tr>\n",
       "  </tbody>\n",
       "</table>\n",
       "</div>"
      ],
      "text/plain": [
       "        actual      prob\n",
       "106767       0  0.002792\n",
       "72093        0  0.018668\n",
       "111429       0  0.012238\n",
       "35303        0  0.006725\n",
       "13210        0  0.069960"
      ]
     },
     "execution_count": 679,
     "metadata": {},
     "output_type": "execute_result"
    }
   ],
   "source": [
    "## Intuition behind ROC curve - predicted probability as a tool for separating the '1's and '0's\n",
    "test_predicted_prob = pd.DataFrame(result.predict(test))\n",
    "test_predicted_prob.columns = ['prob']\n",
    "test_actual = test['m13']\n",
    "# making a DataFrame with actual and prob columns\n",
    "test_predict = pd.concat([test_actual, test_predicted_prob], axis=1)\n",
    "test_predict.columns = ['actual','prob']\n",
    "test_predict.head()"
   ]
  },
  {
   "cell_type": "code",
   "execution_count": null,
   "metadata": {},
   "outputs": [],
   "source": []
  },
  {
   "cell_type": "code",
   "execution_count": 680,
   "metadata": {},
   "outputs": [],
   "source": [
    "## Intuition behind ROC curve - confusion matrix for each different cut-off shows trade off in sensitivity and specificity\n",
    "roc_like_df = pd.DataFrame()\n",
    "train_temp = train_predict.copy()\n",
    "\n",
    "for cut_off in np.linspace(0,1,50):\n",
    "    train_temp['cut_off'] = cut_off\n",
    "    train_temp['predicted'] = train_temp['prob'].apply(lambda x: 0.0 if x < cut_off else 1.0)\n",
    "    train_temp['tp'] = train_temp.apply(lambda x: 1.0 if x['actual']==1.0 and x['predicted']==1 else 0.0, axis=1)\n",
    "    train_temp['fp'] = train_temp.apply(lambda x: 1.0 if x['actual']==0.0 and x['predicted']==1 else 0.0, axis=1)\n",
    "    train_temp['tn'] = train_temp.apply(lambda x: 1.0 if x['actual']==0.0 and x['predicted']==0 else 0.0, axis=1)\n",
    "    train_temp['fn'] = train_temp.apply(lambda x: 1.0 if x['actual']==1.0 and x['predicted']==0 else 0.0, axis=1)\n",
    "    sensitivity = train_temp['tp'].sum() / (train_temp['tp'].sum() + train_temp['fn'].sum())\n",
    "    specificity = train_temp['tn'].sum() / (train_temp['tn'].sum() + train_temp['fp'].sum())\n",
    "    accuracy = (train_temp['tp'].sum()  + train_temp['tn'].sum() ) / (train_temp['tp'].sum() + train_temp['fn'].sum() + train_temp['tn'].sum() + train_temp['fp'].sum())\n",
    "    roc_like_table = pd.DataFrame([cut_off, sensitivity, specificity, accuracy]).T\n",
    "    roc_like_table.columns = ['cutoff', 'sensitivity', 'specificity', 'accuracy']\n",
    "    roc_like_df = pd.concat([roc_like_df, roc_like_table], axis=0)"
   ]
  },
  {
   "cell_type": "code",
   "execution_count": 681,
   "metadata": {},
   "outputs": [],
   "source": [
    "roc_like_df['total'] = roc_like_df['sensitivity'] + roc_like_df['specificity']"
   ]
  },
  {
   "cell_type": "code",
   "execution_count": 682,
   "metadata": {},
   "outputs": [
    {
     "data": {
      "text/html": [
       "<div>\n",
       "<style scoped>\n",
       "    .dataframe tbody tr th:only-of-type {\n",
       "        vertical-align: middle;\n",
       "    }\n",
       "\n",
       "    .dataframe tbody tr th {\n",
       "        vertical-align: top;\n",
       "    }\n",
       "\n",
       "    .dataframe thead th {\n",
       "        text-align: right;\n",
       "    }\n",
       "</style>\n",
       "<table border=\"1\" class=\"dataframe\">\n",
       "  <thead>\n",
       "    <tr style=\"text-align: right;\">\n",
       "      <th></th>\n",
       "      <th>cutoff</th>\n",
       "      <th>sensitivity</th>\n",
       "      <th>specificity</th>\n",
       "      <th>accuracy</th>\n",
       "      <th>total</th>\n",
       "    </tr>\n",
       "  </thead>\n",
       "  <tbody>\n",
       "    <tr>\n",
       "      <th>0</th>\n",
       "      <td>0.000000</td>\n",
       "      <td>1.000000</td>\n",
       "      <td>0.000000</td>\n",
       "      <td>0.032389</td>\n",
       "      <td>1.000000</td>\n",
       "    </tr>\n",
       "    <tr>\n",
       "      <th>0</th>\n",
       "      <td>0.020408</td>\n",
       "      <td>0.798658</td>\n",
       "      <td>0.727048</td>\n",
       "      <td>0.729367</td>\n",
       "      <td>1.525706</td>\n",
       "    </tr>\n",
       "    <tr>\n",
       "      <th>0</th>\n",
       "      <td>0.040816</td>\n",
       "      <td>0.642058</td>\n",
       "      <td>0.928486</td>\n",
       "      <td>0.919209</td>\n",
       "      <td>1.570544</td>\n",
       "    </tr>\n",
       "    <tr>\n",
       "      <th>0</th>\n",
       "      <td>0.061224</td>\n",
       "      <td>0.550336</td>\n",
       "      <td>0.976037</td>\n",
       "      <td>0.962249</td>\n",
       "      <td>1.526373</td>\n",
       "    </tr>\n",
       "    <tr>\n",
       "      <th>0</th>\n",
       "      <td>0.081633</td>\n",
       "      <td>0.516779</td>\n",
       "      <td>0.990864</td>\n",
       "      <td>0.975509</td>\n",
       "      <td>1.507643</td>\n",
       "    </tr>\n",
       "  </tbody>\n",
       "</table>\n",
       "</div>"
      ],
      "text/plain": [
       "     cutoff  sensitivity  specificity  accuracy     total\n",
       "0  0.000000     1.000000     0.000000  0.032389  1.000000\n",
       "0  0.020408     0.798658     0.727048  0.729367  1.525706\n",
       "0  0.040816     0.642058     0.928486  0.919209  1.570544\n",
       "0  0.061224     0.550336     0.976037  0.962249  1.526373\n",
       "0  0.081633     0.516779     0.990864  0.975509  1.507643"
      ]
     },
     "execution_count": 682,
     "metadata": {},
     "output_type": "execute_result"
    }
   ],
   "source": [
    "roc_like_df.head()"
   ]
  },
  {
   "cell_type": "code",
   "execution_count": 683,
   "metadata": {},
   "outputs": [
    {
     "data": {
      "text/html": [
       "<div>\n",
       "<style scoped>\n",
       "    .dataframe tbody tr th:only-of-type {\n",
       "        vertical-align: middle;\n",
       "    }\n",
       "\n",
       "    .dataframe tbody tr th {\n",
       "        vertical-align: top;\n",
       "    }\n",
       "\n",
       "    .dataframe thead th {\n",
       "        text-align: right;\n",
       "    }\n",
       "</style>\n",
       "<table border=\"1\" class=\"dataframe\">\n",
       "  <thead>\n",
       "    <tr style=\"text-align: right;\">\n",
       "      <th></th>\n",
       "      <th>cutoff</th>\n",
       "      <th>sensitivity</th>\n",
       "      <th>specificity</th>\n",
       "      <th>accuracy</th>\n",
       "      <th>total</th>\n",
       "    </tr>\n",
       "  </thead>\n",
       "  <tbody>\n",
       "    <tr>\n",
       "      <th>0</th>\n",
       "      <td>0.040816</td>\n",
       "      <td>0.642058</td>\n",
       "      <td>0.928486</td>\n",
       "      <td>0.919209</td>\n",
       "      <td>1.570544</td>\n",
       "    </tr>\n",
       "  </tbody>\n",
       "</table>\n",
       "</div>"
      ],
      "text/plain": [
       "     cutoff  sensitivity  specificity  accuracy     total\n",
       "0  0.040816     0.642058     0.928486  0.919209  1.570544"
      ]
     },
     "execution_count": 683,
     "metadata": {},
     "output_type": "execute_result"
    }
   ],
   "source": [
    "roc_like_df[roc_like_df['total']==roc_like_df['total'].max()]"
   ]
  },
  {
   "cell_type": "code",
   "execution_count": 684,
   "metadata": {},
   "outputs": [],
   "source": [
    "test_predict['predicted'] = test_predict['prob'].apply(lambda x: 1 if x > 0.040816 else 0)\n",
    "train_predict['predicted'] = train_predict['prob'].apply(lambda x: 1 if x > 0.040816 else 0)"
   ]
  },
  {
   "cell_type": "code",
   "execution_count": 685,
   "metadata": {},
   "outputs": [
    {
     "data": {
      "text/html": [
       "<div>\n",
       "<style scoped>\n",
       "    .dataframe tbody tr th:only-of-type {\n",
       "        vertical-align: middle;\n",
       "    }\n",
       "\n",
       "    .dataframe tbody tr th {\n",
       "        vertical-align: top;\n",
       "    }\n",
       "\n",
       "    .dataframe thead th {\n",
       "        text-align: right;\n",
       "    }\n",
       "</style>\n",
       "<table border=\"1\" class=\"dataframe\">\n",
       "  <thead>\n",
       "    <tr style=\"text-align: right;\">\n",
       "      <th></th>\n",
       "      <th>actual</th>\n",
       "      <th>prob</th>\n",
       "      <th>predicted</th>\n",
       "    </tr>\n",
       "  </thead>\n",
       "  <tbody>\n",
       "    <tr>\n",
       "      <th>76235</th>\n",
       "      <td>0</td>\n",
       "      <td>0.023429</td>\n",
       "      <td>0</td>\n",
       "    </tr>\n",
       "    <tr>\n",
       "      <th>62975</th>\n",
       "      <td>0</td>\n",
       "      <td>0.006934</td>\n",
       "      <td>0</td>\n",
       "    </tr>\n",
       "    <tr>\n",
       "      <th>64534</th>\n",
       "      <td>0</td>\n",
       "      <td>0.020364</td>\n",
       "      <td>0</td>\n",
       "    </tr>\n",
       "    <tr>\n",
       "      <th>45793</th>\n",
       "      <td>0</td>\n",
       "      <td>0.030734</td>\n",
       "      <td>0</td>\n",
       "    </tr>\n",
       "    <tr>\n",
       "      <th>48799</th>\n",
       "      <td>0</td>\n",
       "      <td>0.008657</td>\n",
       "      <td>0</td>\n",
       "    </tr>\n",
       "  </tbody>\n",
       "</table>\n",
       "</div>"
      ],
      "text/plain": [
       "       actual      prob  predicted\n",
       "76235       0  0.023429          0\n",
       "62975       0  0.006934          0\n",
       "64534       0  0.020364          0\n",
       "45793       0  0.030734          0\n",
       "48799       0  0.008657          0"
      ]
     },
     "execution_count": 685,
     "metadata": {},
     "output_type": "execute_result"
    }
   ],
   "source": [
    "train_predict.head()"
   ]
  },
  {
   "cell_type": "code",
   "execution_count": 686,
   "metadata": {},
   "outputs": [
    {
     "data": {
      "image/png": "[encoded data removed]",
      "text/plain": [
       "<Figure size 432x288 with 2 Axes>"
      ]
     },
     "metadata": {},
     "output_type": "display_data"
    },
    {
     "data": {
      "image/png": "[encoded data removed]",
      "text/plain": [
       "<Figure size 432x288 with 2 Axes>"
      ]
     },
     "metadata": {},
     "output_type": "display_data"
    }
   ],
   "source": [
    "sns.heatmap(pd.crosstab(train_predict['actual'], train_predict['predicted']), annot=True, fmt='.0f')\n",
    "plt.title('Train Data Confusion Matrix')\n",
    "plt.show()\n",
    "sns.heatmap(pd.crosstab(test_predict['actual'], test_predict['predicted']), annot=True, fmt='.0f')\n",
    "plt.title('Test Data Confusion Matrix')\n",
    "plt.show()"
   ]
  },
  {
   "cell_type": "code",
   "execution_count": 687,
   "metadata": {},
   "outputs": [
    {
     "name": "stdout",
     "output_type": "stream",
     "text": [
      "The overall accuracy score for the Train Data is :  0.9192087529889138\n",
      "The overall accuracy score for the Test Data  is :  0.9298393913778529\n"
     ]
    }
   ],
   "source": [
    "print(\"The overall accuracy score for the Train Data is : \", metrics.accuracy_score(train_predict.actual, train_predict.predicted))\n",
    "print(\"The overall accuracy score for the Test Data  is : \", metrics.accuracy_score(test_predict.actual, test_predict.predicted))"
   ]
  },
  {
   "cell_type": "code",
   "execution_count": 688,
   "metadata": {},
   "outputs": [
    {
     "name": "stdout",
     "output_type": "stream",
     "text": [
      "             precision    recall  f1-score   support\n",
      "\n",
      "          0       0.99      0.93      0.96     13354\n",
      "          1       0.23      0.64      0.34       447\n",
      "\n",
      "avg / total       0.96      0.92      0.94     13801\n",
      "\n"
     ]
    }
   ],
   "source": [
    "print(metrics.classification_report(train_predict.actual, train_predict.predicted))"
   ]
  },
  {
   "cell_type": "code",
   "execution_count": 689,
   "metadata": {},
   "outputs": [
    {
     "name": "stdout",
     "output_type": "stream",
     "text": [
      "             precision    recall  f1-score   support\n",
      "\n",
      "          0       0.99      0.94      0.96      5726\n",
      "          1       0.27      0.68      0.38       189\n",
      "\n",
      "avg / total       0.97      0.93      0.94      5915\n",
      "\n"
     ]
    }
   ],
   "source": [
    "print(metrics.classification_report(test_predict.actual, test_predict.predicted))"
   ]
  },
  {
   "cell_type": "markdown",
   "metadata": {},
   "source": [
    "XGBoost Classifier "
   ]
  },
  {
   "cell_type": "code",
   "execution_count": 207,
   "metadata": {},
   "outputs": [],
   "source": [
    "# import xgboost as XGBClassifier\n",
    "import xgboost as xgb\n",
    "from sklearn.model_selection import GridSearchCV"
   ]
  },
  {
   "cell_type": "code",
   "execution_count": 290,
   "metadata": {},
   "outputs": [],
   "source": [
    "train_X = train.iloc[:,:19]\n",
    "test_X = test.iloc[:,:19]"
   ]
  },
  {
   "cell_type": "code",
   "execution_count": 336,
   "metadata": {},
   "outputs": [
    {
     "data": {
      "text/plain": [
       "XGBClassifier(base_score=0.5, booster='gbtree', colsample_bylevel=1,\n",
       "       colsample_bynode=1, colsample_bytree=1, gamma=0, learning_rate=0.05,\n",
       "       max_delta_step=0, max_depth=3, min_child_weight=1, missing=None,\n",
       "       n_estimators=1000, n_jobs=-1, nthread=None,\n",
       "       objective='binary:logistic', random_sate=123, random_state=0,\n",
       "       reg_alpha=0, reg_lambda=1, scale_pos_weight=1, seed=None,\n",
       "       silent=None, subsample=1, verbose=1, verbosity=1)"
      ]
     },
     "execution_count": 336,
     "metadata": {},
     "output_type": "execute_result"
    }
   ],
   "source": [
    "xgb1 = xgb.XGBClassifier(n_estimators=1000,\n",
    "                    random_sate=123,\n",
    "                    n_jobs=-1,\n",
    "                    verbose=1,\n",
    "                    max_depth=3,\n",
    "                    learning_rate=0.05)\n",
    "xgb1.fit(train_X,train['m13'])"
   ]
  },
  {
   "cell_type": "code",
   "execution_count": 337,
   "metadata": {},
   "outputs": [
    {
     "name": "stderr",
     "output_type": "stream",
     "text": [
      "C:\\Users\\arundev.satheesan\\AppData\\Local\\Continuum\\anaconda3\\lib\\site-packages\\sklearn\\preprocessing\\label.py:151: DeprecationWarning: The truth value of an empty array is ambiguous. Returning False, but in future this will result in an error. Use `array.size > 0` to check that an array is not empty.\n",
      "  if diff:\n"
     ]
    },
    {
     "data": {
      "text/plain": [
       "array([0, 0, 0, ..., 0, 0, 0], dtype=int64)"
      ]
     },
     "execution_count": 337,
     "metadata": {},
     "output_type": "execute_result"
    }
   ],
   "source": [
    "xgb1.predict(train_X)"
   ]
  },
  {
   "cell_type": "code",
   "execution_count": 342,
   "metadata": {},
   "outputs": [
    {
     "data": {
      "text/plain": [
       "array([0.06638053, 0.04685772, 0.02156156, 0.04497764, 0.02181793,\n",
       "       0.02373423, 0.4573933 , 0.01938963, 0.02998703, 0.07626533,\n",
       "       0.02464138, 0.0432063 , 0.02328794, 0.02323483, 0.04486652,\n",
       "       0.02060384, 0.        , 0.00405546, 0.00773881], dtype=float32)"
      ]
     },
     "execution_count": 342,
     "metadata": {},
     "output_type": "execute_result"
    }
   ],
   "source": [
    "xgb1.feature_importances_"
   ]
  },
  {
   "cell_type": "code",
   "execution_count": 338,
   "metadata": {},
   "outputs": [
    {
     "data": {
      "text/plain": [
       "array([[9.9775362e-01, 2.2463666e-03],\n",
       "       [9.9880034e-01, 1.1996581e-03],\n",
       "       [9.9672019e-01, 3.2797875e-03],\n",
       "       ...,\n",
       "       [9.9889612e-01, 1.1038518e-03],\n",
       "       [9.9990070e-01, 9.9290395e-05],\n",
       "       [9.9829113e-01, 1.7088903e-03]], dtype=float32)"
      ]
     },
     "execution_count": 338,
     "metadata": {},
     "output_type": "execute_result"
    }
   ],
   "source": [
    "xgb1.predict_proba(train_X)"
   ]
  },
  {
   "cell_type": "code",
   "execution_count": 339,
   "metadata": {},
   "outputs": [
    {
     "data": {
      "text/plain": [
       "0.9657107970400537"
      ]
     },
     "execution_count": 339,
     "metadata": {},
     "output_type": "execute_result"
    }
   ],
   "source": [
    "metrics.roc_auc_score(train['m13'],pd.DataFrame(xgb1.predict_proba(train_X))[1])"
   ]
  },
  {
   "cell_type": "code",
   "execution_count": 340,
   "metadata": {},
   "outputs": [
    {
     "name": "stdout",
     "output_type": "stream",
     "text": [
      "The Gini Index for the model built on the Train Data is :  0.9314215940801074\n",
      "The Gini Index for the model built on the Test Data is :  0.6697888403954533\n",
      "The AUC for the model built on the Train Data is :  0.9657107970400537\n",
      "The AUC for the model built on the Test Data is :  0.8348944201977266\n"
     ]
    }
   ],
   "source": [
    "train_gini = 2*metrics.roc_auc_score(train['m13'], pd.DataFrame(xgb1.predict_proba(train_X))[1]) - 1\n",
    "print(\"The Gini Index for the model built on the Train Data is : \", train_gini)\n",
    "\n",
    "test_gini = 2*metrics.roc_auc_score(test['m13'], pd.DataFrame(xgb1.predict_proba(test_X))[1]) - 1\n",
    "print(\"The Gini Index for the model built on the Test Data is : \", test_gini)\n",
    "\n",
    "train_auc = metrics.roc_auc_score(train['m13'], pd.DataFrame(xgb1.predict_proba(train_X))[1])\n",
    "test_auc = metrics.roc_auc_score(test['m13'], pd.DataFrame(xgb1.predict_proba(test_X))[1])\n",
    "\n",
    "print(\"The AUC for the model built on the Train Data is : \", train_auc)\n",
    "print(\"The AUC for the model built on the Test Data is : \", test_auc)"
   ]
  },
  {
   "cell_type": "code",
   "execution_count": 341,
   "metadata": {},
   "outputs": [
    {
     "name": "stderr",
     "output_type": "stream",
     "text": [
      "C:\\Users\\arundev.satheesan\\AppData\\Local\\Continuum\\anaconda3\\lib\\site-packages\\sklearn\\preprocessing\\label.py:151: DeprecationWarning: The truth value of an empty array is ambiguous. Returning False, but in future this will result in an error. Use `array.size > 0` to check that an array is not empty.\n",
      "  if diff:\n"
     ]
    },
    {
     "name": "stdout",
     "output_type": "stream",
     "text": [
      "             precision    recall  f1-score   support\n",
      "\n",
      "          0       1.00      1.00      1.00     80783\n",
      "          1       0.90      0.47      0.62       457\n",
      "\n",
      "avg / total       1.00      1.00      1.00     81240\n",
      "\n",
      "             precision    recall  f1-score   support\n",
      "\n",
      "          0       1.00      1.00      1.00     34639\n",
      "          1       0.69      0.30      0.42       179\n",
      "\n",
      "avg / total       0.99      1.00      0.99     34818\n",
      "\n"
     ]
    },
    {
     "name": "stderr",
     "output_type": "stream",
     "text": [
      "C:\\Users\\arundev.satheesan\\AppData\\Local\\Continuum\\anaconda3\\lib\\site-packages\\sklearn\\preprocessing\\label.py:151: DeprecationWarning: The truth value of an empty array is ambiguous. Returning False, but in future this will result in an error. Use `array.size > 0` to check that an array is not empty.\n",
      "  if diff:\n"
     ]
    }
   ],
   "source": [
    "print(metrics.classification_report(train['m13'], xgb1.predict(train_X)))\n",
    "\n",
    "print(metrics.classification_report(test['m13'], xgb1.predict(test_X)))"
   ]
  },
  {
   "cell_type": "code",
   "execution_count": null,
   "metadata": {},
   "outputs": [],
   "source": []
  },
  {
   "cell_type": "markdown",
   "metadata": {},
   "source": [
    "KNN"
   ]
  },
  {
   "cell_type": "code",
   "execution_count": 343,
   "metadata": {},
   "outputs": [],
   "source": [
    "from sklearn.neighbors import KNeighborsClassifier"
   ]
  },
  {
   "cell_type": "code",
   "execution_count": 344,
   "metadata": {},
   "outputs": [],
   "source": [
    "tuned_parameters = [{'n_neighbors': [3,5, 7, 9,11]}]"
   ]
  },
  {
   "cell_type": "code",
   "execution_count": 345,
   "metadata": {},
   "outputs": [],
   "source": [
    "knn_clf = GridSearchCV(KNeighborsClassifier(),\n",
    "                   tuned_parameters,\n",
    "                   cv=5,\n",
    "                   scoring='accuracy')"
   ]
  },
  {
   "cell_type": "code",
   "execution_count": 346,
   "metadata": {},
   "outputs": [
    {
     "data": {
      "text/plain": [
       "0.9943746922698178"
      ]
     },
     "execution_count": 346,
     "metadata": {},
     "output_type": "execute_result"
    }
   ],
   "source": [
    "knn_clf.fit(train_X, train['m13'])\n",
    "\n",
    "knn_clf.best_score_"
   ]
  },
  {
   "cell_type": "code",
   "execution_count": 347,
   "metadata": {},
   "outputs": [
    {
     "data": {
      "text/plain": [
       "{'n_neighbors': 5}"
      ]
     },
     "execution_count": 347,
     "metadata": {},
     "output_type": "execute_result"
    }
   ],
   "source": [
    "knn_clf.best_params_"
   ]
  },
  {
   "cell_type": "code",
   "execution_count": 350,
   "metadata": {},
   "outputs": [
    {
     "data": {
      "text/plain": [
       "KNeighborsClassifier(algorithm='auto', leaf_size=30, metric='minkowski',\n",
       "           metric_params=None, n_jobs=1, n_neighbors=5, p=2,\n",
       "           weights='uniform')"
      ]
     },
     "execution_count": 350,
     "metadata": {},
     "output_type": "execute_result"
    }
   ],
   "source": [
    "knn_clf = knn_clf.best_estimator_\n",
    "knn_clf"
   ]
  },
  {
   "cell_type": "code",
   "execution_count": 351,
   "metadata": {},
   "outputs": [],
   "source": [
    "knn_cm = metrics.confusion_matrix(test['m13'], knn_clf.predict( test_X ) )"
   ]
  },
  {
   "cell_type": "code",
   "execution_count": 353,
   "metadata": {},
   "outputs": [
    {
     "data": {
      "text/plain": [
       "Text(0.5,15,'Predicted label')"
      ]
     },
     "execution_count": 353,
     "metadata": {},
     "output_type": "execute_result"
    },
    {
     "data": {
      "image/png": "[encoded data removed]",
      "text/plain": [
       "<Figure size 432x288 with 2 Axes>"
      ]
     },
     "metadata": {},
     "output_type": "display_data"
    }
   ],
   "source": [
    "sns.heatmap(knn_cm, annot=True,  fmt='.2f', xticklabels = [\"No\", \"Yes\"] , yticklabels = [\"No\", \"Yes\"] )\n",
    "plt.ylabel('True label')\n",
    "plt.xlabel('Predicted label')"
   ]
  },
  {
   "cell_type": "code",
   "execution_count": null,
   "metadata": {},
   "outputs": [],
   "source": []
  },
  {
   "cell_type": "markdown",
   "metadata": {},
   "source": [
    "UnderSampling"
   ]
  },
  {
   "cell_type": "code",
   "execution_count": null,
   "metadata": {},
   "outputs": [],
   "source": []
  },
  {
   "cell_type": "code",
   "execution_count": null,
   "metadata": {},
   "outputs": [],
   "source": []
  },
  {
   "cell_type": "code",
   "execution_count": null,
   "metadata": {},
   "outputs": [],
   "source": []
  },
  {
   "cell_type": "code",
   "execution_count": null,
   "metadata": {},
   "outputs": [],
   "source": []
  },
  {
   "cell_type": "code",
   "execution_count": null,
   "metadata": {},
   "outputs": [],
   "source": []
  },
  {
   "cell_type": "code",
   "execution_count": null,
   "metadata": {},
   "outputs": [],
   "source": []
  },
  {
   "cell_type": "code",
   "execution_count": null,
   "metadata": {},
   "outputs": [],
   "source": []
  },
  {
   "cell_type": "code",
   "execution_count": null,
   "metadata": {},
   "outputs": [],
   "source": []
  },
  {
   "cell_type": "code",
   "execution_count": null,
   "metadata": {},
   "outputs": [],
   "source": []
  },
  {
   "cell_type": "code",
   "execution_count": null,
   "metadata": {},
   "outputs": [],
   "source": []
  },
  {
   "cell_type": "code",
   "execution_count": null,
   "metadata": {},
   "outputs": [],
   "source": []
  },
  {
   "cell_type": "code",
   "execution_count": null,
   "metadata": {},
   "outputs": [],
   "source": []
  },
  {
   "cell_type": "code",
   "execution_count": null,
   "metadata": {},
   "outputs": [],
   "source": []
  },
  {
   "cell_type": "code",
   "execution_count": null,
   "metadata": {},
   "outputs": [],
   "source": []
  },
  {
   "cell_type": "code",
   "execution_count": null,
   "metadata": {},
   "outputs": [],
   "source": []
  },
  {
   "cell_type": "code",
   "execution_count": null,
   "metadata": {},
   "outputs": [],
   "source": []
  },
  {
   "cell_type": "code",
   "execution_count": null,
   "metadata": {},
   "outputs": [],
   "source": []
  },
  {
   "cell_type": "code",
   "execution_count": null,
   "metadata": {},
   "outputs": [],
   "source": []
  },
  {
   "cell_type": "code",
   "execution_count": null,
   "metadata": {},
   "outputs": [],
   "source": []
  },
  {
   "cell_type": "code",
   "execution_count": null,
   "metadata": {},
   "outputs": [],
   "source": []
  },
  {
   "cell_type": "code",
   "execution_count": null,
   "metadata": {},
   "outputs": [],
   "source": []
  },
  {
   "cell_type": "code",
   "execution_count": null,
   "metadata": {},
   "outputs": [],
   "source": []
  },
  {
   "cell_type": "code",
   "execution_count": null,
   "metadata": {},
   "outputs": [],
   "source": []
  },
  {
   "cell_type": "code",
   "execution_count": null,
   "metadata": {},
   "outputs": [],
   "source": []
  },
  {
   "cell_type": "code",
   "execution_count": null,
   "metadata": {},
   "outputs": [],
   "source": []
  },
  {
   "cell_type": "code",
   "execution_count": null,
   "metadata": {},
   "outputs": [],
   "source": []
  },
  {
   "cell_type": "code",
   "execution_count": null,
   "metadata": {},
   "outputs": [],
   "source": []
  },
  {
   "cell_type": "code",
   "execution_count": null,
   "metadata": {},
   "outputs": [],
   "source": []
  },
  {
   "cell_type": "code",
   "execution_count": null,
   "metadata": {},
   "outputs": [],
   "source": []
  },
  {
   "cell_type": "markdown",
   "metadata": {},
   "source": [
    "Test Data"
   ]
  },
  {
   "cell_type": "code",
   "execution_count": 701,
   "metadata": {},
   "outputs": [
    {
     "data": {
      "text/html": [
       "<div>\n",
       "<style scoped>\n",
       "    .dataframe tbody tr th:only-of-type {\n",
       "        vertical-align: middle;\n",
       "    }\n",
       "\n",
       "    .dataframe tbody tr th {\n",
       "        vertical-align: top;\n",
       "    }\n",
       "\n",
       "    .dataframe thead th {\n",
       "        text-align: right;\n",
       "    }\n",
       "</style>\n",
       "<table border=\"1\" class=\"dataframe\">\n",
       "  <thead>\n",
       "    <tr style=\"text-align: right;\">\n",
       "      <th></th>\n",
       "      <th>loan_id</th>\n",
       "      <th>source</th>\n",
       "      <th>financial_institution</th>\n",
       "      <th>interest_rate</th>\n",
       "      <th>unpaid_principal_bal</th>\n",
       "      <th>loan_term</th>\n",
       "      <th>origination_date</th>\n",
       "      <th>first_payment_date</th>\n",
       "      <th>loan_to_value</th>\n",
       "      <th>number_of_borrowers</th>\n",
       "      <th>...</th>\n",
       "      <th>m3</th>\n",
       "      <th>m4</th>\n",
       "      <th>m5</th>\n",
       "      <th>m6</th>\n",
       "      <th>m7</th>\n",
       "      <th>m8</th>\n",
       "      <th>m9</th>\n",
       "      <th>m10</th>\n",
       "      <th>m11</th>\n",
       "      <th>m12</th>\n",
       "    </tr>\n",
       "  </thead>\n",
       "  <tbody>\n",
       "    <tr>\n",
       "      <th>0</th>\n",
       "      <td>1</td>\n",
       "      <td>Y</td>\n",
       "      <td>Browning-Hart</td>\n",
       "      <td>3.875</td>\n",
       "      <td>417000</td>\n",
       "      <td>360</td>\n",
       "      <td>01/02/12</td>\n",
       "      <td>Apr-12</td>\n",
       "      <td>75</td>\n",
       "      <td>1</td>\n",
       "      <td>...</td>\n",
       "      <td>0</td>\n",
       "      <td>0</td>\n",
       "      <td>0</td>\n",
       "      <td>0</td>\n",
       "      <td>0</td>\n",
       "      <td>0</td>\n",
       "      <td>0</td>\n",
       "      <td>0</td>\n",
       "      <td>0</td>\n",
       "      <td>0</td>\n",
       "    </tr>\n",
       "    <tr>\n",
       "      <th>1</th>\n",
       "      <td>2</td>\n",
       "      <td>X</td>\n",
       "      <td>OTHER</td>\n",
       "      <td>4.500</td>\n",
       "      <td>113000</td>\n",
       "      <td>360</td>\n",
       "      <td>01/02/12</td>\n",
       "      <td>Apr-12</td>\n",
       "      <td>80</td>\n",
       "      <td>2</td>\n",
       "      <td>...</td>\n",
       "      <td>0</td>\n",
       "      <td>0</td>\n",
       "      <td>0</td>\n",
       "      <td>0</td>\n",
       "      <td>0</td>\n",
       "      <td>0</td>\n",
       "      <td>0</td>\n",
       "      <td>0</td>\n",
       "      <td>0</td>\n",
       "      <td>0</td>\n",
       "    </tr>\n",
       "    <tr>\n",
       "      <th>2</th>\n",
       "      <td>3</td>\n",
       "      <td>Y</td>\n",
       "      <td>OTHER</td>\n",
       "      <td>4.500</td>\n",
       "      <td>72000</td>\n",
       "      <td>360</td>\n",
       "      <td>01/01/12</td>\n",
       "      <td>Mar-12</td>\n",
       "      <td>75</td>\n",
       "      <td>1</td>\n",
       "      <td>...</td>\n",
       "      <td>0</td>\n",
       "      <td>0</td>\n",
       "      <td>0</td>\n",
       "      <td>0</td>\n",
       "      <td>0</td>\n",
       "      <td>0</td>\n",
       "      <td>0</td>\n",
       "      <td>0</td>\n",
       "      <td>0</td>\n",
       "      <td>0</td>\n",
       "    </tr>\n",
       "    <tr>\n",
       "      <th>3</th>\n",
       "      <td>4</td>\n",
       "      <td>X</td>\n",
       "      <td>Miller, Mcclure and Allen</td>\n",
       "      <td>4.125</td>\n",
       "      <td>123000</td>\n",
       "      <td>180</td>\n",
       "      <td>01/02/12</td>\n",
       "      <td>Apr-12</td>\n",
       "      <td>41</td>\n",
       "      <td>2</td>\n",
       "      <td>...</td>\n",
       "      <td>0</td>\n",
       "      <td>0</td>\n",
       "      <td>0</td>\n",
       "      <td>0</td>\n",
       "      <td>0</td>\n",
       "      <td>0</td>\n",
       "      <td>0</td>\n",
       "      <td>0</td>\n",
       "      <td>0</td>\n",
       "      <td>0</td>\n",
       "    </tr>\n",
       "    <tr>\n",
       "      <th>4</th>\n",
       "      <td>5</td>\n",
       "      <td>X</td>\n",
       "      <td>Browning-Hart</td>\n",
       "      <td>3.250</td>\n",
       "      <td>166000</td>\n",
       "      <td>180</td>\n",
       "      <td>01/02/12</td>\n",
       "      <td>Apr-12</td>\n",
       "      <td>53</td>\n",
       "      <td>2</td>\n",
       "      <td>...</td>\n",
       "      <td>0</td>\n",
       "      <td>0</td>\n",
       "      <td>0</td>\n",
       "      <td>0</td>\n",
       "      <td>0</td>\n",
       "      <td>0</td>\n",
       "      <td>0</td>\n",
       "      <td>0</td>\n",
       "      <td>0</td>\n",
       "      <td>0</td>\n",
       "    </tr>\n",
       "  </tbody>\n",
       "</table>\n",
       "<p>5 rows × 28 columns</p>\n",
       "</div>"
      ],
      "text/plain": [
       "   loan_id source      financial_institution  interest_rate  \\\n",
       "0        1      Y              Browning-Hart          3.875   \n",
       "1        2      X                      OTHER          4.500   \n",
       "2        3      Y                      OTHER          4.500   \n",
       "3        4      X  Miller, Mcclure and Allen          4.125   \n",
       "4        5      X              Browning-Hart          3.250   \n",
       "\n",
       "   unpaid_principal_bal  loan_term origination_date first_payment_date  \\\n",
       "0                417000        360         01/02/12             Apr-12   \n",
       "1                113000        360         01/02/12             Apr-12   \n",
       "2                 72000        360         01/01/12             Mar-12   \n",
       "3                123000        180         01/02/12             Apr-12   \n",
       "4                166000        180         01/02/12             Apr-12   \n",
       "\n",
       "   loan_to_value  number_of_borrowers ...   m3  m4 m5  m6  m7  m8  m9  m10  \\\n",
       "0             75                    1 ...    0   0  0   0   0   0   0    0   \n",
       "1             80                    2 ...    0   0  0   0   0   0   0    0   \n",
       "2             75                    1 ...    0   0  0   0   0   0   0    0   \n",
       "3             41                    2 ...    0   0  0   0   0   0   0    0   \n",
       "4             53                    2 ...    0   0  0   0   0   0   0    0   \n",
       "\n",
       "   m11  m12  \n",
       "0    0    0  \n",
       "1    0    0  \n",
       "2    0    0  \n",
       "3    0    0  \n",
       "4    0    0  \n",
       "\n",
       "[5 rows x 28 columns]"
      ]
     },
     "execution_count": 701,
     "metadata": {},
     "output_type": "execute_result"
    }
   ],
   "source": [
    "new_data = pd.read_csv('C:\\\\Analytix\\\\Git\\\\Analytix\\\\Hackathon\\\\test_3BA6GZX\\\\test.csv')\n",
    "new_data.head()"
   ]
  },
  {
   "cell_type": "code",
   "execution_count": 702,
   "metadata": {},
   "outputs": [
    {
     "name": "stdout",
     "output_type": "stream",
     "text": [
      "<class 'pandas.core.frame.DataFrame'>\n",
      "RangeIndex: 35866 entries, 0 to 35865\n",
      "Data columns (total 28 columns):\n",
      "loan_id                     35866 non-null int64\n",
      "source                      35866 non-null object\n",
      "financial_institution       35866 non-null object\n",
      "interest_rate               35866 non-null float64\n",
      "unpaid_principal_bal        35866 non-null int64\n",
      "loan_term                   35866 non-null int64\n",
      "origination_date            35866 non-null object\n",
      "first_payment_date          35866 non-null object\n",
      "loan_to_value               35866 non-null int64\n",
      "number_of_borrowers         35866 non-null int64\n",
      "debt_to_income_ratio        35866 non-null int64\n",
      "borrower_credit_score       35866 non-null int64\n",
      "loan_purpose                35866 non-null object\n",
      "insurance_percent           35866 non-null int64\n",
      "co-borrower_credit_score    35866 non-null int64\n",
      "insurance_type              35866 non-null int64\n",
      "m1                          35866 non-null int64\n",
      "m2                          35866 non-null int64\n",
      "m3                          35866 non-null int64\n",
      "m4                          35866 non-null int64\n",
      "m5                          35866 non-null int64\n",
      "m6                          35866 non-null int64\n",
      "m7                          35866 non-null int64\n",
      "m8                          35866 non-null int64\n",
      "m9                          35866 non-null int64\n",
      "m10                         35866 non-null int64\n",
      "m11                         35866 non-null int64\n",
      "m12                         35866 non-null int64\n",
      "dtypes: float64(1), int64(22), object(5)\n",
      "memory usage: 7.7+ MB\n"
     ]
    }
   ],
   "source": [
    "new_data.info()"
   ]
  },
  {
   "cell_type": "code",
   "execution_count": 703,
   "metadata": {},
   "outputs": [
    {
     "name": "stdout",
     "output_type": "stream",
     "text": [
      "['loan_id', 'interest_rate', 'unpaid_principal_bal', 'loan_term', 'loan_to_value', 'number_of_borrowers', 'debt_to_income_ratio', 'borrower_credit_score', 'insurance_percent', 'co-borrower_credit_score', 'insurance_type', 'm1', 'm2', 'm3', 'm4', 'm5', 'm6', 'm7', 'm8', 'm9', 'm10', 'm11', 'm12']\n",
      "['source', 'financial_institution', 'origination_date', 'first_payment_date', 'loan_purpose']\n"
     ]
    }
   ],
   "source": [
    "num_vars = [col for col in dict(new_data.dtypes) if dict(new_data.dtypes)[col] in ['float64','int64']]\n",
    "cat_vars = [col for col in dict(new_data.dtypes) if dict(new_data.dtypes)[col] in ['object']]\n",
    "print(num_vars)\n",
    "print(cat_vars)"
   ]
  },
  {
   "cell_type": "code",
   "execution_count": 704,
   "metadata": {},
   "outputs": [],
   "source": [
    "cat_vars = ['source',\n",
    "            'financial_institution',\n",
    "            'origination_date',\n",
    "            'first_payment_date',\n",
    "            'loan_purpose',\n",
    "            'insurance_type',\n",
    "            'number_of_borrowers']\n",
    "num_vars = ['loan_id',\n",
    "            'interest_rate',\n",
    "            'unpaid_principal_bal',\n",
    "            'loan_term',\n",
    "            'loan_to_value',\n",
    "            'debt_to_income_ratio',\n",
    "            'borrower_credit_score',\n",
    "            'insurance_percent',\n",
    "            'co-borrower_credit_score']\n",
    "ordinal_vars = ['m1', 'm2', 'm3', 'm4', 'm5', 'm6', 'm7', 'm8', 'm9', 'm10', 'm11', 'm12']"
   ]
  },
  {
   "cell_type": "code",
   "execution_count": 705,
   "metadata": {},
   "outputs": [
    {
     "name": "stdout",
     "output_type": "stream",
     "text": [
      "<class 'pandas.core.frame.DataFrame'>\n",
      "RangeIndex: 35866 entries, 0 to 35865\n",
      "Data columns (total 45 columns):\n",
      "loan_id                                              35866 non-null float64\n",
      "interest_rate                                        35866 non-null float64\n",
      "unpaid_principal_bal                                 35866 non-null float64\n",
      "loan_term                                            35866 non-null float64\n",
      "loan_to_value                                        35866 non-null float64\n",
      "debt_to_income_ratio                                 35866 non-null float64\n",
      "borrower_credit_score                                35866 non-null float64\n",
      "insurance_percent                                    35866 non-null float64\n",
      "co-borrower_credit_score                             35866 non-null float64\n",
      "source_Y                                             35866 non-null uint8\n",
      "source_Z                                             35866 non-null uint8\n",
      "financial_institution_Browning-Hart                  35866 non-null uint8\n",
      "financial_institution_Chapman-Mcmahon                35866 non-null uint8\n",
      "financial_institution_Cole, Brooks and Vincent       35866 non-null uint8\n",
      "financial_institution_Edwards-Hoffman                35866 non-null uint8\n",
      "financial_institution_Martinez, Duffy and Bird       35866 non-null uint8\n",
      "financial_institution_Miller, Mcclure and Allen      35866 non-null uint8\n",
      "financial_institution_Nicholson Group                35866 non-null uint8\n",
      "financial_institution_OTHER                          35866 non-null uint8\n",
      "financial_institution_Richards-Walters               35866 non-null uint8\n",
      "financial_institution_Richardson Ltd                 35866 non-null uint8\n",
      "financial_institution_Romero, Woods and Johnson      35866 non-null uint8\n",
      "financial_institution_Sanchez, Hays and Wilkerson    35866 non-null uint8\n",
      "financial_institution_Sanchez-Robinson               35866 non-null uint8\n",
      "financial_institution_Suarez Inc                     35866 non-null uint8\n",
      "financial_institution_Swanson, Newton and Miller     35866 non-null uint8\n",
      "financial_institution_Taylor, Hunt and Rodriguez     35866 non-null uint8\n",
      "financial_institution_Thornton-Davis                 35866 non-null uint8\n",
      "financial_institution_Turner, Baldwin and Rhodes     35866 non-null uint8\n",
      "loan_purpose_B12                                     35866 non-null uint8\n",
      "loan_purpose_C86                                     35866 non-null uint8\n",
      "insurance_type_1                                     35866 non-null uint8\n",
      "number_of_borrowers_2                                35866 non-null uint8\n",
      "m1                                                   35866 non-null int64\n",
      "m2                                                   35866 non-null int64\n",
      "m3                                                   35866 non-null int64\n",
      "m4                                                   35866 non-null int64\n",
      "m5                                                   35866 non-null int64\n",
      "m6                                                   35866 non-null int64\n",
      "m7                                                   35866 non-null int64\n",
      "m8                                                   35866 non-null int64\n",
      "m9                                                   35866 non-null int64\n",
      "m10                                                  35866 non-null int64\n",
      "m11                                                  35866 non-null int64\n",
      "m12                                                  35866 non-null int64\n",
      "dtypes: float64(9), int64(12), uint8(24)\n",
      "memory usage: 6.6 MB\n"
     ]
    },
    {
     "name": "stderr",
     "output_type": "stream",
     "text": [
      "C:\\Users\\arundev.satheesan\\AppData\\Local\\Continuum\\anaconda3\\lib\\site-packages\\pandas\\core\\frame.py:3694: SettingWithCopyWarning: \n",
      "A value is trying to be set on a copy of a slice from a DataFrame\n",
      "\n",
      "See the caveats in the documentation: http://pandas.pydata.org/pandas-docs/stable/indexing.html#indexing-view-versus-copy\n",
      "  errors=errors)\n"
     ]
    }
   ],
   "source": [
    "data_num = new_data[num_vars]\n",
    "data_ord = new_data[ordinal_vars]\n",
    "data_cat = new_data[cat_vars]\n",
    "\n",
    "data_num = data_num.apply(lambda x: outlierCapping(x))\n",
    "\n",
    "data_cat.drop(columns=['origination_date','first_payment_date'],inplace=True)\n",
    "data_cat = data_cat.apply(lambda x: x.astype('category'))\n",
    "\n",
    "data_cat_new = data_cat\n",
    "for col in data_cat.columns:\n",
    "    data_cat_new = create_dummies(data_cat_new,col)\n",
    "\n",
    "new_data_d1 = pd.concat([data_num,data_cat_new,data_ord],axis=1)\n",
    "new_data_d1.info()"
   ]
  },
  {
   "cell_type": "code",
   "execution_count": 706,
   "metadata": {},
   "outputs": [],
   "source": [
    "new_data_d1.drop(columns=['borrower_credit_score'],inplace=True)\n",
    "new_data_d1.drop(columns=['loan_id'],inplace=True)"
   ]
  },
  {
   "cell_type": "code",
   "execution_count": 707,
   "metadata": {},
   "outputs": [],
   "source": [
    "new_data_d1.columns = [var.strip().replace('-','_') for var in new_data_d1.columns]\n",
    "new_data_d1.columns = [var.strip().replace(' ','_') for var in new_data_d1.columns]\n",
    "new_data_d1.columns = [var.strip().replace(',','_') for var in new_data_d1.columns]\n",
    "new_data_d1.columns = [var.strip().replace('.','_') for var in new_data_d1.columns]"
   ]
  },
  {
   "cell_type": "code",
   "execution_count": 708,
   "metadata": {},
   "outputs": [
    {
     "name": "stdout",
     "output_type": "stream",
     "text": [
      "<class 'pandas.core.frame.DataFrame'>\n",
      "RangeIndex: 35866 entries, 0 to 35865\n",
      "Data columns (total 43 columns):\n",
      "interest_rate                                        35866 non-null float64\n",
      "unpaid_principal_bal                                 35866 non-null float64\n",
      "loan_term                                            35866 non-null float64\n",
      "loan_to_value                                        35866 non-null float64\n",
      "debt_to_income_ratio                                 35866 non-null float64\n",
      "insurance_percent                                    35866 non-null float64\n",
      "co_borrower_credit_score                             35866 non-null float64\n",
      "source_Y                                             35866 non-null uint8\n",
      "source_Z                                             35866 non-null uint8\n",
      "financial_institution_Browning_Hart                  35866 non-null uint8\n",
      "financial_institution_Chapman_Mcmahon                35866 non-null uint8\n",
      "financial_institution_Cole__Brooks_and_Vincent       35866 non-null uint8\n",
      "financial_institution_Edwards_Hoffman                35866 non-null uint8\n",
      "financial_institution_Martinez__Duffy_and_Bird       35866 non-null uint8\n",
      "financial_institution_Miller__Mcclure_and_Allen      35866 non-null uint8\n",
      "financial_institution_Nicholson_Group                35866 non-null uint8\n",
      "financial_institution_OTHER                          35866 non-null uint8\n",
      "financial_institution_Richards_Walters               35866 non-null uint8\n",
      "financial_institution_Richardson_Ltd                 35866 non-null uint8\n",
      "financial_institution_Romero__Woods_and_Johnson      35866 non-null uint8\n",
      "financial_institution_Sanchez__Hays_and_Wilkerson    35866 non-null uint8\n",
      "financial_institution_Sanchez_Robinson               35866 non-null uint8\n",
      "financial_institution_Suarez_Inc                     35866 non-null uint8\n",
      "financial_institution_Swanson__Newton_and_Miller     35866 non-null uint8\n",
      "financial_institution_Taylor__Hunt_and_Rodriguez     35866 non-null uint8\n",
      "financial_institution_Thornton_Davis                 35866 non-null uint8\n",
      "financial_institution_Turner__Baldwin_and_Rhodes     35866 non-null uint8\n",
      "loan_purpose_B12                                     35866 non-null uint8\n",
      "loan_purpose_C86                                     35866 non-null uint8\n",
      "insurance_type_1                                     35866 non-null uint8\n",
      "number_of_borrowers_2                                35866 non-null uint8\n",
      "m1                                                   35866 non-null int64\n",
      "m2                                                   35866 non-null int64\n",
      "m3                                                   35866 non-null int64\n",
      "m4                                                   35866 non-null int64\n",
      "m5                                                   35866 non-null int64\n",
      "m6                                                   35866 non-null int64\n",
      "m7                                                   35866 non-null int64\n",
      "m8                                                   35866 non-null int64\n",
      "m9                                                   35866 non-null int64\n",
      "m10                                                  35866 non-null int64\n",
      "m11                                                  35866 non-null int64\n",
      "m12                                                  35866 non-null int64\n",
      "dtypes: float64(7), int64(12), uint8(24)\n",
      "memory usage: 6.0 MB\n"
     ]
    }
   ],
   "source": [
    "new_data_d1.info()"
   ]
  },
  {
   "cell_type": "code",
   "execution_count": 709,
   "metadata": {},
   "outputs": [],
   "source": [
    "model_vars = ['co_borrower_credit_score',\n",
    "             'debt_to_income_ratio',\n",
    "              'financial_institution_Edwards_Hoffman',\n",
    "              'interest_rate',\n",
    "              'loan_purpose_B12',\n",
    "              'loan_to_value',\n",
    "              'm1',\n",
    "              'm12',\n",
    "              'm4',\n",
    "              'unpaid_principal_bal'\n",
    "             ]"
   ]
  },
  {
   "cell_type": "code",
   "execution_count": 710,
   "metadata": {},
   "outputs": [
    {
     "data": {
      "text/html": [
       "<div>\n",
       "<style scoped>\n",
       "    .dataframe tbody tr th:only-of-type {\n",
       "        vertical-align: middle;\n",
       "    }\n",
       "\n",
       "    .dataframe tbody tr th {\n",
       "        vertical-align: top;\n",
       "    }\n",
       "\n",
       "    .dataframe thead th {\n",
       "        text-align: right;\n",
       "    }\n",
       "</style>\n",
       "<table border=\"1\" class=\"dataframe\">\n",
       "  <thead>\n",
       "    <tr style=\"text-align: right;\">\n",
       "      <th></th>\n",
       "      <th>prob</th>\n",
       "    </tr>\n",
       "  </thead>\n",
       "  <tbody>\n",
       "    <tr>\n",
       "      <th>0</th>\n",
       "      <td>0.007482</td>\n",
       "    </tr>\n",
       "    <tr>\n",
       "      <th>1</th>\n",
       "      <td>0.018055</td>\n",
       "    </tr>\n",
       "    <tr>\n",
       "      <th>2</th>\n",
       "      <td>0.039043</td>\n",
       "    </tr>\n",
       "    <tr>\n",
       "      <th>3</th>\n",
       "      <td>0.008511</td>\n",
       "    </tr>\n",
       "    <tr>\n",
       "      <th>4</th>\n",
       "      <td>0.002302</td>\n",
       "    </tr>\n",
       "  </tbody>\n",
       "</table>\n",
       "</div>"
      ],
      "text/plain": [
       "       prob\n",
       "0  0.007482\n",
       "1  0.018055\n",
       "2  0.039043\n",
       "3  0.008511\n",
       "4  0.002302"
      ]
     },
     "execution_count": 710,
     "metadata": {},
     "output_type": "execute_result"
    }
   ],
   "source": [
    "final_pred = pd.DataFrame(result.predict(new_data_d1))\n",
    "final_pred.columns = ['prob']\n",
    "# making a DataFrame with actual and prob columns\n",
    "final_pred.head()"
   ]
  },
  {
   "cell_type": "code",
   "execution_count": 711,
   "metadata": {},
   "outputs": [],
   "source": [
    "final_pred['predicted'] = final_pred['prob'].apply(lambda x: 1 if x > 0.040816 else 0)\n",
    "# final_pred['predicted'] = final_pred['prob'].apply(lambda x: 1 if x > 0.102041 else 0)"
   ]
  },
  {
   "cell_type": "code",
   "execution_count": 712,
   "metadata": {},
   "outputs": [
    {
     "data": {
      "text/plain": [
       "0        0\n",
       "1        0\n",
       "2        0\n",
       "3        0\n",
       "4        0\n",
       "5        0\n",
       "6        0\n",
       "7        0\n",
       "8        0\n",
       "9        0\n",
       "10       1\n",
       "11       0\n",
       "12       0\n",
       "13       0\n",
       "14       0\n",
       "15       1\n",
       "16       0\n",
       "17       0\n",
       "18       0\n",
       "19       1\n",
       "20       0\n",
       "21       0\n",
       "22       0\n",
       "23       0\n",
       "24       0\n",
       "25       0\n",
       "26       0\n",
       "27       0\n",
       "28       0\n",
       "29       0\n",
       "        ..\n",
       "35836    0\n",
       "35837    0\n",
       "35838    0\n",
       "35839    0\n",
       "35840    0\n",
       "35841    0\n",
       "35842    0\n",
       "35843    0\n",
       "35844    0\n",
       "35845    0\n",
       "35846    0\n",
       "35847    0\n",
       "35848    0\n",
       "35849    0\n",
       "35850    0\n",
       "35851    0\n",
       "35852    1\n",
       "35853    0\n",
       "35854    0\n",
       "35855    0\n",
       "35856    0\n",
       "35857    0\n",
       "35858    1\n",
       "35859    1\n",
       "35860    0\n",
       "35861    0\n",
       "35862    0\n",
       "35863    0\n",
       "35864    1\n",
       "35865    0\n",
       "Name: predicted, Length: 35866, dtype: int64"
      ]
     },
     "execution_count": 712,
     "metadata": {},
     "output_type": "execute_result"
    }
   ],
   "source": [
    "sub_pred = final_pred['predicted']\n",
    "sub_pred\n",
    "# # sub_pred.drop(columns=['prob'],inplace=True)\n",
    "# sub_pred.columns = ['m13']\n",
    "# sub_pred = sub_pred.reset_index()\n",
    "# sub_pred.head()"
   ]
  },
  {
   "cell_type": "code",
   "execution_count": 713,
   "metadata": {},
   "outputs": [],
   "source": [
    "sub_pred.to_csv('solution.csv')"
   ]
  },
  {
   "cell_type": "code",
   "execution_count": 204,
   "metadata": {},
   "outputs": [
    {
     "data": {
      "text/plain": [
       "0    35624\n",
       "1      242\n",
       "Name: m13, dtype: int64"
      ]
     },
     "execution_count": 204,
     "metadata": {},
     "output_type": "execute_result"
    }
   ],
   "source": [
    "sub_pred.m13.value_counts()"
   ]
  },
  {
   "cell_type": "code",
   "execution_count": null,
   "metadata": {},
   "outputs": [],
   "source": []
  },
  {
   "cell_type": "markdown",
   "metadata": {},
   "source": [
    "XGBOOST"
   ]
  },
  {
   "cell_type": "code",
   "execution_count": 278,
   "metadata": {},
   "outputs": [
    {
     "name": "stdout",
     "output_type": "stream",
     "text": [
      "<class 'pandas.core.frame.DataFrame'>\n",
      "RangeIndex: 35866 entries, 0 to 35865\n",
      "Data columns (total 19 columns):\n",
      "m4                                                  35866 non-null uint8\n",
      "m3                                                  35866 non-null float64\n",
      "loan_to_value                                       35866 non-null float64\n",
      "m2                                                  35866 non-null uint8\n",
      "insurance_percent                                   35866 non-null uint8\n",
      "loan_purpose_C86                                    35866 non-null uint8\n",
      "m12                                                 35866 non-null uint8\n",
      "loan_purpose_B12                                    35866 non-null float64\n",
      "interest_rate                                       35866 non-null float64\n",
      "m1                                                  35866 non-null uint8\n",
      "debt_to_income_ratio                                35866 non-null uint8\n",
      "co_borrower_credit_score                            35866 non-null float64\n",
      "unpaid_principal_bal                                35866 non-null int64\n",
      "source_Y                                            35866 non-null int64\n",
      "financial_institution_Edwards_Hoffman               35866 non-null int64\n",
      "insurance_type_1_0                                  35866 non-null int64\n",
      "financial_institution_Thornton_Davis                35866 non-null int64\n",
      "financial_institution_Taylor__Hunt_and_Rodriguez    35866 non-null uint8\n",
      "financial_institution_Romero__Woods_and_Johnson     35866 non-null float64\n",
      "dtypes: float64(6), int64(5), uint8(8)\n",
      "memory usage: 3.3 MB\n"
     ]
    },
    {
     "name": "stderr",
     "output_type": "stream",
     "text": [
      "C:\\Users\\arundev.satheesan\\AppData\\Local\\Continuum\\anaconda3\\lib\\site-packages\\pandas\\core\\frame.py:3778: SettingWithCopyWarning: \n",
      "A value is trying to be set on a copy of a slice from a DataFrame\n",
      "\n",
      "See the caveats in the documentation: http://pandas.pydata.org/pandas-docs/stable/indexing.html#indexing-view-versus-copy\n",
      "  return super(DataFrame, self).rename(**kwargs)\n"
     ]
    }
   ],
   "source": [
    "final_columns = train.columns.difference(['insurance_type_1_0', 'm13'])\n",
    "final_columns = final_columns.insert(item='insurance_type_1',loc=0)\n",
    "new_data_d2 = new_data_d1[final_columns]\n",
    "# new_data_d2.columns.rename({insurance_type_1: 'insurance_type_1_0'},inplace=True)\n",
    "new_data_d2.rename(columns={'insurance_type_1': 'insurance_type_1_0'},inplace=True)\n",
    "new_data_d2.columns = ['m4', 'm3', 'loan_to_value', 'm2', 'insurance_percent', 'loan_purpose_C86', 'm12', 'loan_purpose_B12', 'interest_rate', 'm1', 'debt_to_income_ratio', 'co_borrower_credit_score', 'unpaid_principal_bal', 'source_Y', 'financial_institution_Edwards_Hoffman', 'insurance_type_1_0', 'financial_institution_Thornton_Davis', 'financial_institution_Taylor__Hunt_and_Rodriguez', 'financial_institution_Romero__Woods_and_Johnson']\n",
    "new_data_d2.info()"
   ]
  },
  {
   "cell_type": "code",
   "execution_count": 279,
   "metadata": {},
   "outputs": [
    {
     "name": "stdout",
     "output_type": "stream",
     "text": [
      "<class 'pandas.core.frame.DataFrame'>\n",
      "Int64Index: 81240 entries, 11010 to 15725\n",
      "Data columns (total 20 columns):\n",
      "m4                                                  81240 non-null int64\n",
      "m3                                                  81240 non-null int64\n",
      "loan_to_value                                       81240 non-null float64\n",
      "m2                                                  81240 non-null int64\n",
      "insurance_percent                                   81240 non-null float64\n",
      "loan_purpose_C86                                    81240 non-null uint8\n",
      "m12                                                 81240 non-null int64\n",
      "loan_purpose_B12                                    81240 non-null uint8\n",
      "interest_rate                                       81240 non-null float64\n",
      "m1                                                  81240 non-null int64\n",
      "debt_to_income_ratio                                81240 non-null float64\n",
      "co_borrower_credit_score                            81240 non-null float64\n",
      "unpaid_principal_bal                                81240 non-null float64\n",
      "source_Y                                            81240 non-null uint8\n",
      "financial_institution_Edwards_Hoffman               81240 non-null uint8\n",
      "insurance_type_1_0                                  81240 non-null uint8\n",
      "financial_institution_Thornton_Davis                81240 non-null uint8\n",
      "financial_institution_Taylor__Hunt_and_Rodriguez    81240 non-null uint8\n",
      "financial_institution_Romero__Woods_and_Johnson     81240 non-null uint8\n",
      "m13                                                 81240 non-null int64\n",
      "dtypes: float64(6), int64(6), uint8(8)\n",
      "memory usage: 8.7 MB\n"
     ]
    }
   ],
   "source": [
    "train.info()"
   ]
  },
  {
   "cell_type": "code",
   "execution_count": 333,
   "metadata": {},
   "outputs": [
    {
     "name": "stderr",
     "output_type": "stream",
     "text": [
      "C:\\Users\\arundev.satheesan\\AppData\\Local\\Continuum\\anaconda3\\lib\\site-packages\\sklearn\\preprocessing\\label.py:151: DeprecationWarning: The truth value of an empty array is ambiguous. Returning False, but in future this will result in an error. Use `array.size > 0` to check that an array is not empty.\n",
      "  if diff:\n"
     ]
    },
    {
     "data": {
      "text/plain": [
       "array([0, 0, 0, ..., 0, 0, 0], dtype=int64)"
      ]
     },
     "execution_count": 333,
     "metadata": {},
     "output_type": "execute_result"
    }
   ],
   "source": [
    "sub_pred2 = xgb1.predict(new_data_d2)\n",
    "sub_pred2"
   ]
  },
  {
   "cell_type": "code",
   "execution_count": 335,
   "metadata": {},
   "outputs": [],
   "source": [
    "sub_pred_df = pd.DataFrame()\n",
    "sub_pred_df['out'] = sub_pred2\n",
    "sub_pred_df.to_csv('xgboost.csv')"
   ]
  },
  {
   "cell_type": "code",
   "execution_count": null,
   "metadata": {},
   "outputs": [],
   "source": []
  },
  {
   "cell_type": "markdown",
   "metadata": {},
   "source": [
    "KNN"
   ]
  },
  {
   "cell_type": "code",
   "execution_count": 354,
   "metadata": {},
   "outputs": [],
   "source": [
    "sub_pred3 = knn_clf.predict(new_data_d2)\n",
    "sub_pred_df = pd.DataFrame()\n",
    "sub_pred_df['out'] = sub_pred3\n",
    "sub_pred_df.to_csv('knn.csv')"
   ]
  },
  {
   "cell_type": "code",
   "execution_count": null,
   "metadata": {},
   "outputs": [],
   "source": []
  }
 ],
 "metadata": {
  "kernelspec": {
   "display_name": "Python [default]",
   "language": "python",
   "name": "python3"
  },
  "language_info": {
   "codemirror_mode": {
    "name": "ipython",
    "version": 3
   },
   "file_extension": ".py",
   "mimetype": "text/x-python",
   "name": "python",
   "nbconvert_exporter": "python",
   "pygments_lexer": "ipython3",
   "version": "3.6.5"
  }
 },
 "nbformat": 4,
 "nbformat_minor": 2
}
