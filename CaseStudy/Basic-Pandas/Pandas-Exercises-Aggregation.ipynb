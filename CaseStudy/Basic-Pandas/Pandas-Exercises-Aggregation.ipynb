{
 "cells": [
  {
   "cell_type": "markdown",
   "metadata": {},
   "source": [
    "# Aggregations"
   ]
  },
  {
   "cell_type": "markdown",
   "metadata": {},
   "source": [
    "### Step 1. Import the necessary libraries"
   ]
  },
  {
   "cell_type": "code",
   "execution_count": 15,
   "metadata": {},
   "outputs": [],
   "source": [
    "import pandas as pd\n",
    "import numpy as np"
   ]
  },
  {
   "cell_type": "markdown",
   "metadata": {},
   "source": [
    "### Step 2. Import the dataset occupation.csv from the folder or [here](https://raw.githubusercontent.com/justmarkham/DAT8/master/data/u.user). "
   ]
  },
  {
   "cell_type": "code",
   "execution_count": 99,
   "metadata": {},
   "outputs": [
    {
     "data": {
      "text/html": [
       "<div>\n",
       "<style scoped>\n",
       "    .dataframe tbody tr th:only-of-type {\n",
       "        vertical-align: middle;\n",
       "    }\n",
       "\n",
       "    .dataframe tbody tr th {\n",
       "        vertical-align: top;\n",
       "    }\n",
       "\n",
       "    .dataframe thead th {\n",
       "        text-align: right;\n",
       "    }\n",
       "</style>\n",
       "<table border=\"1\" class=\"dataframe\">\n",
       "  <thead>\n",
       "    <tr style=\"text-align: right;\">\n",
       "      <th></th>\n",
       "      <th>user_id</th>\n",
       "      <th>age</th>\n",
       "      <th>gender</th>\n",
       "      <th>occupation</th>\n",
       "      <th>zip_code</th>\n",
       "    </tr>\n",
       "  </thead>\n",
       "  <tbody>\n",
       "    <tr>\n",
       "      <th>0</th>\n",
       "      <td>1</td>\n",
       "      <td>24</td>\n",
       "      <td>M</td>\n",
       "      <td>technician</td>\n",
       "      <td>85711</td>\n",
       "    </tr>\n",
       "    <tr>\n",
       "      <th>1</th>\n",
       "      <td>2</td>\n",
       "      <td>53</td>\n",
       "      <td>F</td>\n",
       "      <td>other</td>\n",
       "      <td>94043</td>\n",
       "    </tr>\n",
       "    <tr>\n",
       "      <th>2</th>\n",
       "      <td>3</td>\n",
       "      <td>23</td>\n",
       "      <td>M</td>\n",
       "      <td>writer</td>\n",
       "      <td>32067</td>\n",
       "    </tr>\n",
       "    <tr>\n",
       "      <th>3</th>\n",
       "      <td>4</td>\n",
       "      <td>24</td>\n",
       "      <td>M</td>\n",
       "      <td>technician</td>\n",
       "      <td>43537</td>\n",
       "    </tr>\n",
       "    <tr>\n",
       "      <th>4</th>\n",
       "      <td>5</td>\n",
       "      <td>33</td>\n",
       "      <td>F</td>\n",
       "      <td>other</td>\n",
       "      <td>15213</td>\n",
       "    </tr>\n",
       "  </tbody>\n",
       "</table>\n",
       "</div>"
      ],
      "text/plain": [
       "   user_id  age gender  occupation zip_code\n",
       "0        1   24      M  technician    85711\n",
       "1        2   53      F       other    94043\n",
       "2        3   23      M      writer    32067\n",
       "3        4   24      M  technician    43537\n",
       "4        5   33      F       other    15213"
      ]
     },
     "execution_count": 99,
     "metadata": {},
     "output_type": "execute_result"
    }
   ],
   "source": [
    "users = pd.read_csv(\"C:\\Analytix\\Assignments\\Dataset\\occupation.csv\", sep=\"|\")\n",
    "users.head()"
   ]
  },
  {
   "cell_type": "markdown",
   "metadata": {},
   "source": [
    "### Step 3. Assign it to a variable called users."
   ]
  },
  {
   "cell_type": "code",
   "execution_count": null,
   "metadata": {},
   "outputs": [],
   "source": []
  },
  {
   "cell_type": "markdown",
   "metadata": {},
   "source": [
    "### Step 4. Discover what is the mean age per occupation"
   ]
  },
  {
   "cell_type": "code",
   "execution_count": 92,
   "metadata": {
    "scrolled": true
   },
   "outputs": [
    {
     "name": "stdout",
     "output_type": "stream",
     "text": [
      "The mean age per occupation of:\n",
      "administrator: 38.75\n",
      "artist: 31.39\n",
      "doctor: 43.57\n",
      "educator: 42.01\n",
      "engineer: 36.39\n",
      "entertainment: 29.22\n",
      "executive: 38.72\n",
      "healthcare: 41.56\n",
      "homemaker: 32.57\n",
      "lawyer: 36.75\n",
      "librarian: 40.0\n",
      "marketing: 37.62\n",
      "none: 26.56\n",
      "other: 34.52\n",
      "programmer: 33.12\n",
      "retired: 63.07\n",
      "salesman: 35.67\n",
      "scientist: 35.55\n",
      "student: 22.08\n",
      "technician: 33.15\n",
      "writer: 36.31\n"
     ]
    }
   ],
   "source": [
    "userArr = users.groupby('occupation').mean()\n",
    "userArr.reset_index(inplace=True)\n",
    "print(\"The mean age per occupation of:\")\n",
    "for index,row in userArr.iterrows():\n",
    "    print(\"{}: {}\".format(row['occupation'], round(row['age'],2)))"
   ]
  },
  {
   "cell_type": "markdown",
   "metadata": {},
   "source": [
    "### Step 5. Discover the Male ratio per occupation and sort it from the most to the least.\n",
    "\n",
    "Use numpy.where() to encode gender column."
   ]
  },
  {
   "cell_type": "code",
   "execution_count": 180,
   "metadata": {},
   "outputs": [
    {
     "name": "stdout",
     "output_type": "stream",
     "text": [
      "Male ratio per occupation sorted from most to the least:\n",
      "doctor: 1.0\n",
      "engineer: 0.97\n",
      "technician: 0.96\n",
      "retired: 0.93\n",
      "programmer: 0.91\n",
      "executive: 0.91\n",
      "scientist: 0.9\n",
      "entertainment: 0.89\n",
      "lawyer: 0.83\n",
      "salesman: 0.75\n",
      "educator: 0.73\n",
      "student: 0.69\n",
      "other: 0.66\n",
      "marketing: 0.62\n",
      "writer: 0.58\n",
      "none: 0.56\n",
      "administrator: 0.54\n",
      "artist: 0.54\n",
      "librarian: 0.43\n",
      "healthcare: 0.31\n",
      "homemaker: 0.14\n"
     ]
    }
   ],
   "source": [
    "occ_arr = users\n",
    "occ_arr['gender_bin'] = np.where(occ_arr.gender == 'M', 1,0)\n",
    "occ_arr = occ_arr.groupby('occupation')\n",
    "sortedArr = {}\n",
    "for name,group in occ_arr:\n",
    "    sortedArr.update({name : group['gender_bin'].sum()/group['gender_bin'].count()})\n",
    "    \n",
    "sortedArr = sorted(sortedArr.items(), key= lambda x: x[1]) \n",
    "print(\"Male ratio per occupation sorted from most to the least:\")\n",
    "for i in reversed(sortedArr):\n",
    "    print(\"{}: {}\".format(i[0],round(i[1],2)))"
   ]
  },
  {
   "cell_type": "markdown",
   "metadata": {},
   "source": [
    "### Step 6. For each occupation, calculate the minimum and maximum ages"
   ]
  },
  {
   "cell_type": "code",
   "execution_count": 227,
   "metadata": {},
   "outputs": [
    {
     "name": "stdout",
     "output_type": "stream",
     "text": [
      "Minimum and Maximum age of different occupation are:\n",
      "administrator:\n",
      "   max: 70\n",
      "   min: 21\n",
      "artist:\n",
      "   max: 48\n",
      "   min: 19\n",
      "doctor:\n",
      "   max: 64\n",
      "   min: 28\n",
      "educator:\n",
      "   max: 63\n",
      "   min: 23\n",
      "engineer:\n",
      "   max: 70\n",
      "   min: 22\n",
      "entertainment:\n",
      "   max: 50\n",
      "   min: 15\n",
      "executive:\n",
      "   max: 69\n",
      "   min: 22\n",
      "healthcare:\n",
      "   max: 62\n",
      "   min: 22\n",
      "homemaker:\n",
      "   max: 50\n",
      "   min: 20\n",
      "lawyer:\n",
      "   max: 53\n",
      "   min: 21\n",
      "librarian:\n",
      "   max: 69\n",
      "   min: 23\n",
      "marketing:\n",
      "   max: 55\n",
      "   min: 24\n",
      "none:\n",
      "   max: 55\n",
      "   min: 11\n",
      "other:\n",
      "   max: 64\n",
      "   min: 13\n",
      "programmer:\n",
      "   max: 63\n",
      "   min: 20\n",
      "retired:\n",
      "   max: 73\n",
      "   min: 51\n",
      "salesman:\n",
      "   max: 66\n",
      "   min: 18\n",
      "scientist:\n",
      "   max: 55\n",
      "   min: 23\n",
      "student:\n",
      "   max: 42\n",
      "   min: 7\n",
      "technician:\n",
      "   max: 55\n",
      "   min: 21\n",
      "writer:\n",
      "   max: 60\n",
      "   min: 18\n"
     ]
    }
   ],
   "source": [
    "occ_arr = users\n",
    "occ_arr['gender_bin'] = np.where(occ_arr.gender == 'M', 1,0)\n",
    "new_arr = occ_arr.groupby('occupation')\n",
    "new_arr = new_arr.agg([np.max,np.min])\n",
    "new_arr = new_arr.reset_index()\n",
    "new_arr = new_arr[['occupation','age']]\n",
    "new_arr\n",
    "print(\"Minimum and Maximum age of different occupation are:\")\n",
    "for index, row in new_arr.iterrows():\n",
    "    print(\"{}:\".format(row['occupation'][0]))\n",
    "    print(\"   max: {}\".format(row['age']['amax']))\n",
    "    print(\"   min: {}\".format(row['age']['amin']))"
   ]
  },
  {
   "cell_type": "markdown",
   "metadata": {},
   "source": [
    "### Step 7. For each combination of occupation and gender, calculate the mean age"
   ]
  },
  {
   "cell_type": "code",
   "execution_count": 249,
   "metadata": {},
   "outputs": [
    {
     "name": "stdout",
     "output_type": "stream",
     "text": [
      "Mean age of different combinations of occupation and gender:\n",
      "administrator and F\n",
      "   mean age: 40.64\n",
      "administrator and M\n",
      "   mean age: 37.16\n",
      "artist and F\n",
      "   mean age: 30.31\n",
      "artist and M\n",
      "   mean age: 32.33\n",
      "doctor and M\n",
      "   mean age: 43.57\n",
      "educator and F\n",
      "   mean age: 39.12\n",
      "educator and M\n",
      "   mean age: 43.1\n",
      "engineer and F\n",
      "   mean age: 29.5\n",
      "engineer and M\n",
      "   mean age: 36.6\n",
      "entertainment and F\n",
      "   mean age: 31.0\n",
      "entertainment and M\n",
      "   mean age: 29.0\n",
      "executive and F\n",
      "   mean age: 44.0\n",
      "executive and M\n",
      "   mean age: 38.17\n",
      "healthcare and F\n",
      "   mean age: 39.82\n",
      "healthcare and M\n",
      "   mean age: 45.4\n",
      "homemaker and F\n",
      "   mean age: 34.17\n",
      "homemaker and M\n",
      "   mean age: 23.0\n",
      "lawyer and F\n",
      "   mean age: 39.5\n",
      "lawyer and M\n",
      "   mean age: 36.2\n",
      "librarian and F\n",
      "   mean age: 40.0\n",
      "librarian and M\n",
      "   mean age: 40.0\n",
      "marketing and F\n",
      "   mean age: 37.2\n",
      "marketing and M\n",
      "   mean age: 37.88\n",
      "none and F\n",
      "   mean age: 36.5\n",
      "none and M\n",
      "   mean age: 18.6\n",
      "other and F\n",
      "   mean age: 35.47\n",
      "other and M\n",
      "   mean age: 34.03\n",
      "programmer and F\n",
      "   mean age: 32.17\n",
      "programmer and M\n",
      "   mean age: 33.22\n",
      "retired and F\n",
      "   mean age: 70.0\n",
      "retired and M\n",
      "   mean age: 62.54\n",
      "salesman and F\n",
      "   mean age: 27.0\n",
      "salesman and M\n",
      "   mean age: 38.56\n",
      "scientist and F\n",
      "   mean age: 28.33\n",
      "scientist and M\n",
      "   mean age: 36.32\n",
      "student and F\n",
      "   mean age: 20.75\n",
      "student and M\n",
      "   mean age: 22.67\n",
      "technician and F\n",
      "   mean age: 38.0\n",
      "technician and M\n",
      "   mean age: 32.96\n",
      "writer and F\n",
      "   mean age: 37.63\n",
      "writer and M\n",
      "   mean age: 35.35\n"
     ]
    }
   ],
   "source": [
    "occ_arr = users\n",
    "occ_arr = occ_arr.groupby(['occupation', 'gender'])['age'].mean()\n",
    "occ_arr1 = pd.DataFrame(occ_arr).reset_index()\n",
    "occ_arr1\n",
    "print(\"Mean age of different combinations of occupation and gender:\")\n",
    "for index, row in occ_arr1.iterrows():\n",
    "    print(\"{} and {}\".format(row['occupation'], row['gender']))\n",
    "    print(\"   mean age: {}\".format(round(row['age'],2)))"
   ]
  },
  {
   "cell_type": "markdown",
   "metadata": {},
   "source": [
    "### Step 8.  For each occupation present the percentage of women and men"
   ]
  },
  {
   "cell_type": "code",
   "execution_count": 276,
   "metadata": {},
   "outputs": [
    {
     "name": "stdout",
     "output_type": "stream",
     "text": [
      "For each Occupation, percentage of women and men:\n",
      "administrator: \n",
      "   men: 54.43%\n",
      "   women: 45.57%\n",
      "artist: \n",
      "   men: 53.57%\n",
      "   women: 46.43%\n",
      "doctor: \n",
      "   men: 100.0%\n",
      "   women: 0.0%\n",
      "educator: \n",
      "   men: 72.63%\n",
      "   women: 27.37%\n",
      "engineer: \n",
      "   men: 97.01%\n",
      "   women: 2.99%\n",
      "entertainment: \n",
      "   men: 88.89%\n",
      "   women: 11.11%\n",
      "executive: \n",
      "   men: 90.62%\n",
      "   women: 9.38%\n",
      "healthcare: \n",
      "   men: 31.25%\n",
      "   women: 68.75%\n",
      "homemaker: \n",
      "   men: 14.29%\n",
      "   women: 85.71%\n",
      "lawyer: \n",
      "   men: 83.33%\n",
      "   women: 16.67%\n",
      "librarian: \n",
      "   men: 43.14%\n",
      "   women: 56.86%\n",
      "marketing: \n",
      "   men: 61.54%\n",
      "   women: 38.46%\n",
      "none: \n",
      "   men: 55.56%\n",
      "   women: 44.44%\n",
      "other: \n",
      "   men: 65.71%\n",
      "   women: 34.29%\n",
      "programmer: \n",
      "   men: 90.91%\n",
      "   women: 9.09%\n",
      "retired: \n",
      "   men: 92.86%\n",
      "   women: 7.14%\n",
      "salesman: \n",
      "   men: 75.0%\n",
      "   women: 25.0%\n",
      "scientist: \n",
      "   men: 90.32%\n",
      "   women: 9.68%\n",
      "student: \n",
      "   men: 69.39%\n",
      "   women: 30.61%\n",
      "technician: \n",
      "   men: 96.3%\n",
      "   women: 3.7%\n",
      "writer: \n",
      "   men: 57.78%\n",
      "   women: 42.22%\n"
     ]
    }
   ],
   "source": [
    "occ_arr = users\n",
    "occ_arr = occ_arr.groupby(['occupation'])\n",
    "men = occ_arr['gender_bin'].sum()\n",
    "women = occ_arr['gender_bin'].count() - occ_arr['gender_bin'].sum() \n",
    "total = occ_arr['gender_bin'].count()\n",
    "data = pd.concat([men,women,total], axis=1).reset_index()\n",
    "data.columns = ['occupation', 'men', 'women', 'total']\n",
    "print(\"For each Occupation, percentage of women and men:\")\n",
    "for index, row in data.iterrows():\n",
    "    print(\"{}: \".format(row['occupation']))\n",
    "    print(\"   men: {}%\".format(round((row['men']/row['total']) * 100,2)))\n",
    "    print(\"   women: {}%\".format(round((row['women']/row['total']) * 100,2)))"
   ]
  }
 ],
 "metadata": {
  "kernelspec": {
   "display_name": "Python [default]",
   "language": "python",
   "name": "python3"
  },
  "language_info": {
   "codemirror_mode": {
    "name": "ipython",
    "version": 3
   },
   "file_extension": ".py",
   "mimetype": "text/x-python",
   "name": "python",
   "nbconvert_exporter": "python",
   "pygments_lexer": "ipython3",
   "version": "3.6.5"
  }
 },
 "nbformat": 4,
 "nbformat_minor": 1
}
